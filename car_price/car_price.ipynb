{
 "cells": [
  {
   "cell_type": "markdown",
   "metadata": {
    "id": "X1d2KDHgCJE_"
   },
   "source": [
    "# Определение стоимости автомобилей"
   ]
  },
  {
   "cell_type": "markdown",
   "metadata": {
    "id": "3lCVe42_CJFD"
   },
   "source": [
    "## Описание проекта"
   ]
  },
  {
   "cell_type": "markdown",
   "metadata": {
    "id": "0-oIKSULCJFE"
   },
   "source": [
    "Сервис по продаже автомобилей с пробегом «Не бит, не крашен» разрабатывает приложение для привлечения новых клиентов. В нём можно быстро узнать рыночную стоимость своего автомобиля. В нашем распоряжении исторические данные: технические характеристики, комплектации и цены автомобилей. Нам необходимо построить модель для определения стоимости.\n",
    "\n",
    "Заказчику важны:\n",
    "\n",
    "- качество предсказания;\n",
    "- скорость предсказания;\n",
    "- время обучения."
   ]
  },
  {
   "cell_type": "code",
   "execution_count": 1,
   "metadata": {
    "ExecuteTime": {
     "end_time": "2023-07-15T10:18:33.011727Z",
     "start_time": "2023-07-15T10:18:31.811016Z"
    },
    "id": "G6qrc_-UCJFF"
   },
   "outputs": [],
   "source": [
    "# В проекте будем решать задачу регрессии. Загрузим библиотеки, которые будут использоваться\n",
    "import pandas as pd\n",
    "import numpy as np\n",
    "from statistics import mode\n",
    "\n",
    "import matplotlib.pyplot as plt\n",
    "\n",
    "# Модели на основе градиентного бустинга\n",
    "from catboost import (\n",
    "    CatBoostRegressor,\n",
    "    cv as cb_cv,\n",
    "    Pool)\n",
    "\n",
    "from lightgbm import (\n",
    "    LGBMRegressor,\n",
    "    cv as lgbm_cv,\n",
    "    plot_importance)\n",
    "\n",
    "# Не будем ограничиваться градиентным бустингом. Попробуем более простые модели: линейной регрессии и случайного леса\n",
    "from sklearn.linear_model import Ridge\n",
    "from sklearn.ensemble import RandomForestRegressor\n",
    "from sklearn.dummy import DummyRegressor\n",
    "from sklearn.model_selection import (\n",
    "    train_test_split,\n",
    "    GridSearchCV,\n",
    "    cross_validate\n",
    ")\n",
    "from sklearn.metrics import mean_squared_error\n",
    "\n",
    "# Для масштабирования и кодирования признаков\n",
    "from category_encoders import *\n",
    "from sklearn.preprocessing import (\n",
    "    MinMaxScaler,\n",
    "    OneHotEncoder,\n",
    "    OrdinalEncoder\n",
    ")\n",
    "\n",
    "# Константы\n",
    "RANDOM_STATE = 12345"
   ]
  },
  {
   "cell_type": "markdown",
   "metadata": {
    "id": "73bMcf8NCJFH"
   },
   "source": [
    "## Загрузка и ознакомление с данными"
   ]
  },
  {
   "cell_type": "code",
   "execution_count": 2,
   "metadata": {
    "ExecuteTime": {
     "end_time": "2023-07-15T10:18:37.078800Z",
     "start_time": "2023-07-15T10:18:33.012609Z"
    },
    "id": "15GxTa82CJFH"
   },
   "outputs": [],
   "source": [
    "# Загрузим данные из файлов\n",
    "try:\n",
    "    df = pd.read_csv('autos.csv')\n",
    "except:\n",
    "    df = pd.read_csv('/datasets/autos.csv')"
   ]
  },
  {
   "cell_type": "code",
   "execution_count": 3,
   "metadata": {
    "ExecuteTime": {
     "end_time": "2023-07-15T10:18:37.094816Z",
     "start_time": "2023-07-15T10:18:37.079811Z"
    },
    "colab": {
     "base_uri": "https://localhost:8080/",
     "height": 206
    },
    "id": "GjWFwgJZCJFI",
    "outputId": "08a6a6d5-0719-4ae2-d249-87da5474ac98"
   },
   "outputs": [
    {
     "data": {
      "text/html": [
       "<div>\n",
       "<style scoped>\n",
       "    .dataframe tbody tr th:only-of-type {\n",
       "        vertical-align: middle;\n",
       "    }\n",
       "\n",
       "    .dataframe tbody tr th {\n",
       "        vertical-align: top;\n",
       "    }\n",
       "\n",
       "    .dataframe thead th {\n",
       "        text-align: right;\n",
       "    }\n",
       "</style>\n",
       "<table border=\"1\" class=\"dataframe\">\n",
       "  <thead>\n",
       "    <tr style=\"text-align: right;\">\n",
       "      <th></th>\n",
       "      <th>DateCrawled</th>\n",
       "      <th>Price</th>\n",
       "      <th>VehicleType</th>\n",
       "      <th>RegistrationYear</th>\n",
       "      <th>Gearbox</th>\n",
       "      <th>Power</th>\n",
       "      <th>Model</th>\n",
       "      <th>Kilometer</th>\n",
       "      <th>RegistrationMonth</th>\n",
       "      <th>FuelType</th>\n",
       "      <th>Brand</th>\n",
       "      <th>Repaired</th>\n",
       "      <th>DateCreated</th>\n",
       "      <th>NumberOfPictures</th>\n",
       "      <th>PostalCode</th>\n",
       "      <th>LastSeen</th>\n",
       "    </tr>\n",
       "  </thead>\n",
       "  <tbody>\n",
       "    <tr>\n",
       "      <th>0</th>\n",
       "      <td>2016-03-24 11:52:17</td>\n",
       "      <td>480</td>\n",
       "      <td>NaN</td>\n",
       "      <td>1993</td>\n",
       "      <td>manual</td>\n",
       "      <td>0</td>\n",
       "      <td>golf</td>\n",
       "      <td>150000</td>\n",
       "      <td>0</td>\n",
       "      <td>petrol</td>\n",
       "      <td>volkswagen</td>\n",
       "      <td>NaN</td>\n",
       "      <td>2016-03-24 00:00:00</td>\n",
       "      <td>0</td>\n",
       "      <td>70435</td>\n",
       "      <td>2016-04-07 03:16:57</td>\n",
       "    </tr>\n",
       "    <tr>\n",
       "      <th>1</th>\n",
       "      <td>2016-03-24 10:58:45</td>\n",
       "      <td>18300</td>\n",
       "      <td>coupe</td>\n",
       "      <td>2011</td>\n",
       "      <td>manual</td>\n",
       "      <td>190</td>\n",
       "      <td>NaN</td>\n",
       "      <td>125000</td>\n",
       "      <td>5</td>\n",
       "      <td>gasoline</td>\n",
       "      <td>audi</td>\n",
       "      <td>yes</td>\n",
       "      <td>2016-03-24 00:00:00</td>\n",
       "      <td>0</td>\n",
       "      <td>66954</td>\n",
       "      <td>2016-04-07 01:46:50</td>\n",
       "    </tr>\n",
       "    <tr>\n",
       "      <th>2</th>\n",
       "      <td>2016-03-14 12:52:21</td>\n",
       "      <td>9800</td>\n",
       "      <td>suv</td>\n",
       "      <td>2004</td>\n",
       "      <td>auto</td>\n",
       "      <td>163</td>\n",
       "      <td>grand</td>\n",
       "      <td>125000</td>\n",
       "      <td>8</td>\n",
       "      <td>gasoline</td>\n",
       "      <td>jeep</td>\n",
       "      <td>NaN</td>\n",
       "      <td>2016-03-14 00:00:00</td>\n",
       "      <td>0</td>\n",
       "      <td>90480</td>\n",
       "      <td>2016-04-05 12:47:46</td>\n",
       "    </tr>\n",
       "    <tr>\n",
       "      <th>3</th>\n",
       "      <td>2016-03-17 16:54:04</td>\n",
       "      <td>1500</td>\n",
       "      <td>small</td>\n",
       "      <td>2001</td>\n",
       "      <td>manual</td>\n",
       "      <td>75</td>\n",
       "      <td>golf</td>\n",
       "      <td>150000</td>\n",
       "      <td>6</td>\n",
       "      <td>petrol</td>\n",
       "      <td>volkswagen</td>\n",
       "      <td>no</td>\n",
       "      <td>2016-03-17 00:00:00</td>\n",
       "      <td>0</td>\n",
       "      <td>91074</td>\n",
       "      <td>2016-03-17 17:40:17</td>\n",
       "    </tr>\n",
       "    <tr>\n",
       "      <th>4</th>\n",
       "      <td>2016-03-31 17:25:20</td>\n",
       "      <td>3600</td>\n",
       "      <td>small</td>\n",
       "      <td>2008</td>\n",
       "      <td>manual</td>\n",
       "      <td>69</td>\n",
       "      <td>fabia</td>\n",
       "      <td>90000</td>\n",
       "      <td>7</td>\n",
       "      <td>gasoline</td>\n",
       "      <td>skoda</td>\n",
       "      <td>no</td>\n",
       "      <td>2016-03-31 00:00:00</td>\n",
       "      <td>0</td>\n",
       "      <td>60437</td>\n",
       "      <td>2016-04-06 10:17:21</td>\n",
       "    </tr>\n",
       "  </tbody>\n",
       "</table>\n",
       "</div>"
      ],
      "text/plain": [
       "           DateCrawled  Price VehicleType  RegistrationYear Gearbox  Power  \\\n",
       "0  2016-03-24 11:52:17    480         NaN              1993  manual      0   \n",
       "1  2016-03-24 10:58:45  18300       coupe              2011  manual    190   \n",
       "2  2016-03-14 12:52:21   9800         suv              2004    auto    163   \n",
       "3  2016-03-17 16:54:04   1500       small              2001  manual     75   \n",
       "4  2016-03-31 17:25:20   3600       small              2008  manual     69   \n",
       "\n",
       "   Model  Kilometer  RegistrationMonth  FuelType       Brand Repaired  \\\n",
       "0   golf     150000                  0    petrol  volkswagen      NaN   \n",
       "1    NaN     125000                  5  gasoline        audi      yes   \n",
       "2  grand     125000                  8  gasoline        jeep      NaN   \n",
       "3   golf     150000                  6    petrol  volkswagen       no   \n",
       "4  fabia      90000                  7  gasoline       skoda       no   \n",
       "\n",
       "           DateCreated  NumberOfPictures  PostalCode             LastSeen  \n",
       "0  2016-03-24 00:00:00                 0       70435  2016-04-07 03:16:57  \n",
       "1  2016-03-24 00:00:00                 0       66954  2016-04-07 01:46:50  \n",
       "2  2016-03-14 00:00:00                 0       90480  2016-04-05 12:47:46  \n",
       "3  2016-03-17 00:00:00                 0       91074  2016-03-17 17:40:17  \n",
       "4  2016-03-31 00:00:00                 0       60437  2016-04-06 10:17:21  "
      ]
     },
     "execution_count": 3,
     "metadata": {},
     "output_type": "execute_result"
    }
   ],
   "source": [
    "# Рассмотрим первые строки и общие сведения\n",
    "df.head()"
   ]
  },
  {
   "cell_type": "code",
   "execution_count": 4,
   "metadata": {
    "ExecuteTime": {
     "end_time": "2023-07-15T10:18:37.164190Z",
     "start_time": "2023-07-15T10:18:37.095818Z"
    },
    "colab": {
     "base_uri": "https://localhost:8080/"
    },
    "id": "eqs_AbxYCJFJ",
    "outputId": "537af98c-b168-4918-d33c-91f022990779"
   },
   "outputs": [
    {
     "name": "stdout",
     "output_type": "stream",
     "text": [
      "<class 'pandas.core.frame.DataFrame'>\n",
      "RangeIndex: 354369 entries, 0 to 354368\n",
      "Data columns (total 16 columns):\n",
      " #   Column             Non-Null Count   Dtype \n",
      "---  ------             --------------   ----- \n",
      " 0   DateCrawled        354369 non-null  object\n",
      " 1   Price              354369 non-null  int64 \n",
      " 2   VehicleType        316879 non-null  object\n",
      " 3   RegistrationYear   354369 non-null  int64 \n",
      " 4   Gearbox            334536 non-null  object\n",
      " 5   Power              354369 non-null  int64 \n",
      " 6   Model              334664 non-null  object\n",
      " 7   Kilometer          354369 non-null  int64 \n",
      " 8   RegistrationMonth  354369 non-null  int64 \n",
      " 9   FuelType           321474 non-null  object\n",
      " 10  Brand              354369 non-null  object\n",
      " 11  Repaired           283215 non-null  object\n",
      " 12  DateCreated        354369 non-null  object\n",
      " 13  NumberOfPictures   354369 non-null  int64 \n",
      " 14  PostalCode         354369 non-null  int64 \n",
      " 15  LastSeen           354369 non-null  object\n",
      "dtypes: int64(7), object(9)\n",
      "memory usage: 43.3+ MB\n"
     ]
    }
   ],
   "source": [
    "df.info()"
   ]
  },
  {
   "cell_type": "markdown",
   "metadata": {
    "id": "WMWqwaF8CJFK"
   },
   "source": [
    "Каждый объект в наборе данных — это информация об автомобиле. Столбцы содержат следующую информацию (признаки):\n",
    "- `DateCrawled` — дата скачивания анкеты из базы,\n",
    "- `VehicleType` — тип автомобильного кузова,\n",
    "- `RegistrationYear` — год регистрации автомобиля,\n",
    "- `Gearbox` — тип коробки передач,\n",
    "- `Power` — мощность (л. с.),\n",
    "- `Model` — модель автомобиля,\n",
    "- `Kilometer` — пробег (км),\n",
    "- `RegistrationMonth` — месяц регистрации автомобиля,\n",
    "- `FuelType` — тип топлива,\n",
    "- `Brand` — марка автомобиля,\n",
    "- `Repaired` — была машина в ремонте или нет,\n",
    "- `DateCreated` — дата создания анкеты,\n",
    "- `NumberOfPictures` — количество фотографий автомобиля,\n",
    "- `PostalCode` — почтовый индекс владельца анкеты (пользователя),\n",
    "- `LastSeen` — дата последней активности пользователя,\n",
    "- `Price` - цена (евро). **Целевой признак.**"
   ]
  },
  {
   "cell_type": "markdown",
   "metadata": {
    "id": "GfKE3uOpCJFK"
   },
   "source": [
    "## Подготовка данных"
   ]
  },
  {
   "cell_type": "markdown",
   "metadata": {
    "id": "df7S8WUBCJFM"
   },
   "source": [
    "### Дубликаты"
   ]
  },
  {
   "cell_type": "code",
   "execution_count": 5,
   "metadata": {
    "ExecuteTime": {
     "end_time": "2023-07-15T10:18:37.428182Z",
     "start_time": "2023-07-15T10:18:37.165191Z"
    },
    "colab": {
     "base_uri": "https://localhost:8080/"
    },
    "id": "Jyh0w35Ul5yV",
    "outputId": "f9a52919-198b-4f2c-bf4c-d18c51ae38f2"
   },
   "outputs": [
    {
     "data": {
      "text/plain": [
       "4"
      ]
     },
     "execution_count": 5,
     "metadata": {},
     "output_type": "execute_result"
    }
   ],
   "source": [
    "# Проверим полные дубликаты\n",
    "df.duplicated().sum()"
   ]
  },
  {
   "cell_type": "code",
   "execution_count": 6,
   "metadata": {
    "ExecuteTime": {
     "end_time": "2023-07-15T10:18:37.693271Z",
     "start_time": "2023-07-15T10:18:37.429239Z"
    },
    "colab": {
     "base_uri": "https://localhost:8080/",
     "height": 344
    },
    "id": "ttlUBceNme_u",
    "outputId": "8af0d7bb-bc09-4607-c4f6-dfa12e4b5948"
   },
   "outputs": [
    {
     "data": {
      "text/html": [
       "<div>\n",
       "<style scoped>\n",
       "    .dataframe tbody tr th:only-of-type {\n",
       "        vertical-align: middle;\n",
       "    }\n",
       "\n",
       "    .dataframe tbody tr th {\n",
       "        vertical-align: top;\n",
       "    }\n",
       "\n",
       "    .dataframe thead th {\n",
       "        text-align: right;\n",
       "    }\n",
       "</style>\n",
       "<table border=\"1\" class=\"dataframe\">\n",
       "  <thead>\n",
       "    <tr style=\"text-align: right;\">\n",
       "      <th></th>\n",
       "      <th>DateCrawled</th>\n",
       "      <th>Price</th>\n",
       "      <th>VehicleType</th>\n",
       "      <th>RegistrationYear</th>\n",
       "      <th>Gearbox</th>\n",
       "      <th>Power</th>\n",
       "      <th>Model</th>\n",
       "      <th>Kilometer</th>\n",
       "      <th>RegistrationMonth</th>\n",
       "      <th>FuelType</th>\n",
       "      <th>Brand</th>\n",
       "      <th>Repaired</th>\n",
       "      <th>DateCreated</th>\n",
       "      <th>NumberOfPictures</th>\n",
       "      <th>PostalCode</th>\n",
       "      <th>LastSeen</th>\n",
       "    </tr>\n",
       "  </thead>\n",
       "  <tbody>\n",
       "    <tr>\n",
       "      <th>88087</th>\n",
       "      <td>2016-03-08 18:42:48</td>\n",
       "      <td>1799</td>\n",
       "      <td>coupe</td>\n",
       "      <td>1999</td>\n",
       "      <td>auto</td>\n",
       "      <td>193</td>\n",
       "      <td>clk</td>\n",
       "      <td>20000</td>\n",
       "      <td>7</td>\n",
       "      <td>petrol</td>\n",
       "      <td>mercedes_benz</td>\n",
       "      <td>no</td>\n",
       "      <td>2016-03-08 00:00:00</td>\n",
       "      <td>0</td>\n",
       "      <td>89518</td>\n",
       "      <td>2016-03-09 09:46:57</td>\n",
       "    </tr>\n",
       "    <tr>\n",
       "      <th>171088</th>\n",
       "      <td>2016-03-08 18:42:48</td>\n",
       "      <td>1799</td>\n",
       "      <td>coupe</td>\n",
       "      <td>1999</td>\n",
       "      <td>auto</td>\n",
       "      <td>193</td>\n",
       "      <td>clk</td>\n",
       "      <td>20000</td>\n",
       "      <td>7</td>\n",
       "      <td>petrol</td>\n",
       "      <td>mercedes_benz</td>\n",
       "      <td>no</td>\n",
       "      <td>2016-03-08 00:00:00</td>\n",
       "      <td>0</td>\n",
       "      <td>89518</td>\n",
       "      <td>2016-03-09 09:46:57</td>\n",
       "    </tr>\n",
       "    <tr>\n",
       "      <th>41529</th>\n",
       "      <td>2016-03-18 18:46:15</td>\n",
       "      <td>1999</td>\n",
       "      <td>wagon</td>\n",
       "      <td>2001</td>\n",
       "      <td>manual</td>\n",
       "      <td>131</td>\n",
       "      <td>passat</td>\n",
       "      <td>150000</td>\n",
       "      <td>7</td>\n",
       "      <td>gasoline</td>\n",
       "      <td>volkswagen</td>\n",
       "      <td>no</td>\n",
       "      <td>2016-03-18 00:00:00</td>\n",
       "      <td>0</td>\n",
       "      <td>36391</td>\n",
       "      <td>2016-03-18 18:46:15</td>\n",
       "    </tr>\n",
       "    <tr>\n",
       "      <th>325651</th>\n",
       "      <td>2016-03-18 18:46:15</td>\n",
       "      <td>1999</td>\n",
       "      <td>wagon</td>\n",
       "      <td>2001</td>\n",
       "      <td>manual</td>\n",
       "      <td>131</td>\n",
       "      <td>passat</td>\n",
       "      <td>150000</td>\n",
       "      <td>7</td>\n",
       "      <td>gasoline</td>\n",
       "      <td>volkswagen</td>\n",
       "      <td>no</td>\n",
       "      <td>2016-03-18 00:00:00</td>\n",
       "      <td>0</td>\n",
       "      <td>36391</td>\n",
       "      <td>2016-03-18 18:46:15</td>\n",
       "    </tr>\n",
       "    <tr>\n",
       "      <th>90964</th>\n",
       "      <td>2016-03-28 00:56:10</td>\n",
       "      <td>1000</td>\n",
       "      <td>small</td>\n",
       "      <td>2002</td>\n",
       "      <td>manual</td>\n",
       "      <td>83</td>\n",
       "      <td>other</td>\n",
       "      <td>150000</td>\n",
       "      <td>1</td>\n",
       "      <td>petrol</td>\n",
       "      <td>suzuki</td>\n",
       "      <td>no</td>\n",
       "      <td>2016-03-28 00:00:00</td>\n",
       "      <td>0</td>\n",
       "      <td>66589</td>\n",
       "      <td>2016-03-28 08:46:21</td>\n",
       "    </tr>\n",
       "    <tr>\n",
       "      <th>231258</th>\n",
       "      <td>2016-03-28 00:56:10</td>\n",
       "      <td>1000</td>\n",
       "      <td>small</td>\n",
       "      <td>2002</td>\n",
       "      <td>manual</td>\n",
       "      <td>83</td>\n",
       "      <td>other</td>\n",
       "      <td>150000</td>\n",
       "      <td>1</td>\n",
       "      <td>petrol</td>\n",
       "      <td>suzuki</td>\n",
       "      <td>no</td>\n",
       "      <td>2016-03-28 00:00:00</td>\n",
       "      <td>0</td>\n",
       "      <td>66589</td>\n",
       "      <td>2016-03-28 08:46:21</td>\n",
       "    </tr>\n",
       "    <tr>\n",
       "      <th>187735</th>\n",
       "      <td>2016-04-03 09:01:15</td>\n",
       "      <td>4699</td>\n",
       "      <td>coupe</td>\n",
       "      <td>2003</td>\n",
       "      <td>auto</td>\n",
       "      <td>218</td>\n",
       "      <td>clk</td>\n",
       "      <td>125000</td>\n",
       "      <td>6</td>\n",
       "      <td>petrol</td>\n",
       "      <td>mercedes_benz</td>\n",
       "      <td>yes</td>\n",
       "      <td>2016-04-03 00:00:00</td>\n",
       "      <td>0</td>\n",
       "      <td>75196</td>\n",
       "      <td>2016-04-07 09:44:54</td>\n",
       "    </tr>\n",
       "    <tr>\n",
       "      <th>258109</th>\n",
       "      <td>2016-04-03 09:01:15</td>\n",
       "      <td>4699</td>\n",
       "      <td>coupe</td>\n",
       "      <td>2003</td>\n",
       "      <td>auto</td>\n",
       "      <td>218</td>\n",
       "      <td>clk</td>\n",
       "      <td>125000</td>\n",
       "      <td>6</td>\n",
       "      <td>petrol</td>\n",
       "      <td>mercedes_benz</td>\n",
       "      <td>yes</td>\n",
       "      <td>2016-04-03 00:00:00</td>\n",
       "      <td>0</td>\n",
       "      <td>75196</td>\n",
       "      <td>2016-04-07 09:44:54</td>\n",
       "    </tr>\n",
       "  </tbody>\n",
       "</table>\n",
       "</div>"
      ],
      "text/plain": [
       "                DateCrawled  Price VehicleType  RegistrationYear Gearbox  \\\n",
       "88087   2016-03-08 18:42:48   1799       coupe              1999    auto   \n",
       "171088  2016-03-08 18:42:48   1799       coupe              1999    auto   \n",
       "41529   2016-03-18 18:46:15   1999       wagon              2001  manual   \n",
       "325651  2016-03-18 18:46:15   1999       wagon              2001  manual   \n",
       "90964   2016-03-28 00:56:10   1000       small              2002  manual   \n",
       "231258  2016-03-28 00:56:10   1000       small              2002  manual   \n",
       "187735  2016-04-03 09:01:15   4699       coupe              2003    auto   \n",
       "258109  2016-04-03 09:01:15   4699       coupe              2003    auto   \n",
       "\n",
       "        Power   Model  Kilometer  RegistrationMonth  FuelType          Brand  \\\n",
       "88087     193     clk      20000                  7    petrol  mercedes_benz   \n",
       "171088    193     clk      20000                  7    petrol  mercedes_benz   \n",
       "41529     131  passat     150000                  7  gasoline     volkswagen   \n",
       "325651    131  passat     150000                  7  gasoline     volkswagen   \n",
       "90964      83   other     150000                  1    petrol         suzuki   \n",
       "231258     83   other     150000                  1    petrol         suzuki   \n",
       "187735    218     clk     125000                  6    petrol  mercedes_benz   \n",
       "258109    218     clk     125000                  6    petrol  mercedes_benz   \n",
       "\n",
       "       Repaired          DateCreated  NumberOfPictures  PostalCode  \\\n",
       "88087        no  2016-03-08 00:00:00                 0       89518   \n",
       "171088       no  2016-03-08 00:00:00                 0       89518   \n",
       "41529        no  2016-03-18 00:00:00                 0       36391   \n",
       "325651       no  2016-03-18 00:00:00                 0       36391   \n",
       "90964        no  2016-03-28 00:00:00                 0       66589   \n",
       "231258       no  2016-03-28 00:00:00                 0       66589   \n",
       "187735      yes  2016-04-03 00:00:00                 0       75196   \n",
       "258109      yes  2016-04-03 00:00:00                 0       75196   \n",
       "\n",
       "                   LastSeen  \n",
       "88087   2016-03-09 09:46:57  \n",
       "171088  2016-03-09 09:46:57  \n",
       "41529   2016-03-18 18:46:15  \n",
       "325651  2016-03-18 18:46:15  \n",
       "90964   2016-03-28 08:46:21  \n",
       "231258  2016-03-28 08:46:21  \n",
       "187735  2016-04-07 09:44:54  \n",
       "258109  2016-04-07 09:44:54  "
      ]
     },
     "execution_count": 6,
     "metadata": {},
     "output_type": "execute_result"
    }
   ],
   "source": [
    "# Посмотрим на объекты-дубликаты\n",
    "df[df.duplicated(keep=False)].sort_values(by=['DateCrawled', 'VehicleType', 'RegistrationYear', 'Gearbox'])"
   ]
  },
  {
   "cell_type": "code",
   "execution_count": 7,
   "metadata": {
    "ExecuteTime": {
     "end_time": "2023-07-15T10:18:37.983393Z",
     "start_time": "2023-07-15T10:18:37.694272Z"
    },
    "id": "FfHz7OZBoIxf"
   },
   "outputs": [],
   "source": [
    "# Удалим дубликаты\n",
    "df = df.drop_duplicates(keep='first')"
   ]
  },
  {
   "cell_type": "code",
   "execution_count": 8,
   "metadata": {
    "ExecuteTime": {
     "end_time": "2023-07-15T10:18:38.159356Z",
     "start_time": "2023-07-15T10:18:37.984406Z"
    },
    "colab": {
     "base_uri": "https://localhost:8080/"
    },
    "id": "GMEVjP_2CJFM",
    "outputId": "6a98f5fb-d040-4eaa-c015-3d201793c53c"
   },
   "outputs": [
    {
     "data": {
      "text/plain": [
       "array(['bus', 'convertible', 'coupe', 'other', 'sedan', 'small', 'suv',\n",
       "       'wagon', nan], dtype=object)"
      ]
     },
     "execution_count": 8,
     "metadata": {},
     "output_type": "execute_result"
    }
   ],
   "source": [
    "# Проработаем неявные дубликаты признака `VehicleType`\n",
    "df['VehicleType'].sort_values().unique()"
   ]
  },
  {
   "cell_type": "markdown",
   "metadata": {
    "id": "pKv5lmxNCJFM"
   },
   "source": [
    "Неявных дубликатов нет"
   ]
  },
  {
   "cell_type": "code",
   "execution_count": 9,
   "metadata": {
    "ExecuteTime": {
     "end_time": "2023-07-15T10:18:38.309671Z",
     "start_time": "2023-07-15T10:18:38.160358Z"
    },
    "colab": {
     "base_uri": "https://localhost:8080/"
    },
    "id": "DFS854uRCJFM",
    "outputId": "34e52724-49e9-4d57-d5c0-cfd8bac5eb97"
   },
   "outputs": [
    {
     "data": {
      "text/plain": [
       "array(['auto', 'manual', nan], dtype=object)"
      ]
     },
     "execution_count": 9,
     "metadata": {},
     "output_type": "execute_result"
    }
   ],
   "source": [
    "# Проработаем неявные дубликаты признака `Gearbox`\n",
    "df['Gearbox'].sort_values().unique()"
   ]
  },
  {
   "cell_type": "markdown",
   "metadata": {
    "id": "G8cUpOItCJFN"
   },
   "source": [
    "Неявных дубликатов нет"
   ]
  },
  {
   "cell_type": "code",
   "execution_count": 10,
   "metadata": {
    "ExecuteTime": {
     "end_time": "2023-07-15T10:18:38.491688Z",
     "start_time": "2023-07-15T10:18:38.311673Z"
    },
    "colab": {
     "base_uri": "https://localhost:8080/"
    },
    "id": "adpMj5PfCJFN",
    "outputId": "83182ecd-28c2-4f60-b4d8-29ef88e30dc5",
    "scrolled": true
   },
   "outputs": [
    {
     "data": {
      "text/plain": [
       "array(['100', '145', '147', '156', '159', '1_reihe', '1er', '200',\n",
       "       '2_reihe', '300c', '3_reihe', '3er', '4_reihe', '500', '5_reihe',\n",
       "       '5er', '601', '6_reihe', '6er', '7er', '80', '850', '90', '900',\n",
       "       '9000', '911', 'a1', 'a2', 'a3', 'a4', 'a5', 'a6', 'a8',\n",
       "       'a_klasse', 'accord', 'agila', 'alhambra', 'almera', 'altea',\n",
       "       'amarok', 'antara', 'arosa', 'astra', 'auris', 'avensis', 'aveo',\n",
       "       'aygo', 'b_klasse', 'b_max', 'beetle', 'berlingo', 'bora',\n",
       "       'boxster', 'bravo', 'c1', 'c2', 'c3', 'c4', 'c5', 'c_klasse',\n",
       "       'c_max', 'c_reihe', 'caddy', 'calibra', 'captiva', 'carisma',\n",
       "       'carnival', 'cayenne', 'cc', 'ceed', 'charade', 'cherokee',\n",
       "       'citigo', 'civic', 'cl', 'clio', 'clk', 'clubman', 'colt', 'combo',\n",
       "       'cooper', 'cordoba', 'corolla', 'corsa', 'cr_reihe', 'croma',\n",
       "       'crossfire', 'cuore', 'cx_reihe', 'defender', 'delta', 'discovery',\n",
       "       'doblo', 'ducato', 'duster', 'e_klasse', 'elefantino', 'eos',\n",
       "       'escort', 'espace', 'exeo', 'fabia', 'fiesta', 'focus', 'forester',\n",
       "       'forfour', 'fortwo', 'fox', 'freelander', 'fusion', 'g_klasse',\n",
       "       'galant', 'galaxy', 'getz', 'gl', 'glk', 'golf', 'grand', 'i3',\n",
       "       'i_reihe', 'ibiza', 'impreza', 'insignia', 'jazz', 'jetta',\n",
       "       'jimny', 'juke', 'justy', 'ka', 'kadett', 'kaefer', 'kalina',\n",
       "       'kalos', 'kangoo', 'kappa', 'kuga', 'laguna', 'lancer', 'lanos',\n",
       "       'legacy', 'leon', 'lodgy', 'logan', 'lupo', 'lybra', 'm_klasse',\n",
       "       'm_reihe', 'materia', 'matiz', 'megane', 'meriva', 'micra', 'mii',\n",
       "       'modus', 'mondeo', 'move', 'musa', 'mustang', 'mx_reihe', 'navara',\n",
       "       'niva', 'note', 'nubira', 'octavia', 'omega', 'one', 'other',\n",
       "       'outlander', 'pajero', 'panda', 'passat', 'phaeton', 'picanto',\n",
       "       'polo', 'primera', 'ptcruiser', 'punto', 'q3', 'q5', 'q7',\n",
       "       'qashqai', 'r19', 'range_rover', 'range_rover_evoque',\n",
       "       'range_rover_sport', 'rangerover', 'rav', 'rio', 'roadster',\n",
       "       'roomster', 'rx_reihe', 's60', 's_klasse', 's_max', 's_type',\n",
       "       'samara', 'sandero', 'santa', 'scenic', 'scirocco', 'seicento',\n",
       "       'serie_1', 'serie_2', 'serie_3', 'sharan', 'signum', 'sirion',\n",
       "       'sl', 'slk', 'sorento', 'spark', 'spider', 'sportage', 'sprinter',\n",
       "       'stilo', 'superb', 'swift', 'terios', 'tigra', 'tiguan', 'toledo',\n",
       "       'touareg', 'touran', 'transit', 'transporter', 'tt', 'tucson',\n",
       "       'twingo', 'up', 'v40', 'v50', 'v60', 'v70', 'v_klasse', 'vectra',\n",
       "       'verso', 'viano', 'vito', 'vivaro', 'voyager', 'wrangler',\n",
       "       'x_reihe', 'x_trail', 'x_type', 'xc_reihe', 'yaris', 'yeti',\n",
       "       'ypsilon', 'z_reihe', 'zafira', nan], dtype=object)"
      ]
     },
     "execution_count": 10,
     "metadata": {},
     "output_type": "execute_result"
    }
   ],
   "source": [
    "# Проработаем неявные дубликаты признака `Model`\n",
    "df['Model'].sort_values().unique()"
   ]
  },
  {
   "cell_type": "markdown",
   "metadata": {
    "id": "u6_hXK1aCJFN"
   },
   "source": [
    "Заменим неявные дубликаты"
   ]
  },
  {
   "cell_type": "code",
   "execution_count": 11,
   "metadata": {
    "ExecuteTime": {
     "end_time": "2023-07-15T10:18:38.507702Z",
     "start_time": "2023-07-15T10:18:38.492689Z"
    },
    "id": "bCboN7-rCJFO"
   },
   "outputs": [],
   "source": [
    "df['Model'] = df['Model'].replace(to_replace='rangerover', value='range_rover', regex=False)"
   ]
  },
  {
   "cell_type": "code",
   "execution_count": 12,
   "metadata": {
    "ExecuteTime": {
     "end_time": "2023-07-15T10:18:38.660236Z",
     "start_time": "2023-07-15T10:18:38.508703Z"
    },
    "colab": {
     "base_uri": "https://localhost:8080/"
    },
    "id": "QS80nrUTCJFP",
    "outputId": "014d7dad-e84b-4755-9772-e4f5527e5ef3"
   },
   "outputs": [
    {
     "data": {
      "text/plain": [
       "array(['cng', 'electric', 'gasoline', 'hybrid', 'lpg', 'other', 'petrol',\n",
       "       nan], dtype=object)"
      ]
     },
     "execution_count": 12,
     "metadata": {},
     "output_type": "execute_result"
    }
   ],
   "source": [
    "# Проработаем неявные дубликаты признака `FuelType`\n",
    "df['FuelType'].sort_values().unique()"
   ]
  },
  {
   "cell_type": "markdown",
   "metadata": {
    "id": "2i83pUOTCJFP"
   },
   "source": [
    "Неявных дубликатов нет"
   ]
  },
  {
   "cell_type": "code",
   "execution_count": 13,
   "metadata": {
    "ExecuteTime": {
     "end_time": "2023-07-15T10:18:38.852383Z",
     "start_time": "2023-07-15T10:18:38.661237Z"
    },
    "colab": {
     "base_uri": "https://localhost:8080/"
    },
    "id": "iqctP5JOCJFP",
    "outputId": "18943fba-7842-44ae-ccea-be18c659b33c"
   },
   "outputs": [
    {
     "data": {
      "text/plain": [
       "array(['alfa_romeo', 'audi', 'bmw', 'chevrolet', 'chrysler', 'citroen',\n",
       "       'dacia', 'daewoo', 'daihatsu', 'fiat', 'ford', 'honda', 'hyundai',\n",
       "       'jaguar', 'jeep', 'kia', 'lada', 'lancia', 'land_rover', 'mazda',\n",
       "       'mercedes_benz', 'mini', 'mitsubishi', 'nissan', 'opel', 'peugeot',\n",
       "       'porsche', 'renault', 'rover', 'saab', 'seat', 'skoda', 'smart',\n",
       "       'sonstige_autos', 'subaru', 'suzuki', 'toyota', 'trabant',\n",
       "       'volkswagen', 'volvo'], dtype=object)"
      ]
     },
     "execution_count": 13,
     "metadata": {},
     "output_type": "execute_result"
    }
   ],
   "source": [
    "# Проработаем неявные дубликаты признака `Brand`\n",
    "df['Brand'].sort_values().unique()"
   ]
  },
  {
   "cell_type": "markdown",
   "metadata": {
    "id": "48mtgkJyCJFQ"
   },
   "source": [
    "Неявных дубликатов нет"
   ]
  },
  {
   "cell_type": "code",
   "execution_count": 14,
   "metadata": {
    "ExecuteTime": {
     "end_time": "2023-07-15T10:18:38.977386Z",
     "start_time": "2023-07-15T10:18:38.853384Z"
    },
    "colab": {
     "base_uri": "https://localhost:8080/"
    },
    "id": "2ApdWb0_OBnL",
    "outputId": "0367267f-78e2-4e27-806e-e51f6e48b8fa"
   },
   "outputs": [
    {
     "data": {
      "text/plain": [
       "array(['no', 'yes', nan], dtype=object)"
      ]
     },
     "execution_count": 14,
     "metadata": {},
     "output_type": "execute_result"
    }
   ],
   "source": [
    "# Проработаем неявные дубликаты признака `Repaired`\n",
    "df['Repaired'].sort_values().unique()"
   ]
  },
  {
   "cell_type": "markdown",
   "metadata": {
    "id": "pTwitCMcOBnU"
   },
   "source": [
    "Неявных дубликатов нет"
   ]
  },
  {
   "cell_type": "markdown",
   "metadata": {
    "id": "g4kWzB6QCJFK"
   },
   "source": [
    "### Типы"
   ]
  },
  {
   "cell_type": "markdown",
   "metadata": {
    "ExecuteTime": {
     "end_time": "2023-07-11T19:23:52.284241Z",
     "start_time": "2023-07-11T19:23:52.280246Z"
    },
    "id": "w4_qY5BfCJFL"
   },
   "source": [
    "Преобразуем тип данных в столбцах `DateCrawled`, `DateCreated`, `LastSeen` в тип дата-время. С точки зрения исследования нам необходимо знать только дату, поэтому отбросим часы, минуты, секунды. Перед тем, как передать методу преобразования типов, удалим пробелы в начале и в конце значения."
   ]
  },
  {
   "cell_type": "code",
   "execution_count": 15,
   "metadata": {
    "ExecuteTime": {
     "end_time": "2023-07-15T10:18:39.988405Z",
     "start_time": "2023-07-15T10:18:38.978387Z"
    },
    "id": "TrWfhabHCJFL"
   },
   "outputs": [],
   "source": [
    "for feature in ['DateCrawled', 'DateCreated', 'LastSeen']:\n",
    "    df[feature] = df[feature].str.strip()\n",
    "    df[feature] = pd.to_datetime(df[feature], format='%Y-%m-%d %H:%M:%S')\n",
    "    df[feature] = pd.to_datetime(df[feature].dt.strftime('%Y-%m-%d'), format='%Y-%m-%d')"
   ]
  },
  {
   "cell_type": "markdown",
   "metadata": {
    "id": "S7lADEB3CJFQ"
   },
   "source": [
    "### Пропуски и аномалии в категориальных признаках"
   ]
  },
  {
   "cell_type": "code",
   "execution_count": 16,
   "metadata": {
    "ExecuteTime": {
     "end_time": "2023-07-15T10:18:40.087237Z",
     "start_time": "2023-07-15T10:18:39.989888Z"
    },
    "colab": {
     "base_uri": "https://localhost:8080/",
     "height": 607
    },
    "id": "adDx7c0QHO-r",
    "outputId": "1e5fb2d4-8a3f-4fa4-ca63-be1f61b3fca3"
   },
   "outputs": [
    {
     "data": {
      "text/plain": [
       "Repaired             71154\n",
       "VehicleType          37490\n",
       "FuelType             32895\n",
       "Gearbox              19833\n",
       "Model                19705\n",
       "DateCrawled              0\n",
       "Price                    0\n",
       "RegistrationYear         0\n",
       "Power                    0\n",
       "Kilometer                0\n",
       "RegistrationMonth        0\n",
       "Brand                    0\n",
       "DateCreated              0\n",
       "NumberOfPictures         0\n",
       "PostalCode               0\n",
       "LastSeen                 0\n",
       "dtype: int64"
      ]
     },
     "metadata": {},
     "output_type": "display_data"
    },
    {
     "data": {
      "text/plain": [
       "Repaired             0.200793\n",
       "VehicleType          0.105795\n",
       "FuelType             0.092828\n",
       "Gearbox              0.055968\n",
       "Model                0.055607\n",
       "DateCrawled          0.000000\n",
       "Price                0.000000\n",
       "RegistrationYear     0.000000\n",
       "Power                0.000000\n",
       "Kilometer            0.000000\n",
       "RegistrationMonth    0.000000\n",
       "Brand                0.000000\n",
       "DateCreated          0.000000\n",
       "NumberOfPictures     0.000000\n",
       "PostalCode           0.000000\n",
       "LastSeen             0.000000\n",
       "dtype: float64"
      ]
     },
     "execution_count": 16,
     "metadata": {},
     "output_type": "execute_result"
    }
   ],
   "source": [
    "# Посчитаем пропуски.\n",
    "display(df.isna().sum().sort_values(ascending=False))\n",
    "df.isna().mean().sort_values(ascending=False)"
   ]
  },
  {
   "cell_type": "markdown",
   "metadata": {
    "id": "k55ttBGWOX1l"
   },
   "source": [
    "Видим пропуски в колонках: `Repaired`, `VehicleType`, `FuelType`, `Gearbox`, `Model`. Заполнение пропусков будем выполнять следующим образом:\n",
    "- в колонке `Repaired` пропуски заполним значением 'no info', так как информация для обоснованного заполнения пропусков у нас отсутствует,\n",
    "-  в колонках `VehicleType`, `FuelType`, `Model` пропуски заполним значением 'other', так как информация для обоснованного заполнения пропусков у нас отсутствует, и в указанных колонках уже присутствуют значения 'other',\n",
    "- в колонке `Gearbox` заполним пропуски модой по бренду (наиболее распространённое значение по определённому бренду)."
   ]
  },
  {
   "cell_type": "code",
   "execution_count": 17,
   "metadata": {
    "ExecuteTime": {
     "end_time": "2023-07-15T10:18:40.136886Z",
     "start_time": "2023-07-15T10:18:40.088238Z"
    },
    "id": "Jl8xkZMf33hz"
   },
   "outputs": [],
   "source": [
    "# Заполним пропуски 'Repaired' заглушкой 'no info'\n",
    "df['Repaired'] = df['Repaired'].fillna('no info')\n",
    "\n",
    "# Заполним пропуски 'VehicleType', 'FuelType', `Model` заглушкой 'other'\n",
    "df['VehicleType'] = df['VehicleType'].fillna('other')\n",
    "df['FuelType'] = df['FuelType'].fillna('other')\n",
    "df['Model'] = df['Model'].fillna('other')"
   ]
  },
  {
   "cell_type": "code",
   "execution_count": 18,
   "metadata": {
    "ExecuteTime": {
     "end_time": "2023-07-15T10:18:40.210271Z",
     "start_time": "2023-07-15T10:18:40.137889Z"
    },
    "colab": {
     "base_uri": "https://localhost:8080/"
    },
    "id": "bj0XL4Gq7Se9",
    "outputId": "a7eaba0b-513f-4575-e915-cc4af5228aed"
   },
   "outputs": [
    {
     "name": "stdout",
     "output_type": "stream",
     "text": [
      "Обучающая выборка: 283492, 0.8\n",
      "Тестовая выборка: 70873, 0.2\n"
     ]
    }
   ],
   "source": [
    "# Для того, чтоб в дальнейшем не было утечки данных при заполнении пропусков, разделим выборки на обучающую и тестовую\n",
    "train, test = train_test_split(df, test_size=0.2, random_state=RANDOM_STATE)\n",
    "train_index = train.index\n",
    "test_index = test.index\n",
    "print('Обучающая выборка: ', train.shape[0], ', ',  round(train.shape[0]/df.shape[0], 2), sep='')\n",
    "print('Тестовая выборка: ', test.shape[0], ', ', round(test.shape[0]/df.shape[0], 2), sep='')"
   ]
  },
  {
   "cell_type": "code",
   "execution_count": 19,
   "metadata": {
    "ExecuteTime": {
     "end_time": "2023-07-15T10:18:40.360906Z",
     "start_time": "2023-07-15T10:18:40.211272Z"
    },
    "id": "Pc8fRcP3Ab-j"
   },
   "outputs": [],
   "source": [
    "# Заполним пропуски 'Gearbox' модой по брендам\n",
    "# Моду будем определять среди объектов только обучающей выборки\n",
    "df['filled_by_train'] = df[df.index.isin(train_index)]['Gearbox']\n",
    "df['filled_by_train'] = df['filled_by_train'].fillna(df.groupby(['Brand'], group_keys=True, dropna=True)['filled_by_train']. \\\n",
    "                                                     transform(lambda x: x if x.mode().empty else x.mode().values[0]))\n",
    "df['Gearbox'] = df['filled_by_train']\n",
    "df = df.drop(['filled_by_train'], axis=1)"
   ]
  },
  {
   "cell_type": "code",
   "execution_count": 20,
   "metadata": {
    "ExecuteTime": {
     "end_time": "2023-07-15T10:18:40.412297Z",
     "start_time": "2023-07-15T10:18:40.361908Z"
    },
    "colab": {
     "base_uri": "https://localhost:8080/",
     "height": 312
    },
    "id": "lq-XREmS33hz",
    "outputId": "aad36012-3ad9-4eae-fd29-57672f2cdfc7"
   },
   "outputs": [
    {
     "data": {
      "text/plain": [
       "DateCrawled          0\n",
       "Price                0\n",
       "VehicleType          0\n",
       "RegistrationYear     0\n",
       "Gearbox              0\n",
       "Power                0\n",
       "Model                0\n",
       "Kilometer            0\n",
       "RegistrationMonth    0\n",
       "FuelType             0\n",
       "Brand                0\n",
       "Repaired             0\n",
       "DateCreated          0\n",
       "NumberOfPictures     0\n",
       "PostalCode           0\n",
       "LastSeen             0\n",
       "dtype: int64"
      ]
     },
     "metadata": {},
     "output_type": "display_data"
    }
   ],
   "source": [
    "# Посчитаем пропуски после их заполнения.\n",
    "display(df.isna().sum().sort_values(ascending=False))"
   ]
  },
  {
   "cell_type": "markdown",
   "metadata": {
    "id": "BuKocqWc33hz"
   },
   "source": [
    "Пропуски заполнены. Кроме того, по категориальным признакам не было зафиксировано аномальных значений."
   ]
  },
  {
   "cell_type": "markdown",
   "metadata": {
    "id": "Z6kQ_IuD33hz"
   },
   "source": [
    "### Аномалии в числовых признаках"
   ]
  },
  {
   "cell_type": "code",
   "execution_count": 21,
   "metadata": {
    "ExecuteTime": {
     "end_time": "2023-07-15T10:18:40.428314Z",
     "start_time": "2023-07-15T10:18:40.413302Z"
    },
    "colab": {
     "base_uri": "https://localhost:8080/"
    },
    "id": "0jfAUrYG33hz",
    "outputId": "77b1e2a9-344a-4ba9-d2f6-6d432a86cf34"
   },
   "outputs": [
    {
     "data": {
      "text/plain": [
       "count    354365.000000\n",
       "mean       2004.234481\n",
       "std          90.228466\n",
       "min        1000.000000\n",
       "25%        1999.000000\n",
       "50%        2003.000000\n",
       "75%        2008.000000\n",
       "max        9999.000000\n",
       "Name: RegistrationYear, dtype: float64"
      ]
     },
     "execution_count": 21,
     "metadata": {},
     "output_type": "execute_result"
    }
   ],
   "source": [
    "# Изучим столбец RegistrationYear\n",
    "df['RegistrationYear'].describe()"
   ]
  },
  {
   "cell_type": "markdown",
   "metadata": {
    "id": "sp7lxBVn33h0"
   },
   "source": [
    "Очевидно, в данных о годе регистрации какая-то ошибка, например, имеются значения 1000 и 9000. Рассмотрим данные подробнее."
   ]
  },
  {
   "cell_type": "code",
   "execution_count": 22,
   "metadata": {
    "ExecuteTime": {
     "end_time": "2023-07-15T10:18:42.600215Z",
     "start_time": "2023-07-15T10:18:40.429316Z"
    },
    "colab": {
     "base_uri": "https://localhost:8080/",
     "height": 602
    },
    "id": "Wy2h9Z9b33h0",
    "outputId": "eb628b79-4aa8-4363-84f9-06c35c37c648"
   },
   "outputs": [
    {
     "data": {
      "image/png": "[encoded data removed]",
      "text/plain": [
       "<Figure size 1600x600 with 4 Axes>"
      ]
     },
     "metadata": {},
     "output_type": "display_data"
    }
   ],
   "source": [
    "# Построим диаграмму размаха (boxplot) и гистограмму\n",
    "# Поскольку год в большинстве случаев не превышает 2020 и не ниже 1980, а минимальное и максимальное значение\n",
    "# составляют 1000 и 9999, то построим диаграммы в разных масштабах:\n",
    "# слева будут диаграммы на весь диапазон, а справа - с ограничением от 1970 до 2025.\n",
    "# Настроим внешний вид области построения\n",
    "fig, ax = plt.subplots(ncols=2, nrows=2,\n",
    "                       figsize=(16, 6),\n",
    "                       sharex=False,\n",
    "                       gridspec_kw={'height_ratios': (.2, .8), 'width_ratios': (.3, .7)})\n",
    "fig.suptitle('Диаграмма размаха и гистограмма по году регистрации (RegistrationYear)', fontsize=14)\n",
    "ax[0, 0].spines['top'].set_visible(False)\n",
    "ax[0, 0].spines['right'].set_visible(False)\n",
    "ax[0, 0].spines['left'].set_visible(False)\n",
    "ax[0, 0].tick_params(axis='y', left=False, labelleft=False)\n",
    "ax[0, 1].spines['top'].set_visible(False)\n",
    "ax[0, 1].spines['right'].set_visible(False)\n",
    "ax[0, 1].spines['left'].set_visible(False)\n",
    "ax[0, 1].tick_params(axis='y', left=False, labelleft=False)\n",
    "ax[1, 0].grid(color='gray', linewidth = 0.5, linestyle = '--')\n",
    "ax[1, 1].grid(color='gray', linewidth = 0.5, linestyle = '--')\n",
    "ax[0,0].sharex(ax[1, 0])\n",
    "ax[0,1].sharex(ax[1, 1])\n",
    "ax[1, 0].set_xticks(np.arange(1000, 10000, 2000))\n",
    "ax[1, 1].set_xticks(np.arange(1970, 2025, 5))\n",
    "ax[1, 0].set_yscale('log')\n",
    "#ax[1, 1].set_yscale('log')\n",
    "ax[1, 1].set_xlim(1970,2025)\n",
    "ax[1,0].set_xlabel('Год регистрации')\n",
    "ax[1,0].set_ylabel('Количество объектов')\n",
    "ax[1,1].set_xlabel('Год регистрации')\n",
    "# Построим сами диаграммы\n",
    "ax[0,0].boxplot(df[~(df['RegistrationYear'].isna())]['RegistrationYear'], vert=False, showmeans=True)\n",
    "ax[0,1].boxplot(df[~(df['RegistrationYear'].isna())]['RegistrationYear'], vert=False, showmeans=True)\n",
    "ax[1,0].hist(df['RegistrationYear'], bins=1000)\n",
    "ax[1,1].hist(df['RegistrationYear'], bins=1000)\n",
    "plt.show()"
   ]
  },
  {
   "cell_type": "markdown",
   "metadata": {
    "id": "nMNvAl4D33h0"
   },
   "source": [
    "Видно, что практически все значения находятся в диапазоне 1985-2023. Рассмотрим, какие объекты имеют аномальные значения года регистрации."
   ]
  },
  {
   "cell_type": "code",
   "execution_count": 23,
   "metadata": {
    "ExecuteTime": {
     "end_time": "2023-07-15T10:18:42.612434Z",
     "start_time": "2023-07-15T10:18:42.601218Z"
    },
    "colab": {
     "base_uri": "https://localhost:8080/"
    },
    "id": "zmgvTBXJ33h6",
    "outputId": "7a235b3f-0b23-416c-e81f-5d03c901b9b6"
   },
   "outputs": [
    {
     "name": "stdout",
     "output_type": "stream",
     "text": [
      "Аномальных объектов 5553\n"
     ]
    }
   ],
   "source": [
    "print('Аномальных объектов', df[(df['RegistrationYear']<1985)|(df['RegistrationYear']>2023)]['RegistrationYear'].count())"
   ]
  },
  {
   "cell_type": "code",
   "execution_count": 24,
   "metadata": {
    "ExecuteTime": {
     "end_time": "2023-07-15T10:18:42.628058Z",
     "start_time": "2023-07-15T10:18:42.612434Z"
    },
    "colab": {
     "base_uri": "https://localhost:8080/",
     "height": 677
    },
    "id": "sEeZBVZY33h6",
    "outputId": "fc738e20-2ce9-4a0f-a457-124b0e0967ba",
    "scrolled": true
   },
   "outputs": [
    {
     "data": {
      "text/html": [
       "<div>\n",
       "<style scoped>\n",
       "    .dataframe tbody tr th:only-of-type {\n",
       "        vertical-align: middle;\n",
       "    }\n",
       "\n",
       "    .dataframe tbody tr th {\n",
       "        vertical-align: top;\n",
       "    }\n",
       "\n",
       "    .dataframe thead th {\n",
       "        text-align: right;\n",
       "    }\n",
       "</style>\n",
       "<table border=\"1\" class=\"dataframe\">\n",
       "  <thead>\n",
       "    <tr style=\"text-align: right;\">\n",
       "      <th></th>\n",
       "      <th>DateCrawled</th>\n",
       "      <th>Price</th>\n",
       "      <th>VehicleType</th>\n",
       "      <th>RegistrationYear</th>\n",
       "      <th>Gearbox</th>\n",
       "      <th>Power</th>\n",
       "      <th>Model</th>\n",
       "      <th>Kilometer</th>\n",
       "      <th>RegistrationMonth</th>\n",
       "      <th>FuelType</th>\n",
       "      <th>Brand</th>\n",
       "      <th>Repaired</th>\n",
       "      <th>DateCreated</th>\n",
       "      <th>NumberOfPictures</th>\n",
       "      <th>PostalCode</th>\n",
       "      <th>LastSeen</th>\n",
       "    </tr>\n",
       "  </thead>\n",
       "  <tbody>\n",
       "    <tr>\n",
       "      <th>98700</th>\n",
       "      <td>2016-03-22</td>\n",
       "      <td>550</td>\n",
       "      <td>sedan</td>\n",
       "      <td>1974</td>\n",
       "      <td>manual</td>\n",
       "      <td>0</td>\n",
       "      <td>kadett</td>\n",
       "      <td>100000</td>\n",
       "      <td>8</td>\n",
       "      <td>other</td>\n",
       "      <td>opel</td>\n",
       "      <td>no info</td>\n",
       "      <td>2016-03-22</td>\n",
       "      <td>0</td>\n",
       "      <td>92693</td>\n",
       "      <td>2016-03-22</td>\n",
       "    </tr>\n",
       "    <tr>\n",
       "      <th>119458</th>\n",
       "      <td>2016-03-15</td>\n",
       "      <td>1500</td>\n",
       "      <td>sedan</td>\n",
       "      <td>1975</td>\n",
       "      <td>manual</td>\n",
       "      <td>76</td>\n",
       "      <td>other</td>\n",
       "      <td>70000</td>\n",
       "      <td>1</td>\n",
       "      <td>petrol</td>\n",
       "      <td>lada</td>\n",
       "      <td>no info</td>\n",
       "      <td>2016-03-15</td>\n",
       "      <td>0</td>\n",
       "      <td>99091</td>\n",
       "      <td>2016-03-21</td>\n",
       "    </tr>\n",
       "    <tr>\n",
       "      <th>105383</th>\n",
       "      <td>2016-03-10</td>\n",
       "      <td>7000</td>\n",
       "      <td>other</td>\n",
       "      <td>1980</td>\n",
       "      <td>manual</td>\n",
       "      <td>110</td>\n",
       "      <td>other</td>\n",
       "      <td>150000</td>\n",
       "      <td>4</td>\n",
       "      <td>other</td>\n",
       "      <td>bmw</td>\n",
       "      <td>no info</td>\n",
       "      <td>2016-03-10</td>\n",
       "      <td>0</td>\n",
       "      <td>64546</td>\n",
       "      <td>2016-03-10</td>\n",
       "    </tr>\n",
       "    <tr>\n",
       "      <th>50440</th>\n",
       "      <td>2016-04-03</td>\n",
       "      <td>0</td>\n",
       "      <td>sedan</td>\n",
       "      <td>1984</td>\n",
       "      <td>auto</td>\n",
       "      <td>135</td>\n",
       "      <td>other</td>\n",
       "      <td>150000</td>\n",
       "      <td>0</td>\n",
       "      <td>petrol</td>\n",
       "      <td>mercedes_benz</td>\n",
       "      <td>no info</td>\n",
       "      <td>2016-04-03</td>\n",
       "      <td>0</td>\n",
       "      <td>36037</td>\n",
       "      <td>2016-04-05</td>\n",
       "    </tr>\n",
       "    <tr>\n",
       "      <th>246499</th>\n",
       "      <td>2016-03-08</td>\n",
       "      <td>550</td>\n",
       "      <td>small</td>\n",
       "      <td>1983</td>\n",
       "      <td>manual</td>\n",
       "      <td>34</td>\n",
       "      <td>kaefer</td>\n",
       "      <td>150000</td>\n",
       "      <td>6</td>\n",
       "      <td>petrol</td>\n",
       "      <td>volkswagen</td>\n",
       "      <td>yes</td>\n",
       "      <td>2016-03-08</td>\n",
       "      <td>0</td>\n",
       "      <td>98716</td>\n",
       "      <td>2016-03-18</td>\n",
       "    </tr>\n",
       "    <tr>\n",
       "      <th>324519</th>\n",
       "      <td>2016-03-29</td>\n",
       "      <td>1</td>\n",
       "      <td>other</td>\n",
       "      <td>1970</td>\n",
       "      <td>manual</td>\n",
       "      <td>0</td>\n",
       "      <td>kaefer</td>\n",
       "      <td>5000</td>\n",
       "      <td>0</td>\n",
       "      <td>other</td>\n",
       "      <td>volkswagen</td>\n",
       "      <td>no</td>\n",
       "      <td>2016-03-29</td>\n",
       "      <td>0</td>\n",
       "      <td>88353</td>\n",
       "      <td>2016-04-01</td>\n",
       "    </tr>\n",
       "    <tr>\n",
       "      <th>202983</th>\n",
       "      <td>2016-03-08</td>\n",
       "      <td>5500</td>\n",
       "      <td>coupe</td>\n",
       "      <td>1979</td>\n",
       "      <td>auto</td>\n",
       "      <td>185</td>\n",
       "      <td>sl</td>\n",
       "      <td>5000</td>\n",
       "      <td>8</td>\n",
       "      <td>petrol</td>\n",
       "      <td>mercedes_benz</td>\n",
       "      <td>no</td>\n",
       "      <td>2016-03-08</td>\n",
       "      <td>0</td>\n",
       "      <td>58644</td>\n",
       "      <td>2016-04-06</td>\n",
       "    </tr>\n",
       "    <tr>\n",
       "      <th>106707</th>\n",
       "      <td>2016-03-15</td>\n",
       "      <td>9900</td>\n",
       "      <td>convertible</td>\n",
       "      <td>1979</td>\n",
       "      <td>manual</td>\n",
       "      <td>120</td>\n",
       "      <td>other</td>\n",
       "      <td>150000</td>\n",
       "      <td>7</td>\n",
       "      <td>petrol</td>\n",
       "      <td>lancia</td>\n",
       "      <td>no</td>\n",
       "      <td>2016-03-14</td>\n",
       "      <td>0</td>\n",
       "      <td>81739</td>\n",
       "      <td>2016-04-05</td>\n",
       "    </tr>\n",
       "    <tr>\n",
       "      <th>70172</th>\n",
       "      <td>2016-03-31</td>\n",
       "      <td>13950</td>\n",
       "      <td>convertible</td>\n",
       "      <td>1962</td>\n",
       "      <td>manual</td>\n",
       "      <td>80</td>\n",
       "      <td>other</td>\n",
       "      <td>100000</td>\n",
       "      <td>7</td>\n",
       "      <td>petrol</td>\n",
       "      <td>sonstige_autos</td>\n",
       "      <td>no info</td>\n",
       "      <td>2016-03-31</td>\n",
       "      <td>0</td>\n",
       "      <td>45665</td>\n",
       "      <td>2016-04-06</td>\n",
       "    </tr>\n",
       "    <tr>\n",
       "      <th>81329</th>\n",
       "      <td>2016-03-27</td>\n",
       "      <td>5000</td>\n",
       "      <td>coupe</td>\n",
       "      <td>1984</td>\n",
       "      <td>manual</td>\n",
       "      <td>179</td>\n",
       "      <td>other</td>\n",
       "      <td>150000</td>\n",
       "      <td>9</td>\n",
       "      <td>petrol</td>\n",
       "      <td>opel</td>\n",
       "      <td>no</td>\n",
       "      <td>2016-03-27</td>\n",
       "      <td>0</td>\n",
       "      <td>12305</td>\n",
       "      <td>2016-04-07</td>\n",
       "    </tr>\n",
       "    <tr>\n",
       "      <th>341554</th>\n",
       "      <td>2016-03-20</td>\n",
       "      <td>11900</td>\n",
       "      <td>coupe</td>\n",
       "      <td>1965</td>\n",
       "      <td>manual</td>\n",
       "      <td>110</td>\n",
       "      <td>other</td>\n",
       "      <td>150000</td>\n",
       "      <td>7</td>\n",
       "      <td>petrol</td>\n",
       "      <td>chevrolet</td>\n",
       "      <td>no</td>\n",
       "      <td>2016-03-20</td>\n",
       "      <td>0</td>\n",
       "      <td>27432</td>\n",
       "      <td>2016-04-07</td>\n",
       "    </tr>\n",
       "    <tr>\n",
       "      <th>178313</th>\n",
       "      <td>2016-03-07</td>\n",
       "      <td>3550</td>\n",
       "      <td>suv</td>\n",
       "      <td>1979</td>\n",
       "      <td>manual</td>\n",
       "      <td>80</td>\n",
       "      <td>other</td>\n",
       "      <td>5000</td>\n",
       "      <td>9</td>\n",
       "      <td>petrol</td>\n",
       "      <td>sonstige_autos</td>\n",
       "      <td>no</td>\n",
       "      <td>2016-03-07</td>\n",
       "      <td>0</td>\n",
       "      <td>17268</td>\n",
       "      <td>2016-04-07</td>\n",
       "    </tr>\n",
       "    <tr>\n",
       "      <th>59671</th>\n",
       "      <td>2016-03-30</td>\n",
       "      <td>2100</td>\n",
       "      <td>convertible</td>\n",
       "      <td>1972</td>\n",
       "      <td>auto</td>\n",
       "      <td>200</td>\n",
       "      <td>other</td>\n",
       "      <td>5000</td>\n",
       "      <td>1</td>\n",
       "      <td>other</td>\n",
       "      <td>sonstige_autos</td>\n",
       "      <td>yes</td>\n",
       "      <td>2016-03-30</td>\n",
       "      <td>0</td>\n",
       "      <td>72501</td>\n",
       "      <td>2016-04-07</td>\n",
       "    </tr>\n",
       "    <tr>\n",
       "      <th>271020</th>\n",
       "      <td>2016-03-14</td>\n",
       "      <td>2499</td>\n",
       "      <td>small</td>\n",
       "      <td>1961</td>\n",
       "      <td>manual</td>\n",
       "      <td>20</td>\n",
       "      <td>other</td>\n",
       "      <td>30000</td>\n",
       "      <td>2</td>\n",
       "      <td>petrol</td>\n",
       "      <td>trabant</td>\n",
       "      <td>no</td>\n",
       "      <td>2016-03-14</td>\n",
       "      <td>0</td>\n",
       "      <td>24863</td>\n",
       "      <td>2016-03-16</td>\n",
       "    </tr>\n",
       "    <tr>\n",
       "      <th>334414</th>\n",
       "      <td>2016-03-24</td>\n",
       "      <td>0</td>\n",
       "      <td>other</td>\n",
       "      <td>1960</td>\n",
       "      <td>manual</td>\n",
       "      <td>0</td>\n",
       "      <td>other</td>\n",
       "      <td>50000</td>\n",
       "      <td>0</td>\n",
       "      <td>other</td>\n",
       "      <td>sonstige_autos</td>\n",
       "      <td>no info</td>\n",
       "      <td>2016-03-24</td>\n",
       "      <td>0</td>\n",
       "      <td>6110</td>\n",
       "      <td>2016-04-06</td>\n",
       "    </tr>\n",
       "    <tr>\n",
       "      <th>236454</th>\n",
       "      <td>2016-03-29</td>\n",
       "      <td>4100</td>\n",
       "      <td>sedan</td>\n",
       "      <td>1976</td>\n",
       "      <td>manual</td>\n",
       "      <td>34</td>\n",
       "      <td>kaefer</td>\n",
       "      <td>30000</td>\n",
       "      <td>4</td>\n",
       "      <td>petrol</td>\n",
       "      <td>volkswagen</td>\n",
       "      <td>no</td>\n",
       "      <td>2016-03-29</td>\n",
       "      <td>0</td>\n",
       "      <td>85764</td>\n",
       "      <td>2016-04-06</td>\n",
       "    </tr>\n",
       "    <tr>\n",
       "      <th>308743</th>\n",
       "      <td>2016-03-19</td>\n",
       "      <td>14000</td>\n",
       "      <td>sedan</td>\n",
       "      <td>1962</td>\n",
       "      <td>manual</td>\n",
       "      <td>34</td>\n",
       "      <td>kaefer</td>\n",
       "      <td>80000</td>\n",
       "      <td>4</td>\n",
       "      <td>petrol</td>\n",
       "      <td>volkswagen</td>\n",
       "      <td>no</td>\n",
       "      <td>2016-03-19</td>\n",
       "      <td>0</td>\n",
       "      <td>48324</td>\n",
       "      <td>2016-04-07</td>\n",
       "    </tr>\n",
       "    <tr>\n",
       "      <th>148413</th>\n",
       "      <td>2016-03-29</td>\n",
       "      <td>4850</td>\n",
       "      <td>coupe</td>\n",
       "      <td>1972</td>\n",
       "      <td>manual</td>\n",
       "      <td>50</td>\n",
       "      <td>other</td>\n",
       "      <td>125000</td>\n",
       "      <td>4</td>\n",
       "      <td>petrol</td>\n",
       "      <td>volkswagen</td>\n",
       "      <td>no</td>\n",
       "      <td>2016-03-29</td>\n",
       "      <td>0</td>\n",
       "      <td>79361</td>\n",
       "      <td>2016-04-05</td>\n",
       "    </tr>\n",
       "    <tr>\n",
       "      <th>301523</th>\n",
       "      <td>2016-04-03</td>\n",
       "      <td>1050</td>\n",
       "      <td>small</td>\n",
       "      <td>1982</td>\n",
       "      <td>auto</td>\n",
       "      <td>75</td>\n",
       "      <td>kadett</td>\n",
       "      <td>150000</td>\n",
       "      <td>9</td>\n",
       "      <td>petrol</td>\n",
       "      <td>opel</td>\n",
       "      <td>no</td>\n",
       "      <td>2016-04-03</td>\n",
       "      <td>0</td>\n",
       "      <td>73453</td>\n",
       "      <td>2016-04-07</td>\n",
       "    </tr>\n",
       "    <tr>\n",
       "      <th>133262</th>\n",
       "      <td>2016-03-29</td>\n",
       "      <td>10900</td>\n",
       "      <td>sedan</td>\n",
       "      <td>1971</td>\n",
       "      <td>auto</td>\n",
       "      <td>60</td>\n",
       "      <td>other</td>\n",
       "      <td>60000</td>\n",
       "      <td>1</td>\n",
       "      <td>gasoline</td>\n",
       "      <td>mercedes_benz</td>\n",
       "      <td>no</td>\n",
       "      <td>2016-03-29</td>\n",
       "      <td>0</td>\n",
       "      <td>6295</td>\n",
       "      <td>2016-04-05</td>\n",
       "    </tr>\n",
       "  </tbody>\n",
       "</table>\n",
       "</div>"
      ],
      "text/plain": [
       "       DateCrawled  Price  VehicleType  RegistrationYear Gearbox  Power  \\\n",
       "98700   2016-03-22    550        sedan              1974  manual      0   \n",
       "119458  2016-03-15   1500        sedan              1975  manual     76   \n",
       "105383  2016-03-10   7000        other              1980  manual    110   \n",
       "50440   2016-04-03      0        sedan              1984    auto    135   \n",
       "246499  2016-03-08    550        small              1983  manual     34   \n",
       "324519  2016-03-29      1        other              1970  manual      0   \n",
       "202983  2016-03-08   5500        coupe              1979    auto    185   \n",
       "106707  2016-03-15   9900  convertible              1979  manual    120   \n",
       "70172   2016-03-31  13950  convertible              1962  manual     80   \n",
       "81329   2016-03-27   5000        coupe              1984  manual    179   \n",
       "341554  2016-03-20  11900        coupe              1965  manual    110   \n",
       "178313  2016-03-07   3550          suv              1979  manual     80   \n",
       "59671   2016-03-30   2100  convertible              1972    auto    200   \n",
       "271020  2016-03-14   2499        small              1961  manual     20   \n",
       "334414  2016-03-24      0        other              1960  manual      0   \n",
       "236454  2016-03-29   4100        sedan              1976  manual     34   \n",
       "308743  2016-03-19  14000        sedan              1962  manual     34   \n",
       "148413  2016-03-29   4850        coupe              1972  manual     50   \n",
       "301523  2016-04-03   1050        small              1982    auto     75   \n",
       "133262  2016-03-29  10900        sedan              1971    auto     60   \n",
       "\n",
       "         Model  Kilometer  RegistrationMonth  FuelType           Brand  \\\n",
       "98700   kadett     100000                  8     other            opel   \n",
       "119458   other      70000                  1    petrol            lada   \n",
       "105383   other     150000                  4     other             bmw   \n",
       "50440    other     150000                  0    petrol   mercedes_benz   \n",
       "246499  kaefer     150000                  6    petrol      volkswagen   \n",
       "324519  kaefer       5000                  0     other      volkswagen   \n",
       "202983      sl       5000                  8    petrol   mercedes_benz   \n",
       "106707   other     150000                  7    petrol          lancia   \n",
       "70172    other     100000                  7    petrol  sonstige_autos   \n",
       "81329    other     150000                  9    petrol            opel   \n",
       "341554   other     150000                  7    petrol       chevrolet   \n",
       "178313   other       5000                  9    petrol  sonstige_autos   \n",
       "59671    other       5000                  1     other  sonstige_autos   \n",
       "271020   other      30000                  2    petrol         trabant   \n",
       "334414   other      50000                  0     other  sonstige_autos   \n",
       "236454  kaefer      30000                  4    petrol      volkswagen   \n",
       "308743  kaefer      80000                  4    petrol      volkswagen   \n",
       "148413   other     125000                  4    petrol      volkswagen   \n",
       "301523  kadett     150000                  9    petrol            opel   \n",
       "133262   other      60000                  1  gasoline   mercedes_benz   \n",
       "\n",
       "       Repaired DateCreated  NumberOfPictures  PostalCode   LastSeen  \n",
       "98700   no info  2016-03-22                 0       92693 2016-03-22  \n",
       "119458  no info  2016-03-15                 0       99091 2016-03-21  \n",
       "105383  no info  2016-03-10                 0       64546 2016-03-10  \n",
       "50440   no info  2016-04-03                 0       36037 2016-04-05  \n",
       "246499      yes  2016-03-08                 0       98716 2016-03-18  \n",
       "324519       no  2016-03-29                 0       88353 2016-04-01  \n",
       "202983       no  2016-03-08                 0       58644 2016-04-06  \n",
       "106707       no  2016-03-14                 0       81739 2016-04-05  \n",
       "70172   no info  2016-03-31                 0       45665 2016-04-06  \n",
       "81329        no  2016-03-27                 0       12305 2016-04-07  \n",
       "341554       no  2016-03-20                 0       27432 2016-04-07  \n",
       "178313       no  2016-03-07                 0       17268 2016-04-07  \n",
       "59671       yes  2016-03-30                 0       72501 2016-04-07  \n",
       "271020       no  2016-03-14                 0       24863 2016-03-16  \n",
       "334414  no info  2016-03-24                 0        6110 2016-04-06  \n",
       "236454       no  2016-03-29                 0       85764 2016-04-06  \n",
       "308743       no  2016-03-19                 0       48324 2016-04-07  \n",
       "148413       no  2016-03-29                 0       79361 2016-04-05  \n",
       "301523       no  2016-04-03                 0       73453 2016-04-07  \n",
       "133262       no  2016-03-29                 0        6295 2016-04-05  "
      ]
     },
     "execution_count": 24,
     "metadata": {},
     "output_type": "execute_result"
    }
   ],
   "source": [
    "df[(df['RegistrationYear']<1985)|(df['RegistrationYear']>2023)].sample(20)"
   ]
  },
  {
   "cell_type": "markdown",
   "metadata": {
    "ExecuteTime": {
     "end_time": "2023-07-12T20:25:44.219431Z",
     "start_time": "2023-07-12T20:25:44.211424Z"
    },
    "id": "wmbkq8hh33h7"
   },
   "source": [
    "Какой-либо закономерности, которая позволила бы понять причины возникновения таких аномальных значений, не наблюдается. Заменим такие аномальные значения медианным значением по автомобилям с аналогичным пробегом после изучения и корректировки значений в столбце с пробегом."
   ]
  },
  {
   "cell_type": "code",
   "execution_count": 25,
   "metadata": {
    "ExecuteTime": {
     "end_time": "2023-07-15T10:18:42.644813Z",
     "start_time": "2023-07-15T10:18:42.629188Z"
    },
    "colab": {
     "base_uri": "https://localhost:8080/"
    },
    "id": "JvB3EDu633h7",
    "outputId": "b8a348be-5e76-42c6-f307-bee575fa26b0"
   },
   "outputs": [
    {
     "data": {
      "text/plain": [
       "count    354365.000000\n",
       "mean     128211.363989\n",
       "std       37905.083858\n",
       "min        5000.000000\n",
       "25%      125000.000000\n",
       "50%      150000.000000\n",
       "75%      150000.000000\n",
       "max      150000.000000\n",
       "Name: Kilometer, dtype: float64"
      ]
     },
     "execution_count": 25,
     "metadata": {},
     "output_type": "execute_result"
    }
   ],
   "source": [
    "# Изучим столбец Kilometer\n",
    "df['Kilometer'].describe()"
   ]
  },
  {
   "cell_type": "markdown",
   "metadata": {
    "id": "T891XZ3D33h7"
   },
   "source": [
    "По данным о пробеге можно сказать, что абсолютное большинство автомобилей с пробегом 100 тыс км и более. Рассмотрим данные подробнее."
   ]
  },
  {
   "cell_type": "code",
   "execution_count": 26,
   "metadata": {
    "ExecuteTime": {
     "end_time": "2023-07-15T10:18:43.011435Z",
     "start_time": "2023-07-15T10:18:42.645571Z"
    },
    "colab": {
     "base_uri": "https://localhost:8080/",
     "height": 566
    },
    "id": "RWSZW0-i33h7",
    "outputId": "04ee31bc-5b22-4a5e-a176-d3e9e368de51"
   },
   "outputs": [
    {
     "data": {
      "image/png": "[encoded data removed]",
      "text/plain": [
       "<Figure size 1200x600 with 2 Axes>"
      ]
     },
     "metadata": {},
     "output_type": "display_data"
    }
   ],
   "source": [
    "# Построим диаграмму размаха (boxplot) и гистограмму\n",
    "# Настроим внешний вид области построения\n",
    "fig, ax = plt.subplots(ncols=1, nrows=2,\n",
    "                       figsize=(12, 6),\n",
    "                       sharex=True,\n",
    "                       gridspec_kw={'height_ratios': (.2, .8)})\n",
    "ax[0].spines['top'].set_visible(False)\n",
    "ax[0].spines['right'].set_visible(False)\n",
    "ax[0].spines['left'].set_visible(False)\n",
    "ax[0].tick_params(axis='y', left=False, labelleft=False)\n",
    "ax[1].grid(color='gray', linewidth = 0.5, linestyle = '--')\n",
    "ax[1].set_xticks(np.arange(0, 150000, 10000))\n",
    "ax[0].set_title('Диаграмма размаха и гистограмма по пробегу (Kilometer)', fontsize=14)\n",
    "ax[1].set_xlabel('Пробег, км')\n",
    "ax[1].set_ylabel('Количество объектов')\n",
    "ax[1].set_yscale('log')\n",
    "# Построим сами диаграммы\n",
    "ax[0].boxplot(df[~(df['Kilometer'].isna())]['Kilometer'], vert=False, showmeans=True)\n",
    "ax[1].hist(df['Kilometer'], bins=26)\n",
    "plt.show()"
   ]
  },
  {
   "cell_type": "code",
   "execution_count": 27,
   "metadata": {
    "ExecuteTime": {
     "end_time": "2023-07-15T10:18:43.028371Z",
     "start_time": "2023-07-15T10:18:43.012746Z"
    },
    "colab": {
     "base_uri": "https://localhost:8080/"
    },
    "id": "AEclFA2m33h7",
    "outputId": "62d6c05b-ceb8-4acc-82cc-8c9c8eae3dfb"
   },
   "outputs": [
    {
     "data": {
      "text/plain": [
       "Kilometer\n",
       "150000    238207\n",
       "125000     36453\n",
       "100000     14882\n",
       "90000      11567\n",
       "80000      10047\n",
       "70000       8593\n",
       "60000       7444\n",
       "5000        6397\n",
       "50000       6232\n",
       "40000       4911\n",
       "30000       4436\n",
       "20000       3974\n",
       "10000       1222\n",
       "Name: count, dtype: int64"
      ]
     },
     "execution_count": 27,
     "metadata": {},
     "output_type": "execute_result"
    }
   ],
   "source": [
    "df['Kilometer'].value_counts()"
   ]
  },
  {
   "cell_type": "markdown",
   "metadata": {
    "id": "mXhuQL7133h7"
   },
   "source": [
    "Видим, что значение пробега представлено круглыми значениями с различным шагом. Аномальных значений не наблюдается."
   ]
  },
  {
   "cell_type": "code",
   "execution_count": 28,
   "metadata": {
    "ExecuteTime": {
     "end_time": "2023-07-15T10:18:43.110151Z",
     "start_time": "2023-07-15T10:18:43.029217Z"
    },
    "id": "7fozpk97R6H7"
   },
   "outputs": [],
   "source": [
    "# Заменим аномальные значения года регистрации медианным значением по автомобилям с аналогичным пробегом\n",
    "# Медиану будем определять среди объектов только обучающей выборки и с годом регистрации в диапазоне 1985-2023\n",
    "df['filled_by_train'] = df[df.index.isin(train_index)&((df['RegistrationYear']>1985)&(df['RegistrationYear']<2023))]['RegistrationYear']\n",
    "df['filled_by_train'] = df['filled_by_train'].fillna(df.groupby(['Kilometer'], group_keys=True, dropna=True)['filled_by_train'].transform('median'))\n",
    "# Заменим аномальные значения в исходном столбце\n",
    "df.loc[(df['RegistrationYear']<1985)|(df['RegistrationYear']>2023), 'RegistrationYear'] = \\\n",
    "df.loc[(df['RegistrationYear']<1985)|(df['RegistrationYear']>2023),'filled_by_train']\n",
    "# Удалим временный столбец\n",
    "df = df.drop(['filled_by_train'], axis=1)"
   ]
  },
  {
   "cell_type": "code",
   "execution_count": 29,
   "metadata": {
    "ExecuteTime": {
     "end_time": "2023-07-15T10:18:43.129824Z",
     "start_time": "2023-07-15T10:18:43.111163Z"
    },
    "colab": {
     "base_uri": "https://localhost:8080/"
    },
    "id": "6pYDyi-u33h8",
    "outputId": "c5394ed0-c411-48a6-cfdf-b730010b2d85"
   },
   "outputs": [
    {
     "data": {
      "text/plain": [
       "count    354365.000000\n",
       "mean       2003.572509\n",
       "std           6.396470\n",
       "min        1985.000000\n",
       "25%        1999.000000\n",
       "50%        2003.000000\n",
       "75%        2008.000000\n",
       "max        2019.000000\n",
       "Name: RegistrationYear, dtype: float64"
      ]
     },
     "execution_count": 29,
     "metadata": {},
     "output_type": "execute_result"
    }
   ],
   "source": [
    "#Проверим, что получилось\n",
    "df['RegistrationYear'].describe()"
   ]
  },
  {
   "cell_type": "markdown",
   "metadata": {
    "id": "OobVhMY033h8"
   },
   "source": [
    "Аномалии из столбца с годом регистрации убрали"
   ]
  },
  {
   "cell_type": "code",
   "execution_count": 30,
   "metadata": {
    "ExecuteTime": {
     "end_time": "2023-07-15T10:18:43.145838Z",
     "start_time": "2023-07-15T10:18:43.130824Z"
    },
    "colab": {
     "base_uri": "https://localhost:8080/"
    },
    "id": "kkTDPfD9CJFQ",
    "outputId": "afaac812-5ce6-43d6-9d04-4d6d7c16fe06"
   },
   "outputs": [
    {
     "data": {
      "text/plain": [
       "RegistrationMonth\n",
       "0     37352\n",
       "3     34373\n",
       "6     31507\n",
       "4     29270\n",
       "5     29153\n",
       "7     27211\n",
       "10    26099\n",
       "12    24289\n",
       "11    24186\n",
       "9     23813\n",
       "1     23218\n",
       "8     22627\n",
       "2     21267\n",
       "Name: count, dtype: int64"
      ]
     },
     "execution_count": 30,
     "metadata": {},
     "output_type": "execute_result"
    }
   ],
   "source": [
    "# Изучим столбец RegistrationMonth\n",
    "df['RegistrationMonth'].value_counts()"
   ]
  },
  {
   "cell_type": "markdown",
   "metadata": {
    "id": "5zb0ytCnWIOA"
   },
   "source": [
    "Видим, что имеется аномальное значение месяца - 0. Такие значения заполним медианным значением месяца среди объектов с тем же годом регистрации и с аналогичным пробегом, у которых значение месяца не равно нулю."
   ]
  },
  {
   "cell_type": "code",
   "execution_count": 31,
   "metadata": {
    "ExecuteTime": {
     "end_time": "2023-07-15T10:18:43.231557Z",
     "start_time": "2023-07-15T10:18:43.146839Z"
    },
    "id": "ycyLbweLCJFR"
   },
   "outputs": [],
   "source": [
    "# Заменим аномальные значения месяца регистрации медианным значением по автомобилям с аналогичным пробегом и годом регистрации\n",
    "# Медиану будем определять среди объектов только обучающей выборки, у которых месяц регистрации имеет значение в диапазоне от 1 до 12\n",
    "df['filled_by_train'] = df[df.index.isin(train_index)&(df['RegistrationMonth']!=0)]['RegistrationMonth']\n",
    "df['filled_by_train'] = df['filled_by_train'].fillna(df.groupby(['RegistrationYear', 'Kilometer'], group_keys=True, dropna=True)['filled_by_train'].transform('median'))\n",
    "# Оставшиеся незаполненными значения заполним модой по столбцу с месяцем\n",
    "df['filled_by_train'] = df['filled_by_train'].fillna(df['filled_by_train'].mode().values[0])\n",
    "# Заменим аномальные значения в исходном столбце\n",
    "df.loc[df['RegistrationMonth']==0, 'RegistrationMonth'] = df.loc[df['RegistrationMonth']==0, 'filled_by_train']\n",
    "df['RegistrationMonth'] = df['RegistrationMonth'].astype('int')\n",
    "# Удалим временный столбец\n",
    "df = df.drop(['filled_by_train'], axis=1)"
   ]
  },
  {
   "cell_type": "code",
   "execution_count": 32,
   "metadata": {
    "ExecuteTime": {
     "end_time": "2023-07-15T10:18:43.247573Z",
     "start_time": "2023-07-15T10:18:43.232558Z"
    },
    "colab": {
     "base_uri": "https://localhost:8080/"
    },
    "id": "q5AT819_CJFR",
    "outputId": "e4e686dc-d32d-4d28-8b5d-5e2013ac16cc"
   },
   "outputs": [
    {
     "data": {
      "text/plain": [
       "RegistrationMonth\n",
       "6     62824\n",
       "3     34546\n",
       "5     30987\n",
       "7     30601\n",
       "4     29398\n",
       "10    26103\n",
       "12    24289\n",
       "11    24186\n",
       "9     23884\n",
       "1     23233\n",
       "8     23041\n",
       "2     21273\n",
       "Name: count, dtype: int64"
      ]
     },
     "execution_count": 32,
     "metadata": {},
     "output_type": "execute_result"
    }
   ],
   "source": [
    "# Проверим, что получилось\n",
    "df['RegistrationMonth'].value_counts()"
   ]
  },
  {
   "cell_type": "markdown",
   "metadata": {
    "id": "dQDeaMeLchM3"
   },
   "source": [
    "Аномалии из столбца с месяцем регистрации убрали"
   ]
  },
  {
   "cell_type": "code",
   "execution_count": 33,
   "metadata": {
    "ExecuteTime": {
     "end_time": "2023-07-15T10:18:43.272811Z",
     "start_time": "2023-07-15T10:18:43.248573Z"
    },
    "colab": {
     "base_uri": "https://localhost:8080/"
    },
    "id": "jz3gM5OGdEyv",
    "outputId": "c1fbb168-f6ab-4e1a-e78e-bea85cc8eccc"
   },
   "outputs": [
    {
     "data": {
      "text/plain": [
       "count    354365.000000\n",
       "mean        110.093816\n",
       "std         189.851330\n",
       "min           0.000000\n",
       "25%          69.000000\n",
       "50%         105.000000\n",
       "75%         143.000000\n",
       "max       20000.000000\n",
       "Name: Power, dtype: float64"
      ]
     },
     "execution_count": 33,
     "metadata": {},
     "output_type": "execute_result"
    }
   ],
   "source": [
    "# Изучим столбец Power\n",
    "df['Power'].describe()"
   ]
  },
  {
   "cell_type": "markdown",
   "metadata": {
    "id": "1H7WDQb-dEy3"
   },
   "source": [
    "Видим, что среди значений мощности имеются аномальные значения, изучим данные подробнее."
   ]
  },
  {
   "cell_type": "code",
   "execution_count": 34,
   "metadata": {
    "ExecuteTime": {
     "end_time": "2023-07-15T10:18:45.377021Z",
     "start_time": "2023-07-15T10:18:43.272811Z"
    },
    "colab": {
     "base_uri": "https://localhost:8080/",
     "height": 602
    },
    "id": "E-kfb8H_dEy3",
    "outputId": "d2a2e88b-28a8-4210-db27-f7f1246da316"
   },
   "outputs": [
    {
     "data": {
      "image/png": "[encoded data removed]",
      "text/plain": [
       "<Figure size 1600x600 with 4 Axes>"
      ]
     },
     "metadata": {},
     "output_type": "display_data"
    }
   ],
   "source": [
    "# Построим диаграмму размаха (boxplot) и гистограмму\n",
    "# Поскольку мощность в большинстве случаев не превышает 350 л.с. и не ниже 50 л.с., а минимальное и максимальное значение\n",
    "# составляют 0 и 20000, то построим диаграммы в разных масштабах:\n",
    "# слева будут диаграммы на весь диапазон, а справа - с ограничением от 50 до 500.\n",
    "# Настроим внешний вид области построения\n",
    "fig, ax = plt.subplots(ncols=2, nrows=2,\n",
    "                       figsize=(16, 6),\n",
    "                       sharex=False,\n",
    "                       gridspec_kw={'height_ratios': (.2, .8), 'width_ratios': (.2, .8)})\n",
    "fig.suptitle('Диаграмма размаха и гистограмма по мощности (Power)', fontsize=14)\n",
    "ax[0, 0].spines['top'].set_visible(False)\n",
    "ax[0, 0].spines['right'].set_visible(False)\n",
    "ax[0, 0].spines['left'].set_visible(False)\n",
    "ax[0, 0].tick_params(axis='y', left=False, labelleft=False)\n",
    "ax[0, 1].spines['top'].set_visible(False)\n",
    "ax[0, 1].spines['right'].set_visible(False)\n",
    "ax[0, 1].spines['left'].set_visible(False)\n",
    "ax[0, 1].tick_params(axis='y', left=False, labelleft=False)\n",
    "ax[1, 0].grid(color='gray', linewidth = 0.5, linestyle = '--')\n",
    "ax[1, 1].grid(color='gray', linewidth = 0.5, linestyle = '--')\n",
    "ax[0,0].sharex(ax[1, 0])\n",
    "ax[0,1].sharex(ax[1, 1])\n",
    "ax[1, 0].set_xticks(np.arange(0, 20000, 5000))\n",
    "ax[1, 1].set_xticks(np.arange(0, 500, 25))\n",
    "ax[1, 0].set_yscale('log')\n",
    "#ax[1, 1].set_yscale('log')\n",
    "ax[1, 1].set_xlim(0,500)\n",
    "ax[1,0].set_xlabel('Мощность, л.с.')\n",
    "ax[1,0].set_ylabel('Количество объектов')\n",
    "ax[1,1].set_xlabel('Мощность, л.с.')\n",
    "# Построим сами диаграммы\n",
    "ax[0,0].boxplot(df[~(df['Power'].isna())]['Power'], vert=False, showmeans=True)\n",
    "ax[0,1].boxplot(df[~(df['Power'].isna())]['Power'], vert=False, showmeans=True)\n",
    "ax[1,0].hist(df['Power'], bins=1000)\n",
    "ax[1,1].hist(df['Power'], bins=1000)\n",
    "plt.show()"
   ]
  },
  {
   "cell_type": "code",
   "execution_count": 35,
   "metadata": {
    "ExecuteTime": {
     "end_time": "2023-07-15T10:18:45.395887Z",
     "start_time": "2023-07-15T10:18:45.378022Z"
    },
    "colab": {
     "base_uri": "https://localhost:8080/"
    },
    "id": "QRJSs19JeB6Z",
    "outputId": "146e0cd2-16a6-4077-a649-04e00e9896f6"
   },
   "outputs": [
    {
     "name": "stdout",
     "output_type": "stream",
     "text": [
      "Количество аномальных объектов по мощности (общее) 42195\n",
      "Количество аномальных объектов по мощности (<40 л.с.) 40225\n",
      "Количество аномальных объектов по мощности (>450 л.с.) 540\n"
     ]
    }
   ],
   "source": [
    "print('Количество аномальных объектов по мощности (общее)', df[(df['Power']<40)|(df['Power']>450)]['Power'].count())\n",
    "print('Количество аномальных объектов по мощности (<40 л.с.)', df[(df['Power']==0)]['Power'].count())\n",
    "print('Количество аномальных объектов по мощности (>450 л.с.)', df[(df['Power']>450)]['Power'].count())"
   ]
  },
  {
   "cell_type": "code",
   "execution_count": 36,
   "metadata": {
    "ExecuteTime": {
     "end_time": "2023-07-15T10:18:45.411512Z",
     "start_time": "2023-07-15T10:18:45.395887Z"
    },
    "colab": {
     "base_uri": "https://localhost:8080/",
     "height": 363
    },
    "id": "KVhAsObRkr5Y",
    "outputId": "6cce005b-3e64-49d8-86c3-79d6b0acd0ad"
   },
   "outputs": [
    {
     "data": {
      "text/html": [
       "<div>\n",
       "<style scoped>\n",
       "    .dataframe tbody tr th:only-of-type {\n",
       "        vertical-align: middle;\n",
       "    }\n",
       "\n",
       "    .dataframe tbody tr th {\n",
       "        vertical-align: top;\n",
       "    }\n",
       "\n",
       "    .dataframe thead th {\n",
       "        text-align: right;\n",
       "    }\n",
       "</style>\n",
       "<table border=\"1\" class=\"dataframe\">\n",
       "  <thead>\n",
       "    <tr style=\"text-align: right;\">\n",
       "      <th></th>\n",
       "      <th>DateCrawled</th>\n",
       "      <th>Price</th>\n",
       "      <th>VehicleType</th>\n",
       "      <th>RegistrationYear</th>\n",
       "      <th>Gearbox</th>\n",
       "      <th>Power</th>\n",
       "      <th>Model</th>\n",
       "      <th>Kilometer</th>\n",
       "      <th>RegistrationMonth</th>\n",
       "      <th>FuelType</th>\n",
       "      <th>Brand</th>\n",
       "      <th>Repaired</th>\n",
       "      <th>DateCreated</th>\n",
       "      <th>NumberOfPictures</th>\n",
       "      <th>PostalCode</th>\n",
       "      <th>LastSeen</th>\n",
       "    </tr>\n",
       "  </thead>\n",
       "  <tbody>\n",
       "    <tr>\n",
       "      <th>22600</th>\n",
       "      <td>2016-04-04</td>\n",
       "      <td>15000</td>\n",
       "      <td>sedan</td>\n",
       "      <td>2002</td>\n",
       "      <td>manual</td>\n",
       "      <td>500</td>\n",
       "      <td>golf</td>\n",
       "      <td>150000</td>\n",
       "      <td>11</td>\n",
       "      <td>petrol</td>\n",
       "      <td>volkswagen</td>\n",
       "      <td>no</td>\n",
       "      <td>2016-04-04</td>\n",
       "      <td>0</td>\n",
       "      <td>38442</td>\n",
       "      <td>2016-04-07</td>\n",
       "    </tr>\n",
       "    <tr>\n",
       "      <th>187283</th>\n",
       "      <td>2016-03-17</td>\n",
       "      <td>300</td>\n",
       "      <td>bus</td>\n",
       "      <td>1992</td>\n",
       "      <td>manual</td>\n",
       "      <td>1230</td>\n",
       "      <td>transporter</td>\n",
       "      <td>150000</td>\n",
       "      <td>3</td>\n",
       "      <td>gasoline</td>\n",
       "      <td>volkswagen</td>\n",
       "      <td>yes</td>\n",
       "      <td>2016-03-17</td>\n",
       "      <td>0</td>\n",
       "      <td>45770</td>\n",
       "      <td>2016-03-25</td>\n",
       "    </tr>\n",
       "    <tr>\n",
       "      <th>119692</th>\n",
       "      <td>2016-03-20</td>\n",
       "      <td>3000</td>\n",
       "      <td>small</td>\n",
       "      <td>2013</td>\n",
       "      <td>manual</td>\n",
       "      <td>1000</td>\n",
       "      <td>other</td>\n",
       "      <td>150000</td>\n",
       "      <td>5</td>\n",
       "      <td>petrol</td>\n",
       "      <td>ford</td>\n",
       "      <td>yes</td>\n",
       "      <td>2016-03-20</td>\n",
       "      <td>0</td>\n",
       "      <td>4626</td>\n",
       "      <td>2016-04-06</td>\n",
       "    </tr>\n",
       "    <tr>\n",
       "      <th>155997</th>\n",
       "      <td>2016-04-04</td>\n",
       "      <td>16500</td>\n",
       "      <td>wagon</td>\n",
       "      <td>2003</td>\n",
       "      <td>manual</td>\n",
       "      <td>510</td>\n",
       "      <td>other</td>\n",
       "      <td>125000</td>\n",
       "      <td>3</td>\n",
       "      <td>petrol</td>\n",
       "      <td>audi</td>\n",
       "      <td>no</td>\n",
       "      <td>2016-04-04</td>\n",
       "      <td>0</td>\n",
       "      <td>96476</td>\n",
       "      <td>2016-04-06</td>\n",
       "    </tr>\n",
       "    <tr>\n",
       "      <th>19947</th>\n",
       "      <td>2016-03-16</td>\n",
       "      <td>14888</td>\n",
       "      <td>sedan</td>\n",
       "      <td>2003</td>\n",
       "      <td>auto</td>\n",
       "      <td>476</td>\n",
       "      <td>e_klasse</td>\n",
       "      <td>150000</td>\n",
       "      <td>7</td>\n",
       "      <td>petrol</td>\n",
       "      <td>mercedes_benz</td>\n",
       "      <td>no</td>\n",
       "      <td>2016-03-16</td>\n",
       "      <td>0</td>\n",
       "      <td>31134</td>\n",
       "      <td>2016-04-05</td>\n",
       "    </tr>\n",
       "    <tr>\n",
       "      <th>104463</th>\n",
       "      <td>2016-03-28</td>\n",
       "      <td>11399</td>\n",
       "      <td>other</td>\n",
       "      <td>1995</td>\n",
       "      <td>manual</td>\n",
       "      <td>1995</td>\n",
       "      <td>other</td>\n",
       "      <td>150000</td>\n",
       "      <td>12</td>\n",
       "      <td>gasoline</td>\n",
       "      <td>bmw</td>\n",
       "      <td>no info</td>\n",
       "      <td>2016-03-28</td>\n",
       "      <td>0</td>\n",
       "      <td>90459</td>\n",
       "      <td>2016-04-07</td>\n",
       "    </tr>\n",
       "    <tr>\n",
       "      <th>92455</th>\n",
       "      <td>2016-03-15</td>\n",
       "      <td>6900</td>\n",
       "      <td>sedan</td>\n",
       "      <td>2007</td>\n",
       "      <td>manual</td>\n",
       "      <td>1968</td>\n",
       "      <td>passat</td>\n",
       "      <td>150000</td>\n",
       "      <td>5</td>\n",
       "      <td>gasoline</td>\n",
       "      <td>volkswagen</td>\n",
       "      <td>no</td>\n",
       "      <td>2016-03-15</td>\n",
       "      <td>0</td>\n",
       "      <td>20257</td>\n",
       "      <td>2016-03-20</td>\n",
       "    </tr>\n",
       "    <tr>\n",
       "      <th>96608</th>\n",
       "      <td>2016-03-11</td>\n",
       "      <td>1700</td>\n",
       "      <td>other</td>\n",
       "      <td>2017</td>\n",
       "      <td>manual</td>\n",
       "      <td>9010</td>\n",
       "      <td>other</td>\n",
       "      <td>100000</td>\n",
       "      <td>5</td>\n",
       "      <td>petrol</td>\n",
       "      <td>volkswagen</td>\n",
       "      <td>no</td>\n",
       "      <td>2016-03-11</td>\n",
       "      <td>0</td>\n",
       "      <td>99706</td>\n",
       "      <td>2016-03-20</td>\n",
       "    </tr>\n",
       "    <tr>\n",
       "      <th>107266</th>\n",
       "      <td>2016-03-23</td>\n",
       "      <td>120</td>\n",
       "      <td>other</td>\n",
       "      <td>2010</td>\n",
       "      <td>auto</td>\n",
       "      <td>500</td>\n",
       "      <td>sl</td>\n",
       "      <td>10000</td>\n",
       "      <td>5</td>\n",
       "      <td>other</td>\n",
       "      <td>mercedes_benz</td>\n",
       "      <td>no info</td>\n",
       "      <td>2016-03-23</td>\n",
       "      <td>0</td>\n",
       "      <td>48268</td>\n",
       "      <td>2016-03-28</td>\n",
       "    </tr>\n",
       "    <tr>\n",
       "      <th>35168</th>\n",
       "      <td>2016-03-16</td>\n",
       "      <td>2599</td>\n",
       "      <td>other</td>\n",
       "      <td>2016</td>\n",
       "      <td>manual</td>\n",
       "      <td>1779</td>\n",
       "      <td>zafira</td>\n",
       "      <td>150000</td>\n",
       "      <td>6</td>\n",
       "      <td>petrol</td>\n",
       "      <td>opel</td>\n",
       "      <td>no</td>\n",
       "      <td>2016-03-14</td>\n",
       "      <td>0</td>\n",
       "      <td>60326</td>\n",
       "      <td>2016-04-06</td>\n",
       "    </tr>\n",
       "  </tbody>\n",
       "</table>\n",
       "</div>"
      ],
      "text/plain": [
       "       DateCrawled  Price VehicleType  RegistrationYear Gearbox  Power  \\\n",
       "22600   2016-04-04  15000       sedan              2002  manual    500   \n",
       "187283  2016-03-17    300         bus              1992  manual   1230   \n",
       "119692  2016-03-20   3000       small              2013  manual   1000   \n",
       "155997  2016-04-04  16500       wagon              2003  manual    510   \n",
       "19947   2016-03-16  14888       sedan              2003    auto    476   \n",
       "104463  2016-03-28  11399       other              1995  manual   1995   \n",
       "92455   2016-03-15   6900       sedan              2007  manual   1968   \n",
       "96608   2016-03-11   1700       other              2017  manual   9010   \n",
       "107266  2016-03-23    120       other              2010    auto    500   \n",
       "35168   2016-03-16   2599       other              2016  manual   1779   \n",
       "\n",
       "              Model  Kilometer  RegistrationMonth  FuelType          Brand  \\\n",
       "22600          golf     150000                 11    petrol     volkswagen   \n",
       "187283  transporter     150000                  3  gasoline     volkswagen   \n",
       "119692        other     150000                  5    petrol           ford   \n",
       "155997        other     125000                  3    petrol           audi   \n",
       "19947      e_klasse     150000                  7    petrol  mercedes_benz   \n",
       "104463        other     150000                 12  gasoline            bmw   \n",
       "92455        passat     150000                  5  gasoline     volkswagen   \n",
       "96608         other     100000                  5    petrol     volkswagen   \n",
       "107266           sl      10000                  5     other  mercedes_benz   \n",
       "35168        zafira     150000                  6    petrol           opel   \n",
       "\n",
       "       Repaired DateCreated  NumberOfPictures  PostalCode   LastSeen  \n",
       "22600        no  2016-04-04                 0       38442 2016-04-07  \n",
       "187283      yes  2016-03-17                 0       45770 2016-03-25  \n",
       "119692      yes  2016-03-20                 0        4626 2016-04-06  \n",
       "155997       no  2016-04-04                 0       96476 2016-04-06  \n",
       "19947        no  2016-03-16                 0       31134 2016-04-05  \n",
       "104463  no info  2016-03-28                 0       90459 2016-04-07  \n",
       "92455        no  2016-03-15                 0       20257 2016-03-20  \n",
       "96608        no  2016-03-11                 0       99706 2016-03-20  \n",
       "107266  no info  2016-03-23                 0       48268 2016-03-28  \n",
       "35168        no  2016-03-14                 0       60326 2016-04-06  "
      ]
     },
     "execution_count": 36,
     "metadata": {},
     "output_type": "execute_result"
    }
   ],
   "source": [
    "df[(df['Power']>450)].sample(10)"
   ]
  },
  {
   "cell_type": "code",
   "execution_count": 37,
   "metadata": {
    "ExecuteTime": {
     "end_time": "2023-07-15T10:18:45.428152Z",
     "start_time": "2023-07-15T10:18:45.412526Z"
    },
    "colab": {
     "base_uri": "https://localhost:8080/",
     "height": 363
    },
    "id": "w0f02Oh2CJFR",
    "outputId": "62b2b2ef-0011-45ae-93ce-d024478408f1"
   },
   "outputs": [
    {
     "data": {
      "text/html": [
       "<div>\n",
       "<style scoped>\n",
       "    .dataframe tbody tr th:only-of-type {\n",
       "        vertical-align: middle;\n",
       "    }\n",
       "\n",
       "    .dataframe tbody tr th {\n",
       "        vertical-align: top;\n",
       "    }\n",
       "\n",
       "    .dataframe thead th {\n",
       "        text-align: right;\n",
       "    }\n",
       "</style>\n",
       "<table border=\"1\" class=\"dataframe\">\n",
       "  <thead>\n",
       "    <tr style=\"text-align: right;\">\n",
       "      <th></th>\n",
       "      <th>DateCrawled</th>\n",
       "      <th>Price</th>\n",
       "      <th>VehicleType</th>\n",
       "      <th>RegistrationYear</th>\n",
       "      <th>Gearbox</th>\n",
       "      <th>Power</th>\n",
       "      <th>Model</th>\n",
       "      <th>Kilometer</th>\n",
       "      <th>RegistrationMonth</th>\n",
       "      <th>FuelType</th>\n",
       "      <th>Brand</th>\n",
       "      <th>Repaired</th>\n",
       "      <th>DateCreated</th>\n",
       "      <th>NumberOfPictures</th>\n",
       "      <th>PostalCode</th>\n",
       "      <th>LastSeen</th>\n",
       "    </tr>\n",
       "  </thead>\n",
       "  <tbody>\n",
       "    <tr>\n",
       "      <th>72071</th>\n",
       "      <td>2016-03-11</td>\n",
       "      <td>1500</td>\n",
       "      <td>convertible</td>\n",
       "      <td>2001</td>\n",
       "      <td>manual</td>\n",
       "      <td>0</td>\n",
       "      <td>mx_reihe</td>\n",
       "      <td>150000</td>\n",
       "      <td>8</td>\n",
       "      <td>petrol</td>\n",
       "      <td>mazda</td>\n",
       "      <td>no info</td>\n",
       "      <td>2016-03-11</td>\n",
       "      <td>0</td>\n",
       "      <td>45886</td>\n",
       "      <td>2016-03-11</td>\n",
       "    </tr>\n",
       "    <tr>\n",
       "      <th>250106</th>\n",
       "      <td>2016-03-18</td>\n",
       "      <td>1900</td>\n",
       "      <td>other</td>\n",
       "      <td>2005</td>\n",
       "      <td>manual</td>\n",
       "      <td>0</td>\n",
       "      <td>zafira</td>\n",
       "      <td>150000</td>\n",
       "      <td>5</td>\n",
       "      <td>gasoline</td>\n",
       "      <td>opel</td>\n",
       "      <td>no</td>\n",
       "      <td>2016-03-18</td>\n",
       "      <td>0</td>\n",
       "      <td>82431</td>\n",
       "      <td>2016-04-05</td>\n",
       "    </tr>\n",
       "    <tr>\n",
       "      <th>7760</th>\n",
       "      <td>2016-03-28</td>\n",
       "      <td>4400</td>\n",
       "      <td>suv</td>\n",
       "      <td>2001</td>\n",
       "      <td>manual</td>\n",
       "      <td>0</td>\n",
       "      <td>jimny</td>\n",
       "      <td>125000</td>\n",
       "      <td>8</td>\n",
       "      <td>petrol</td>\n",
       "      <td>suzuki</td>\n",
       "      <td>no info</td>\n",
       "      <td>2016-03-28</td>\n",
       "      <td>0</td>\n",
       "      <td>86922</td>\n",
       "      <td>2016-04-07</td>\n",
       "    </tr>\n",
       "    <tr>\n",
       "      <th>210744</th>\n",
       "      <td>2016-03-25</td>\n",
       "      <td>2900</td>\n",
       "      <td>other</td>\n",
       "      <td>2009</td>\n",
       "      <td>manual</td>\n",
       "      <td>0</td>\n",
       "      <td>matiz</td>\n",
       "      <td>40000</td>\n",
       "      <td>9</td>\n",
       "      <td>other</td>\n",
       "      <td>chevrolet</td>\n",
       "      <td>no info</td>\n",
       "      <td>2016-03-25</td>\n",
       "      <td>0</td>\n",
       "      <td>45327</td>\n",
       "      <td>2016-04-06</td>\n",
       "    </tr>\n",
       "    <tr>\n",
       "      <th>57145</th>\n",
       "      <td>2016-04-01</td>\n",
       "      <td>150</td>\n",
       "      <td>other</td>\n",
       "      <td>2000</td>\n",
       "      <td>manual</td>\n",
       "      <td>0</td>\n",
       "      <td>punto</td>\n",
       "      <td>150000</td>\n",
       "      <td>10</td>\n",
       "      <td>petrol</td>\n",
       "      <td>fiat</td>\n",
       "      <td>no info</td>\n",
       "      <td>2016-04-01</td>\n",
       "      <td>0</td>\n",
       "      <td>94163</td>\n",
       "      <td>2016-04-05</td>\n",
       "    </tr>\n",
       "    <tr>\n",
       "      <th>19208</th>\n",
       "      <td>2016-03-27</td>\n",
       "      <td>1399</td>\n",
       "      <td>small</td>\n",
       "      <td>2004</td>\n",
       "      <td>manual</td>\n",
       "      <td>0</td>\n",
       "      <td>punto</td>\n",
       "      <td>125000</td>\n",
       "      <td>5</td>\n",
       "      <td>petrol</td>\n",
       "      <td>fiat</td>\n",
       "      <td>no</td>\n",
       "      <td>2016-03-27</td>\n",
       "      <td>0</td>\n",
       "      <td>13357</td>\n",
       "      <td>2016-04-01</td>\n",
       "    </tr>\n",
       "    <tr>\n",
       "      <th>283264</th>\n",
       "      <td>2016-03-28</td>\n",
       "      <td>1750</td>\n",
       "      <td>other</td>\n",
       "      <td>2017</td>\n",
       "      <td>manual</td>\n",
       "      <td>0</td>\n",
       "      <td>espace</td>\n",
       "      <td>150000</td>\n",
       "      <td>1</td>\n",
       "      <td>other</td>\n",
       "      <td>renault</td>\n",
       "      <td>no info</td>\n",
       "      <td>2016-03-28</td>\n",
       "      <td>0</td>\n",
       "      <td>26169</td>\n",
       "      <td>2016-04-01</td>\n",
       "    </tr>\n",
       "    <tr>\n",
       "      <th>245776</th>\n",
       "      <td>2016-03-17</td>\n",
       "      <td>0</td>\n",
       "      <td>sedan</td>\n",
       "      <td>2002</td>\n",
       "      <td>auto</td>\n",
       "      <td>0</td>\n",
       "      <td>other</td>\n",
       "      <td>150000</td>\n",
       "      <td>3</td>\n",
       "      <td>petrol</td>\n",
       "      <td>sonstige_autos</td>\n",
       "      <td>no info</td>\n",
       "      <td>2016-03-17</td>\n",
       "      <td>0</td>\n",
       "      <td>88484</td>\n",
       "      <td>2016-03-23</td>\n",
       "    </tr>\n",
       "    <tr>\n",
       "      <th>126741</th>\n",
       "      <td>2016-03-19</td>\n",
       "      <td>2700</td>\n",
       "      <td>bus</td>\n",
       "      <td>2005</td>\n",
       "      <td>manual</td>\n",
       "      <td>0</td>\n",
       "      <td>berlingo</td>\n",
       "      <td>150000</td>\n",
       "      <td>1</td>\n",
       "      <td>gasoline</td>\n",
       "      <td>citroen</td>\n",
       "      <td>no</td>\n",
       "      <td>2016-03-19</td>\n",
       "      <td>0</td>\n",
       "      <td>56567</td>\n",
       "      <td>2016-04-06</td>\n",
       "    </tr>\n",
       "    <tr>\n",
       "      <th>264925</th>\n",
       "      <td>2016-03-22</td>\n",
       "      <td>6155</td>\n",
       "      <td>bus</td>\n",
       "      <td>2006</td>\n",
       "      <td>manual</td>\n",
       "      <td>0</td>\n",
       "      <td>touran</td>\n",
       "      <td>150000</td>\n",
       "      <td>10</td>\n",
       "      <td>gasoline</td>\n",
       "      <td>volkswagen</td>\n",
       "      <td>no</td>\n",
       "      <td>2016-03-22</td>\n",
       "      <td>0</td>\n",
       "      <td>94094</td>\n",
       "      <td>2016-03-22</td>\n",
       "    </tr>\n",
       "  </tbody>\n",
       "</table>\n",
       "</div>"
      ],
      "text/plain": [
       "       DateCrawled  Price  VehicleType  RegistrationYear Gearbox  Power  \\\n",
       "72071   2016-03-11   1500  convertible              2001  manual      0   \n",
       "250106  2016-03-18   1900        other              2005  manual      0   \n",
       "7760    2016-03-28   4400          suv              2001  manual      0   \n",
       "210744  2016-03-25   2900        other              2009  manual      0   \n",
       "57145   2016-04-01    150        other              2000  manual      0   \n",
       "19208   2016-03-27   1399        small              2004  manual      0   \n",
       "283264  2016-03-28   1750        other              2017  manual      0   \n",
       "245776  2016-03-17      0        sedan              2002    auto      0   \n",
       "126741  2016-03-19   2700          bus              2005  manual      0   \n",
       "264925  2016-03-22   6155          bus              2006  manual      0   \n",
       "\n",
       "           Model  Kilometer  RegistrationMonth  FuelType           Brand  \\\n",
       "72071   mx_reihe     150000                  8    petrol           mazda   \n",
       "250106    zafira     150000                  5  gasoline            opel   \n",
       "7760       jimny     125000                  8    petrol          suzuki   \n",
       "210744     matiz      40000                  9     other       chevrolet   \n",
       "57145      punto     150000                 10    petrol            fiat   \n",
       "19208      punto     125000                  5    petrol            fiat   \n",
       "283264    espace     150000                  1     other         renault   \n",
       "245776     other     150000                  3    petrol  sonstige_autos   \n",
       "126741  berlingo     150000                  1  gasoline         citroen   \n",
       "264925    touran     150000                 10  gasoline      volkswagen   \n",
       "\n",
       "       Repaired DateCreated  NumberOfPictures  PostalCode   LastSeen  \n",
       "72071   no info  2016-03-11                 0       45886 2016-03-11  \n",
       "250106       no  2016-03-18                 0       82431 2016-04-05  \n",
       "7760    no info  2016-03-28                 0       86922 2016-04-07  \n",
       "210744  no info  2016-03-25                 0       45327 2016-04-06  \n",
       "57145   no info  2016-04-01                 0       94163 2016-04-05  \n",
       "19208        no  2016-03-27                 0       13357 2016-04-01  \n",
       "283264  no info  2016-03-28                 0       26169 2016-04-01  \n",
       "245776  no info  2016-03-17                 0       88484 2016-03-23  \n",
       "126741       no  2016-03-19                 0       56567 2016-04-06  \n",
       "264925       no  2016-03-22                 0       94094 2016-03-22  "
      ]
     },
     "execution_count": 37,
     "metadata": {},
     "output_type": "execute_result"
    }
   ],
   "source": [
    "df[(df['Power']<40)].sample(10)"
   ]
  },
  {
   "cell_type": "markdown",
   "metadata": {
    "id": "XRyixtq7lHLv"
   },
   "source": [
    "По некоторым объектам можно предположить, что аномально большое значение мощности появилось потому, что ошибочно вместо мощности в колонку вписан объём двигателя. По остальным объектам объяснить причину таких больших значений мощности, как, например, 15033, затруднительно. Также по имеющимся данным затруднительно предположить причины, по которым в столбце мощность имеются значения меньше 40 л.с. Заменим все значения мощности менее 40 л.с., а также значения более 450 л.с. медианным значением мощности для таких же марки и модели. Медиану будем определять по обучающей выборке."
   ]
  },
  {
   "cell_type": "code",
   "execution_count": 38,
   "metadata": {
    "ExecuteTime": {
     "end_time": "2023-07-15T10:18:45.546526Z",
     "start_time": "2023-07-15T10:18:45.429176Z"
    },
    "id": "Fjl9_Ds1wClE"
   },
   "outputs": [],
   "source": [
    "# Заменим аномальные значения мощности медианным значением по автомобилям таких же марки и модели\n",
    "# Медиану будем определять среди объектов только обучающей выборки, у которых мощность больше 0 и менее 450.\n",
    "df['filled_by_train'] = df[df.index.isin(train_index)&((df['Power']>=40)&(df['Power']<=450))]['Power']\n",
    "df['filled_by_train'] = df['filled_by_train'].fillna(df.groupby(['Brand', 'Model'], group_keys=True, dropna=True)['filled_by_train'].transform('median'))\n",
    "# Оставшиеся незаполненными значения заполним медианой по автомобилям такой же марки\n",
    "df['filled_by_train'] = round(df['filled_by_train'].fillna(df.groupby(['Brand'], group_keys=True, dropna=True)['filled_by_train'].transform('median')))\n",
    "\n",
    "# Заменим аномальные значения в исходном столбце\n",
    "df.loc[(df['Power']<40)|(df['Power']>450), 'Power'] = df.loc[(df['Power']<40)|(df['Power']>450), 'filled_by_train']\n",
    "df['Power'] = df['Power'].astype('int')\n",
    "# Удалим временный столбец\n",
    "df = df.drop(['filled_by_train'], axis=1)"
   ]
  },
  {
   "cell_type": "code",
   "execution_count": 39,
   "metadata": {
    "ExecuteTime": {
     "end_time": "2023-07-15T10:18:45.564168Z",
     "start_time": "2023-07-15T10:18:45.547526Z"
    },
    "colab": {
     "base_uri": "https://localhost:8080/"
    },
    "id": "I0yxa03gwClM",
    "outputId": "36929cbf-3352-417a-eee4-dee4e6cdc2fe"
   },
   "outputs": [
    {
     "data": {
      "text/plain": [
       "count    354365.000000\n",
       "mean        118.996320\n",
       "std          51.688714\n",
       "min          40.000000\n",
       "25%          75.000000\n",
       "50%         110.000000\n",
       "75%         147.000000\n",
       "max         450.000000\n",
       "Name: Power, dtype: float64"
      ]
     },
     "execution_count": 39,
     "metadata": {},
     "output_type": "execute_result"
    }
   ],
   "source": [
    "# Проверим, что получилось\n",
    "df['Power'].describe()"
   ]
  },
  {
   "cell_type": "markdown",
   "metadata": {
    "id": "S5rsnpcs1C7w"
   },
   "source": [
    "Аномалии из столбца с мощностью убрали"
   ]
  },
  {
   "cell_type": "code",
   "execution_count": 40,
   "metadata": {
    "ExecuteTime": {
     "end_time": "2023-07-15T10:18:45.595422Z",
     "start_time": "2023-07-15T10:18:45.565169Z"
    },
    "colab": {
     "base_uri": "https://localhost:8080/",
     "height": 269
    },
    "id": "eCJnRE941W4Z",
    "outputId": "f664e22a-5b44-47f9-d495-e42422b64417"
   },
   "outputs": [
    {
     "data": {
      "text/html": [
       "<div>\n",
       "<style scoped>\n",
       "    .dataframe tbody tr th:only-of-type {\n",
       "        vertical-align: middle;\n",
       "    }\n",
       "\n",
       "    .dataframe tbody tr th {\n",
       "        vertical-align: top;\n",
       "    }\n",
       "\n",
       "    .dataframe thead th {\n",
       "        text-align: right;\n",
       "    }\n",
       "</style>\n",
       "<table border=\"1\" class=\"dataframe\">\n",
       "  <thead>\n",
       "    <tr style=\"text-align: right;\">\n",
       "      <th></th>\n",
       "      <th>DateCreated</th>\n",
       "      <th>DateCrawled</th>\n",
       "      <th>LastSeen</th>\n",
       "    </tr>\n",
       "  </thead>\n",
       "  <tbody>\n",
       "    <tr>\n",
       "      <th>count</th>\n",
       "      <td>354365</td>\n",
       "      <td>354365</td>\n",
       "      <td>354365</td>\n",
       "    </tr>\n",
       "    <tr>\n",
       "      <th>mean</th>\n",
       "      <td>2016-03-20 19:12:06.583042560</td>\n",
       "      <td>2016-03-20 21:16:57.354422784</td>\n",
       "      <td>2016-03-29 11:28:30.788594176</td>\n",
       "    </tr>\n",
       "    <tr>\n",
       "      <th>min</th>\n",
       "      <td>2014-03-10 00:00:00</td>\n",
       "      <td>2016-03-05 00:00:00</td>\n",
       "      <td>2016-03-05 00:00:00</td>\n",
       "    </tr>\n",
       "    <tr>\n",
       "      <th>25%</th>\n",
       "      <td>2016-03-13 00:00:00</td>\n",
       "      <td>2016-03-13 00:00:00</td>\n",
       "      <td>2016-03-23 00:00:00</td>\n",
       "    </tr>\n",
       "    <tr>\n",
       "      <th>50%</th>\n",
       "      <td>2016-03-21 00:00:00</td>\n",
       "      <td>2016-03-21 00:00:00</td>\n",
       "      <td>2016-04-03 00:00:00</td>\n",
       "    </tr>\n",
       "    <tr>\n",
       "      <th>75%</th>\n",
       "      <td>2016-03-29 00:00:00</td>\n",
       "      <td>2016-03-29 00:00:00</td>\n",
       "      <td>2016-04-06 00:00:00</td>\n",
       "    </tr>\n",
       "    <tr>\n",
       "      <th>max</th>\n",
       "      <td>2016-04-07 00:00:00</td>\n",
       "      <td>2016-04-07 00:00:00</td>\n",
       "      <td>2016-04-07 00:00:00</td>\n",
       "    </tr>\n",
       "  </tbody>\n",
       "</table>\n",
       "</div>"
      ],
      "text/plain": [
       "                         DateCreated                    DateCrawled  \\\n",
       "count                         354365                         354365   \n",
       "mean   2016-03-20 19:12:06.583042560  2016-03-20 21:16:57.354422784   \n",
       "min              2014-03-10 00:00:00            2016-03-05 00:00:00   \n",
       "25%              2016-03-13 00:00:00            2016-03-13 00:00:00   \n",
       "50%              2016-03-21 00:00:00            2016-03-21 00:00:00   \n",
       "75%              2016-03-29 00:00:00            2016-03-29 00:00:00   \n",
       "max              2016-04-07 00:00:00            2016-04-07 00:00:00   \n",
       "\n",
       "                            LastSeen  \n",
       "count                         354365  \n",
       "mean   2016-03-29 11:28:30.788594176  \n",
       "min              2016-03-05 00:00:00  \n",
       "25%              2016-03-23 00:00:00  \n",
       "50%              2016-04-03 00:00:00  \n",
       "75%              2016-04-06 00:00:00  \n",
       "max              2016-04-07 00:00:00  "
      ]
     },
     "execution_count": 40,
     "metadata": {},
     "output_type": "execute_result"
    }
   ],
   "source": [
    "# Изучим столбцы DateCrawled, DateCreated, LastSeen\n",
    "df[['DateCreated', 'DateCrawled', 'LastSeen']].describe()"
   ]
  },
  {
   "cell_type": "code",
   "execution_count": 41,
   "metadata": {
    "ExecuteTime": {
     "end_time": "2023-07-15T10:18:48.175258Z",
     "start_time": "2023-07-15T10:18:45.596810Z"
    },
    "colab": {
     "base_uri": "https://localhost:8080/",
     "height": 828
    },
    "id": "El9j8JqG2EAx",
    "outputId": "816b87ac-a6b3-4e35-f279-76976cd088e5"
   },
   "outputs": [
    {
     "data": {
      "image/png": "[encoded data removed]",
      "text/plain": [
       "<Figure size 1200x800 with 6 Axes>"
      ]
     },
     "metadata": {},
     "output_type": "display_data"
    }
   ],
   "source": [
    "# Посмотрим, на сколько дней отличаются значения в рассматриваемых столбцах\n",
    "fig = plt.figure(figsize=(12, 8),\n",
    "                 constrained_layout=True)\n",
    "gs = fig.add_gridspec(2, 3)\n",
    "\n",
    "# Слева вверху построим распределение даты создания анкеты.\n",
    "f_ax1 = fig.add_subplot(gs[0, 0])\n",
    "f_ax1.set_title('Распределение даты \\n создания анкеты')\n",
    "f_ax1.set_ylabel('Дата создания анкеты', fontsize='x-large')\n",
    "f_ax1.set_xlabel('Количество объектов', fontsize='medium')\n",
    "f_ax1.grid(visible=True, which='both', axis='both', color='grey', linewidth = 0.5, linestyle = '--')\n",
    "f_ax1.set_xscale('log')\n",
    "f_ax1.hist(df['DateCreated'], bins=100, orientation='horizontal')\n",
    "\n",
    "# Посередине вверху построим распределение даты скачивания анкеты из базы.\n",
    "f_ax2 = fig.add_subplot(gs[0, 1])\n",
    "f_ax2.set_title('Распределение даты \\n скачивания анкеты из базы')\n",
    "# f_ax2.set_ylabel('Дата скачивания анкеты из базы', fontsize='x-large')\n",
    "f_ax2.set_xlabel('Количество объектов', fontsize='medium')\n",
    "f_ax2.grid(visible=True, which='both', axis='both', color='grey', linewidth = 0.5, linestyle = '--')\n",
    "f_ax2.set_xscale('log')\n",
    "f_ax2.hist(df['DateCrawled'], bins=100, orientation='horizontal')\n",
    "\n",
    "# Справа вверху построим распределение даты последней активности пользователя.\n",
    "f_ax3 = fig.add_subplot(gs[0, 2])\n",
    "f_ax3.set_title('Распределение даты последней \\n активности пользователя')\n",
    "#f_ax3.set_ylabel('Дата последней активности пользователя', fontsize='x-large')\n",
    "f_ax3.set_xlabel('Количество объектов', fontsize='medium')\n",
    "f_ax3.grid(visible=True, which='both', axis='both', color='grey', linewidth = 0.5, linestyle = '--')\n",
    "f_ax3.set_xscale('log')\n",
    "f_ax3.hist(df['LastSeen'], bins=100, orientation='horizontal')\n",
    "\n",
    "# Слева внизу построим распределение разницы в днях между датой скачивания анкеты из\n",
    "# базы и датой создания анкеты.\n",
    "f_ax4 = fig.add_subplot(gs[1, 0])\n",
    "f_ax4.set_title('Распределение разницы в днях \\n между датой скачивания анкеты из \\n базы и датой создания анкеты')\n",
    "f_ax4.set_xlabel('Разница в днях', fontsize='medium')\n",
    "f_ax4.set_ylabel('Количество объектов', fontsize='x-large')\n",
    "f_ax4.grid(visible=True, which='both', axis='both', color='grey', linewidth = 0.5, linestyle = '--')\n",
    "f_ax4.set_yscale('log')\n",
    "f_ax4.hist(((df['DateCrawled'] - df['DateCreated']).dt.days), bins=93)\n",
    "\n",
    "# Посередине внизу построим распределение разницы в днях между датой последней активности\n",
    "# пользователя и датой скачивания анкеты из базы.\n",
    "f_ax5 = fig.add_subplot(gs[1, 1])\n",
    "f_ax5.set_title('Распределение разницы в днях \\n между датой последней активности \\n пользователя и датой создания анкеты')\n",
    "f_ax5.set_xlabel('Разница в днях', fontsize='medium')\n",
    "# f_ax5.set_ylabel('Количество объектов', fontsize='x-large')\n",
    "f_ax5.grid(visible=True, which='both', axis='both', color='grey', linewidth = 0.5, linestyle = '--')\n",
    "f_ax5.set_yscale('log')\n",
    "f_ax5.hist(((df['LastSeen'] - df['DateCreated']).dt.days), bins=109)\n",
    "\n",
    "# Справа внизу построим распределение разницы в днях между датой последней активности\n",
    "# пользователя и датой скачивания анкеты из базы.\n",
    "f_ax6 = fig.add_subplot(gs[1, 2])\n",
    "f_ax6.set_title('Распределение разницы в днях между \\n  датой последней активности пользователя \\n и датой скачивания анкеты из базы')\n",
    "f_ax6.set_xlabel('Разница в днях', fontsize='medium')\n",
    "# f_ax6.set_ylabel('Количество объектов', fontsize='x-large')\n",
    "f_ax6.grid(visible=True, which='both', axis='both', color='grey', linewidth = 0.5, linestyle = '--')\n",
    "f_ax6.set_yscale('log')\n",
    "f_ax6.hist(((df['LastSeen'] - df['DateCrawled']).dt.days), bins=35)\n",
    "\n",
    "plt.show()"
   ]
  },
  {
   "cell_type": "markdown",
   "metadata": {
    "id": "ryxrMOlqMDF3"
   },
   "source": [
    "Видно, что анкеты скачивались из базы в течение месяца с 05.03.2016 по 05.04.2016 г. В этот же промежуток времени попадает и последняя активность пользователей, за исключением одного объекта, по которому последняя активность наблюдалась до скачивания анкеты из базы. С точки зрения предсказания цены дата скачивания нам не интересна, тем более для подавляющего большинства объектов дата скачивания анкеты из базы и дата создания анкеты не оличаются более, чем на несколько дней. Удалим столбец с датой скачивания анкеты из базы."
   ]
  },
  {
   "cell_type": "code",
   "execution_count": 42,
   "metadata": {
    "ExecuteTime": {
     "end_time": "2023-07-15T10:18:48.213154Z",
     "start_time": "2023-07-15T10:18:48.176258Z"
    },
    "id": "z0q46FhxNM6k"
   },
   "outputs": [],
   "source": [
    "df=df.drop(['DateCrawled'], axis=1)"
   ]
  },
  {
   "cell_type": "code",
   "execution_count": 43,
   "metadata": {
    "ExecuteTime": {
     "end_time": "2023-07-15T10:18:48.228239Z",
     "start_time": "2023-07-15T10:18:48.214155Z"
    },
    "colab": {
     "base_uri": "https://localhost:8080/"
    },
    "id": "kKxiqnmyOnpK",
    "outputId": "f984c6d9-b48a-4bbf-d131-2947cc6b4841"
   },
   "outputs": [
    {
     "data": {
      "text/plain": [
       "count    354365.0\n",
       "mean          0.0\n",
       "std           0.0\n",
       "min           0.0\n",
       "25%           0.0\n",
       "50%           0.0\n",
       "75%           0.0\n",
       "max           0.0\n",
       "Name: NumberOfPictures, dtype: float64"
      ]
     },
     "execution_count": 43,
     "metadata": {},
     "output_type": "execute_result"
    }
   ],
   "source": [
    "# Изучим столбец NumberOfPictures\n",
    "df['NumberOfPictures'].describe()"
   ]
  },
  {
   "cell_type": "code",
   "execution_count": 44,
   "metadata": {
    "ExecuteTime": {
     "end_time": "2023-07-15T10:18:48.264092Z",
     "start_time": "2023-07-15T10:18:48.229241Z"
    },
    "id": "LCiA8r1OPEtL"
   },
   "outputs": [],
   "source": [
    "# Столбец NumberOfPictures не несёт никакой информации, поэтому удалим его\n",
    "df = df.drop(['NumberOfPictures'], axis=1)"
   ]
  },
  {
   "cell_type": "code",
   "execution_count": 45,
   "metadata": {
    "ExecuteTime": {
     "end_time": "2023-07-15T10:18:48.296025Z",
     "start_time": "2023-07-15T10:18:48.265094Z"
    },
    "id": "AmaqnwfkVgXU"
   },
   "outputs": [],
   "source": [
    "# Столбец PostalCode с точки зрения предсказания цены сам по себе не несёт\n",
    "# ценной информации, а данных для трансформирования данного признака в\n",
    "# географическое местоположение продавца у нас в наличии нет, поэтому удалим его\n",
    "df = df.drop(['PostalCode'], axis=1)"
   ]
  },
  {
   "cell_type": "code",
   "execution_count": 46,
   "metadata": {
    "ExecuteTime": {
     "end_time": "2023-07-15T10:18:48.311650Z",
     "start_time": "2023-07-15T10:18:48.296025Z"
    },
    "colab": {
     "base_uri": "https://localhost:8080/"
    },
    "id": "vQrsfBH1WWiP",
    "outputId": "759e1036-ac9b-44a5-8031-9dca6ea76f9e"
   },
   "outputs": [
    {
     "data": {
      "text/plain": [
       "count    354365.000000\n",
       "mean       4416.679830\n",
       "std        4514.176349\n",
       "min           0.000000\n",
       "25%        1050.000000\n",
       "50%        2700.000000\n",
       "75%        6400.000000\n",
       "max       20000.000000\n",
       "Name: Price, dtype: float64"
      ]
     },
     "execution_count": 46,
     "metadata": {},
     "output_type": "execute_result"
    }
   ],
   "source": [
    "# Изучим столбец с целевым признаком Price\n",
    "df['Price'].describe()"
   ]
  },
  {
   "cell_type": "code",
   "execution_count": 47,
   "metadata": {
    "ExecuteTime": {
     "end_time": "2023-07-15T10:18:48.595274Z",
     "start_time": "2023-07-15T10:18:48.313141Z"
    },
    "colab": {
     "base_uri": "https://localhost:8080/",
     "height": 565
    },
    "id": "Gc3iiae5WtUa",
    "outputId": "8a4bb907-2115-4d3a-b3ad-774b29b3c043"
   },
   "outputs": [
    {
     "data": {
      "image/png": "[encoded data removed]",
      "text/plain": [
       "<Figure size 1400x600 with 2 Axes>"
      ]
     },
     "metadata": {},
     "output_type": "display_data"
    }
   ],
   "source": [
    "# Построим диаграмму размаха (boxplot) и гистограмму\n",
    "# Настроим внешний вид области построения\n",
    "fig, ax = plt.subplots(ncols=1, nrows=2,\n",
    "                       figsize=(14, 6),\n",
    "                       sharex=True,\n",
    "                       gridspec_kw={'height_ratios': (.2, .8)})\n",
    "ax[0].spines['top'].set_visible(False)\n",
    "ax[0].spines['right'].set_visible(False)\n",
    "ax[0].spines['left'].set_visible(False)\n",
    "ax[0].tick_params(axis='y', left=False, labelleft=False)\n",
    "ax[1].grid(color='gray', linewidth = 0.5, linestyle = '--')\n",
    "ax[1].set_xticks(np.arange(0, 20000, 1000))\n",
    "ax[0].set_title('Диаграмма размаха и гистограмма по цене (Price)', fontsize=14)\n",
    "ax[1].set_xlabel('Цена, евро')\n",
    "ax[1].set_ylabel('Количество объектов')\n",
    "\n",
    "# Построим сами диаграммы\n",
    "ax[0].boxplot(df[~(df['Price'].isna())]['Price'], vert=False, showmeans=True)\n",
    "ax[1].hist(df['Price'], bins=20)\n",
    "plt.show()"
   ]
  },
  {
   "cell_type": "code",
   "execution_count": 48,
   "metadata": {
    "ExecuteTime": {
     "end_time": "2023-07-15T10:18:48.620138Z",
     "start_time": "2023-07-15T10:18:48.596275Z"
    },
    "colab": {
     "base_uri": "https://localhost:8080/"
    },
    "id": "FvRjXqGtXOP8",
    "outputId": "6d3c6434-cdf6-461d-f36e-5dc4dbc5c5ce"
   },
   "outputs": [
    {
     "name": "stdout",
     "output_type": "stream",
     "text": [
      "Объектов с нулевой ценой: 10772, 0.03\n"
     ]
    }
   ],
   "source": [
    "print('Объектов с нулевой ценой: ', df[df['Price']==0]['Price'].count(), ', ', round(df[df['Price']==0]['Price'].count()/df.shape[0], 3), sep='')"
   ]
  },
  {
   "cell_type": "code",
   "execution_count": 49,
   "metadata": {
    "ExecuteTime": {
     "end_time": "2023-07-15T10:18:48.649433Z",
     "start_time": "2023-07-15T10:18:48.621290Z"
    },
    "colab": {
     "base_uri": "https://localhost:8080/",
     "height": 520
    },
    "id": "zvL1rjSWYhwV",
    "outputId": "89d02706-05ff-4a0c-e9dd-fe008d044d40"
   },
   "outputs": [
    {
     "data": {
      "text/html": [
       "<div>\n",
       "<style scoped>\n",
       "    .dataframe tbody tr th:only-of-type {\n",
       "        vertical-align: middle;\n",
       "    }\n",
       "\n",
       "    .dataframe tbody tr th {\n",
       "        vertical-align: top;\n",
       "    }\n",
       "\n",
       "    .dataframe thead th {\n",
       "        text-align: right;\n",
       "    }\n",
       "</style>\n",
       "<table border=\"1\" class=\"dataframe\">\n",
       "  <thead>\n",
       "    <tr style=\"text-align: right;\">\n",
       "      <th></th>\n",
       "      <th>Price</th>\n",
       "      <th>VehicleType</th>\n",
       "      <th>RegistrationYear</th>\n",
       "      <th>Gearbox</th>\n",
       "      <th>Power</th>\n",
       "      <th>Model</th>\n",
       "      <th>Kilometer</th>\n",
       "      <th>RegistrationMonth</th>\n",
       "      <th>FuelType</th>\n",
       "      <th>Brand</th>\n",
       "      <th>Repaired</th>\n",
       "      <th>DateCreated</th>\n",
       "      <th>LastSeen</th>\n",
       "    </tr>\n",
       "  </thead>\n",
       "  <tbody>\n",
       "    <tr>\n",
       "      <th>48920</th>\n",
       "      <td>0</td>\n",
       "      <td>wagon</td>\n",
       "      <td>1999</td>\n",
       "      <td>manual</td>\n",
       "      <td>109</td>\n",
       "      <td>focus</td>\n",
       "      <td>150000</td>\n",
       "      <td>1</td>\n",
       "      <td>petrol</td>\n",
       "      <td>ford</td>\n",
       "      <td>no info</td>\n",
       "      <td>2016-03-15</td>\n",
       "      <td>2016-03-16</td>\n",
       "    </tr>\n",
       "    <tr>\n",
       "      <th>313521</th>\n",
       "      <td>0</td>\n",
       "      <td>sedan</td>\n",
       "      <td>2007</td>\n",
       "      <td>manual</td>\n",
       "      <td>306</td>\n",
       "      <td>3er</td>\n",
       "      <td>125000</td>\n",
       "      <td>10</td>\n",
       "      <td>petrol</td>\n",
       "      <td>bmw</td>\n",
       "      <td>no</td>\n",
       "      <td>2016-04-05</td>\n",
       "      <td>2016-04-05</td>\n",
       "    </tr>\n",
       "    <tr>\n",
       "      <th>296909</th>\n",
       "      <td>0</td>\n",
       "      <td>sedan</td>\n",
       "      <td>2015</td>\n",
       "      <td>manual</td>\n",
       "      <td>136</td>\n",
       "      <td>3er</td>\n",
       "      <td>20000</td>\n",
       "      <td>10</td>\n",
       "      <td>petrol</td>\n",
       "      <td>bmw</td>\n",
       "      <td>no info</td>\n",
       "      <td>2016-03-09</td>\n",
       "      <td>2016-03-15</td>\n",
       "    </tr>\n",
       "    <tr>\n",
       "      <th>211138</th>\n",
       "      <td>0</td>\n",
       "      <td>other</td>\n",
       "      <td>2000</td>\n",
       "      <td>manual</td>\n",
       "      <td>54</td>\n",
       "      <td>corsa</td>\n",
       "      <td>150000</td>\n",
       "      <td>6</td>\n",
       "      <td>petrol</td>\n",
       "      <td>opel</td>\n",
       "      <td>no info</td>\n",
       "      <td>2016-03-24</td>\n",
       "      <td>2016-04-05</td>\n",
       "    </tr>\n",
       "    <tr>\n",
       "      <th>215924</th>\n",
       "      <td>0</td>\n",
       "      <td>small</td>\n",
       "      <td>1997</td>\n",
       "      <td>manual</td>\n",
       "      <td>54</td>\n",
       "      <td>corsa</td>\n",
       "      <td>150000</td>\n",
       "      <td>6</td>\n",
       "      <td>petrol</td>\n",
       "      <td>opel</td>\n",
       "      <td>no info</td>\n",
       "      <td>2016-04-04</td>\n",
       "      <td>2016-04-06</td>\n",
       "    </tr>\n",
       "    <tr>\n",
       "      <th>176979</th>\n",
       "      <td>0</td>\n",
       "      <td>other</td>\n",
       "      <td>2013</td>\n",
       "      <td>manual</td>\n",
       "      <td>98</td>\n",
       "      <td>other</td>\n",
       "      <td>60000</td>\n",
       "      <td>4</td>\n",
       "      <td>other</td>\n",
       "      <td>citroen</td>\n",
       "      <td>no info</td>\n",
       "      <td>2016-03-25</td>\n",
       "      <td>2016-03-28</td>\n",
       "    </tr>\n",
       "    <tr>\n",
       "      <th>97605</th>\n",
       "      <td>0</td>\n",
       "      <td>sedan</td>\n",
       "      <td>1999</td>\n",
       "      <td>manual</td>\n",
       "      <td>125</td>\n",
       "      <td>toledo</td>\n",
       "      <td>150000</td>\n",
       "      <td>12</td>\n",
       "      <td>petrol</td>\n",
       "      <td>seat</td>\n",
       "      <td>no</td>\n",
       "      <td>2016-03-17</td>\n",
       "      <td>2016-03-20</td>\n",
       "    </tr>\n",
       "    <tr>\n",
       "      <th>17478</th>\n",
       "      <td>0</td>\n",
       "      <td>sedan</td>\n",
       "      <td>2001</td>\n",
       "      <td>manual</td>\n",
       "      <td>101</td>\n",
       "      <td>focus</td>\n",
       "      <td>150000</td>\n",
       "      <td>6</td>\n",
       "      <td>lpg</td>\n",
       "      <td>ford</td>\n",
       "      <td>no</td>\n",
       "      <td>2016-03-17</td>\n",
       "      <td>2016-04-07</td>\n",
       "    </tr>\n",
       "    <tr>\n",
       "      <th>27590</th>\n",
       "      <td>0</td>\n",
       "      <td>other</td>\n",
       "      <td>2005</td>\n",
       "      <td>manual</td>\n",
       "      <td>140</td>\n",
       "      <td>other</td>\n",
       "      <td>150000</td>\n",
       "      <td>8</td>\n",
       "      <td>other</td>\n",
       "      <td>suzuki</td>\n",
       "      <td>no</td>\n",
       "      <td>2016-03-17</td>\n",
       "      <td>2016-03-19</td>\n",
       "    </tr>\n",
       "    <tr>\n",
       "      <th>150634</th>\n",
       "      <td>0</td>\n",
       "      <td>other</td>\n",
       "      <td>2014</td>\n",
       "      <td>manual</td>\n",
       "      <td>148</td>\n",
       "      <td>other</td>\n",
       "      <td>5000</td>\n",
       "      <td>9</td>\n",
       "      <td>other</td>\n",
       "      <td>sonstige_autos</td>\n",
       "      <td>no info</td>\n",
       "      <td>2016-03-23</td>\n",
       "      <td>2016-04-06</td>\n",
       "    </tr>\n",
       "    <tr>\n",
       "      <th>299327</th>\n",
       "      <td>0</td>\n",
       "      <td>other</td>\n",
       "      <td>1995</td>\n",
       "      <td>manual</td>\n",
       "      <td>101</td>\n",
       "      <td>golf</td>\n",
       "      <td>150000</td>\n",
       "      <td>6</td>\n",
       "      <td>other</td>\n",
       "      <td>volkswagen</td>\n",
       "      <td>no info</td>\n",
       "      <td>2016-04-03</td>\n",
       "      <td>2016-04-03</td>\n",
       "    </tr>\n",
       "    <tr>\n",
       "      <th>176490</th>\n",
       "      <td>0</td>\n",
       "      <td>other</td>\n",
       "      <td>2000</td>\n",
       "      <td>manual</td>\n",
       "      <td>101</td>\n",
       "      <td>golf</td>\n",
       "      <td>150000</td>\n",
       "      <td>6</td>\n",
       "      <td>gasoline</td>\n",
       "      <td>volkswagen</td>\n",
       "      <td>no info</td>\n",
       "      <td>2016-03-07</td>\n",
       "      <td>2016-03-07</td>\n",
       "    </tr>\n",
       "    <tr>\n",
       "      <th>217417</th>\n",
       "      <td>0</td>\n",
       "      <td>small</td>\n",
       "      <td>2001</td>\n",
       "      <td>manual</td>\n",
       "      <td>75</td>\n",
       "      <td>clio</td>\n",
       "      <td>150000</td>\n",
       "      <td>4</td>\n",
       "      <td>other</td>\n",
       "      <td>renault</td>\n",
       "      <td>no info</td>\n",
       "      <td>2016-03-31</td>\n",
       "      <td>2016-04-06</td>\n",
       "    </tr>\n",
       "    <tr>\n",
       "      <th>21969</th>\n",
       "      <td>0</td>\n",
       "      <td>suv</td>\n",
       "      <td>1999</td>\n",
       "      <td>auto</td>\n",
       "      <td>218</td>\n",
       "      <td>m_klasse</td>\n",
       "      <td>150000</td>\n",
       "      <td>6</td>\n",
       "      <td>petrol</td>\n",
       "      <td>mercedes_benz</td>\n",
       "      <td>no info</td>\n",
       "      <td>2016-03-24</td>\n",
       "      <td>2016-03-28</td>\n",
       "    </tr>\n",
       "    <tr>\n",
       "      <th>2328</th>\n",
       "      <td>0</td>\n",
       "      <td>other</td>\n",
       "      <td>2018</td>\n",
       "      <td>manual</td>\n",
       "      <td>109</td>\n",
       "      <td>other</td>\n",
       "      <td>150000</td>\n",
       "      <td>12</td>\n",
       "      <td>petrol</td>\n",
       "      <td>peugeot</td>\n",
       "      <td>no info</td>\n",
       "      <td>2016-03-25</td>\n",
       "      <td>2016-03-28</td>\n",
       "    </tr>\n",
       "  </tbody>\n",
       "</table>\n",
       "</div>"
      ],
      "text/plain": [
       "        Price VehicleType  RegistrationYear Gearbox  Power     Model  \\\n",
       "48920       0       wagon              1999  manual    109     focus   \n",
       "313521      0       sedan              2007  manual    306       3er   \n",
       "296909      0       sedan              2015  manual    136       3er   \n",
       "211138      0       other              2000  manual     54     corsa   \n",
       "215924      0       small              1997  manual     54     corsa   \n",
       "176979      0       other              2013  manual     98     other   \n",
       "97605       0       sedan              1999  manual    125    toledo   \n",
       "17478       0       sedan              2001  manual    101     focus   \n",
       "27590       0       other              2005  manual    140     other   \n",
       "150634      0       other              2014  manual    148     other   \n",
       "299327      0       other              1995  manual    101      golf   \n",
       "176490      0       other              2000  manual    101      golf   \n",
       "217417      0       small              2001  manual     75      clio   \n",
       "21969       0         suv              1999    auto    218  m_klasse   \n",
       "2328        0       other              2018  manual    109     other   \n",
       "\n",
       "        Kilometer  RegistrationMonth  FuelType           Brand Repaired  \\\n",
       "48920      150000                  1    petrol            ford  no info   \n",
       "313521     125000                 10    petrol             bmw       no   \n",
       "296909      20000                 10    petrol             bmw  no info   \n",
       "211138     150000                  6    petrol            opel  no info   \n",
       "215924     150000                  6    petrol            opel  no info   \n",
       "176979      60000                  4     other         citroen  no info   \n",
       "97605      150000                 12    petrol            seat       no   \n",
       "17478      150000                  6       lpg            ford       no   \n",
       "27590      150000                  8     other          suzuki       no   \n",
       "150634       5000                  9     other  sonstige_autos  no info   \n",
       "299327     150000                  6     other      volkswagen  no info   \n",
       "176490     150000                  6  gasoline      volkswagen  no info   \n",
       "217417     150000                  4     other         renault  no info   \n",
       "21969      150000                  6    petrol   mercedes_benz  no info   \n",
       "2328       150000                 12    petrol         peugeot  no info   \n",
       "\n",
       "       DateCreated   LastSeen  \n",
       "48920   2016-03-15 2016-03-16  \n",
       "313521  2016-04-05 2016-04-05  \n",
       "296909  2016-03-09 2016-03-15  \n",
       "211138  2016-03-24 2016-04-05  \n",
       "215924  2016-04-04 2016-04-06  \n",
       "176979  2016-03-25 2016-03-28  \n",
       "97605   2016-03-17 2016-03-20  \n",
       "17478   2016-03-17 2016-04-07  \n",
       "27590   2016-03-17 2016-03-19  \n",
       "150634  2016-03-23 2016-04-06  \n",
       "299327  2016-04-03 2016-04-03  \n",
       "176490  2016-03-07 2016-03-07  \n",
       "217417  2016-03-31 2016-04-06  \n",
       "21969   2016-03-24 2016-03-28  \n",
       "2328    2016-03-25 2016-03-28  "
      ]
     },
     "execution_count": 49,
     "metadata": {},
     "output_type": "execute_result"
    }
   ],
   "source": [
    "df[df['Price']==0].sample(15)"
   ]
  },
  {
   "cell_type": "markdown",
   "metadata": {
    "id": "49aSo5UjYyAv"
   },
   "source": [
    "В столбце с ценой имеются подозрительные значения (низкая цена), например, 0 евро. Удалим нулевые значения, поскольку пользователю модели предсказание цены ноль евро не потребуется."
   ]
  },
  {
   "cell_type": "code",
   "execution_count": 50,
   "metadata": {
    "ExecuteTime": {
     "end_time": "2023-07-15T10:18:48.712855Z",
     "start_time": "2023-07-15T10:18:48.650434Z"
    }
   },
   "outputs": [],
   "source": [
    "df = df[df['Price']!=0].copy()"
   ]
  },
  {
   "cell_type": "markdown",
   "metadata": {
    "id": "JhSgfLVEZhJJ"
   },
   "source": [
    "### Разработка новых синтетических признаков"
   ]
  },
  {
   "cell_type": "code",
   "execution_count": 51,
   "metadata": {
    "ExecuteTime": {
     "end_time": "2023-07-15T10:18:48.723672Z",
     "start_time": "2023-07-15T10:18:48.713856Z"
    },
    "id": "yoxVlH7WaL1b"
   },
   "outputs": [],
   "source": [
    "# На основе данных в столбцах LastSeen и DateCreated создадим столбец с длительностью\n",
    "# интервала между созданием анкеты и последней активностью пользователя в днях.\n",
    "df['blank_age'] = (df['LastSeen'] - df['DateCreated']).dt.days"
   ]
  },
  {
   "cell_type": "code",
   "execution_count": 52,
   "metadata": {
    "ExecuteTime": {
     "end_time": "2023-07-15T10:18:48.739793Z",
     "start_time": "2023-07-15T10:18:48.723672Z"
    },
    "colab": {
     "base_uri": "https://localhost:8080/"
    },
    "id": "ArdzTgUCdpG9",
    "outputId": "e11d9696-132a-4ccf-c6ea-de0bd1a424f2"
   },
   "outputs": [
    {
     "data": {
      "text/plain": [
       "count    343593.000000\n",
       "mean          8.723327\n",
       "std           8.654754\n",
       "min           0.000000\n",
       "25%           2.000000\n",
       "50%           6.000000\n",
       "75%          13.000000\n",
       "max         759.000000\n",
       "Name: blank_age, dtype: float64"
      ]
     },
     "execution_count": 52,
     "metadata": {},
     "output_type": "execute_result"
    }
   ],
   "source": [
    "# Посмотрим статистики данных в полученном столбце\n",
    "df['blank_age'].describe()"
   ]
  },
  {
   "cell_type": "code",
   "execution_count": 53,
   "metadata": {
    "ExecuteTime": {
     "end_time": "2023-07-15T10:18:48.768111Z",
     "start_time": "2023-07-15T10:18:48.740794Z"
    },
    "id": "TJ1HbUzDbHoN"
   },
   "outputs": [],
   "source": [
    "# Сами по себе столбцы LastSeen, DateCreated с точки зрения предсказания цены\n",
    "# информации не несут, поэтому удалим их\n",
    "df = df.drop(['LastSeen', 'DateCreated'], axis=1)"
   ]
  },
  {
   "cell_type": "code",
   "execution_count": 54,
   "metadata": {
    "ExecuteTime": {
     "end_time": "2023-07-15T10:18:48.828769Z",
     "start_time": "2023-07-15T10:18:48.769271Z"
    },
    "colab": {
     "base_uri": "https://localhost:8080/"
    },
    "id": "VVzfflsbaShT",
    "outputId": "f3650edb-3137-45ca-f52a-6d3e0603ac24"
   },
   "outputs": [
    {
     "name": "stdout",
     "output_type": "stream",
     "text": [
      "<class 'pandas.core.frame.DataFrame'>\n",
      "Index: 343593 entries, 0 to 354368\n",
      "Data columns (total 12 columns):\n",
      " #   Column             Non-Null Count   Dtype \n",
      "---  ------             --------------   ----- \n",
      " 0   Price              343593 non-null  int64 \n",
      " 1   VehicleType        343593 non-null  object\n",
      " 2   RegistrationYear   343593 non-null  int64 \n",
      " 3   Gearbox            343593 non-null  object\n",
      " 4   Power              343593 non-null  int32 \n",
      " 5   Model              343593 non-null  object\n",
      " 6   Kilometer          343593 non-null  int64 \n",
      " 7   RegistrationMonth  343593 non-null  int32 \n",
      " 8   FuelType           343593 non-null  object\n",
      " 9   Brand              343593 non-null  object\n",
      " 10  Repaired           343593 non-null  object\n",
      " 11  blank_age          343593 non-null  int64 \n",
      "dtypes: int32(2), int64(4), object(6)\n",
      "memory usage: 31.5+ MB\n"
     ]
    }
   ],
   "source": [
    "# Посмотрим сведения о датасете после всех изменений\n",
    "df.info()"
   ]
  },
  {
   "cell_type": "markdown",
   "metadata": {
    "id": "yFzSCiFwpbWO"
   },
   "source": [
    "### Подготовка данных для моделей"
   ]
  },
  {
   "cell_type": "code",
   "execution_count": 55,
   "metadata": {
    "ExecuteTime": {
     "end_time": "2023-07-15T10:18:48.880049Z",
     "start_time": "2023-07-15T10:18:48.829768Z"
    },
    "id": "3975JHaJqU-O"
   },
   "outputs": [],
   "source": [
    "# Обновим переменные с обучающей и тестовой выборками\n",
    "train = df[df.index.isin(train_index)].copy()\n",
    "test = df[df.index.isin(test_index)].copy()"
   ]
  },
  {
   "cell_type": "code",
   "execution_count": 56,
   "metadata": {
    "ExecuteTime": {
     "end_time": "2023-07-15T10:18:48.895411Z",
     "start_time": "2023-07-15T10:18:48.880049Z"
    },
    "colab": {
     "base_uri": "https://localhost:8080/"
    },
    "id": "T0Ra7OEKCYTs",
    "outputId": "a572a75e-91e9-49f7-bbe9-0a701aa4990a"
   },
   "outputs": [
    {
     "data": {
      "text/plain": [
       "Index(['Price', 'VehicleType', 'RegistrationYear', 'Gearbox', 'Power', 'Model',\n",
       "       'Kilometer', 'RegistrationMonth', 'FuelType', 'Brand', 'Repaired',\n",
       "       'blank_age'],\n",
       "      dtype='object')"
      ]
     },
     "execution_count": 56,
     "metadata": {},
     "output_type": "execute_result"
    }
   ],
   "source": [
    "train.columns"
   ]
  },
  {
   "cell_type": "code",
   "execution_count": 57,
   "metadata": {
    "ExecuteTime": {
     "end_time": "2023-07-15T10:18:48.911339Z",
     "start_time": "2023-07-15T10:18:48.895714Z"
    },
    "id": "APbc99BopfT2"
   },
   "outputs": [],
   "source": [
    "# Разделим признаки\n",
    "X = ['VehicleType', 'RegistrationYear', 'Gearbox', 'Power', 'Model',\n",
    "       'Kilometer', 'RegistrationMonth', 'FuelType', 'Brand', 'Repaired',\n",
    "       'blank_age']\n",
    "y = ['Price']"
   ]
  },
  {
   "cell_type": "code",
   "execution_count": 58,
   "metadata": {
    "ExecuteTime": {
     "end_time": "2023-07-15T10:18:48.944785Z",
     "start_time": "2023-07-15T10:18:48.912462Z"
    },
    "colab": {
     "base_uri": "https://localhost:8080/"
    },
    "id": "1i4B7SZopf5e",
    "outputId": "9e521d63-f525-4542-928d-6f3019f49ed9"
   },
   "outputs": [
    {
     "data": {
      "text/plain": [
       "['VehicleType', 'Gearbox', 'Model', 'FuelType', 'Brand', 'Repaired']"
      ]
     },
     "execution_count": 58,
     "metadata": {},
     "output_type": "execute_result"
    }
   ],
   "source": [
    "# Составим список категориальных признаков\n",
    "cat_features = train[X].select_dtypes(include='object').columns.to_list()\n",
    "cat_features"
   ]
  },
  {
   "cell_type": "code",
   "execution_count": 59,
   "metadata": {
    "ExecuteTime": {
     "end_time": "2023-07-15T10:18:48.961546Z",
     "start_time": "2023-07-15T10:18:48.945920Z"
    },
    "colab": {
     "base_uri": "https://localhost:8080/"
    },
    "id": "z-dflRoGsKlH",
    "outputId": "d3fb3125-f434-4869-fac8-093dd5e8f3a6"
   },
   "outputs": [
    {
     "data": {
      "text/plain": [
       "['RegistrationYear', 'Kilometer', 'blank_age']"
      ]
     },
     "execution_count": 59,
     "metadata": {},
     "output_type": "execute_result"
    }
   ],
   "source": [
    "# Составим список числовых признаков\n",
    "numeric = train[X].select_dtypes(include=['int64']).columns.to_list()\n",
    "numeric"
   ]
  },
  {
   "cell_type": "markdown",
   "metadata": {
    "id": "5sKea4EZrqYn"
   },
   "source": [
    "#### Кодирование признаков для линейной регрессии"
   ]
  },
  {
   "cell_type": "code",
   "execution_count": 60,
   "metadata": {
    "ExecuteTime": {
     "end_time": "2023-07-15T10:18:49.830014Z",
     "start_time": "2023-07-15T10:18:48.962523Z"
    },
    "colab": {
     "base_uri": "https://localhost:8080/"
    },
    "id": "Ubodl0DGpgNe",
    "outputId": "9bf4e1d7-3e84-4bd6-8825-401a31952c1e"
   },
   "outputs": [
    {
     "name": "stdout",
     "output_type": "stream",
     "text": [
      "features_train_ohe_scaled (274926, 307)\n",
      "features_test_ohe_scaled (68667, 307)\n"
     ]
    },
    {
     "name": "stderr",
     "output_type": "stream",
     "text": [
      "C:\\Users\\Дмитрий\\AppData\\Roaming\\Python\\Python310\\site-packages\\sklearn\\preprocessing\\_encoders.py:188: UserWarning: Found unknown categories in columns [2] during transform. These unknown categories will be encoded as all zeros\n",
      "  warnings.warn(\n"
     ]
    }
   ],
   "source": [
    "# drop='first' удаляет первый признак из закодированных:\n",
    "# таким образом обходим dummy-ловушку\n",
    "# задаём handle_unknown='ignore':\n",
    "# игнорируется ранее невстречающиеся значения признака (при transform)\n",
    "encoder_ohe = OneHotEncoder(drop='first', handle_unknown='ignore', sparse=False)\n",
    "\n",
    "# обучаем энкодер на заданных категориальных признаках тренировочной выборки\n",
    "encoder_ohe.fit(train[cat_features])\n",
    "\n",
    "# добавляем закодированные признаки в train\n",
    "# encoder_ohe.get_feature_names_out() позволяет получить названия колонок\n",
    "features_train_ohe_scaled = train[X].copy()\n",
    "transformed_features = pd.DataFrame(encoder_ohe.transform(features_train_ohe_scaled[cat_features]),\n",
    "                                    columns = encoder_ohe.get_feature_names_out(),\n",
    "                                    index=train.index)\n",
    "features_train_ohe_scaled = pd.concat([features_train_ohe_scaled, transformed_features], axis=1)\n",
    "\n",
    "# удаляем незакодированные категориальные признаки (изначальные колонки)\n",
    "features_train_ohe_scaled = features_train_ohe_scaled.drop(cat_features, axis=1)\n",
    "\n",
    "# Аналогичные преобразования с подготовленным на обучающей выборке энкодером выполним для тестовой выборки\n",
    "features_test_ohe_scaled = test[X].copy()\n",
    "transformed_features = pd.DataFrame(encoder_ohe.transform(features_test_ohe_scaled[cat_features]),\n",
    "                                    columns = encoder_ohe.get_feature_names_out(),\n",
    "                                    index=test.index)\n",
    "features_test_ohe_scaled = pd.concat([features_test_ohe_scaled, transformed_features], axis=1)\n",
    "features_test_ohe_scaled = features_test_ohe_scaled.drop(cat_features, axis=1)\n",
    "\n",
    "# Проверим результаты\n",
    "print('features_train_ohe_scaled', features_train_ohe_scaled.shape)\n",
    "print('features_test_ohe_scaled', features_test_ohe_scaled.shape)"
   ]
  },
  {
   "cell_type": "markdown",
   "metadata": {
    "id": "odes80JWxg9v"
   },
   "source": [
    "#### Масштабирование числовых признаков для линейной регрессии"
   ]
  },
  {
   "cell_type": "code",
   "execution_count": 61,
   "metadata": {
    "ExecuteTime": {
     "end_time": "2023-07-15T10:18:49.845431Z",
     "start_time": "2023-07-15T10:18:49.830014Z"
    },
    "id": "5HjLX46ypgee"
   },
   "outputs": [],
   "source": [
    "# Выполним масштабирование числовых признаков\n",
    "scaler = MinMaxScaler()\n",
    "scaler.fit(train[numeric])\n",
    "features_train_ohe_scaled[numeric] = scaler.transform(features_train_ohe_scaled[numeric])\n",
    "\n",
    "# C подготовленным на обучающей выборке скалером выполним масштабирование признаков тестовой выборки\n",
    "features_test_ohe_scaled[numeric] = scaler.transform(features_test_ohe_scaled[numeric])"
   ]
  },
  {
   "cell_type": "code",
   "execution_count": 62,
   "metadata": {
    "ExecuteTime": {
     "end_time": "2023-07-15T10:18:49.878029Z",
     "start_time": "2023-07-15T10:18:49.845774Z"
    },
    "colab": {
     "base_uri": "https://localhost:8080/",
     "height": 471
    },
    "id": "IRqPtYBL0eje",
    "outputId": "a5bdf9ba-61fb-4b14-8ab3-3136ad11513c"
   },
   "outputs": [
    {
     "data": {
      "text/html": [
       "<div>\n",
       "<style scoped>\n",
       "    .dataframe tbody tr th:only-of-type {\n",
       "        vertical-align: middle;\n",
       "    }\n",
       "\n",
       "    .dataframe tbody tr th {\n",
       "        vertical-align: top;\n",
       "    }\n",
       "\n",
       "    .dataframe thead th {\n",
       "        text-align: right;\n",
       "    }\n",
       "</style>\n",
       "<table border=\"1\" class=\"dataframe\">\n",
       "  <thead>\n",
       "    <tr style=\"text-align: right;\">\n",
       "      <th></th>\n",
       "      <th>RegistrationYear</th>\n",
       "      <th>Power</th>\n",
       "      <th>Kilometer</th>\n",
       "      <th>RegistrationMonth</th>\n",
       "      <th>blank_age</th>\n",
       "      <th>VehicleType_convertible</th>\n",
       "      <th>VehicleType_coupe</th>\n",
       "      <th>VehicleType_other</th>\n",
       "      <th>VehicleType_sedan</th>\n",
       "      <th>VehicleType_small</th>\n",
       "      <th>...</th>\n",
       "      <th>Brand_smart</th>\n",
       "      <th>Brand_sonstige_autos</th>\n",
       "      <th>Brand_subaru</th>\n",
       "      <th>Brand_suzuki</th>\n",
       "      <th>Brand_toyota</th>\n",
       "      <th>Brand_trabant</th>\n",
       "      <th>Brand_volkswagen</th>\n",
       "      <th>Brand_volvo</th>\n",
       "      <th>Repaired_no info</th>\n",
       "      <th>Repaired_yes</th>\n",
       "    </tr>\n",
       "  </thead>\n",
       "  <tbody>\n",
       "    <tr>\n",
       "      <th>0</th>\n",
       "      <td>0.235294</td>\n",
       "      <td>101</td>\n",
       "      <td>1.000000</td>\n",
       "      <td>6</td>\n",
       "      <td>0.018445</td>\n",
       "      <td>0.0</td>\n",
       "      <td>0.0</td>\n",
       "      <td>1.0</td>\n",
       "      <td>0.0</td>\n",
       "      <td>0.0</td>\n",
       "      <td>...</td>\n",
       "      <td>0.0</td>\n",
       "      <td>0.0</td>\n",
       "      <td>0.0</td>\n",
       "      <td>0.0</td>\n",
       "      <td>0.0</td>\n",
       "      <td>0.0</td>\n",
       "      <td>1.0</td>\n",
       "      <td>0.0</td>\n",
       "      <td>1.0</td>\n",
       "      <td>0.0</td>\n",
       "    </tr>\n",
       "    <tr>\n",
       "      <th>1</th>\n",
       "      <td>0.764706</td>\n",
       "      <td>190</td>\n",
       "      <td>0.827586</td>\n",
       "      <td>5</td>\n",
       "      <td>0.018445</td>\n",
       "      <td>0.0</td>\n",
       "      <td>1.0</td>\n",
       "      <td>0.0</td>\n",
       "      <td>0.0</td>\n",
       "      <td>0.0</td>\n",
       "      <td>...</td>\n",
       "      <td>0.0</td>\n",
       "      <td>0.0</td>\n",
       "      <td>0.0</td>\n",
       "      <td>0.0</td>\n",
       "      <td>0.0</td>\n",
       "      <td>0.0</td>\n",
       "      <td>0.0</td>\n",
       "      <td>0.0</td>\n",
       "      <td>0.0</td>\n",
       "      <td>1.0</td>\n",
       "    </tr>\n",
       "    <tr>\n",
       "      <th>2</th>\n",
       "      <td>0.558824</td>\n",
       "      <td>163</td>\n",
       "      <td>0.827586</td>\n",
       "      <td>8</td>\n",
       "      <td>0.028986</td>\n",
       "      <td>0.0</td>\n",
       "      <td>0.0</td>\n",
       "      <td>0.0</td>\n",
       "      <td>0.0</td>\n",
       "      <td>0.0</td>\n",
       "      <td>...</td>\n",
       "      <td>0.0</td>\n",
       "      <td>0.0</td>\n",
       "      <td>0.0</td>\n",
       "      <td>0.0</td>\n",
       "      <td>0.0</td>\n",
       "      <td>0.0</td>\n",
       "      <td>0.0</td>\n",
       "      <td>0.0</td>\n",
       "      <td>1.0</td>\n",
       "      <td>0.0</td>\n",
       "    </tr>\n",
       "  </tbody>\n",
       "</table>\n",
       "<p>3 rows × 307 columns</p>\n",
       "</div>"
      ],
      "text/plain": [
       "   RegistrationYear  Power  Kilometer  RegistrationMonth  blank_age  \\\n",
       "0          0.235294    101   1.000000                  6   0.018445   \n",
       "1          0.764706    190   0.827586                  5   0.018445   \n",
       "2          0.558824    163   0.827586                  8   0.028986   \n",
       "\n",
       "   VehicleType_convertible  VehicleType_coupe  VehicleType_other  \\\n",
       "0                      0.0                0.0                1.0   \n",
       "1                      0.0                1.0                0.0   \n",
       "2                      0.0                0.0                0.0   \n",
       "\n",
       "   VehicleType_sedan  VehicleType_small  ...  Brand_smart  \\\n",
       "0                0.0                0.0  ...          0.0   \n",
       "1                0.0                0.0  ...          0.0   \n",
       "2                0.0                0.0  ...          0.0   \n",
       "\n",
       "   Brand_sonstige_autos  Brand_subaru  Brand_suzuki  Brand_toyota  \\\n",
       "0                   0.0           0.0           0.0           0.0   \n",
       "1                   0.0           0.0           0.0           0.0   \n",
       "2                   0.0           0.0           0.0           0.0   \n",
       "\n",
       "   Brand_trabant  Brand_volkswagen  Brand_volvo  Repaired_no info  \\\n",
       "0            0.0               1.0          0.0               1.0   \n",
       "1            0.0               0.0          0.0               0.0   \n",
       "2            0.0               0.0          0.0               1.0   \n",
       "\n",
       "   Repaired_yes  \n",
       "0           0.0  \n",
       "1           1.0  \n",
       "2           0.0  \n",
       "\n",
       "[3 rows x 307 columns]"
      ]
     },
     "metadata": {},
     "output_type": "display_data"
    },
    {
     "data": {
      "text/html": [
       "<div>\n",
       "<style scoped>\n",
       "    .dataframe tbody tr th:only-of-type {\n",
       "        vertical-align: middle;\n",
       "    }\n",
       "\n",
       "    .dataframe tbody tr th {\n",
       "        vertical-align: top;\n",
       "    }\n",
       "\n",
       "    .dataframe thead th {\n",
       "        text-align: right;\n",
       "    }\n",
       "</style>\n",
       "<table border=\"1\" class=\"dataframe\">\n",
       "  <thead>\n",
       "    <tr style=\"text-align: right;\">\n",
       "      <th></th>\n",
       "      <th>RegistrationYear</th>\n",
       "      <th>Power</th>\n",
       "      <th>Kilometer</th>\n",
       "      <th>RegistrationMonth</th>\n",
       "      <th>blank_age</th>\n",
       "      <th>VehicleType_convertible</th>\n",
       "      <th>VehicleType_coupe</th>\n",
       "      <th>VehicleType_other</th>\n",
       "      <th>VehicleType_sedan</th>\n",
       "      <th>VehicleType_small</th>\n",
       "      <th>...</th>\n",
       "      <th>Brand_smart</th>\n",
       "      <th>Brand_sonstige_autos</th>\n",
       "      <th>Brand_subaru</th>\n",
       "      <th>Brand_suzuki</th>\n",
       "      <th>Brand_toyota</th>\n",
       "      <th>Brand_trabant</th>\n",
       "      <th>Brand_volkswagen</th>\n",
       "      <th>Brand_volvo</th>\n",
       "      <th>Repaired_no info</th>\n",
       "      <th>Repaired_yes</th>\n",
       "    </tr>\n",
       "  </thead>\n",
       "  <tbody>\n",
       "    <tr>\n",
       "      <th>15</th>\n",
       "      <td>0.470588</td>\n",
       "      <td>60</td>\n",
       "      <td>0.0</td>\n",
       "      <td>5</td>\n",
       "      <td>0.010540</td>\n",
       "      <td>0.0</td>\n",
       "      <td>0.0</td>\n",
       "      <td>0.0</td>\n",
       "      <td>0.0</td>\n",
       "      <td>1.0</td>\n",
       "      <td>...</td>\n",
       "      <td>0.0</td>\n",
       "      <td>0.0</td>\n",
       "      <td>0.0</td>\n",
       "      <td>0.0</td>\n",
       "      <td>0.0</td>\n",
       "      <td>0.0</td>\n",
       "      <td>0.0</td>\n",
       "      <td>0.0</td>\n",
       "      <td>1.0</td>\n",
       "      <td>0.0</td>\n",
       "    </tr>\n",
       "    <tr>\n",
       "      <th>21</th>\n",
       "      <td>0.500000</td>\n",
       "      <td>231</td>\n",
       "      <td>1.0</td>\n",
       "      <td>7</td>\n",
       "      <td>0.014493</td>\n",
       "      <td>0.0</td>\n",
       "      <td>0.0</td>\n",
       "      <td>0.0</td>\n",
       "      <td>1.0</td>\n",
       "      <td>0.0</td>\n",
       "      <td>...</td>\n",
       "      <td>0.0</td>\n",
       "      <td>0.0</td>\n",
       "      <td>0.0</td>\n",
       "      <td>0.0</td>\n",
       "      <td>0.0</td>\n",
       "      <td>0.0</td>\n",
       "      <td>0.0</td>\n",
       "      <td>0.0</td>\n",
       "      <td>0.0</td>\n",
       "      <td>0.0</td>\n",
       "    </tr>\n",
       "    <tr>\n",
       "      <th>24</th>\n",
       "      <td>0.147059</td>\n",
       "      <td>118</td>\n",
       "      <td>1.0</td>\n",
       "      <td>10</td>\n",
       "      <td>0.000000</td>\n",
       "      <td>0.0</td>\n",
       "      <td>0.0</td>\n",
       "      <td>0.0</td>\n",
       "      <td>1.0</td>\n",
       "      <td>0.0</td>\n",
       "      <td>...</td>\n",
       "      <td>0.0</td>\n",
       "      <td>0.0</td>\n",
       "      <td>0.0</td>\n",
       "      <td>0.0</td>\n",
       "      <td>0.0</td>\n",
       "      <td>0.0</td>\n",
       "      <td>0.0</td>\n",
       "      <td>0.0</td>\n",
       "      <td>0.0</td>\n",
       "      <td>1.0</td>\n",
       "    </tr>\n",
       "  </tbody>\n",
       "</table>\n",
       "<p>3 rows × 307 columns</p>\n",
       "</div>"
      ],
      "text/plain": [
       "    RegistrationYear  Power  Kilometer  RegistrationMonth  blank_age  \\\n",
       "15          0.470588     60        0.0                  5   0.010540   \n",
       "21          0.500000    231        1.0                  7   0.014493   \n",
       "24          0.147059    118        1.0                 10   0.000000   \n",
       "\n",
       "    VehicleType_convertible  VehicleType_coupe  VehicleType_other  \\\n",
       "15                      0.0                0.0                0.0   \n",
       "21                      0.0                0.0                0.0   \n",
       "24                      0.0                0.0                0.0   \n",
       "\n",
       "    VehicleType_sedan  VehicleType_small  ...  Brand_smart  \\\n",
       "15                0.0                1.0  ...          0.0   \n",
       "21                1.0                0.0  ...          0.0   \n",
       "24                1.0                0.0  ...          0.0   \n",
       "\n",
       "    Brand_sonstige_autos  Brand_subaru  Brand_suzuki  Brand_toyota  \\\n",
       "15                   0.0           0.0           0.0           0.0   \n",
       "21                   0.0           0.0           0.0           0.0   \n",
       "24                   0.0           0.0           0.0           0.0   \n",
       "\n",
       "    Brand_trabant  Brand_volkswagen  Brand_volvo  Repaired_no info  \\\n",
       "15            0.0               0.0          0.0               1.0   \n",
       "21            0.0               0.0          0.0               0.0   \n",
       "24            0.0               0.0          0.0               0.0   \n",
       "\n",
       "    Repaired_yes  \n",
       "15           0.0  \n",
       "21           0.0  \n",
       "24           1.0  \n",
       "\n",
       "[3 rows x 307 columns]"
      ]
     },
     "metadata": {},
     "output_type": "display_data"
    }
   ],
   "source": [
    "# Посмотрим первые строки выборок после преобразований\n",
    "display (features_train_ohe_scaled.head(3))\n",
    "display (features_test_ohe_scaled.head(3))"
   ]
  },
  {
   "cell_type": "markdown",
   "metadata": {
    "id": "GTIbtSlo0vJn"
   },
   "source": [
    "#### Кодирование категориальных признаков для моделей на основе решающего дерева"
   ]
  },
  {
   "cell_type": "markdown",
   "metadata": {
    "id": "5Uu3m2R93ou3"
   },
   "source": [
    "Признаки для моделей на основе решающего дерева закодируем двумя способами - с применением ordinal encoder и target encoder."
   ]
  },
  {
   "cell_type": "code",
   "execution_count": 63,
   "metadata": {
    "ExecuteTime": {
     "end_time": "2023-07-15T10:18:50.202875Z",
     "start_time": "2023-07-15T10:18:49.879207Z"
    },
    "colab": {
     "base_uri": "https://localhost:8080/"
    },
    "id": "khrgFSuj0uHG",
    "outputId": "6d3d1126-35ad-45ba-eb21-2fd760d19055"
   },
   "outputs": [
    {
     "name": "stdout",
     "output_type": "stream",
     "text": [
      "features_train_ordinal (274926, 11)\n",
      "features_test_ordinal (68667, 11)\n"
     ]
    }
   ],
   "source": [
    "# задаём handle_unknown='use_encoded_value':\n",
    "# ранее невстречающиеся значения признака (при transform) кодируются значением -1\n",
    "encoder_ordinal = OrdinalEncoder(handle_unknown='use_encoded_value', unknown_value=-1)\n",
    "\n",
    "# обучаем энкодер на заданных категориальных признаках тренировочной выборки\n",
    "encoder_ordinal.fit(train[cat_features])\n",
    "\n",
    "# добавляем закодированные признаки в features_train\n",
    "features_train_ordinal = train[X].copy()\n",
    "features_train_ordinal[cat_features] = pd.DataFrame(encoder_ordinal.\n",
    "                                                    transform(train[cat_features]),\n",
    "                                                    columns=cat_features,\n",
    "                                                    index=train.index)\n",
    "\n",
    "# Аналогичные преобразования с подготовленным на обучающей выборке энкодером выполним для тестовой выборки\n",
    "features_test_ordinal = test[X].copy()\n",
    "features_test_ordinal[cat_features] = pd.DataFrame(encoder_ordinal.\n",
    "                                                   transform(test[cat_features]),\n",
    "                                                   columns=cat_features,\n",
    "                                                   index=test.index)\n",
    "# Проверим результаты\n",
    "print('features_train_ordinal', features_train_ordinal.shape)\n",
    "print('features_test_ordinal', features_test_ordinal.shape)"
   ]
  },
  {
   "cell_type": "code",
   "execution_count": 64,
   "metadata": {
    "ExecuteTime": {
     "end_time": "2023-07-15T10:18:50.217168Z",
     "start_time": "2023-07-15T10:18:50.202875Z"
    },
    "colab": {
     "base_uri": "https://localhost:8080/",
     "height": 270
    },
    "id": "iL_7qrlF0skd",
    "outputId": "7202deef-9c67-4734-89d5-d6ee9dd497df"
   },
   "outputs": [
    {
     "data": {
      "text/html": [
       "<div>\n",
       "<style scoped>\n",
       "    .dataframe tbody tr th:only-of-type {\n",
       "        vertical-align: middle;\n",
       "    }\n",
       "\n",
       "    .dataframe tbody tr th {\n",
       "        vertical-align: top;\n",
       "    }\n",
       "\n",
       "    .dataframe thead th {\n",
       "        text-align: right;\n",
       "    }\n",
       "</style>\n",
       "<table border=\"1\" class=\"dataframe\">\n",
       "  <thead>\n",
       "    <tr style=\"text-align: right;\">\n",
       "      <th></th>\n",
       "      <th>VehicleType</th>\n",
       "      <th>RegistrationYear</th>\n",
       "      <th>Gearbox</th>\n",
       "      <th>Power</th>\n",
       "      <th>Model</th>\n",
       "      <th>Kilometer</th>\n",
       "      <th>RegistrationMonth</th>\n",
       "      <th>FuelType</th>\n",
       "      <th>Brand</th>\n",
       "      <th>Repaired</th>\n",
       "      <th>blank_age</th>\n",
       "    </tr>\n",
       "  </thead>\n",
       "  <tbody>\n",
       "    <tr>\n",
       "      <th>0</th>\n",
       "      <td>3.0</td>\n",
       "      <td>1993</td>\n",
       "      <td>1.0</td>\n",
       "      <td>101</td>\n",
       "      <td>116.0</td>\n",
       "      <td>150000</td>\n",
       "      <td>6</td>\n",
       "      <td>6.0</td>\n",
       "      <td>38.0</td>\n",
       "      <td>1.0</td>\n",
       "      <td>14</td>\n",
       "    </tr>\n",
       "    <tr>\n",
       "      <th>1</th>\n",
       "      <td>2.0</td>\n",
       "      <td>2011</td>\n",
       "      <td>1.0</td>\n",
       "      <td>190</td>\n",
       "      <td>166.0</td>\n",
       "      <td>125000</td>\n",
       "      <td>5</td>\n",
       "      <td>2.0</td>\n",
       "      <td>1.0</td>\n",
       "      <td>2.0</td>\n",
       "      <td>14</td>\n",
       "    </tr>\n",
       "    <tr>\n",
       "      <th>2</th>\n",
       "      <td>6.0</td>\n",
       "      <td>2004</td>\n",
       "      <td>0.0</td>\n",
       "      <td>163</td>\n",
       "      <td>117.0</td>\n",
       "      <td>125000</td>\n",
       "      <td>8</td>\n",
       "      <td>2.0</td>\n",
       "      <td>14.0</td>\n",
       "      <td>1.0</td>\n",
       "      <td>22</td>\n",
       "    </tr>\n",
       "  </tbody>\n",
       "</table>\n",
       "</div>"
      ],
      "text/plain": [
       "   VehicleType  RegistrationYear  Gearbox  Power  Model  Kilometer  \\\n",
       "0          3.0              1993      1.0    101  116.0     150000   \n",
       "1          2.0              2011      1.0    190  166.0     125000   \n",
       "2          6.0              2004      0.0    163  117.0     125000   \n",
       "\n",
       "   RegistrationMonth  FuelType  Brand  Repaired  blank_age  \n",
       "0                  6       6.0   38.0       1.0         14  \n",
       "1                  5       2.0    1.0       2.0         14  \n",
       "2                  8       2.0   14.0       1.0         22  "
      ]
     },
     "metadata": {},
     "output_type": "display_data"
    },
    {
     "data": {
      "text/html": [
       "<div>\n",
       "<style scoped>\n",
       "    .dataframe tbody tr th:only-of-type {\n",
       "        vertical-align: middle;\n",
       "    }\n",
       "\n",
       "    .dataframe tbody tr th {\n",
       "        vertical-align: top;\n",
       "    }\n",
       "\n",
       "    .dataframe thead th {\n",
       "        text-align: right;\n",
       "    }\n",
       "</style>\n",
       "<table border=\"1\" class=\"dataframe\">\n",
       "  <thead>\n",
       "    <tr style=\"text-align: right;\">\n",
       "      <th></th>\n",
       "      <th>VehicleType</th>\n",
       "      <th>RegistrationYear</th>\n",
       "      <th>Gearbox</th>\n",
       "      <th>Power</th>\n",
       "      <th>Model</th>\n",
       "      <th>Kilometer</th>\n",
       "      <th>RegistrationMonth</th>\n",
       "      <th>FuelType</th>\n",
       "      <th>Brand</th>\n",
       "      <th>Repaired</th>\n",
       "      <th>blank_age</th>\n",
       "    </tr>\n",
       "  </thead>\n",
       "  <tbody>\n",
       "    <tr>\n",
       "      <th>15</th>\n",
       "      <td>5.0</td>\n",
       "      <td>2001</td>\n",
       "      <td>1.0</td>\n",
       "      <td>60</td>\n",
       "      <td>128.0</td>\n",
       "      <td>5000</td>\n",
       "      <td>5</td>\n",
       "      <td>6.0</td>\n",
       "      <td>10.0</td>\n",
       "      <td>1.0</td>\n",
       "      <td>8</td>\n",
       "    </tr>\n",
       "    <tr>\n",
       "      <th>21</th>\n",
       "      <td>4.0</td>\n",
       "      <td>2002</td>\n",
       "      <td>1.0</td>\n",
       "      <td>231</td>\n",
       "      <td>15.0</td>\n",
       "      <td>150000</td>\n",
       "      <td>7</td>\n",
       "      <td>6.0</td>\n",
       "      <td>2.0</td>\n",
       "      <td>0.0</td>\n",
       "      <td>11</td>\n",
       "    </tr>\n",
       "    <tr>\n",
       "      <th>24</th>\n",
       "      <td>4.0</td>\n",
       "      <td>1990</td>\n",
       "      <td>0.0</td>\n",
       "      <td>118</td>\n",
       "      <td>166.0</td>\n",
       "      <td>150000</td>\n",
       "      <td>10</td>\n",
       "      <td>6.0</td>\n",
       "      <td>20.0</td>\n",
       "      <td>2.0</td>\n",
       "      <td>0</td>\n",
       "    </tr>\n",
       "  </tbody>\n",
       "</table>\n",
       "</div>"
      ],
      "text/plain": [
       "    VehicleType  RegistrationYear  Gearbox  Power  Model  Kilometer  \\\n",
       "15          5.0              2001      1.0     60  128.0       5000   \n",
       "21          4.0              2002      1.0    231   15.0     150000   \n",
       "24          4.0              1990      0.0    118  166.0     150000   \n",
       "\n",
       "    RegistrationMonth  FuelType  Brand  Repaired  blank_age  \n",
       "15                  5       6.0   10.0       1.0          8  \n",
       "21                  7       6.0    2.0       0.0         11  \n",
       "24                 10       6.0   20.0       2.0          0  "
      ]
     },
     "metadata": {},
     "output_type": "display_data"
    }
   ],
   "source": [
    "# Посмотрим первые строки выборок после преобразований\n",
    "display (features_train_ordinal.head(3))\n",
    "display (features_test_ordinal.head(3))"
   ]
  },
  {
   "cell_type": "code",
   "execution_count": 65,
   "metadata": {
    "ExecuteTime": {
     "end_time": "2023-07-15T10:18:51.460673Z",
     "start_time": "2023-07-15T10:18:50.217168Z"
    },
    "colab": {
     "base_uri": "https://localhost:8080/",
     "height": 270
    },
    "id": "Dy-spH1a0sdN",
    "outputId": "bb208cab-0378-430c-a05d-6589077a59c9"
   },
   "outputs": [
    {
     "data": {
      "text/html": [
       "<div>\n",
       "<style scoped>\n",
       "    .dataframe tbody tr th:only-of-type {\n",
       "        vertical-align: middle;\n",
       "    }\n",
       "\n",
       "    .dataframe tbody tr th {\n",
       "        vertical-align: top;\n",
       "    }\n",
       "\n",
       "    .dataframe thead th {\n",
       "        text-align: right;\n",
       "    }\n",
       "</style>\n",
       "<table border=\"1\" class=\"dataframe\">\n",
       "  <thead>\n",
       "    <tr style=\"text-align: right;\">\n",
       "      <th></th>\n",
       "      <th>VehicleType</th>\n",
       "      <th>RegistrationYear</th>\n",
       "      <th>Gearbox</th>\n",
       "      <th>Power</th>\n",
       "      <th>Model</th>\n",
       "      <th>Kilometer</th>\n",
       "      <th>RegistrationMonth</th>\n",
       "      <th>FuelType</th>\n",
       "      <th>Brand</th>\n",
       "      <th>Repaired</th>\n",
       "      <th>blank_age</th>\n",
       "    </tr>\n",
       "  </thead>\n",
       "  <tbody>\n",
       "    <tr>\n",
       "      <th>0</th>\n",
       "      <td>2730.752091</td>\n",
       "      <td>1993</td>\n",
       "      <td>3994.953763</td>\n",
       "      <td>101</td>\n",
       "      <td>4311.437716</td>\n",
       "      <td>150000</td>\n",
       "      <td>6</td>\n",
       "      <td>3853.778783</td>\n",
       "      <td>4527.097652</td>\n",
       "      <td>2831.430315</td>\n",
       "      <td>14</td>\n",
       "    </tr>\n",
       "    <tr>\n",
       "      <th>1</th>\n",
       "      <td>6198.036380</td>\n",
       "      <td>2011</td>\n",
       "      <td>3994.953763</td>\n",
       "      <td>190</td>\n",
       "      <td>4013.563021</td>\n",
       "      <td>125000</td>\n",
       "      <td>5</td>\n",
       "      <td>6688.581418</td>\n",
       "      <td>6432.522770</td>\n",
       "      <td>2024.702553</td>\n",
       "      <td>14</td>\n",
       "    </tr>\n",
       "    <tr>\n",
       "      <th>2</th>\n",
       "      <td>9181.602771</td>\n",
       "      <td>2004</td>\n",
       "      <td>6875.082248</td>\n",
       "      <td>163</td>\n",
       "      <td>6430.736018</td>\n",
       "      <td>125000</td>\n",
       "      <td>8</td>\n",
       "      <td>6688.581418</td>\n",
       "      <td>7353.678431</td>\n",
       "      <td>2831.430315</td>\n",
       "      <td>22</td>\n",
       "    </tr>\n",
       "  </tbody>\n",
       "</table>\n",
       "</div>"
      ],
      "text/plain": [
       "   VehicleType  RegistrationYear      Gearbox  Power        Model  Kilometer  \\\n",
       "0  2730.752091              1993  3994.953763    101  4311.437716     150000   \n",
       "1  6198.036380              2011  3994.953763    190  4013.563021     125000   \n",
       "2  9181.602771              2004  6875.082248    163  6430.736018     125000   \n",
       "\n",
       "   RegistrationMonth     FuelType        Brand     Repaired  blank_age  \n",
       "0                  6  3853.778783  4527.097652  2831.430315         14  \n",
       "1                  5  6688.581418  6432.522770  2024.702553         14  \n",
       "2                  8  6688.581418  7353.678431  2831.430315         22  "
      ]
     },
     "metadata": {},
     "output_type": "display_data"
    },
    {
     "data": {
      "text/html": [
       "<div>\n",
       "<style scoped>\n",
       "    .dataframe tbody tr th:only-of-type {\n",
       "        vertical-align: middle;\n",
       "    }\n",
       "\n",
       "    .dataframe tbody tr th {\n",
       "        vertical-align: top;\n",
       "    }\n",
       "\n",
       "    .dataframe thead th {\n",
       "        text-align: right;\n",
       "    }\n",
       "</style>\n",
       "<table border=\"1\" class=\"dataframe\">\n",
       "  <thead>\n",
       "    <tr style=\"text-align: right;\">\n",
       "      <th></th>\n",
       "      <th>VehicleType</th>\n",
       "      <th>RegistrationYear</th>\n",
       "      <th>Gearbox</th>\n",
       "      <th>Power</th>\n",
       "      <th>Model</th>\n",
       "      <th>Kilometer</th>\n",
       "      <th>RegistrationMonth</th>\n",
       "      <th>FuelType</th>\n",
       "      <th>Brand</th>\n",
       "      <th>Repaired</th>\n",
       "      <th>blank_age</th>\n",
       "    </tr>\n",
       "  </thead>\n",
       "  <tbody>\n",
       "    <tr>\n",
       "      <th>15</th>\n",
       "      <td>2736.537224</td>\n",
       "      <td>2001</td>\n",
       "      <td>3994.953763</td>\n",
       "      <td>60</td>\n",
       "      <td>1452.401701</td>\n",
       "      <td>5000</td>\n",
       "      <td>5</td>\n",
       "      <td>3853.778783</td>\n",
       "      <td>3261.699328</td>\n",
       "      <td>2831.430315</td>\n",
       "      <td>8</td>\n",
       "    </tr>\n",
       "    <tr>\n",
       "      <th>21</th>\n",
       "      <td>4838.071213</td>\n",
       "      <td>2002</td>\n",
       "      <td>3994.953763</td>\n",
       "      <td>231</td>\n",
       "      <td>6555.585583</td>\n",
       "      <td>150000</td>\n",
       "      <td>7</td>\n",
       "      <td>3853.778783</td>\n",
       "      <td>6350.125423</td>\n",
       "      <td>5374.259208</td>\n",
       "      <td>11</td>\n",
       "    </tr>\n",
       "    <tr>\n",
       "      <th>24</th>\n",
       "      <td>4838.071213</td>\n",
       "      <td>1990</td>\n",
       "      <td>6875.082248</td>\n",
       "      <td>118</td>\n",
       "      <td>4013.563021</td>\n",
       "      <td>150000</td>\n",
       "      <td>10</td>\n",
       "      <td>3853.778783</td>\n",
       "      <td>6032.193088</td>\n",
       "      <td>2024.702553</td>\n",
       "      <td>0</td>\n",
       "    </tr>\n",
       "  </tbody>\n",
       "</table>\n",
       "</div>"
      ],
      "text/plain": [
       "    VehicleType  RegistrationYear      Gearbox  Power        Model  Kilometer  \\\n",
       "15  2736.537224              2001  3994.953763     60  1452.401701       5000   \n",
       "21  4838.071213              2002  3994.953763    231  6555.585583     150000   \n",
       "24  4838.071213              1990  6875.082248    118  4013.563021     150000   \n",
       "\n",
       "    RegistrationMonth     FuelType        Brand     Repaired  blank_age  \n",
       "15                  5  3853.778783  3261.699328  2831.430315          8  \n",
       "21                  7  3853.778783  6350.125423  5374.259208         11  \n",
       "24                 10  3853.778783  6032.193088  2024.702553          0  "
      ]
     },
     "metadata": {},
     "output_type": "display_data"
    }
   ],
   "source": [
    "target_encoder = TargetEncoder(verbose=1, cols=cat_features, drop_invariant=False, return_df=True,\n",
    "                 handle_missing='value', handle_unknown='value', min_samples_leaf=20,\n",
    "                 smoothing=10, hierarchy=None)\n",
    "\n",
    "# обучаем энкодер на заданных категориальных признаках тренировочной выборки\n",
    "target_encoder.fit(train[cat_features], train[y])\n",
    "\n",
    "# добавляем закодированные признаки в features_train\n",
    "features_train_target = train[X].copy()\n",
    "features_train_target[cat_features] = pd.DataFrame(target_encoder.\n",
    "                                                   transform(train[cat_features]),\n",
    "                                                   columns=cat_features,\n",
    "                                                   index=train.index)\n",
    "# Аналогичные преобразования с подготовленным на обучающей выборке энкодером выполним для тестовой выборки\n",
    "features_test_target = test[X].copy()\n",
    "features_test_target[cat_features] = pd.DataFrame(target_encoder.\n",
    "                                                  transform(test[cat_features]),\n",
    "                                                  columns=cat_features,\n",
    "                                                  index=test.index)\n",
    "# Посмотрим первые строки выборок после преобразований\n",
    "display (features_train_target.head(3))\n",
    "display (features_test_target.head(3))"
   ]
  },
  {
   "cell_type": "markdown",
   "metadata": {
    "id": "k6wLCPuuPhIe"
   },
   "source": [
    "**Выводы по итогам предобработки данных.**\n",
    "\n",
    "Обработка пропусков и аномалий по признакам:\n",
    "- `DateCrawled` (дата скачивания анкеты из базы): удалён, поскольку для целей построения модели предсказания цены не несёт ценной информации,\n",
    "- `RegistrationYear` (год регистрации автомобиля): аномальные значения заменены медианой для автомобилей с таким же пробегом,\n",
    "- `RegistrationMonth` (месяц регистрации автомобиля): аномальные значения заменены медианой для автомобилей с такими же пробегом и годом регистрации, а оставшиеся пропуски заменены модой по столбцу месяц,\n",
    "- `Gearbox` (тип коробки передач): пропуски заполнены модой по автомобилям такой же марки,\n",
    "- `Power` (мощность, л. с.): аномальные значения заменены медианой для автомобилей с такими же маркой и моделью, а оставшиеся пропуски заменены модой по марке,\n",
    "- `Model` (модель автомобиля): исключён неявный дубликат, пропуски заполнены заглушкой `other`,\n",
    "- `Kilometer` (пробег, км): пропусков и аномалий нет,\n",
    "- `FuelType` (тип топлива): пропуски заполнены заглушкой `other`,\n",
    "- `Repaired` (была машина в ремонте или нет): пропуски заполнены заглушкой `no info`,\n",
    "- `VehicleType` (тип автомобильного кузова): пропуски заполнены заглушкой `other`,\n",
    "- `Brand` (марка автомобиля): пропусков и аномалий нет,\n",
    "- `DateCreated` (дата создания анкеты): пропусков и аномалий нет,\n",
    "- `NumberOfPictures` (количество фотографий автомобиля): столбец удалён, так как все значения нулевые,\n",
    "- `PostalCode`: (почтовый индекс владельца анкеты (пользователя)): столбец удалён, так как с точки зрения предсказания цены сам по себе не несёт ценной информации, а данных для трансформирования данного признака в географическое местоположение продавца у нас в наличии нет,\n",
    "- `LastSeen` (дата последней активности пользователя): пропусков и аномалий нет,\n",
    "- `Price` (цена (евро)): имеются подозрительно низкие значения цены, однако закономерностей, которые позволили бы признать такие значения ошибочными и исправить их, не выявлено.\n",
    "\n",
    "Подготовка данных для моделей:\n",
    "- выполнено кодирование категориальных признаков (OneHotEncoding) и масштабирование числовых признаков (MinMaxScaler) для линейной модели,\n",
    "- выполнено кодирование категориальных признаков для моделей на основе решающего дерева двумя способами: ordinal encoding, target encoding.\n",
    "\n",
    "Данные для моделей подготовлены, можно переходить к обучению моделей."
   ]
  },
  {
   "cell_type": "markdown",
   "metadata": {
    "id": "n-hD6muZCJFS"
   },
   "source": [
    "## Обучение моделей"
   ]
  },
  {
   "cell_type": "code",
   "execution_count": 66,
   "metadata": {
    "ExecuteTime": {
     "end_time": "2023-07-15T10:18:51.475688Z",
     "start_time": "2023-07-15T10:18:51.461685Z"
    },
    "id": "zjG4Wfxf7Vw1"
   },
   "outputs": [],
   "source": [
    "# Данные о результатах моделей сведём в таблицу\n",
    "compare_models = pd.DataFrame({'Модель':[], 'HP_1':[], 'HP_2':[], 'fit_time':[],'predict_time':[],'RMSE_mean':[]})"
   ]
  },
  {
   "cell_type": "markdown",
   "metadata": {
    "id": "s89BaJCT73CG"
   },
   "source": [
    "### Модель линейной регрессии"
   ]
  },
  {
   "cell_type": "code",
   "execution_count": 67,
   "metadata": {
    "ExecuteTime": {
     "end_time": "2023-07-15T10:19:38.343435Z",
     "start_time": "2023-07-15T10:18:51.476689Z"
    },
    "colab": {
     "base_uri": "https://localhost:8080/",
     "height": 711
    },
    "id": "y1R6joJwCJFS",
    "outputId": "a090ded3-08a6-4fc2-80f8-8a17a5b80dff"
   },
   "outputs": [
    {
     "name": "stdout",
     "output_type": "stream",
     "text": [
      "CPU times: total: 5.03 s\n",
      "Wall time: 46.9 s\n"
     ]
    },
    {
     "data": {
      "text/html": [
       "<div>\n",
       "<style scoped>\n",
       "    .dataframe tbody tr th:only-of-type {\n",
       "        vertical-align: middle;\n",
       "    }\n",
       "\n",
       "    .dataframe tbody tr th {\n",
       "        vertical-align: top;\n",
       "    }\n",
       "\n",
       "    .dataframe thead th {\n",
       "        text-align: right;\n",
       "    }\n",
       "</style>\n",
       "<table border=\"1\" class=\"dataframe\">\n",
       "  <thead>\n",
       "    <tr style=\"text-align: right;\">\n",
       "      <th></th>\n",
       "      <th>Модель</th>\n",
       "      <th>HP_1</th>\n",
       "      <th>HP_2</th>\n",
       "      <th>fit_time</th>\n",
       "      <th>predict_time</th>\n",
       "      <th>RMSE_mean</th>\n",
       "    </tr>\n",
       "  </thead>\n",
       "  <tbody>\n",
       "    <tr>\n",
       "      <th>0</th>\n",
       "      <td>Линейная регрессия</td>\n",
       "      <td>max_iter: 1000</td>\n",
       "      <td>alpha: 100</td>\n",
       "      <td>1.180406</td>\n",
       "      <td>0.109382</td>\n",
       "      <td>2533.091255</td>\n",
       "    </tr>\n",
       "    <tr>\n",
       "      <th>1</th>\n",
       "      <td>Линейная регрессия</td>\n",
       "      <td>max_iter: 1000</td>\n",
       "      <td>alpha: 10</td>\n",
       "      <td>1.021903</td>\n",
       "      <td>0.107276</td>\n",
       "      <td>2507.578073</td>\n",
       "    </tr>\n",
       "    <tr>\n",
       "      <th>2</th>\n",
       "      <td>Линейная регрессия</td>\n",
       "      <td>max_iter: 1000</td>\n",
       "      <td>alpha: 1</td>\n",
       "      <td>1.027577</td>\n",
       "      <td>0.095148</td>\n",
       "      <td>2505.024372</td>\n",
       "    </tr>\n",
       "    <tr>\n",
       "      <th>3</th>\n",
       "      <td>Линейная регрессия</td>\n",
       "      <td>max_iter: 1000</td>\n",
       "      <td>alpha: 0.1</td>\n",
       "      <td>1.007090</td>\n",
       "      <td>0.081112</td>\n",
       "      <td>2505.050959</td>\n",
       "    </tr>\n",
       "    <tr>\n",
       "      <th>4</th>\n",
       "      <td>Линейная регрессия</td>\n",
       "      <td>max_iter: 1000</td>\n",
       "      <td>alpha: 0.01</td>\n",
       "      <td>1.038420</td>\n",
       "      <td>0.096422</td>\n",
       "      <td>2505.062775</td>\n",
       "    </tr>\n",
       "    <tr>\n",
       "      <th>5</th>\n",
       "      <td>Линейная регрессия</td>\n",
       "      <td>max_iter: 11000</td>\n",
       "      <td>alpha: 100</td>\n",
       "      <td>1.000086</td>\n",
       "      <td>0.078324</td>\n",
       "      <td>2533.091255</td>\n",
       "    </tr>\n",
       "    <tr>\n",
       "      <th>6</th>\n",
       "      <td>Линейная регрессия</td>\n",
       "      <td>max_iter: 11000</td>\n",
       "      <td>alpha: 10</td>\n",
       "      <td>1.050722</td>\n",
       "      <td>0.105777</td>\n",
       "      <td>2507.578073</td>\n",
       "    </tr>\n",
       "    <tr>\n",
       "      <th>7</th>\n",
       "      <td>Линейная регрессия</td>\n",
       "      <td>max_iter: 11000</td>\n",
       "      <td>alpha: 1</td>\n",
       "      <td>1.032404</td>\n",
       "      <td>0.140633</td>\n",
       "      <td>2505.024372</td>\n",
       "    </tr>\n",
       "    <tr>\n",
       "      <th>8</th>\n",
       "      <td>Линейная регрессия</td>\n",
       "      <td>max_iter: 11000</td>\n",
       "      <td>alpha: 0.1</td>\n",
       "      <td>1.014764</td>\n",
       "      <td>0.110823</td>\n",
       "      <td>2505.050959</td>\n",
       "    </tr>\n",
       "    <tr>\n",
       "      <th>9</th>\n",
       "      <td>Линейная регрессия</td>\n",
       "      <td>max_iter: 11000</td>\n",
       "      <td>alpha: 0.01</td>\n",
       "      <td>1.010496</td>\n",
       "      <td>0.078130</td>\n",
       "      <td>2505.062775</td>\n",
       "    </tr>\n",
       "    <tr>\n",
       "      <th>10</th>\n",
       "      <td>Линейная регрессия</td>\n",
       "      <td>max_iter: 21000</td>\n",
       "      <td>alpha: 100</td>\n",
       "      <td>1.010495</td>\n",
       "      <td>0.088547</td>\n",
       "      <td>2533.091255</td>\n",
       "    </tr>\n",
       "    <tr>\n",
       "      <th>11</th>\n",
       "      <td>Линейная регрессия</td>\n",
       "      <td>max_iter: 21000</td>\n",
       "      <td>alpha: 10</td>\n",
       "      <td>1.109460</td>\n",
       "      <td>0.109383</td>\n",
       "      <td>2507.578073</td>\n",
       "    </tr>\n",
       "    <tr>\n",
       "      <th>12</th>\n",
       "      <td>Линейная регрессия</td>\n",
       "      <td>max_iter: 21000</td>\n",
       "      <td>alpha: 1</td>\n",
       "      <td>1.046697</td>\n",
       "      <td>0.093747</td>\n",
       "      <td>2505.024372</td>\n",
       "    </tr>\n",
       "    <tr>\n",
       "      <th>13</th>\n",
       "      <td>Линейная регрессия</td>\n",
       "      <td>max_iter: 21000</td>\n",
       "      <td>alpha: 0.1</td>\n",
       "      <td>1.050136</td>\n",
       "      <td>0.119801</td>\n",
       "      <td>2505.050959</td>\n",
       "    </tr>\n",
       "    <tr>\n",
       "      <th>14</th>\n",
       "      <td>Линейная регрессия</td>\n",
       "      <td>max_iter: 21000</td>\n",
       "      <td>alpha: 0.01</td>\n",
       "      <td>1.046958</td>\n",
       "      <td>0.093760</td>\n",
       "      <td>2505.062775</td>\n",
       "    </tr>\n",
       "    <tr>\n",
       "      <th>15</th>\n",
       "      <td>Линейная регрессия</td>\n",
       "      <td>max_iter: 31000</td>\n",
       "      <td>alpha: 100</td>\n",
       "      <td>1.036538</td>\n",
       "      <td>0.119801</td>\n",
       "      <td>2533.091255</td>\n",
       "    </tr>\n",
       "    <tr>\n",
       "      <th>16</th>\n",
       "      <td>Линейная регрессия</td>\n",
       "      <td>max_iter: 31000</td>\n",
       "      <td>alpha: 10</td>\n",
       "      <td>1.115422</td>\n",
       "      <td>0.062505</td>\n",
       "      <td>2507.578073</td>\n",
       "    </tr>\n",
       "    <tr>\n",
       "      <th>17</th>\n",
       "      <td>Линейная регрессия</td>\n",
       "      <td>max_iter: 31000</td>\n",
       "      <td>alpha: 1</td>\n",
       "      <td>1.104254</td>\n",
       "      <td>0.094002</td>\n",
       "      <td>2505.024372</td>\n",
       "    </tr>\n",
       "    <tr>\n",
       "      <th>18</th>\n",
       "      <td>Линейная регрессия</td>\n",
       "      <td>max_iter: 31000</td>\n",
       "      <td>alpha: 0.1</td>\n",
       "      <td>1.073000</td>\n",
       "      <td>0.093759</td>\n",
       "      <td>2505.050959</td>\n",
       "    </tr>\n",
       "    <tr>\n",
       "      <th>19</th>\n",
       "      <td>Линейная регрессия</td>\n",
       "      <td>max_iter: 31000</td>\n",
       "      <td>alpha: 0.01</td>\n",
       "      <td>1.066152</td>\n",
       "      <td>0.106052</td>\n",
       "      <td>2505.062775</td>\n",
       "    </tr>\n",
       "  </tbody>\n",
       "</table>\n",
       "</div>"
      ],
      "text/plain": [
       "                Модель             HP_1         HP_2  fit_time  predict_time  \\\n",
       "0   Линейная регрессия   max_iter: 1000   alpha: 100  1.180406      0.109382   \n",
       "1   Линейная регрессия   max_iter: 1000    alpha: 10  1.021903      0.107276   \n",
       "2   Линейная регрессия   max_iter: 1000     alpha: 1  1.027577      0.095148   \n",
       "3   Линейная регрессия   max_iter: 1000   alpha: 0.1  1.007090      0.081112   \n",
       "4   Линейная регрессия   max_iter: 1000  alpha: 0.01  1.038420      0.096422   \n",
       "5   Линейная регрессия  max_iter: 11000   alpha: 100  1.000086      0.078324   \n",
       "6   Линейная регрессия  max_iter: 11000    alpha: 10  1.050722      0.105777   \n",
       "7   Линейная регрессия  max_iter: 11000     alpha: 1  1.032404      0.140633   \n",
       "8   Линейная регрессия  max_iter: 11000   alpha: 0.1  1.014764      0.110823   \n",
       "9   Линейная регрессия  max_iter: 11000  alpha: 0.01  1.010496      0.078130   \n",
       "10  Линейная регрессия  max_iter: 21000   alpha: 100  1.010495      0.088547   \n",
       "11  Линейная регрессия  max_iter: 21000    alpha: 10  1.109460      0.109383   \n",
       "12  Линейная регрессия  max_iter: 21000     alpha: 1  1.046697      0.093747   \n",
       "13  Линейная регрессия  max_iter: 21000   alpha: 0.1  1.050136      0.119801   \n",
       "14  Линейная регрессия  max_iter: 21000  alpha: 0.01  1.046958      0.093760   \n",
       "15  Линейная регрессия  max_iter: 31000   alpha: 100  1.036538      0.119801   \n",
       "16  Линейная регрессия  max_iter: 31000    alpha: 10  1.115422      0.062505   \n",
       "17  Линейная регрессия  max_iter: 31000     alpha: 1  1.104254      0.094002   \n",
       "18  Линейная регрессия  max_iter: 31000   alpha: 0.1  1.073000      0.093759   \n",
       "19  Линейная регрессия  max_iter: 31000  alpha: 0.01  1.066152      0.106052   \n",
       "\n",
       "      RMSE_mean  \n",
       "0   2533.091255  \n",
       "1   2507.578073  \n",
       "2   2505.024372  \n",
       "3   2505.050959  \n",
       "4   2505.062775  \n",
       "5   2533.091255  \n",
       "6   2507.578073  \n",
       "7   2505.024372  \n",
       "8   2505.050959  \n",
       "9   2505.062775  \n",
       "10  2533.091255  \n",
       "11  2507.578073  \n",
       "12  2505.024372  \n",
       "13  2505.050959  \n",
       "14  2505.062775  \n",
       "15  2533.091255  \n",
       "16  2507.578073  \n",
       "17  2505.024372  \n",
       "18  2505.050959  \n",
       "19  2505.062775  "
      ]
     },
     "execution_count": 67,
     "metadata": {},
     "output_type": "execute_result"
    }
   ],
   "source": [
    "%%time\n",
    "row = 0\n",
    "# Для поиска наилучшей модели будем менять параметры модели: max_iter, alpha\n",
    "compare_models = compare_models.loc[~(compare_models['Модель']=='Линейная регрессия')]\n",
    "for max_iter in range(1000, 32000, 10000):\n",
    "    for alpha in [100, 10, 1, 0.1, 0.01]:\n",
    "        # Обучим модель линейной регресии и проверим значение RMSE\n",
    "        # путём кросс-валидации\n",
    "        model = Ridge(random_state=RANDOM_STATE, max_iter=max_iter, alpha=alpha)\n",
    "        cv_results = cross_validate(model, features_train_ohe_scaled, train[y], cv=3,\n",
    "                            scoring='neg_root_mean_squared_error', n_jobs=-1)\n",
    "        compare_models.loc[row, 'Модель'] = 'Линейная регрессия'\n",
    "        compare_models.loc[row, 'RMSE_mean'] = -cv_results['test_score'].mean()\n",
    "        compare_models.loc[row, 'HP_1'] = 'max_iter: '+ str(max_iter)\n",
    "        compare_models.loc[row, 'HP_2'] = 'alpha: '+ str(round(alpha, 2))\n",
    "        compare_models.loc[row, 'fit_time'] = cv_results['fit_time'].mean()\n",
    "        compare_models.loc[row, 'predict_time'] = cv_results['score_time'].mean()\n",
    "        row += 1\n",
    "compare_models.loc[compare_models['Модель']=='Линейная регрессия', :]"
   ]
  },
  {
   "cell_type": "markdown",
   "metadata": {
    "id": "-SniyRHyGmHe"
   },
   "source": [
    "### Модель на основе случайного леса"
   ]
  },
  {
   "cell_type": "code",
   "execution_count": 68,
   "metadata": {
    "ExecuteTime": {
     "end_time": "2023-07-15T10:22:41.739392Z",
     "start_time": "2023-07-15T10:19:38.344427Z"
    },
    "colab": {
     "base_uri": "https://localhost:8080/"
    },
    "id": "5mIOhAkoGn0V",
    "outputId": "7387260d-d200-454f-d733-81a19b4e1d81"
   },
   "outputs": [
    {
     "name": "stdout",
     "output_type": "stream",
     "text": [
      "CPU times: total: 328 ms\n",
      "Wall time: 3min 3s\n"
     ]
    }
   ],
   "source": [
    "%%time\n",
    "# Перебирая параметры n_estimators, max_depth выберем модель на основе случайного леса,\n",
    "# обеспечивающую максимальные показатели качества по итогам кросс-валидации\n",
    "compare_models = compare_models.loc[~((compare_models['Модель']=='Случайный лес ordinal')| \\\n",
    "                                     (compare_models['Модель']=='Случайный лес target'))]\n",
    "if len(compare_models.index) != 0:\n",
    "    row = max(compare_models.index)+1\n",
    "else:\n",
    "    row = 0\n",
    "for est in [25, 50, 75]:\n",
    "    for depth in [10, 20]:\n",
    "        compare_models.loc[row, 'HP_1'] = 'max_depth: '+ str(round(depth,0))\n",
    "        compare_models.loc[row, 'HP_2'] = 'n_estimators: '+ str(round(est, 0))\n",
    "        model = RandomForestRegressor(random_state=RANDOM_STATE,\n",
    "                                       n_estimators=est,\n",
    "                                       max_depth=depth)\n",
    "        cv_results_ordinal = cross_validate(model, features_train_ordinal,\n",
    "                                            train[y], cv=3,\n",
    "                            scoring='neg_root_mean_squared_error', n_jobs=-1)\n",
    "        compare_models.loc[row, 'Модель'] = 'Случайный лес ordinal'\n",
    "        compare_models.loc[row, 'RMSE_mean'] = -cv_results_ordinal['test_score'].mean()\n",
    "        compare_models.loc[row, 'fit_time'] = cv_results_ordinal['fit_time'].mean()\n",
    "        compare_models.loc[row, 'predict_time'] = cv_results_ordinal['score_time'].mean()\n",
    "        row += 1\n",
    "        compare_models.loc[row, 'HP_1'] = 'max_depth: '+ str(round(depth,0))\n",
    "        compare_models.loc[row, 'HP_2'] = 'n_estimators: '+ str(round(est, 0))\n",
    "        cv_results_target = cross_validate(model, features_train_target,\n",
    "                                           train[y], cv=3,\n",
    "                            scoring='neg_root_mean_squared_error', n_jobs=-1)\n",
    "        compare_models.loc[row, 'Модель'] = 'Случайный лес target'\n",
    "        compare_models.loc[row, 'RMSE_mean'] = -cv_results_target['test_score'].mean()\n",
    "        compare_models.loc[row, 'fit_time'] = cv_results_target['fit_time'].mean()\n",
    "        compare_models.loc[row, 'predict_time'] = cv_results_target['score_time'].mean()\n",
    "        row += 1"
   ]
  },
  {
   "cell_type": "code",
   "execution_count": 69,
   "metadata": {
    "ExecuteTime": {
     "end_time": "2023-07-15T10:22:41.754406Z",
     "start_time": "2023-07-15T10:22:41.740393Z"
    },
    "colab": {
     "base_uri": "https://localhost:8080/"
    },
    "id": "DqEZTlxOGoL9",
    "outputId": "e103fec6-be20-4059-f5ed-4db3d9dd1ca6"
   },
   "outputs": [
    {
     "data": {
      "text/html": [
       "<div>\n",
       "<style scoped>\n",
       "    .dataframe tbody tr th:only-of-type {\n",
       "        vertical-align: middle;\n",
       "    }\n",
       "\n",
       "    .dataframe tbody tr th {\n",
       "        vertical-align: top;\n",
       "    }\n",
       "\n",
       "    .dataframe thead th {\n",
       "        text-align: right;\n",
       "    }\n",
       "</style>\n",
       "<table border=\"1\" class=\"dataframe\">\n",
       "  <thead>\n",
       "    <tr style=\"text-align: right;\">\n",
       "      <th></th>\n",
       "      <th>Модель</th>\n",
       "      <th>HP_1</th>\n",
       "      <th>HP_2</th>\n",
       "      <th>fit_time</th>\n",
       "      <th>predict_time</th>\n",
       "      <th>RMSE_mean</th>\n",
       "    </tr>\n",
       "  </thead>\n",
       "  <tbody>\n",
       "    <tr>\n",
       "      <th>20</th>\n",
       "      <td>Случайный лес ordinal</td>\n",
       "      <td>max_depth: 10</td>\n",
       "      <td>n_estimators: 25</td>\n",
       "      <td>5.126878</td>\n",
       "      <td>0.225165</td>\n",
       "      <td>1973.783767</td>\n",
       "    </tr>\n",
       "    <tr>\n",
       "      <th>21</th>\n",
       "      <td>Случайный лес target</td>\n",
       "      <td>max_depth: 10</td>\n",
       "      <td>n_estimators: 25</td>\n",
       "      <td>4.988215</td>\n",
       "      <td>0.146201</td>\n",
       "      <td>1871.454636</td>\n",
       "    </tr>\n",
       "    <tr>\n",
       "      <th>22</th>\n",
       "      <td>Случайный лес ordinal</td>\n",
       "      <td>max_depth: 20</td>\n",
       "      <td>n_estimators: 25</td>\n",
       "      <td>9.379637</td>\n",
       "      <td>0.437381</td>\n",
       "      <td>1718.440235</td>\n",
       "    </tr>\n",
       "    <tr>\n",
       "      <th>23</th>\n",
       "      <td>Случайный лес target</td>\n",
       "      <td>max_depth: 20</td>\n",
       "      <td>n_estimators: 25</td>\n",
       "      <td>9.260122</td>\n",
       "      <td>0.428302</td>\n",
       "      <td>1675.187970</td>\n",
       "    </tr>\n",
       "    <tr>\n",
       "      <th>24</th>\n",
       "      <td>Случайный лес ordinal</td>\n",
       "      <td>max_depth: 10</td>\n",
       "      <td>n_estimators: 50</td>\n",
       "      <td>10.559014</td>\n",
       "      <td>0.276145</td>\n",
       "      <td>1969.224820</td>\n",
       "    </tr>\n",
       "    <tr>\n",
       "      <th>25</th>\n",
       "      <td>Случайный лес target</td>\n",
       "      <td>max_depth: 10</td>\n",
       "      <td>n_estimators: 50</td>\n",
       "      <td>10.013197</td>\n",
       "      <td>0.272804</td>\n",
       "      <td>1867.103174</td>\n",
       "    </tr>\n",
       "    <tr>\n",
       "      <th>26</th>\n",
       "      <td>Случайный лес ordinal</td>\n",
       "      <td>max_depth: 20</td>\n",
       "      <td>n_estimators: 50</td>\n",
       "      <td>18.808790</td>\n",
       "      <td>0.871146</td>\n",
       "      <td>1702.874437</td>\n",
       "    </tr>\n",
       "    <tr>\n",
       "      <th>27</th>\n",
       "      <td>Случайный лес target</td>\n",
       "      <td>max_depth: 20</td>\n",
       "      <td>n_estimators: 50</td>\n",
       "      <td>18.365839</td>\n",
       "      <td>0.813218</td>\n",
       "      <td>1658.993767</td>\n",
       "    </tr>\n",
       "    <tr>\n",
       "      <th>28</th>\n",
       "      <td>Случайный лес ordinal</td>\n",
       "      <td>max_depth: 10</td>\n",
       "      <td>n_estimators: 75</td>\n",
       "      <td>15.036650</td>\n",
       "      <td>0.419714</td>\n",
       "      <td>1967.987138</td>\n",
       "    </tr>\n",
       "    <tr>\n",
       "      <th>29</th>\n",
       "      <td>Случайный лес target</td>\n",
       "      <td>max_depth: 10</td>\n",
       "      <td>n_estimators: 75</td>\n",
       "      <td>15.519203</td>\n",
       "      <td>0.412041</td>\n",
       "      <td>1866.250201</td>\n",
       "    </tr>\n",
       "    <tr>\n",
       "      <th>30</th>\n",
       "      <td>Случайный лес ordinal</td>\n",
       "      <td>max_depth: 20</td>\n",
       "      <td>n_estimators: 75</td>\n",
       "      <td>28.581776</td>\n",
       "      <td>1.328548</td>\n",
       "      <td>1697.187066</td>\n",
       "    </tr>\n",
       "    <tr>\n",
       "      <th>31</th>\n",
       "      <td>Случайный лес target</td>\n",
       "      <td>max_depth: 20</td>\n",
       "      <td>n_estimators: 75</td>\n",
       "      <td>27.445826</td>\n",
       "      <td>1.246468</td>\n",
       "      <td>1653.626689</td>\n",
       "    </tr>\n",
       "  </tbody>\n",
       "</table>\n",
       "</div>"
      ],
      "text/plain": [
       "                   Модель           HP_1              HP_2   fit_time  \\\n",
       "20  Случайный лес ordinal  max_depth: 10  n_estimators: 25   5.126878   \n",
       "21   Случайный лес target  max_depth: 10  n_estimators: 25   4.988215   \n",
       "22  Случайный лес ordinal  max_depth: 20  n_estimators: 25   9.379637   \n",
       "23   Случайный лес target  max_depth: 20  n_estimators: 25   9.260122   \n",
       "24  Случайный лес ordinal  max_depth: 10  n_estimators: 50  10.559014   \n",
       "25   Случайный лес target  max_depth: 10  n_estimators: 50  10.013197   \n",
       "26  Случайный лес ordinal  max_depth: 20  n_estimators: 50  18.808790   \n",
       "27   Случайный лес target  max_depth: 20  n_estimators: 50  18.365839   \n",
       "28  Случайный лес ordinal  max_depth: 10  n_estimators: 75  15.036650   \n",
       "29   Случайный лес target  max_depth: 10  n_estimators: 75  15.519203   \n",
       "30  Случайный лес ordinal  max_depth: 20  n_estimators: 75  28.581776   \n",
       "31   Случайный лес target  max_depth: 20  n_estimators: 75  27.445826   \n",
       "\n",
       "    predict_time    RMSE_mean  \n",
       "20      0.225165  1973.783767  \n",
       "21      0.146201  1871.454636  \n",
       "22      0.437381  1718.440235  \n",
       "23      0.428302  1675.187970  \n",
       "24      0.276145  1969.224820  \n",
       "25      0.272804  1867.103174  \n",
       "26      0.871146  1702.874437  \n",
       "27      0.813218  1658.993767  \n",
       "28      0.419714  1967.987138  \n",
       "29      0.412041  1866.250201  \n",
       "30      1.328548  1697.187066  \n",
       "31      1.246468  1653.626689  "
      ]
     },
     "execution_count": 69,
     "metadata": {},
     "output_type": "execute_result"
    }
   ],
   "source": [
    "compare_models.loc[((compare_models['Модель']=='Случайный лес ordinal')| \\\n",
    "                    (compare_models['Модель']=='Случайный лес target')), :]"
   ]
  },
  {
   "cell_type": "markdown",
   "metadata": {
    "id": "xn6aV4xMGpfu"
   },
   "source": [
    "### Градиентный бустинг (библиотека catboost)"
   ]
  },
  {
   "cell_type": "code",
   "execution_count": 70,
   "metadata": {
    "ExecuteTime": {
     "end_time": "2023-07-15T10:22:41.802166Z",
     "start_time": "2023-07-15T10:22:41.755407Z"
    },
    "id": "XBaM3dPa76IE"
   },
   "outputs": [],
   "source": [
    "# Модель\n",
    "cb = CatBoostRegressor(eval_metric='RMSE',\n",
    "                          loss_function='RMSE',\n",
    "                          random_seed=RANDOM_STATE,\n",
    "                          logging_level='Silent')\n",
    "# Данные для подбора гиперпараметров\n",
    "grid_param_cb = {'learning_rate': [0.1, 0.3],\n",
    "                 'iterations':[1000, 3000]}"
   ]
  },
  {
   "cell_type": "code",
   "execution_count": 71,
   "metadata": {
    "ExecuteTime": {
     "end_time": "2023-07-15T10:24:42.905420Z",
     "start_time": "2023-07-15T10:22:41.803167Z"
    },
    "colab": {
     "base_uri": "https://localhost:8080/"
    },
    "id": "FakcqI1QjYU9",
    "outputId": "9b85b849-c045-4ce2-cd18-9ed5db0afd33"
   },
   "outputs": [
    {
     "name": "stdout",
     "output_type": "stream",
     "text": [
      "CPU times: total: 12min 51s\n",
      "Wall time: 2min 1s\n"
     ]
    },
    {
     "data": {
      "text/html": [
       "<style>#sk-container-id-1 {color: black;background-color: white;}#sk-container-id-1 pre{padding: 0;}#sk-container-id-1 div.sk-toggleable {background-color: white;}#sk-container-id-1 label.sk-toggleable__label {cursor: pointer;display: block;width: 100%;margin-bottom: 0;padding: 0.3em;box-sizing: border-box;text-align: center;}#sk-container-id-1 label.sk-toggleable__label-arrow:before {content: \"▸\";float: left;margin-right: 0.25em;color: #696969;}#sk-container-id-1 label.sk-toggleable__label-arrow:hover:before {color: black;}#sk-container-id-1 div.sk-estimator:hover label.sk-toggleable__label-arrow:before {color: black;}#sk-container-id-1 div.sk-toggleable__content {max-height: 0;max-width: 0;overflow: hidden;text-align: left;background-color: #f0f8ff;}#sk-container-id-1 div.sk-toggleable__content pre {margin: 0.2em;color: black;border-radius: 0.25em;background-color: #f0f8ff;}#sk-container-id-1 input.sk-toggleable__control:checked~div.sk-toggleable__content {max-height: 200px;max-width: 100%;overflow: auto;}#sk-container-id-1 input.sk-toggleable__control:checked~label.sk-toggleable__label-arrow:before {content: \"▾\";}#sk-container-id-1 div.sk-estimator input.sk-toggleable__control:checked~label.sk-toggleable__label {background-color: #d4ebff;}#sk-container-id-1 div.sk-label input.sk-toggleable__control:checked~label.sk-toggleable__label {background-color: #d4ebff;}#sk-container-id-1 input.sk-hidden--visually {border: 0;clip: rect(1px 1px 1px 1px);clip: rect(1px, 1px, 1px, 1px);height: 1px;margin: -1px;overflow: hidden;padding: 0;position: absolute;width: 1px;}#sk-container-id-1 div.sk-estimator {font-family: monospace;background-color: #f0f8ff;border: 1px dotted black;border-radius: 0.25em;box-sizing: border-box;margin-bottom: 0.5em;}#sk-container-id-1 div.sk-estimator:hover {background-color: #d4ebff;}#sk-container-id-1 div.sk-parallel-item::after {content: \"\";width: 100%;border-bottom: 1px solid gray;flex-grow: 1;}#sk-container-id-1 div.sk-label:hover label.sk-toggleable__label {background-color: #d4ebff;}#sk-container-id-1 div.sk-serial::before {content: \"\";position: absolute;border-left: 1px solid gray;box-sizing: border-box;top: 0;bottom: 0;left: 50%;z-index: 0;}#sk-container-id-1 div.sk-serial {display: flex;flex-direction: column;align-items: center;background-color: white;padding-right: 0.2em;padding-left: 0.2em;position: relative;}#sk-container-id-1 div.sk-item {position: relative;z-index: 1;}#sk-container-id-1 div.sk-parallel {display: flex;align-items: stretch;justify-content: center;background-color: white;position: relative;}#sk-container-id-1 div.sk-item::before, #sk-container-id-1 div.sk-parallel-item::before {content: \"\";position: absolute;border-left: 1px solid gray;box-sizing: border-box;top: 0;bottom: 0;left: 50%;z-index: -1;}#sk-container-id-1 div.sk-parallel-item {display: flex;flex-direction: column;z-index: 1;position: relative;background-color: white;}#sk-container-id-1 div.sk-parallel-item:first-child::after {align-self: flex-end;width: 50%;}#sk-container-id-1 div.sk-parallel-item:last-child::after {align-self: flex-start;width: 50%;}#sk-container-id-1 div.sk-parallel-item:only-child::after {width: 0;}#sk-container-id-1 div.sk-dashed-wrapped {border: 1px dashed gray;margin: 0 0.4em 0.5em 0.4em;box-sizing: border-box;padding-bottom: 0.4em;background-color: white;}#sk-container-id-1 div.sk-label label {font-family: monospace;font-weight: bold;display: inline-block;line-height: 1.2em;}#sk-container-id-1 div.sk-label-container {text-align: center;}#sk-container-id-1 div.sk-container {/* jupyter's `normalize.less` sets `[hidden] { display: none; }` but bootstrap.min.css set `[hidden] { display: none !important; }` so we also need the `!important` here to be able to override the default hidden behavior on the sphinx rendered scikit-learn.org. See: https://github.com/scikit-learn/scikit-learn/issues/21755 */display: inline-block !important;position: relative;}#sk-container-id-1 div.sk-text-repr-fallback {display: none;}</style><div id=\"sk-container-id-1\" class=\"sk-top-container\"><div class=\"sk-text-repr-fallback\"><pre>GridSearchCV(cv=3,\n",
       "             estimator=&lt;catboost.core.CatBoostRegressor object at 0x000001F818C7B550&gt;,\n",
       "             n_jobs=-1,\n",
       "             param_grid={&#x27;iterations&#x27;: [1000, 3000],\n",
       "                         &#x27;learning_rate&#x27;: [0.1, 0.3]},\n",
       "             scoring=&#x27;neg_root_mean_squared_error&#x27;)</pre><b>In a Jupyter environment, please rerun this cell to show the HTML representation or trust the notebook. <br />On GitHub, the HTML representation is unable to render, please try loading this page with nbviewer.org.</b></div><div class=\"sk-container\" hidden><div class=\"sk-item sk-dashed-wrapped\"><div class=\"sk-label-container\"><div class=\"sk-label sk-toggleable\"><input class=\"sk-toggleable__control sk-hidden--visually\" id=\"sk-estimator-id-1\" type=\"checkbox\" ><label for=\"sk-estimator-id-1\" class=\"sk-toggleable__label sk-toggleable__label-arrow\">GridSearchCV</label><div class=\"sk-toggleable__content\"><pre>GridSearchCV(cv=3,\n",
       "             estimator=&lt;catboost.core.CatBoostRegressor object at 0x000001F818C7B550&gt;,\n",
       "             n_jobs=-1,\n",
       "             param_grid={&#x27;iterations&#x27;: [1000, 3000],\n",
       "                         &#x27;learning_rate&#x27;: [0.1, 0.3]},\n",
       "             scoring=&#x27;neg_root_mean_squared_error&#x27;)</pre></div></div></div><div class=\"sk-parallel\"><div class=\"sk-parallel-item\"><div class=\"sk-item\"><div class=\"sk-label-container\"><div class=\"sk-label sk-toggleable\"><input class=\"sk-toggleable__control sk-hidden--visually\" id=\"sk-estimator-id-2\" type=\"checkbox\" ><label for=\"sk-estimator-id-2\" class=\"sk-toggleable__label sk-toggleable__label-arrow\">estimator: CatBoostRegressor</label><div class=\"sk-toggleable__content\"><pre>&lt;catboost.core.CatBoostRegressor object at 0x000001F818C7B550&gt;</pre></div></div></div><div class=\"sk-serial\"><div class=\"sk-item\"><div class=\"sk-estimator sk-toggleable\"><input class=\"sk-toggleable__control sk-hidden--visually\" id=\"sk-estimator-id-3\" type=\"checkbox\" ><label for=\"sk-estimator-id-3\" class=\"sk-toggleable__label sk-toggleable__label-arrow\">CatBoostRegressor</label><div class=\"sk-toggleable__content\"><pre>&lt;catboost.core.CatBoostRegressor object at 0x000001F818C7B550&gt;</pre></div></div></div></div></div></div></div></div></div></div>"
      ],
      "text/plain": [
       "GridSearchCV(cv=3,\n",
       "             estimator=<catboost.core.CatBoostRegressor object at 0x000001F818C7B550>,\n",
       "             n_jobs=-1,\n",
       "             param_grid={'iterations': [1000, 3000],\n",
       "                         'learning_rate': [0.1, 0.3]},\n",
       "             scoring='neg_root_mean_squared_error')"
      ]
     },
     "execution_count": 71,
     "metadata": {},
     "output_type": "execute_result"
    }
   ],
   "source": [
    "%%time\n",
    "# Градиентный бустинг (библиотека catboost) с ordinal encoding\n",
    "grid_cb_ordinal = GridSearchCV(estimator=cb, param_grid=grid_param_cb, scoring='neg_root_mean_squared_error',\n",
    "                         cv=3, n_jobs=-1)\n",
    "grid_cb_ordinal.fit(features_train_ordinal, train[y])"
   ]
  },
  {
   "cell_type": "code",
   "execution_count": 72,
   "metadata": {
    "ExecuteTime": {
     "end_time": "2023-07-15T10:24:42.924141Z",
     "start_time": "2023-07-15T10:24:42.906421Z"
    },
    "colab": {
     "base_uri": "https://localhost:8080/"
    },
    "id": "ut-hcjitjYVF",
    "outputId": "c466b500-15c5-46d9-c3b5-789221b23373"
   },
   "outputs": [
    {
     "data": {
      "text/plain": [
       "{'iterations': 3000, 'learning_rate': 0.1}"
      ]
     },
     "execution_count": 72,
     "metadata": {},
     "output_type": "execute_result"
    }
   ],
   "source": [
    "grid_cb_ordinal.best_params_"
   ]
  },
  {
   "cell_type": "code",
   "execution_count": 73,
   "metadata": {
    "ExecuteTime": {
     "end_time": "2023-07-15T10:24:42.938965Z",
     "start_time": "2023-07-15T10:24:42.925354Z"
    },
    "id": "1aCi4ATGjYVG"
   },
   "outputs": [],
   "source": [
    "cb_ordinal = pd.DataFrame(grid_cb_ordinal.cv_results_)"
   ]
  },
  {
   "cell_type": "code",
   "execution_count": 74,
   "metadata": {
    "ExecuteTime": {
     "end_time": "2023-07-15T10:26:49.475352Z",
     "start_time": "2023-07-15T10:24:42.939967Z"
    },
    "colab": {
     "base_uri": "https://localhost:8080/",
     "height": 152
    },
    "id": "XvpOuRroG19N",
    "outputId": "0d1714d9-a0df-471f-89b1-d10daebbad2f"
   },
   "outputs": [
    {
     "name": "stdout",
     "output_type": "stream",
     "text": [
      "CPU times: total: 12min 59s\n",
      "Wall time: 2min 6s\n"
     ]
    },
    {
     "data": {
      "text/html": [
       "<style>#sk-container-id-2 {color: black;background-color: white;}#sk-container-id-2 pre{padding: 0;}#sk-container-id-2 div.sk-toggleable {background-color: white;}#sk-container-id-2 label.sk-toggleable__label {cursor: pointer;display: block;width: 100%;margin-bottom: 0;padding: 0.3em;box-sizing: border-box;text-align: center;}#sk-container-id-2 label.sk-toggleable__label-arrow:before {content: \"▸\";float: left;margin-right: 0.25em;color: #696969;}#sk-container-id-2 label.sk-toggleable__label-arrow:hover:before {color: black;}#sk-container-id-2 div.sk-estimator:hover label.sk-toggleable__label-arrow:before {color: black;}#sk-container-id-2 div.sk-toggleable__content {max-height: 0;max-width: 0;overflow: hidden;text-align: left;background-color: #f0f8ff;}#sk-container-id-2 div.sk-toggleable__content pre {margin: 0.2em;color: black;border-radius: 0.25em;background-color: #f0f8ff;}#sk-container-id-2 input.sk-toggleable__control:checked~div.sk-toggleable__content {max-height: 200px;max-width: 100%;overflow: auto;}#sk-container-id-2 input.sk-toggleable__control:checked~label.sk-toggleable__label-arrow:before {content: \"▾\";}#sk-container-id-2 div.sk-estimator input.sk-toggleable__control:checked~label.sk-toggleable__label {background-color: #d4ebff;}#sk-container-id-2 div.sk-label input.sk-toggleable__control:checked~label.sk-toggleable__label {background-color: #d4ebff;}#sk-container-id-2 input.sk-hidden--visually {border: 0;clip: rect(1px 1px 1px 1px);clip: rect(1px, 1px, 1px, 1px);height: 1px;margin: -1px;overflow: hidden;padding: 0;position: absolute;width: 1px;}#sk-container-id-2 div.sk-estimator {font-family: monospace;background-color: #f0f8ff;border: 1px dotted black;border-radius: 0.25em;box-sizing: border-box;margin-bottom: 0.5em;}#sk-container-id-2 div.sk-estimator:hover {background-color: #d4ebff;}#sk-container-id-2 div.sk-parallel-item::after {content: \"\";width: 100%;border-bottom: 1px solid gray;flex-grow: 1;}#sk-container-id-2 div.sk-label:hover label.sk-toggleable__label {background-color: #d4ebff;}#sk-container-id-2 div.sk-serial::before {content: \"\";position: absolute;border-left: 1px solid gray;box-sizing: border-box;top: 0;bottom: 0;left: 50%;z-index: 0;}#sk-container-id-2 div.sk-serial {display: flex;flex-direction: column;align-items: center;background-color: white;padding-right: 0.2em;padding-left: 0.2em;position: relative;}#sk-container-id-2 div.sk-item {position: relative;z-index: 1;}#sk-container-id-2 div.sk-parallel {display: flex;align-items: stretch;justify-content: center;background-color: white;position: relative;}#sk-container-id-2 div.sk-item::before, #sk-container-id-2 div.sk-parallel-item::before {content: \"\";position: absolute;border-left: 1px solid gray;box-sizing: border-box;top: 0;bottom: 0;left: 50%;z-index: -1;}#sk-container-id-2 div.sk-parallel-item {display: flex;flex-direction: column;z-index: 1;position: relative;background-color: white;}#sk-container-id-2 div.sk-parallel-item:first-child::after {align-self: flex-end;width: 50%;}#sk-container-id-2 div.sk-parallel-item:last-child::after {align-self: flex-start;width: 50%;}#sk-container-id-2 div.sk-parallel-item:only-child::after {width: 0;}#sk-container-id-2 div.sk-dashed-wrapped {border: 1px dashed gray;margin: 0 0.4em 0.5em 0.4em;box-sizing: border-box;padding-bottom: 0.4em;background-color: white;}#sk-container-id-2 div.sk-label label {font-family: monospace;font-weight: bold;display: inline-block;line-height: 1.2em;}#sk-container-id-2 div.sk-label-container {text-align: center;}#sk-container-id-2 div.sk-container {/* jupyter's `normalize.less` sets `[hidden] { display: none; }` but bootstrap.min.css set `[hidden] { display: none !important; }` so we also need the `!important` here to be able to override the default hidden behavior on the sphinx rendered scikit-learn.org. See: https://github.com/scikit-learn/scikit-learn/issues/21755 */display: inline-block !important;position: relative;}#sk-container-id-2 div.sk-text-repr-fallback {display: none;}</style><div id=\"sk-container-id-2\" class=\"sk-top-container\"><div class=\"sk-text-repr-fallback\"><pre>GridSearchCV(cv=3,\n",
       "             estimator=&lt;catboost.core.CatBoostRegressor object at 0x000001F818C7B550&gt;,\n",
       "             n_jobs=-1,\n",
       "             param_grid={&#x27;iterations&#x27;: [1000, 3000],\n",
       "                         &#x27;learning_rate&#x27;: [0.1, 0.3]},\n",
       "             scoring=&#x27;neg_root_mean_squared_error&#x27;)</pre><b>In a Jupyter environment, please rerun this cell to show the HTML representation or trust the notebook. <br />On GitHub, the HTML representation is unable to render, please try loading this page with nbviewer.org.</b></div><div class=\"sk-container\" hidden><div class=\"sk-item sk-dashed-wrapped\"><div class=\"sk-label-container\"><div class=\"sk-label sk-toggleable\"><input class=\"sk-toggleable__control sk-hidden--visually\" id=\"sk-estimator-id-4\" type=\"checkbox\" ><label for=\"sk-estimator-id-4\" class=\"sk-toggleable__label sk-toggleable__label-arrow\">GridSearchCV</label><div class=\"sk-toggleable__content\"><pre>GridSearchCV(cv=3,\n",
       "             estimator=&lt;catboost.core.CatBoostRegressor object at 0x000001F818C7B550&gt;,\n",
       "             n_jobs=-1,\n",
       "             param_grid={&#x27;iterations&#x27;: [1000, 3000],\n",
       "                         &#x27;learning_rate&#x27;: [0.1, 0.3]},\n",
       "             scoring=&#x27;neg_root_mean_squared_error&#x27;)</pre></div></div></div><div class=\"sk-parallel\"><div class=\"sk-parallel-item\"><div class=\"sk-item\"><div class=\"sk-label-container\"><div class=\"sk-label sk-toggleable\"><input class=\"sk-toggleable__control sk-hidden--visually\" id=\"sk-estimator-id-5\" type=\"checkbox\" ><label for=\"sk-estimator-id-5\" class=\"sk-toggleable__label sk-toggleable__label-arrow\">estimator: CatBoostRegressor</label><div class=\"sk-toggleable__content\"><pre>&lt;catboost.core.CatBoostRegressor object at 0x000001F818C7B550&gt;</pre></div></div></div><div class=\"sk-serial\"><div class=\"sk-item\"><div class=\"sk-estimator sk-toggleable\"><input class=\"sk-toggleable__control sk-hidden--visually\" id=\"sk-estimator-id-6\" type=\"checkbox\" ><label for=\"sk-estimator-id-6\" class=\"sk-toggleable__label sk-toggleable__label-arrow\">CatBoostRegressor</label><div class=\"sk-toggleable__content\"><pre>&lt;catboost.core.CatBoostRegressor object at 0x000001F818C7B550&gt;</pre></div></div></div></div></div></div></div></div></div></div>"
      ],
      "text/plain": [
       "GridSearchCV(cv=3,\n",
       "             estimator=<catboost.core.CatBoostRegressor object at 0x000001F818C7B550>,\n",
       "             n_jobs=-1,\n",
       "             param_grid={'iterations': [1000, 3000],\n",
       "                         'learning_rate': [0.1, 0.3]},\n",
       "             scoring='neg_root_mean_squared_error')"
      ]
     },
     "execution_count": 74,
     "metadata": {},
     "output_type": "execute_result"
    }
   ],
   "source": [
    "%%time\n",
    "# Градиентный бустинг (библиотека catboost) с target encoding\n",
    "grid_cb_target = GridSearchCV(estimator=cb, param_grid=grid_param_cb, scoring='neg_root_mean_squared_error',\n",
    "                         cv=3, n_jobs=-1)\n",
    "grid_cb_target.fit(features_train_target, train[y])"
   ]
  },
  {
   "cell_type": "code",
   "execution_count": 75,
   "metadata": {
    "ExecuteTime": {
     "end_time": "2023-07-15T10:26:49.492067Z",
     "start_time": "2023-07-15T10:26:49.476353Z"
    },
    "colab": {
     "base_uri": "https://localhost:8080/"
    },
    "id": "SFqynhZNfreW",
    "outputId": "0497a5d6-77d5-4e46-91de-ba09286a8fb7"
   },
   "outputs": [
    {
     "data": {
      "text/plain": [
       "{'iterations': 3000, 'learning_rate': 0.1}"
      ]
     },
     "execution_count": 75,
     "metadata": {},
     "output_type": "execute_result"
    }
   ],
   "source": [
    "grid_cb_target.best_params_"
   ]
  },
  {
   "cell_type": "code",
   "execution_count": 76,
   "metadata": {
    "ExecuteTime": {
     "end_time": "2023-07-15T10:26:49.509722Z",
     "start_time": "2023-07-15T10:26:49.493068Z"
    },
    "id": "D3aPjUfmG2Bk"
   },
   "outputs": [],
   "source": [
    "cb_target = pd.DataFrame(grid_cb_target.cv_results_)"
   ]
  },
  {
   "cell_type": "markdown",
   "metadata": {
    "id": "5CNGr0tuG332"
   },
   "source": [
    "### Градиентный бустинг (библиотека  LightGBM)"
   ]
  },
  {
   "cell_type": "code",
   "execution_count": 77,
   "metadata": {
    "ExecuteTime": {
     "end_time": "2023-07-15T10:26:49.525286Z",
     "start_time": "2023-07-15T10:26:49.509811Z"
    },
    "id": "QPRy8S4-8Ini"
   },
   "outputs": [],
   "source": [
    "# Модель\n",
    "lgbm = LGBMRegressor(random_state=RANDOM_STATE,\n",
    "                            n_jobs=-1)\n",
    "# Данные для подбора гиперпараметров\n",
    "grid_param_lgbm = {'learning_rate': [0.1, 0.3],\n",
    "              'reg_lambda':[0, 0.2]}"
   ]
  },
  {
   "cell_type": "code",
   "execution_count": 78,
   "metadata": {
    "ExecuteTime": {
     "end_time": "2023-07-15T10:26:51.961424Z",
     "start_time": "2023-07-15T10:26:49.525286Z"
    },
    "colab": {
     "base_uri": "https://localhost:8080/"
    },
    "id": "lq76wU2bun3f",
    "outputId": "df35e524-0447-4198-a4f8-b6d95bd2393b"
   },
   "outputs": [
    {
     "name": "stdout",
     "output_type": "stream",
     "text": [
      "CPU times: total: 9.41 s\n",
      "Wall time: 2.42 s\n"
     ]
    },
    {
     "data": {
      "text/html": [
       "<style>#sk-container-id-3 {color: black;background-color: white;}#sk-container-id-3 pre{padding: 0;}#sk-container-id-3 div.sk-toggleable {background-color: white;}#sk-container-id-3 label.sk-toggleable__label {cursor: pointer;display: block;width: 100%;margin-bottom: 0;padding: 0.3em;box-sizing: border-box;text-align: center;}#sk-container-id-3 label.sk-toggleable__label-arrow:before {content: \"▸\";float: left;margin-right: 0.25em;color: #696969;}#sk-container-id-3 label.sk-toggleable__label-arrow:hover:before {color: black;}#sk-container-id-3 div.sk-estimator:hover label.sk-toggleable__label-arrow:before {color: black;}#sk-container-id-3 div.sk-toggleable__content {max-height: 0;max-width: 0;overflow: hidden;text-align: left;background-color: #f0f8ff;}#sk-container-id-3 div.sk-toggleable__content pre {margin: 0.2em;color: black;border-radius: 0.25em;background-color: #f0f8ff;}#sk-container-id-3 input.sk-toggleable__control:checked~div.sk-toggleable__content {max-height: 200px;max-width: 100%;overflow: auto;}#sk-container-id-3 input.sk-toggleable__control:checked~label.sk-toggleable__label-arrow:before {content: \"▾\";}#sk-container-id-3 div.sk-estimator input.sk-toggleable__control:checked~label.sk-toggleable__label {background-color: #d4ebff;}#sk-container-id-3 div.sk-label input.sk-toggleable__control:checked~label.sk-toggleable__label {background-color: #d4ebff;}#sk-container-id-3 input.sk-hidden--visually {border: 0;clip: rect(1px 1px 1px 1px);clip: rect(1px, 1px, 1px, 1px);height: 1px;margin: -1px;overflow: hidden;padding: 0;position: absolute;width: 1px;}#sk-container-id-3 div.sk-estimator {font-family: monospace;background-color: #f0f8ff;border: 1px dotted black;border-radius: 0.25em;box-sizing: border-box;margin-bottom: 0.5em;}#sk-container-id-3 div.sk-estimator:hover {background-color: #d4ebff;}#sk-container-id-3 div.sk-parallel-item::after {content: \"\";width: 100%;border-bottom: 1px solid gray;flex-grow: 1;}#sk-container-id-3 div.sk-label:hover label.sk-toggleable__label {background-color: #d4ebff;}#sk-container-id-3 div.sk-serial::before {content: \"\";position: absolute;border-left: 1px solid gray;box-sizing: border-box;top: 0;bottom: 0;left: 50%;z-index: 0;}#sk-container-id-3 div.sk-serial {display: flex;flex-direction: column;align-items: center;background-color: white;padding-right: 0.2em;padding-left: 0.2em;position: relative;}#sk-container-id-3 div.sk-item {position: relative;z-index: 1;}#sk-container-id-3 div.sk-parallel {display: flex;align-items: stretch;justify-content: center;background-color: white;position: relative;}#sk-container-id-3 div.sk-item::before, #sk-container-id-3 div.sk-parallel-item::before {content: \"\";position: absolute;border-left: 1px solid gray;box-sizing: border-box;top: 0;bottom: 0;left: 50%;z-index: -1;}#sk-container-id-3 div.sk-parallel-item {display: flex;flex-direction: column;z-index: 1;position: relative;background-color: white;}#sk-container-id-3 div.sk-parallel-item:first-child::after {align-self: flex-end;width: 50%;}#sk-container-id-3 div.sk-parallel-item:last-child::after {align-self: flex-start;width: 50%;}#sk-container-id-3 div.sk-parallel-item:only-child::after {width: 0;}#sk-container-id-3 div.sk-dashed-wrapped {border: 1px dashed gray;margin: 0 0.4em 0.5em 0.4em;box-sizing: border-box;padding-bottom: 0.4em;background-color: white;}#sk-container-id-3 div.sk-label label {font-family: monospace;font-weight: bold;display: inline-block;line-height: 1.2em;}#sk-container-id-3 div.sk-label-container {text-align: center;}#sk-container-id-3 div.sk-container {/* jupyter's `normalize.less` sets `[hidden] { display: none; }` but bootstrap.min.css set `[hidden] { display: none !important; }` so we also need the `!important` here to be able to override the default hidden behavior on the sphinx rendered scikit-learn.org. See: https://github.com/scikit-learn/scikit-learn/issues/21755 */display: inline-block !important;position: relative;}#sk-container-id-3 div.sk-text-repr-fallback {display: none;}</style><div id=\"sk-container-id-3\" class=\"sk-top-container\"><div class=\"sk-text-repr-fallback\"><pre>GridSearchCV(cv=3, estimator=LGBMRegressor(random_state=12345), n_jobs=-1,\n",
       "             param_grid={&#x27;learning_rate&#x27;: [0.1, 0.3], &#x27;reg_lambda&#x27;: [0, 0.2]},\n",
       "             scoring=&#x27;neg_root_mean_squared_error&#x27;)</pre><b>In a Jupyter environment, please rerun this cell to show the HTML representation or trust the notebook. <br />On GitHub, the HTML representation is unable to render, please try loading this page with nbviewer.org.</b></div><div class=\"sk-container\" hidden><div class=\"sk-item sk-dashed-wrapped\"><div class=\"sk-label-container\"><div class=\"sk-label sk-toggleable\"><input class=\"sk-toggleable__control sk-hidden--visually\" id=\"sk-estimator-id-7\" type=\"checkbox\" ><label for=\"sk-estimator-id-7\" class=\"sk-toggleable__label sk-toggleable__label-arrow\">GridSearchCV</label><div class=\"sk-toggleable__content\"><pre>GridSearchCV(cv=3, estimator=LGBMRegressor(random_state=12345), n_jobs=-1,\n",
       "             param_grid={&#x27;learning_rate&#x27;: [0.1, 0.3], &#x27;reg_lambda&#x27;: [0, 0.2]},\n",
       "             scoring=&#x27;neg_root_mean_squared_error&#x27;)</pre></div></div></div><div class=\"sk-parallel\"><div class=\"sk-parallel-item\"><div class=\"sk-item\"><div class=\"sk-label-container\"><div class=\"sk-label sk-toggleable\"><input class=\"sk-toggleable__control sk-hidden--visually\" id=\"sk-estimator-id-8\" type=\"checkbox\" ><label for=\"sk-estimator-id-8\" class=\"sk-toggleable__label sk-toggleable__label-arrow\">estimator: LGBMRegressor</label><div class=\"sk-toggleable__content\"><pre>LGBMRegressor(random_state=12345)</pre></div></div></div><div class=\"sk-serial\"><div class=\"sk-item\"><div class=\"sk-estimator sk-toggleable\"><input class=\"sk-toggleable__control sk-hidden--visually\" id=\"sk-estimator-id-9\" type=\"checkbox\" ><label for=\"sk-estimator-id-9\" class=\"sk-toggleable__label sk-toggleable__label-arrow\">LGBMRegressor</label><div class=\"sk-toggleable__content\"><pre>LGBMRegressor(random_state=12345)</pre></div></div></div></div></div></div></div></div></div></div>"
      ],
      "text/plain": [
       "GridSearchCV(cv=3, estimator=LGBMRegressor(random_state=12345), n_jobs=-1,\n",
       "             param_grid={'learning_rate': [0.1, 0.3], 'reg_lambda': [0, 0.2]},\n",
       "             scoring='neg_root_mean_squared_error')"
      ]
     },
     "execution_count": 78,
     "metadata": {},
     "output_type": "execute_result"
    }
   ],
   "source": [
    "%%time\n",
    "# Градиентный бустинг (библиотека LightGBM) с ordinal encoding\n",
    "grid_lgbm_ordinal = GridSearchCV(estimator=lgbm, param_grid=grid_param_lgbm, scoring='neg_root_mean_squared_error',\n",
    "                         cv=3, n_jobs=-1)\n",
    "grid_lgbm_ordinal.fit(features_train_ordinal, train[y])"
   ]
  },
  {
   "cell_type": "code",
   "execution_count": 79,
   "metadata": {
    "ExecuteTime": {
     "end_time": "2023-07-15T10:26:51.977396Z",
     "start_time": "2023-07-15T10:26:51.961424Z"
    },
    "colab": {
     "base_uri": "https://localhost:8080/"
    },
    "id": "GhB5i8Iuun3n",
    "outputId": "a4492a03-80a7-4d8e-d98d-ca0c195e49a0"
   },
   "outputs": [
    {
     "data": {
      "text/plain": [
       "{'learning_rate': 0.3, 'reg_lambda': 0.2}"
      ]
     },
     "execution_count": 79,
     "metadata": {},
     "output_type": "execute_result"
    }
   ],
   "source": [
    "grid_lgbm_ordinal.best_params_"
   ]
  },
  {
   "cell_type": "code",
   "execution_count": 80,
   "metadata": {
    "ExecuteTime": {
     "end_time": "2023-07-15T10:26:51.993411Z",
     "start_time": "2023-07-15T10:26:51.978397Z"
    },
    "id": "_E1dxbewun3o"
   },
   "outputs": [],
   "source": [
    "lgbm_ordinal = pd.DataFrame(grid_lgbm_ordinal.cv_results_)"
   ]
  },
  {
   "cell_type": "code",
   "execution_count": 81,
   "metadata": {
    "ExecuteTime": {
     "end_time": "2023-07-15T10:26:54.268937Z",
     "start_time": "2023-07-15T10:26:51.994413Z"
    },
    "colab": {
     "base_uri": "https://localhost:8080/"
    },
    "id": "RTB6kX77HCUl",
    "outputId": "f27a8668-0ed8-4363-d935-97e736254118"
   },
   "outputs": [
    {
     "name": "stdout",
     "output_type": "stream",
     "text": [
      "CPU times: total: 10.2 s\n",
      "Wall time: 2.25 s\n"
     ]
    },
    {
     "data": {
      "text/html": [
       "<style>#sk-container-id-4 {color: black;background-color: white;}#sk-container-id-4 pre{padding: 0;}#sk-container-id-4 div.sk-toggleable {background-color: white;}#sk-container-id-4 label.sk-toggleable__label {cursor: pointer;display: block;width: 100%;margin-bottom: 0;padding: 0.3em;box-sizing: border-box;text-align: center;}#sk-container-id-4 label.sk-toggleable__label-arrow:before {content: \"▸\";float: left;margin-right: 0.25em;color: #696969;}#sk-container-id-4 label.sk-toggleable__label-arrow:hover:before {color: black;}#sk-container-id-4 div.sk-estimator:hover label.sk-toggleable__label-arrow:before {color: black;}#sk-container-id-4 div.sk-toggleable__content {max-height: 0;max-width: 0;overflow: hidden;text-align: left;background-color: #f0f8ff;}#sk-container-id-4 div.sk-toggleable__content pre {margin: 0.2em;color: black;border-radius: 0.25em;background-color: #f0f8ff;}#sk-container-id-4 input.sk-toggleable__control:checked~div.sk-toggleable__content {max-height: 200px;max-width: 100%;overflow: auto;}#sk-container-id-4 input.sk-toggleable__control:checked~label.sk-toggleable__label-arrow:before {content: \"▾\";}#sk-container-id-4 div.sk-estimator input.sk-toggleable__control:checked~label.sk-toggleable__label {background-color: #d4ebff;}#sk-container-id-4 div.sk-label input.sk-toggleable__control:checked~label.sk-toggleable__label {background-color: #d4ebff;}#sk-container-id-4 input.sk-hidden--visually {border: 0;clip: rect(1px 1px 1px 1px);clip: rect(1px, 1px, 1px, 1px);height: 1px;margin: -1px;overflow: hidden;padding: 0;position: absolute;width: 1px;}#sk-container-id-4 div.sk-estimator {font-family: monospace;background-color: #f0f8ff;border: 1px dotted black;border-radius: 0.25em;box-sizing: border-box;margin-bottom: 0.5em;}#sk-container-id-4 div.sk-estimator:hover {background-color: #d4ebff;}#sk-container-id-4 div.sk-parallel-item::after {content: \"\";width: 100%;border-bottom: 1px solid gray;flex-grow: 1;}#sk-container-id-4 div.sk-label:hover label.sk-toggleable__label {background-color: #d4ebff;}#sk-container-id-4 div.sk-serial::before {content: \"\";position: absolute;border-left: 1px solid gray;box-sizing: border-box;top: 0;bottom: 0;left: 50%;z-index: 0;}#sk-container-id-4 div.sk-serial {display: flex;flex-direction: column;align-items: center;background-color: white;padding-right: 0.2em;padding-left: 0.2em;position: relative;}#sk-container-id-4 div.sk-item {position: relative;z-index: 1;}#sk-container-id-4 div.sk-parallel {display: flex;align-items: stretch;justify-content: center;background-color: white;position: relative;}#sk-container-id-4 div.sk-item::before, #sk-container-id-4 div.sk-parallel-item::before {content: \"\";position: absolute;border-left: 1px solid gray;box-sizing: border-box;top: 0;bottom: 0;left: 50%;z-index: -1;}#sk-container-id-4 div.sk-parallel-item {display: flex;flex-direction: column;z-index: 1;position: relative;background-color: white;}#sk-container-id-4 div.sk-parallel-item:first-child::after {align-self: flex-end;width: 50%;}#sk-container-id-4 div.sk-parallel-item:last-child::after {align-self: flex-start;width: 50%;}#sk-container-id-4 div.sk-parallel-item:only-child::after {width: 0;}#sk-container-id-4 div.sk-dashed-wrapped {border: 1px dashed gray;margin: 0 0.4em 0.5em 0.4em;box-sizing: border-box;padding-bottom: 0.4em;background-color: white;}#sk-container-id-4 div.sk-label label {font-family: monospace;font-weight: bold;display: inline-block;line-height: 1.2em;}#sk-container-id-4 div.sk-label-container {text-align: center;}#sk-container-id-4 div.sk-container {/* jupyter's `normalize.less` sets `[hidden] { display: none; }` but bootstrap.min.css set `[hidden] { display: none !important; }` so we also need the `!important` here to be able to override the default hidden behavior on the sphinx rendered scikit-learn.org. See: https://github.com/scikit-learn/scikit-learn/issues/21755 */display: inline-block !important;position: relative;}#sk-container-id-4 div.sk-text-repr-fallback {display: none;}</style><div id=\"sk-container-id-4\" class=\"sk-top-container\"><div class=\"sk-text-repr-fallback\"><pre>GridSearchCV(cv=3, estimator=LGBMRegressor(random_state=12345), n_jobs=-1,\n",
       "             param_grid={&#x27;learning_rate&#x27;: [0.1, 0.3], &#x27;reg_lambda&#x27;: [0, 0.2]},\n",
       "             scoring=&#x27;neg_root_mean_squared_error&#x27;)</pre><b>In a Jupyter environment, please rerun this cell to show the HTML representation or trust the notebook. <br />On GitHub, the HTML representation is unable to render, please try loading this page with nbviewer.org.</b></div><div class=\"sk-container\" hidden><div class=\"sk-item sk-dashed-wrapped\"><div class=\"sk-label-container\"><div class=\"sk-label sk-toggleable\"><input class=\"sk-toggleable__control sk-hidden--visually\" id=\"sk-estimator-id-10\" type=\"checkbox\" ><label for=\"sk-estimator-id-10\" class=\"sk-toggleable__label sk-toggleable__label-arrow\">GridSearchCV</label><div class=\"sk-toggleable__content\"><pre>GridSearchCV(cv=3, estimator=LGBMRegressor(random_state=12345), n_jobs=-1,\n",
       "             param_grid={&#x27;learning_rate&#x27;: [0.1, 0.3], &#x27;reg_lambda&#x27;: [0, 0.2]},\n",
       "             scoring=&#x27;neg_root_mean_squared_error&#x27;)</pre></div></div></div><div class=\"sk-parallel\"><div class=\"sk-parallel-item\"><div class=\"sk-item\"><div class=\"sk-label-container\"><div class=\"sk-label sk-toggleable\"><input class=\"sk-toggleable__control sk-hidden--visually\" id=\"sk-estimator-id-11\" type=\"checkbox\" ><label for=\"sk-estimator-id-11\" class=\"sk-toggleable__label sk-toggleable__label-arrow\">estimator: LGBMRegressor</label><div class=\"sk-toggleable__content\"><pre>LGBMRegressor(random_state=12345)</pre></div></div></div><div class=\"sk-serial\"><div class=\"sk-item\"><div class=\"sk-estimator sk-toggleable\"><input class=\"sk-toggleable__control sk-hidden--visually\" id=\"sk-estimator-id-12\" type=\"checkbox\" ><label for=\"sk-estimator-id-12\" class=\"sk-toggleable__label sk-toggleable__label-arrow\">LGBMRegressor</label><div class=\"sk-toggleable__content\"><pre>LGBMRegressor(random_state=12345)</pre></div></div></div></div></div></div></div></div></div></div>"
      ],
      "text/plain": [
       "GridSearchCV(cv=3, estimator=LGBMRegressor(random_state=12345), n_jobs=-1,\n",
       "             param_grid={'learning_rate': [0.1, 0.3], 'reg_lambda': [0, 0.2]},\n",
       "             scoring='neg_root_mean_squared_error')"
      ]
     },
     "execution_count": 81,
     "metadata": {},
     "output_type": "execute_result"
    }
   ],
   "source": [
    "%%time\n",
    "# Градиентный бустинг (библиотека LightGBM) с target encoding\n",
    "grid_lgbm_target = GridSearchCV(estimator=lgbm, param_grid=grid_param_lgbm, scoring='neg_root_mean_squared_error',\n",
    "                         cv=3, n_jobs=-1)\n",
    "grid_lgbm_target.fit(features_train_target, train[y])"
   ]
  },
  {
   "cell_type": "code",
   "execution_count": 82,
   "metadata": {
    "ExecuteTime": {
     "end_time": "2023-07-15T10:26:54.300393Z",
     "start_time": "2023-07-15T10:26:54.291384Z"
    },
    "colab": {
     "base_uri": "https://localhost:8080/"
    },
    "id": "sVmj1bN_HCpV",
    "outputId": "0fb1f46e-fcfa-444e-aa65-38c746a2c0a5"
   },
   "outputs": [
    {
     "data": {
      "text/plain": [
       "{'learning_rate': 0.3, 'reg_lambda': 0}"
      ]
     },
     "execution_count": 82,
     "metadata": {},
     "output_type": "execute_result"
    }
   ],
   "source": [
    "grid_lgbm_target.best_params_"
   ]
  },
  {
   "cell_type": "code",
   "execution_count": 83,
   "metadata": {
    "ExecuteTime": {
     "end_time": "2023-07-15T10:26:54.311681Z",
     "start_time": "2023-07-15T10:26:54.301393Z"
    },
    "id": "rPDNYKuPHCtM"
   },
   "outputs": [],
   "source": [
    "lgbm_target = pd.DataFrame(grid_lgbm_target.cv_results_)"
   ]
  },
  {
   "cell_type": "code",
   "execution_count": 84,
   "metadata": {
    "ExecuteTime": {
     "end_time": "2023-07-15T10:26:54.340984Z",
     "start_time": "2023-07-15T10:26:54.311681Z"
    },
    "colab": {
     "base_uri": "https://localhost:8080/"
    },
    "id": "hjsoXvqaGoTE",
    "outputId": "15a91c97-bc24-47fd-af6a-8877b6ab5346"
   },
   "outputs": [],
   "source": [
    "# Добавим результаты в таблицу с результатами других моделей\n",
    "cb_ordinal.loc[:, 'Модель'] = 'Catboost_ordinal'\n",
    "cb_ordinal = cb_ordinal[['Модель', 'param_iterations', 'param_learning_rate', 'mean_fit_time', 'mean_score_time', 'mean_test_score']]\n",
    "cb_ordinal['mean_test_score'] = -cb_ordinal['mean_test_score']\n",
    "cb_ordinal['param_iterations'] = 'iterations=' + cb_ordinal['param_iterations'].apply(str)\n",
    "cb_ordinal['param_learning_rate'] = 'learning_rate=' + cb_ordinal['param_learning_rate'].apply(str)\n",
    "cb_ordinal.columns = compare_models.columns\n",
    "\n",
    "cb_target.loc[:, 'Модель'] = 'Catboost_target'\n",
    "cb_target = cb_target[['Модель', 'param_iterations', 'param_learning_rate', 'mean_fit_time', 'mean_score_time', 'mean_test_score']]\n",
    "cb_target['mean_test_score'] = -cb_target['mean_test_score']\n",
    "cb_target['param_iterations'] = 'iterations=' + cb_target['param_iterations'].apply(str)\n",
    "cb_target['param_learning_rate'] = 'learning_rate=' + cb_target['param_learning_rate'].apply(str)\n",
    "cb_target.columns = compare_models.columns\n",
    "\n",
    "lgbm_ordinal.loc[:, 'Модель'] = 'LightGBM_ordinal'\n",
    "lgbm_ordinal = lgbm_ordinal[['Модель', 'param_learning_rate', 'param_reg_lambda', 'mean_fit_time', 'mean_score_time', 'mean_test_score']]\n",
    "lgbm_ordinal['mean_test_score'] = -lgbm_ordinal['mean_test_score']\n",
    "lgbm_ordinal['param_reg_lambda'] = 'reg_lambda=' + lgbm_ordinal['param_reg_lambda'].apply(str)\n",
    "lgbm_ordinal['param_learning_rate'] = 'learning_rate=' + lgbm_ordinal['param_learning_rate'].apply(str)\n",
    "lgbm_ordinal.columns = compare_models.columns\n",
    "\n",
    "lgbm_target.loc[:, 'Модель'] = 'LightGBM_target'\n",
    "lgbm_target = lgbm_target[['Модель', 'param_learning_rate', 'param_reg_lambda', 'mean_fit_time', 'mean_score_time', 'mean_test_score']]\n",
    "lgbm_target['mean_test_score'] = -lgbm_target['mean_test_score']\n",
    "lgbm_target['param_reg_lambda'] = 'reg_lambda=' + lgbm_target['param_reg_lambda'].apply(str)\n",
    "lgbm_target['param_learning_rate'] = 'learning_rate=' + lgbm_target['param_learning_rate'].apply(str)\n",
    "lgbm_target.columns = compare_models.columns"
   ]
  },
  {
   "cell_type": "code",
   "execution_count": 85,
   "metadata": {
    "ExecuteTime": {
     "end_time": "2023-07-15T10:26:54.356999Z",
     "start_time": "2023-07-15T10:26:54.341985Z"
    },
    "colab": {
     "base_uri": "https://localhost:8080/"
    },
    "id": "s_4brYM7bDt4",
    "outputId": "2ad2bfca-ce8f-4871-f27c-c00bb9b823e0"
   },
   "outputs": [
    {
     "data": {
      "text/html": [
       "<div>\n",
       "<style scoped>\n",
       "    .dataframe tbody tr th:only-of-type {\n",
       "        vertical-align: middle;\n",
       "    }\n",
       "\n",
       "    .dataframe tbody tr th {\n",
       "        vertical-align: top;\n",
       "    }\n",
       "\n",
       "    .dataframe thead th {\n",
       "        text-align: right;\n",
       "    }\n",
       "</style>\n",
       "<table border=\"1\" class=\"dataframe\">\n",
       "  <thead>\n",
       "    <tr style=\"text-align: right;\">\n",
       "      <th></th>\n",
       "      <th>Модель</th>\n",
       "      <th>HP_1</th>\n",
       "      <th>HP_2</th>\n",
       "      <th>fit_time</th>\n",
       "      <th>predict_time</th>\n",
       "      <th>RMSE_mean</th>\n",
       "    </tr>\n",
       "  </thead>\n",
       "  <tbody>\n",
       "    <tr>\n",
       "      <th>2</th>\n",
       "      <td>Catboost_target</td>\n",
       "      <td>iterations=3000</td>\n",
       "      <td>learning_rate=0.1</td>\n",
       "      <td>79.039742</td>\n",
       "      <td>0.032709</td>\n",
       "      <td>1614.726674</td>\n",
       "    </tr>\n",
       "    <tr>\n",
       "      <th>3</th>\n",
       "      <td>Catboost_target</td>\n",
       "      <td>iterations=3000</td>\n",
       "      <td>learning_rate=0.3</td>\n",
       "      <td>87.378618</td>\n",
       "      <td>0.053387</td>\n",
       "      <td>1619.236819</td>\n",
       "    </tr>\n",
       "    <tr>\n",
       "      <th>2</th>\n",
       "      <td>Catboost_ordinal</td>\n",
       "      <td>iterations=3000</td>\n",
       "      <td>learning_rate=0.1</td>\n",
       "      <td>75.496755</td>\n",
       "      <td>0.031487</td>\n",
       "      <td>1625.283994</td>\n",
       "    </tr>\n",
       "    <tr>\n",
       "      <th>1</th>\n",
       "      <td>Catboost_target</td>\n",
       "      <td>iterations=1000</td>\n",
       "      <td>learning_rate=0.3</td>\n",
       "      <td>33.200207</td>\n",
       "      <td>0.041749</td>\n",
       "      <td>1626.650602</td>\n",
       "    </tr>\n",
       "    <tr>\n",
       "      <th>3</th>\n",
       "      <td>Catboost_ordinal</td>\n",
       "      <td>iterations=3000</td>\n",
       "      <td>learning_rate=0.3</td>\n",
       "      <td>78.494595</td>\n",
       "      <td>0.026998</td>\n",
       "      <td>1626.934093</td>\n",
       "    </tr>\n",
       "    <tr>\n",
       "      <th>1</th>\n",
       "      <td>Catboost_ordinal</td>\n",
       "      <td>iterations=1000</td>\n",
       "      <td>learning_rate=0.3</td>\n",
       "      <td>40.161967</td>\n",
       "      <td>0.029859</td>\n",
       "      <td>1638.572942</td>\n",
       "    </tr>\n",
       "    <tr>\n",
       "      <th>0</th>\n",
       "      <td>Catboost_target</td>\n",
       "      <td>iterations=1000</td>\n",
       "      <td>learning_rate=0.1</td>\n",
       "      <td>38.137861</td>\n",
       "      <td>0.034402</td>\n",
       "      <td>1647.968562</td>\n",
       "    </tr>\n",
       "    <tr>\n",
       "      <th>31</th>\n",
       "      <td>Случайный лес target</td>\n",
       "      <td>max_depth: 20</td>\n",
       "      <td>n_estimators: 75</td>\n",
       "      <td>27.445826</td>\n",
       "      <td>1.246468</td>\n",
       "      <td>1653.626689</td>\n",
       "    </tr>\n",
       "    <tr>\n",
       "      <th>27</th>\n",
       "      <td>Случайный лес target</td>\n",
       "      <td>max_depth: 20</td>\n",
       "      <td>n_estimators: 50</td>\n",
       "      <td>18.365839</td>\n",
       "      <td>0.813218</td>\n",
       "      <td>1658.993767</td>\n",
       "    </tr>\n",
       "    <tr>\n",
       "      <th>0</th>\n",
       "      <td>Catboost_ordinal</td>\n",
       "      <td>iterations=1000</td>\n",
       "      <td>learning_rate=0.1</td>\n",
       "      <td>40.234490</td>\n",
       "      <td>0.035412</td>\n",
       "      <td>1668.922550</td>\n",
       "    </tr>\n",
       "    <tr>\n",
       "      <th>23</th>\n",
       "      <td>Случайный лес target</td>\n",
       "      <td>max_depth: 20</td>\n",
       "      <td>n_estimators: 25</td>\n",
       "      <td>9.260122</td>\n",
       "      <td>0.428302</td>\n",
       "      <td>1675.187970</td>\n",
       "    </tr>\n",
       "    <tr>\n",
       "      <th>2</th>\n",
       "      <td>LightGBM_target</td>\n",
       "      <td>learning_rate=0.3</td>\n",
       "      <td>reg_lambda=0</td>\n",
       "      <td>0.825476</td>\n",
       "      <td>0.247612</td>\n",
       "      <td>1688.051726</td>\n",
       "    </tr>\n",
       "    <tr>\n",
       "      <th>3</th>\n",
       "      <td>LightGBM_target</td>\n",
       "      <td>learning_rate=0.3</td>\n",
       "      <td>reg_lambda=0.2</td>\n",
       "      <td>0.827474</td>\n",
       "      <td>0.260444</td>\n",
       "      <td>1690.405849</td>\n",
       "    </tr>\n",
       "    <tr>\n",
       "      <th>30</th>\n",
       "      <td>Случайный лес ordinal</td>\n",
       "      <td>max_depth: 20</td>\n",
       "      <td>n_estimators: 75</td>\n",
       "      <td>28.581776</td>\n",
       "      <td>1.328548</td>\n",
       "      <td>1697.187066</td>\n",
       "    </tr>\n",
       "    <tr>\n",
       "      <th>26</th>\n",
       "      <td>Случайный лес ordinal</td>\n",
       "      <td>max_depth: 20</td>\n",
       "      <td>n_estimators: 50</td>\n",
       "      <td>18.808790</td>\n",
       "      <td>0.871146</td>\n",
       "      <td>1702.874437</td>\n",
       "    </tr>\n",
       "    <tr>\n",
       "      <th>3</th>\n",
       "      <td>LightGBM_ordinal</td>\n",
       "      <td>learning_rate=0.3</td>\n",
       "      <td>reg_lambda=0.2</td>\n",
       "      <td>0.842383</td>\n",
       "      <td>0.270851</td>\n",
       "      <td>1706.660208</td>\n",
       "    </tr>\n",
       "    <tr>\n",
       "      <th>2</th>\n",
       "      <td>LightGBM_ordinal</td>\n",
       "      <td>learning_rate=0.3</td>\n",
       "      <td>reg_lambda=0</td>\n",
       "      <td>0.847593</td>\n",
       "      <td>0.276058</td>\n",
       "      <td>1707.266785</td>\n",
       "    </tr>\n",
       "    <tr>\n",
       "      <th>22</th>\n",
       "      <td>Случайный лес ordinal</td>\n",
       "      <td>max_depth: 20</td>\n",
       "      <td>n_estimators: 25</td>\n",
       "      <td>9.379637</td>\n",
       "      <td>0.437381</td>\n",
       "      <td>1718.440235</td>\n",
       "    </tr>\n",
       "    <tr>\n",
       "      <th>0</th>\n",
       "      <td>LightGBM_target</td>\n",
       "      <td>learning_rate=0.1</td>\n",
       "      <td>reg_lambda=0</td>\n",
       "      <td>0.940875</td>\n",
       "      <td>0.369828</td>\n",
       "      <td>1737.367544</td>\n",
       "    </tr>\n",
       "    <tr>\n",
       "      <th>1</th>\n",
       "      <td>LightGBM_target</td>\n",
       "      <td>learning_rate=0.1</td>\n",
       "      <td>reg_lambda=0.2</td>\n",
       "      <td>0.998813</td>\n",
       "      <td>0.354193</td>\n",
       "      <td>1737.409319</td>\n",
       "    </tr>\n",
       "    <tr>\n",
       "      <th>1</th>\n",
       "      <td>LightGBM_ordinal</td>\n",
       "      <td>learning_rate=0.1</td>\n",
       "      <td>reg_lambda=0.2</td>\n",
       "      <td>1.050730</td>\n",
       "      <td>0.364612</td>\n",
       "      <td>1768.593126</td>\n",
       "    </tr>\n",
       "    <tr>\n",
       "      <th>0</th>\n",
       "      <td>LightGBM_ordinal</td>\n",
       "      <td>learning_rate=0.1</td>\n",
       "      <td>reg_lambda=0</td>\n",
       "      <td>1.063817</td>\n",
       "      <td>0.369821</td>\n",
       "      <td>1769.595576</td>\n",
       "    </tr>\n",
       "    <tr>\n",
       "      <th>29</th>\n",
       "      <td>Случайный лес target</td>\n",
       "      <td>max_depth: 10</td>\n",
       "      <td>n_estimators: 75</td>\n",
       "      <td>15.519203</td>\n",
       "      <td>0.412041</td>\n",
       "      <td>1866.250201</td>\n",
       "    </tr>\n",
       "    <tr>\n",
       "      <th>25</th>\n",
       "      <td>Случайный лес target</td>\n",
       "      <td>max_depth: 10</td>\n",
       "      <td>n_estimators: 50</td>\n",
       "      <td>10.013197</td>\n",
       "      <td>0.272804</td>\n",
       "      <td>1867.103174</td>\n",
       "    </tr>\n",
       "    <tr>\n",
       "      <th>21</th>\n",
       "      <td>Случайный лес target</td>\n",
       "      <td>max_depth: 10</td>\n",
       "      <td>n_estimators: 25</td>\n",
       "      <td>4.988215</td>\n",
       "      <td>0.146201</td>\n",
       "      <td>1871.454636</td>\n",
       "    </tr>\n",
       "    <tr>\n",
       "      <th>28</th>\n",
       "      <td>Случайный лес ordinal</td>\n",
       "      <td>max_depth: 10</td>\n",
       "      <td>n_estimators: 75</td>\n",
       "      <td>15.036650</td>\n",
       "      <td>0.419714</td>\n",
       "      <td>1967.987138</td>\n",
       "    </tr>\n",
       "    <tr>\n",
       "      <th>24</th>\n",
       "      <td>Случайный лес ordinal</td>\n",
       "      <td>max_depth: 10</td>\n",
       "      <td>n_estimators: 50</td>\n",
       "      <td>10.559014</td>\n",
       "      <td>0.276145</td>\n",
       "      <td>1969.224820</td>\n",
       "    </tr>\n",
       "    <tr>\n",
       "      <th>20</th>\n",
       "      <td>Случайный лес ordinal</td>\n",
       "      <td>max_depth: 10</td>\n",
       "      <td>n_estimators: 25</td>\n",
       "      <td>5.126878</td>\n",
       "      <td>0.225165</td>\n",
       "      <td>1973.783767</td>\n",
       "    </tr>\n",
       "    <tr>\n",
       "      <th>12</th>\n",
       "      <td>Линейная регрессия</td>\n",
       "      <td>max_iter: 21000</td>\n",
       "      <td>alpha: 1</td>\n",
       "      <td>1.046697</td>\n",
       "      <td>0.093747</td>\n",
       "      <td>2505.024372</td>\n",
       "    </tr>\n",
       "    <tr>\n",
       "      <th>17</th>\n",
       "      <td>Линейная регрессия</td>\n",
       "      <td>max_iter: 31000</td>\n",
       "      <td>alpha: 1</td>\n",
       "      <td>1.104254</td>\n",
       "      <td>0.094002</td>\n",
       "      <td>2505.024372</td>\n",
       "    </tr>\n",
       "    <tr>\n",
       "      <th>2</th>\n",
       "      <td>Линейная регрессия</td>\n",
       "      <td>max_iter: 1000</td>\n",
       "      <td>alpha: 1</td>\n",
       "      <td>1.027577</td>\n",
       "      <td>0.095148</td>\n",
       "      <td>2505.024372</td>\n",
       "    </tr>\n",
       "    <tr>\n",
       "      <th>7</th>\n",
       "      <td>Линейная регрессия</td>\n",
       "      <td>max_iter: 11000</td>\n",
       "      <td>alpha: 1</td>\n",
       "      <td>1.032404</td>\n",
       "      <td>0.140633</td>\n",
       "      <td>2505.024372</td>\n",
       "    </tr>\n",
       "    <tr>\n",
       "      <th>3</th>\n",
       "      <td>Линейная регрессия</td>\n",
       "      <td>max_iter: 1000</td>\n",
       "      <td>alpha: 0.1</td>\n",
       "      <td>1.007090</td>\n",
       "      <td>0.081112</td>\n",
       "      <td>2505.050959</td>\n",
       "    </tr>\n",
       "    <tr>\n",
       "      <th>18</th>\n",
       "      <td>Линейная регрессия</td>\n",
       "      <td>max_iter: 31000</td>\n",
       "      <td>alpha: 0.1</td>\n",
       "      <td>1.073000</td>\n",
       "      <td>0.093759</td>\n",
       "      <td>2505.050959</td>\n",
       "    </tr>\n",
       "    <tr>\n",
       "      <th>8</th>\n",
       "      <td>Линейная регрессия</td>\n",
       "      <td>max_iter: 11000</td>\n",
       "      <td>alpha: 0.1</td>\n",
       "      <td>1.014764</td>\n",
       "      <td>0.110823</td>\n",
       "      <td>2505.050959</td>\n",
       "    </tr>\n",
       "    <tr>\n",
       "      <th>13</th>\n",
       "      <td>Линейная регрессия</td>\n",
       "      <td>max_iter: 21000</td>\n",
       "      <td>alpha: 0.1</td>\n",
       "      <td>1.050136</td>\n",
       "      <td>0.119801</td>\n",
       "      <td>2505.050959</td>\n",
       "    </tr>\n",
       "    <tr>\n",
       "      <th>9</th>\n",
       "      <td>Линейная регрессия</td>\n",
       "      <td>max_iter: 11000</td>\n",
       "      <td>alpha: 0.01</td>\n",
       "      <td>1.010496</td>\n",
       "      <td>0.078130</td>\n",
       "      <td>2505.062775</td>\n",
       "    </tr>\n",
       "    <tr>\n",
       "      <th>14</th>\n",
       "      <td>Линейная регрессия</td>\n",
       "      <td>max_iter: 21000</td>\n",
       "      <td>alpha: 0.01</td>\n",
       "      <td>1.046958</td>\n",
       "      <td>0.093760</td>\n",
       "      <td>2505.062775</td>\n",
       "    </tr>\n",
       "    <tr>\n",
       "      <th>4</th>\n",
       "      <td>Линейная регрессия</td>\n",
       "      <td>max_iter: 1000</td>\n",
       "      <td>alpha: 0.01</td>\n",
       "      <td>1.038420</td>\n",
       "      <td>0.096422</td>\n",
       "      <td>2505.062775</td>\n",
       "    </tr>\n",
       "    <tr>\n",
       "      <th>19</th>\n",
       "      <td>Линейная регрессия</td>\n",
       "      <td>max_iter: 31000</td>\n",
       "      <td>alpha: 0.01</td>\n",
       "      <td>1.066152</td>\n",
       "      <td>0.106052</td>\n",
       "      <td>2505.062775</td>\n",
       "    </tr>\n",
       "    <tr>\n",
       "      <th>16</th>\n",
       "      <td>Линейная регрессия</td>\n",
       "      <td>max_iter: 31000</td>\n",
       "      <td>alpha: 10</td>\n",
       "      <td>1.115422</td>\n",
       "      <td>0.062505</td>\n",
       "      <td>2507.578073</td>\n",
       "    </tr>\n",
       "    <tr>\n",
       "      <th>6</th>\n",
       "      <td>Линейная регрессия</td>\n",
       "      <td>max_iter: 11000</td>\n",
       "      <td>alpha: 10</td>\n",
       "      <td>1.050722</td>\n",
       "      <td>0.105777</td>\n",
       "      <td>2507.578073</td>\n",
       "    </tr>\n",
       "    <tr>\n",
       "      <th>1</th>\n",
       "      <td>Линейная регрессия</td>\n",
       "      <td>max_iter: 1000</td>\n",
       "      <td>alpha: 10</td>\n",
       "      <td>1.021903</td>\n",
       "      <td>0.107276</td>\n",
       "      <td>2507.578073</td>\n",
       "    </tr>\n",
       "    <tr>\n",
       "      <th>11</th>\n",
       "      <td>Линейная регрессия</td>\n",
       "      <td>max_iter: 21000</td>\n",
       "      <td>alpha: 10</td>\n",
       "      <td>1.109460</td>\n",
       "      <td>0.109383</td>\n",
       "      <td>2507.578073</td>\n",
       "    </tr>\n",
       "    <tr>\n",
       "      <th>5</th>\n",
       "      <td>Линейная регрессия</td>\n",
       "      <td>max_iter: 11000</td>\n",
       "      <td>alpha: 100</td>\n",
       "      <td>1.000086</td>\n",
       "      <td>0.078324</td>\n",
       "      <td>2533.091255</td>\n",
       "    </tr>\n",
       "    <tr>\n",
       "      <th>10</th>\n",
       "      <td>Линейная регрессия</td>\n",
       "      <td>max_iter: 21000</td>\n",
       "      <td>alpha: 100</td>\n",
       "      <td>1.010495</td>\n",
       "      <td>0.088547</td>\n",
       "      <td>2533.091255</td>\n",
       "    </tr>\n",
       "    <tr>\n",
       "      <th>0</th>\n",
       "      <td>Линейная регрессия</td>\n",
       "      <td>max_iter: 1000</td>\n",
       "      <td>alpha: 100</td>\n",
       "      <td>1.180406</td>\n",
       "      <td>0.109382</td>\n",
       "      <td>2533.091255</td>\n",
       "    </tr>\n",
       "    <tr>\n",
       "      <th>15</th>\n",
       "      <td>Линейная регрессия</td>\n",
       "      <td>max_iter: 31000</td>\n",
       "      <td>alpha: 100</td>\n",
       "      <td>1.036538</td>\n",
       "      <td>0.119801</td>\n",
       "      <td>2533.091255</td>\n",
       "    </tr>\n",
       "  </tbody>\n",
       "</table>\n",
       "</div>"
      ],
      "text/plain": [
       "                   Модель               HP_1               HP_2   fit_time  \\\n",
       "2         Catboost_target    iterations=3000  learning_rate=0.1  79.039742   \n",
       "3         Catboost_target    iterations=3000  learning_rate=0.3  87.378618   \n",
       "2        Catboost_ordinal    iterations=3000  learning_rate=0.1  75.496755   \n",
       "1         Catboost_target    iterations=1000  learning_rate=0.3  33.200207   \n",
       "3        Catboost_ordinal    iterations=3000  learning_rate=0.3  78.494595   \n",
       "1        Catboost_ordinal    iterations=1000  learning_rate=0.3  40.161967   \n",
       "0         Catboost_target    iterations=1000  learning_rate=0.1  38.137861   \n",
       "31   Случайный лес target      max_depth: 20   n_estimators: 75  27.445826   \n",
       "27   Случайный лес target      max_depth: 20   n_estimators: 50  18.365839   \n",
       "0        Catboost_ordinal    iterations=1000  learning_rate=0.1  40.234490   \n",
       "23   Случайный лес target      max_depth: 20   n_estimators: 25   9.260122   \n",
       "2         LightGBM_target  learning_rate=0.3       reg_lambda=0   0.825476   \n",
       "3         LightGBM_target  learning_rate=0.3     reg_lambda=0.2   0.827474   \n",
       "30  Случайный лес ordinal      max_depth: 20   n_estimators: 75  28.581776   \n",
       "26  Случайный лес ordinal      max_depth: 20   n_estimators: 50  18.808790   \n",
       "3        LightGBM_ordinal  learning_rate=0.3     reg_lambda=0.2   0.842383   \n",
       "2        LightGBM_ordinal  learning_rate=0.3       reg_lambda=0   0.847593   \n",
       "22  Случайный лес ordinal      max_depth: 20   n_estimators: 25   9.379637   \n",
       "0         LightGBM_target  learning_rate=0.1       reg_lambda=0   0.940875   \n",
       "1         LightGBM_target  learning_rate=0.1     reg_lambda=0.2   0.998813   \n",
       "1        LightGBM_ordinal  learning_rate=0.1     reg_lambda=0.2   1.050730   \n",
       "0        LightGBM_ordinal  learning_rate=0.1       reg_lambda=0   1.063817   \n",
       "29   Случайный лес target      max_depth: 10   n_estimators: 75  15.519203   \n",
       "25   Случайный лес target      max_depth: 10   n_estimators: 50  10.013197   \n",
       "21   Случайный лес target      max_depth: 10   n_estimators: 25   4.988215   \n",
       "28  Случайный лес ordinal      max_depth: 10   n_estimators: 75  15.036650   \n",
       "24  Случайный лес ordinal      max_depth: 10   n_estimators: 50  10.559014   \n",
       "20  Случайный лес ordinal      max_depth: 10   n_estimators: 25   5.126878   \n",
       "12     Линейная регрессия    max_iter: 21000           alpha: 1   1.046697   \n",
       "17     Линейная регрессия    max_iter: 31000           alpha: 1   1.104254   \n",
       "2      Линейная регрессия     max_iter: 1000           alpha: 1   1.027577   \n",
       "7      Линейная регрессия    max_iter: 11000           alpha: 1   1.032404   \n",
       "3      Линейная регрессия     max_iter: 1000         alpha: 0.1   1.007090   \n",
       "18     Линейная регрессия    max_iter: 31000         alpha: 0.1   1.073000   \n",
       "8      Линейная регрессия    max_iter: 11000         alpha: 0.1   1.014764   \n",
       "13     Линейная регрессия    max_iter: 21000         alpha: 0.1   1.050136   \n",
       "9      Линейная регрессия    max_iter: 11000        alpha: 0.01   1.010496   \n",
       "14     Линейная регрессия    max_iter: 21000        alpha: 0.01   1.046958   \n",
       "4      Линейная регрессия     max_iter: 1000        alpha: 0.01   1.038420   \n",
       "19     Линейная регрессия    max_iter: 31000        alpha: 0.01   1.066152   \n",
       "16     Линейная регрессия    max_iter: 31000          alpha: 10   1.115422   \n",
       "6      Линейная регрессия    max_iter: 11000          alpha: 10   1.050722   \n",
       "1      Линейная регрессия     max_iter: 1000          alpha: 10   1.021903   \n",
       "11     Линейная регрессия    max_iter: 21000          alpha: 10   1.109460   \n",
       "5      Линейная регрессия    max_iter: 11000         alpha: 100   1.000086   \n",
       "10     Линейная регрессия    max_iter: 21000         alpha: 100   1.010495   \n",
       "0      Линейная регрессия     max_iter: 1000         alpha: 100   1.180406   \n",
       "15     Линейная регрессия    max_iter: 31000         alpha: 100   1.036538   \n",
       "\n",
       "    predict_time    RMSE_mean  \n",
       "2       0.032709  1614.726674  \n",
       "3       0.053387  1619.236819  \n",
       "2       0.031487  1625.283994  \n",
       "1       0.041749  1626.650602  \n",
       "3       0.026998  1626.934093  \n",
       "1       0.029859  1638.572942  \n",
       "0       0.034402  1647.968562  \n",
       "31      1.246468  1653.626689  \n",
       "27      0.813218  1658.993767  \n",
       "0       0.035412  1668.922550  \n",
       "23      0.428302  1675.187970  \n",
       "2       0.247612  1688.051726  \n",
       "3       0.260444  1690.405849  \n",
       "30      1.328548  1697.187066  \n",
       "26      0.871146  1702.874437  \n",
       "3       0.270851  1706.660208  \n",
       "2       0.276058  1707.266785  \n",
       "22      0.437381  1718.440235  \n",
       "0       0.369828  1737.367544  \n",
       "1       0.354193  1737.409319  \n",
       "1       0.364612  1768.593126  \n",
       "0       0.369821  1769.595576  \n",
       "29      0.412041  1866.250201  \n",
       "25      0.272804  1867.103174  \n",
       "21      0.146201  1871.454636  \n",
       "28      0.419714  1967.987138  \n",
       "24      0.276145  1969.224820  \n",
       "20      0.225165  1973.783767  \n",
       "12      0.093747  2505.024372  \n",
       "17      0.094002  2505.024372  \n",
       "2       0.095148  2505.024372  \n",
       "7       0.140633  2505.024372  \n",
       "3       0.081112  2505.050959  \n",
       "18      0.093759  2505.050959  \n",
       "8       0.110823  2505.050959  \n",
       "13      0.119801  2505.050959  \n",
       "9       0.078130  2505.062775  \n",
       "14      0.093760  2505.062775  \n",
       "4       0.096422  2505.062775  \n",
       "19      0.106052  2505.062775  \n",
       "16      0.062505  2507.578073  \n",
       "6       0.105777  2507.578073  \n",
       "1       0.107276  2507.578073  \n",
       "11      0.109383  2507.578073  \n",
       "5       0.078324  2533.091255  \n",
       "10      0.088547  2533.091255  \n",
       "0       0.109382  2533.091255  \n",
       "15      0.119801  2533.091255  "
      ]
     },
     "execution_count": 85,
     "metadata": {},
     "output_type": "execute_result"
    }
   ],
   "source": [
    "compare_models = pd.concat([compare_models, cb_ordinal, cb_target, lgbm_ordinal, lgbm_target], axis=0)\n",
    "compare_models.sort_values(by=['RMSE_mean', 'predict_time', 'fit_time'])"
   ]
  },
  {
   "cell_type": "markdown",
   "metadata": {
    "id": "IlduhfN5duFl"
   },
   "source": [
    "Для дальнейшего сравнения с учётом значения RMSE, времени обучения и предсказания выберем модели:\n",
    "- catboost с использованием target encoding и с параметрами iterations=1000 и learning_rate=0.3,\n",
    "- LightGBM с использованием target encoding и с параметрами reg_lambda=0 и learning_rate=0.3,\n",
    "- модель на основе случайного леса с использованием target encoding и с параметрами max_depth=20 и n_estimators=50.\n",
    "\n",
    "\n",
    "Модель линейной регрессии существенно уступает указанным выше моделям по RMSE."
   ]
  },
  {
   "cell_type": "markdown",
   "metadata": {
    "id": "pvxFvc5lCJFS"
   },
   "source": [
    "## Анализ моделей"
   ]
  },
  {
   "cell_type": "code",
   "execution_count": 86,
   "metadata": {
    "ExecuteTime": {
     "end_time": "2023-07-15T10:27:06.583856Z",
     "start_time": "2023-07-15T10:26:54.358000Z"
    },
    "colab": {
     "base_uri": "https://localhost:8080/"
    },
    "id": "eyh4zsPoGYIN",
    "outputId": "0e271dd2-a4fd-4a3c-a636-1212ae706e61"
   },
   "outputs": [
    {
     "name": "stdout",
     "output_type": "stream",
     "text": [
      "CPU times: total: 4min 16s\n",
      "Wall time: 12.2 s\n"
     ]
    },
    {
     "data": {
      "text/plain": [
       "<catboost.core.CatBoostRegressor at 0x1f818c798a0>"
      ]
     },
     "execution_count": 86,
     "metadata": {},
     "output_type": "execute_result"
    }
   ],
   "source": [
    "%%time\n",
    "# Обучим модель catboost\n",
    "model_cb = CatBoostRegressor(eval_metric='RMSE', loss_function='RMSE',\n",
    "                             random_seed=RANDOM_STATE, logging_level='Silent',\n",
    "                             iterations=1000, learning_rate=0.3)\n",
    "model_cb.fit(features_train_target, train[y])"
   ]
  },
  {
   "cell_type": "code",
   "execution_count": 88,
   "metadata": {
    "ExecuteTime": {
     "end_time": "2023-07-15T10:34:13.101633Z",
     "start_time": "2023-07-15T10:34:13.084627Z"
    },
    "colab": {
     "base_uri": "https://localhost:8080/"
    },
    "id": "Z-3Qa42-lKOW",
    "outputId": "c05a9e3f-04dd-4989-e10b-a610209234e1"
   },
   "outputs": [
    {
     "name": "stdout",
     "output_type": "stream",
     "text": [
      "CPU times: total: 0 ns\n",
      "Wall time: 8.01 ms\n"
     ]
    }
   ],
   "source": [
    "%%time\n",
    "# Получим предсказания модели catboost\n",
    "predict_cb = model_cb.predict(features_test_target)"
   ]
  },
  {
   "cell_type": "code",
   "execution_count": 89,
   "metadata": {
    "ExecuteTime": {
     "end_time": "2023-07-15T10:34:22.576103Z",
     "start_time": "2023-07-15T10:34:22.565102Z"
    },
    "colab": {
     "base_uri": "https://localhost:8080/"
    },
    "id": "aloKHWNvl6he",
    "outputId": "4725fe34-b5b4-449f-e9a5-dfed33924961"
   },
   "outputs": [
    {
     "data": {
      "text/plain": [
       "1622.935722954445"
      ]
     },
     "execution_count": 89,
     "metadata": {},
     "output_type": "execute_result"
    }
   ],
   "source": [
    "# Вычислим значение RMSE модели catboost\n",
    "rmse_cb = mean_squared_error(test[y], predict_cb, squared=False)\n",
    "rmse_cb"
   ]
  },
  {
   "cell_type": "code",
   "execution_count": 90,
   "metadata": {
    "ExecuteTime": {
     "end_time": "2023-07-15T10:34:26.920119Z",
     "start_time": "2023-07-15T10:34:26.612733Z"
    },
    "colab": {
     "base_uri": "https://localhost:8080/"
    },
    "id": "cur4Guc8GYWW",
    "outputId": "0265c2e5-b499-41cf-f7c1-f639b728de58"
   },
   "outputs": [
    {
     "name": "stdout",
     "output_type": "stream",
     "text": [
      "CPU times: total: 7.97 s\n",
      "Wall time: 290 ms\n"
     ]
    },
    {
     "data": {
      "text/html": [
       "<style>#sk-container-id-5 {color: black;background-color: white;}#sk-container-id-5 pre{padding: 0;}#sk-container-id-5 div.sk-toggleable {background-color: white;}#sk-container-id-5 label.sk-toggleable__label {cursor: pointer;display: block;width: 100%;margin-bottom: 0;padding: 0.3em;box-sizing: border-box;text-align: center;}#sk-container-id-5 label.sk-toggleable__label-arrow:before {content: \"▸\";float: left;margin-right: 0.25em;color: #696969;}#sk-container-id-5 label.sk-toggleable__label-arrow:hover:before {color: black;}#sk-container-id-5 div.sk-estimator:hover label.sk-toggleable__label-arrow:before {color: black;}#sk-container-id-5 div.sk-toggleable__content {max-height: 0;max-width: 0;overflow: hidden;text-align: left;background-color: #f0f8ff;}#sk-container-id-5 div.sk-toggleable__content pre {margin: 0.2em;color: black;border-radius: 0.25em;background-color: #f0f8ff;}#sk-container-id-5 input.sk-toggleable__control:checked~div.sk-toggleable__content {max-height: 200px;max-width: 100%;overflow: auto;}#sk-container-id-5 input.sk-toggleable__control:checked~label.sk-toggleable__label-arrow:before {content: \"▾\";}#sk-container-id-5 div.sk-estimator input.sk-toggleable__control:checked~label.sk-toggleable__label {background-color: #d4ebff;}#sk-container-id-5 div.sk-label input.sk-toggleable__control:checked~label.sk-toggleable__label {background-color: #d4ebff;}#sk-container-id-5 input.sk-hidden--visually {border: 0;clip: rect(1px 1px 1px 1px);clip: rect(1px, 1px, 1px, 1px);height: 1px;margin: -1px;overflow: hidden;padding: 0;position: absolute;width: 1px;}#sk-container-id-5 div.sk-estimator {font-family: monospace;background-color: #f0f8ff;border: 1px dotted black;border-radius: 0.25em;box-sizing: border-box;margin-bottom: 0.5em;}#sk-container-id-5 div.sk-estimator:hover {background-color: #d4ebff;}#sk-container-id-5 div.sk-parallel-item::after {content: \"\";width: 100%;border-bottom: 1px solid gray;flex-grow: 1;}#sk-container-id-5 div.sk-label:hover label.sk-toggleable__label {background-color: #d4ebff;}#sk-container-id-5 div.sk-serial::before {content: \"\";position: absolute;border-left: 1px solid gray;box-sizing: border-box;top: 0;bottom: 0;left: 50%;z-index: 0;}#sk-container-id-5 div.sk-serial {display: flex;flex-direction: column;align-items: center;background-color: white;padding-right: 0.2em;padding-left: 0.2em;position: relative;}#sk-container-id-5 div.sk-item {position: relative;z-index: 1;}#sk-container-id-5 div.sk-parallel {display: flex;align-items: stretch;justify-content: center;background-color: white;position: relative;}#sk-container-id-5 div.sk-item::before, #sk-container-id-5 div.sk-parallel-item::before {content: \"\";position: absolute;border-left: 1px solid gray;box-sizing: border-box;top: 0;bottom: 0;left: 50%;z-index: -1;}#sk-container-id-5 div.sk-parallel-item {display: flex;flex-direction: column;z-index: 1;position: relative;background-color: white;}#sk-container-id-5 div.sk-parallel-item:first-child::after {align-self: flex-end;width: 50%;}#sk-container-id-5 div.sk-parallel-item:last-child::after {align-self: flex-start;width: 50%;}#sk-container-id-5 div.sk-parallel-item:only-child::after {width: 0;}#sk-container-id-5 div.sk-dashed-wrapped {border: 1px dashed gray;margin: 0 0.4em 0.5em 0.4em;box-sizing: border-box;padding-bottom: 0.4em;background-color: white;}#sk-container-id-5 div.sk-label label {font-family: monospace;font-weight: bold;display: inline-block;line-height: 1.2em;}#sk-container-id-5 div.sk-label-container {text-align: center;}#sk-container-id-5 div.sk-container {/* jupyter's `normalize.less` sets `[hidden] { display: none; }` but bootstrap.min.css set `[hidden] { display: none !important; }` so we also need the `!important` here to be able to override the default hidden behavior on the sphinx rendered scikit-learn.org. See: https://github.com/scikit-learn/scikit-learn/issues/21755 */display: inline-block !important;position: relative;}#sk-container-id-5 div.sk-text-repr-fallback {display: none;}</style><div id=\"sk-container-id-5\" class=\"sk-top-container\"><div class=\"sk-text-repr-fallback\"><pre>LGBMRegressor(learning_rate=0.3, random_state=12345, reg_lambda=0.2)</pre><b>In a Jupyter environment, please rerun this cell to show the HTML representation or trust the notebook. <br />On GitHub, the HTML representation is unable to render, please try loading this page with nbviewer.org.</b></div><div class=\"sk-container\" hidden><div class=\"sk-item\"><div class=\"sk-estimator sk-toggleable\"><input class=\"sk-toggleable__control sk-hidden--visually\" id=\"sk-estimator-id-13\" type=\"checkbox\" checked><label for=\"sk-estimator-id-13\" class=\"sk-toggleable__label sk-toggleable__label-arrow\">LGBMRegressor</label><div class=\"sk-toggleable__content\"><pre>LGBMRegressor(learning_rate=0.3, random_state=12345, reg_lambda=0.2)</pre></div></div></div></div></div>"
      ],
      "text/plain": [
       "LGBMRegressor(learning_rate=0.3, random_state=12345, reg_lambda=0.2)"
      ]
     },
     "execution_count": 90,
     "metadata": {},
     "output_type": "execute_result"
    }
   ],
   "source": [
    "%%time\n",
    "# Обучим модель LightGBM\n",
    "model_lgbm = LGBMRegressor(reg_lambda=0.2,\n",
    "                           learning_rate=0.3,\n",
    "                           random_state=RANDOM_STATE,\n",
    "                           n_jobs=-1)\n",
    "model_lgbm.fit(features_train_target, train[y])"
   ]
  },
  {
   "cell_type": "code",
   "execution_count": 91,
   "metadata": {
    "ExecuteTime": {
     "end_time": "2023-07-15T10:34:30.403379Z",
     "start_time": "2023-07-15T10:34:30.371516Z"
    },
    "colab": {
     "base_uri": "https://localhost:8080/"
    },
    "id": "cRvevQwuleST",
    "outputId": "37e040a6-150b-4947-e900-a16e79f32485"
   },
   "outputs": [
    {
     "name": "stdout",
     "output_type": "stream",
     "text": [
      "CPU times: total: 453 ms\n",
      "Wall time: 22 ms\n"
     ]
    }
   ],
   "source": [
    "%%time\n",
    "# Получим предсказания модели LightGBM\n",
    "predict_lgbm = model_lgbm.predict(features_test_target)"
   ]
  },
  {
   "cell_type": "code",
   "execution_count": 92,
   "metadata": {
    "ExecuteTime": {
     "end_time": "2023-07-15T10:34:34.743002Z",
     "start_time": "2023-07-15T10:34:34.723986Z"
    },
    "colab": {
     "base_uri": "https://localhost:8080/"
    },
    "id": "xOGUXeSGnlCP",
    "outputId": "b3838d9c-05e2-4e8f-b226-06175034ba1f"
   },
   "outputs": [
    {
     "data": {
      "text/plain": [
       "1689.0252005625696"
      ]
     },
     "execution_count": 92,
     "metadata": {},
     "output_type": "execute_result"
    }
   ],
   "source": [
    "# Вычислим значение RMSE модели LightGBM\n",
    "rmse_lgbm = mean_squared_error(test[y], predict_lgbm, squared=False)\n",
    "rmse_lgbm"
   ]
  },
  {
   "cell_type": "code",
   "execution_count": 95,
   "metadata": {
    "ExecuteTime": {
     "end_time": "2023-07-15T10:36:59.410312Z",
     "start_time": "2023-07-15T10:36:46.244608Z"
    },
    "colab": {
     "base_uri": "https://localhost:8080/"
    },
    "id": "dJUJtqiYGYh1",
    "outputId": "7af2b38c-d234-4c81-cf07-1905478a9586"
   },
   "outputs": [
    {
     "name": "stdout",
     "output_type": "stream",
     "text": [
      "CPU times: total: 13.2 s\n",
      "Wall time: 13.1 s\n"
     ]
    },
    {
     "data": {
      "text/html": [
       "<style>#sk-container-id-7 {color: black;background-color: white;}#sk-container-id-7 pre{padding: 0;}#sk-container-id-7 div.sk-toggleable {background-color: white;}#sk-container-id-7 label.sk-toggleable__label {cursor: pointer;display: block;width: 100%;margin-bottom: 0;padding: 0.3em;box-sizing: border-box;text-align: center;}#sk-container-id-7 label.sk-toggleable__label-arrow:before {content: \"▸\";float: left;margin-right: 0.25em;color: #696969;}#sk-container-id-7 label.sk-toggleable__label-arrow:hover:before {color: black;}#sk-container-id-7 div.sk-estimator:hover label.sk-toggleable__label-arrow:before {color: black;}#sk-container-id-7 div.sk-toggleable__content {max-height: 0;max-width: 0;overflow: hidden;text-align: left;background-color: #f0f8ff;}#sk-container-id-7 div.sk-toggleable__content pre {margin: 0.2em;color: black;border-radius: 0.25em;background-color: #f0f8ff;}#sk-container-id-7 input.sk-toggleable__control:checked~div.sk-toggleable__content {max-height: 200px;max-width: 100%;overflow: auto;}#sk-container-id-7 input.sk-toggleable__control:checked~label.sk-toggleable__label-arrow:before {content: \"▾\";}#sk-container-id-7 div.sk-estimator input.sk-toggleable__control:checked~label.sk-toggleable__label {background-color: #d4ebff;}#sk-container-id-7 div.sk-label input.sk-toggleable__control:checked~label.sk-toggleable__label {background-color: #d4ebff;}#sk-container-id-7 input.sk-hidden--visually {border: 0;clip: rect(1px 1px 1px 1px);clip: rect(1px, 1px, 1px, 1px);height: 1px;margin: -1px;overflow: hidden;padding: 0;position: absolute;width: 1px;}#sk-container-id-7 div.sk-estimator {font-family: monospace;background-color: #f0f8ff;border: 1px dotted black;border-radius: 0.25em;box-sizing: border-box;margin-bottom: 0.5em;}#sk-container-id-7 div.sk-estimator:hover {background-color: #d4ebff;}#sk-container-id-7 div.sk-parallel-item::after {content: \"\";width: 100%;border-bottom: 1px solid gray;flex-grow: 1;}#sk-container-id-7 div.sk-label:hover label.sk-toggleable__label {background-color: #d4ebff;}#sk-container-id-7 div.sk-serial::before {content: \"\";position: absolute;border-left: 1px solid gray;box-sizing: border-box;top: 0;bottom: 0;left: 50%;z-index: 0;}#sk-container-id-7 div.sk-serial {display: flex;flex-direction: column;align-items: center;background-color: white;padding-right: 0.2em;padding-left: 0.2em;position: relative;}#sk-container-id-7 div.sk-item {position: relative;z-index: 1;}#sk-container-id-7 div.sk-parallel {display: flex;align-items: stretch;justify-content: center;background-color: white;position: relative;}#sk-container-id-7 div.sk-item::before, #sk-container-id-7 div.sk-parallel-item::before {content: \"\";position: absolute;border-left: 1px solid gray;box-sizing: border-box;top: 0;bottom: 0;left: 50%;z-index: -1;}#sk-container-id-7 div.sk-parallel-item {display: flex;flex-direction: column;z-index: 1;position: relative;background-color: white;}#sk-container-id-7 div.sk-parallel-item:first-child::after {align-self: flex-end;width: 50%;}#sk-container-id-7 div.sk-parallel-item:last-child::after {align-self: flex-start;width: 50%;}#sk-container-id-7 div.sk-parallel-item:only-child::after {width: 0;}#sk-container-id-7 div.sk-dashed-wrapped {border: 1px dashed gray;margin: 0 0.4em 0.5em 0.4em;box-sizing: border-box;padding-bottom: 0.4em;background-color: white;}#sk-container-id-7 div.sk-label label {font-family: monospace;font-weight: bold;display: inline-block;line-height: 1.2em;}#sk-container-id-7 div.sk-label-container {text-align: center;}#sk-container-id-7 div.sk-container {/* jupyter's `normalize.less` sets `[hidden] { display: none; }` but bootstrap.min.css set `[hidden] { display: none !important; }` so we also need the `!important` here to be able to override the default hidden behavior on the sphinx rendered scikit-learn.org. See: https://github.com/scikit-learn/scikit-learn/issues/21755 */display: inline-block !important;position: relative;}#sk-container-id-7 div.sk-text-repr-fallback {display: none;}</style><div id=\"sk-container-id-7\" class=\"sk-top-container\"><div class=\"sk-text-repr-fallback\"><pre>RandomForestRegressor(max_depth=20, n_estimators=25, random_state=12345)</pre><b>In a Jupyter environment, please rerun this cell to show the HTML representation or trust the notebook. <br />On GitHub, the HTML representation is unable to render, please try loading this page with nbviewer.org.</b></div><div class=\"sk-container\" hidden><div class=\"sk-item\"><div class=\"sk-estimator sk-toggleable\"><input class=\"sk-toggleable__control sk-hidden--visually\" id=\"sk-estimator-id-15\" type=\"checkbox\" checked><label for=\"sk-estimator-id-15\" class=\"sk-toggleable__label sk-toggleable__label-arrow\">RandomForestRegressor</label><div class=\"sk-toggleable__content\"><pre>RandomForestRegressor(max_depth=20, n_estimators=25, random_state=12345)</pre></div></div></div></div></div>"
      ],
      "text/plain": [
       "RandomForestRegressor(max_depth=20, n_estimators=25, random_state=12345)"
      ]
     },
     "execution_count": 95,
     "metadata": {},
     "output_type": "execute_result"
    }
   ],
   "source": [
    "%%time\n",
    "# Обучим модель на основе случайного леса\n",
    "model_rf = RandomForestRegressor(random_state=RANDOM_STATE,\n",
    "                                   n_estimators=25,\n",
    "                                   max_depth=20)\n",
    "model_rf.fit(features_train_target, pd.Series.ravel(train[y]))"
   ]
  },
  {
   "cell_type": "code",
   "execution_count": 96,
   "metadata": {
    "ExecuteTime": {
     "end_time": "2023-07-15T10:37:08.434002Z",
     "start_time": "2023-07-15T10:37:08.100811Z"
    },
    "colab": {
     "base_uri": "https://localhost:8080/"
    },
    "id": "H_N4uNYolntb",
    "outputId": "2b1dd75f-3f57-47dd-8847-7e7f15f6d743"
   },
   "outputs": [
    {
     "name": "stdout",
     "output_type": "stream",
     "text": [
      "CPU times: total: 312 ms\n",
      "Wall time: 317 ms\n"
     ]
    }
   ],
   "source": [
    "%%time\n",
    "# Получим предсказания модели на основе случайного леса\n",
    "predict_rf = model_rf.predict(features_test_target)"
   ]
  },
  {
   "cell_type": "code",
   "execution_count": 97,
   "metadata": {
    "ExecuteTime": {
     "end_time": "2023-07-15T10:37:10.180593Z",
     "start_time": "2023-07-15T10:37:10.172586Z"
    },
    "colab": {
     "base_uri": "https://localhost:8080/"
    },
    "id": "HVKVlFqHn2nI",
    "outputId": "dd7f5739-172f-437d-bcfb-f5038050a2a8"
   },
   "outputs": [
    {
     "data": {
      "text/plain": [
       "1666.2865585096447"
      ]
     },
     "execution_count": 97,
     "metadata": {},
     "output_type": "execute_result"
    }
   ],
   "source": [
    "# Вычислим значение RMSE модели на основе случайного леса\n",
    "rmse_rf = mean_squared_error(test[y], predict_rf, squared=False)\n",
    "rmse_rf"
   ]
  },
  {
   "cell_type": "code",
   "execution_count": 98,
   "metadata": {
    "ExecuteTime": {
     "end_time": "2023-07-15T10:40:20.122699Z",
     "start_time": "2023-07-15T10:40:20.109699Z"
    },
    "colab": {
     "base_uri": "https://localhost:8080/",
     "height": 143
    },
    "id": "dajU4FxmolJX",
    "outputId": "32543c65-6673-4109-a5ce-128d2bdb30d1"
   },
   "outputs": [
    {
     "data": {
      "text/html": [
       "<div>\n",
       "<style scoped>\n",
       "    .dataframe tbody tr th:only-of-type {\n",
       "        vertical-align: middle;\n",
       "    }\n",
       "\n",
       "    .dataframe tbody tr th {\n",
       "        vertical-align: top;\n",
       "    }\n",
       "\n",
       "    .dataframe thead th {\n",
       "        text-align: right;\n",
       "    }\n",
       "</style>\n",
       "<table border=\"1\" class=\"dataframe\">\n",
       "  <thead>\n",
       "    <tr style=\"text-align: right;\">\n",
       "      <th></th>\n",
       "      <th>Модель</th>\n",
       "      <th>Время обучения</th>\n",
       "      <th>Время предсказания</th>\n",
       "      <th>RMSE</th>\n",
       "    </tr>\n",
       "  </thead>\n",
       "  <tbody>\n",
       "    <tr>\n",
       "      <th>0</th>\n",
       "      <td>Catboost</td>\n",
       "      <td>12.20</td>\n",
       "      <td>0.008</td>\n",
       "      <td>1623</td>\n",
       "    </tr>\n",
       "    <tr>\n",
       "      <th>1</th>\n",
       "      <td>LightGBM</td>\n",
       "      <td>0.29</td>\n",
       "      <td>0.022</td>\n",
       "      <td>1689</td>\n",
       "    </tr>\n",
       "    <tr>\n",
       "      <th>2</th>\n",
       "      <td>Random forest</td>\n",
       "      <td>13.10</td>\n",
       "      <td>0.317</td>\n",
       "      <td>1666</td>\n",
       "    </tr>\n",
       "  </tbody>\n",
       "</table>\n",
       "</div>"
      ],
      "text/plain": [
       "          Модель  Время обучения  Время предсказания  RMSE\n",
       "0       Catboost           12.20               0.008  1623\n",
       "1       LightGBM            0.29               0.022  1689\n",
       "2  Random forest           13.10               0.317  1666"
      ]
     },
     "execution_count": 98,
     "metadata": {},
     "output_type": "execute_result"
    }
   ],
   "source": [
    "pd.DataFrame({'Модель':['Catboost', 'LightGBM', 'Random forest'],\n",
    "             'Время обучения':[12.2, 0.29, 13.1],\n",
    "             'Время предсказания':[0.008, 0.022, 0.317],\n",
    "             'RMSE':[1623, 1689, 1666]})"
   ]
  },
  {
   "cell_type": "markdown",
   "metadata": {
    "id": "OFp7Z2bVqoOA"
   },
   "source": [
    "По времени предсказания и целевой метрике лидирует модель catboost. Её рекомендуется применять заказчику. Если для заказчика наиболее критично время обучения, то стоит рассмотреть модель LightGBM, время обучения которой на два порядка меньше, чем у других моделей. Модель на основе случайного леса уступает по времени предсказания всем моделям, но на втором месте по значению метрики."
   ]
  },
  {
   "cell_type": "markdown",
   "metadata": {
    "id": "04cVYevTrGvM"
   },
   "source": [
    "**Вывод по работе:**\n",
    "- произведена загрузка данных, ознакомление с ними,\n",
    "- выполнена предобработка данных (заполнены пропуски, обработаны аномалии),\n",
    "- выполнен подбор моделей линейной регрессии, catboost. LightGBM и на основе случайного леса,\n",
    "- проведёно сравнение моделей по времени обучения/предсказания, метрике RMSE и даны рекомендации по выбору модели для использования."
   ]
  }
 ],
 "metadata": {
  "ExecuteTimeLog": [
   {
    "duration": 1796,
    "start_time": "2023-07-15T09:55:59.224Z"
   },
   {
    "duration": 0,
    "start_time": "2023-07-15T09:56:01.026Z"
   },
   {
    "duration": 0,
    "start_time": "2023-07-15T09:56:01.027Z"
   },
   {
    "duration": 0,
    "start_time": "2023-07-15T09:56:01.029Z"
   },
   {
    "duration": 0,
    "start_time": "2023-07-15T09:56:01.030Z"
   },
   {
    "duration": 0,
    "start_time": "2023-07-15T09:56:01.031Z"
   },
   {
    "duration": 0,
    "start_time": "2023-07-15T09:56:01.032Z"
   },
   {
    "duration": 0,
    "start_time": "2023-07-15T09:56:01.033Z"
   },
   {
    "duration": 0,
    "start_time": "2023-07-15T09:56:01.034Z"
   },
   {
    "duration": 0,
    "start_time": "2023-07-15T09:56:01.035Z"
   },
   {
    "duration": 0,
    "start_time": "2023-07-15T09:56:01.036Z"
   },
   {
    "duration": 0,
    "start_time": "2023-07-15T09:56:01.037Z"
   },
   {
    "duration": 0,
    "start_time": "2023-07-15T09:56:01.039Z"
   },
   {
    "duration": 0,
    "start_time": "2023-07-15T09:56:01.039Z"
   },
   {
    "duration": 0,
    "start_time": "2023-07-15T09:56:01.040Z"
   },
   {
    "duration": 0,
    "start_time": "2023-07-15T09:56:01.041Z"
   },
   {
    "duration": 0,
    "start_time": "2023-07-15T09:56:01.042Z"
   },
   {
    "duration": 0,
    "start_time": "2023-07-15T09:56:01.043Z"
   },
   {
    "duration": 0,
    "start_time": "2023-07-15T09:56:01.044Z"
   },
   {
    "duration": 0,
    "start_time": "2023-07-15T09:56:01.045Z"
   },
   {
    "duration": 0,
    "start_time": "2023-07-15T09:56:01.046Z"
   },
   {
    "duration": 0,
    "start_time": "2023-07-15T09:56:01.047Z"
   },
   {
    "duration": 0,
    "start_time": "2023-07-15T09:56:01.048Z"
   },
   {
    "duration": 0,
    "start_time": "2023-07-15T09:56:01.049Z"
   },
   {
    "duration": 0,
    "start_time": "2023-07-15T09:56:01.050Z"
   },
   {
    "duration": 0,
    "start_time": "2023-07-15T09:56:01.051Z"
   },
   {
    "duration": 0,
    "start_time": "2023-07-15T09:56:01.052Z"
   },
   {
    "duration": 0,
    "start_time": "2023-07-15T09:56:01.052Z"
   },
   {
    "duration": 0,
    "start_time": "2023-07-15T09:56:01.054Z"
   },
   {
    "duration": 0,
    "start_time": "2023-07-15T09:56:01.054Z"
   },
   {
    "duration": 0,
    "start_time": "2023-07-15T09:56:01.055Z"
   },
   {
    "duration": 0,
    "start_time": "2023-07-15T09:56:01.056Z"
   },
   {
    "duration": 0,
    "start_time": "2023-07-15T09:56:01.057Z"
   },
   {
    "duration": 0,
    "start_time": "2023-07-15T09:56:01.058Z"
   },
   {
    "duration": 0,
    "start_time": "2023-07-15T09:56:01.059Z"
   },
   {
    "duration": 0,
    "start_time": "2023-07-15T09:56:01.059Z"
   },
   {
    "duration": 0,
    "start_time": "2023-07-15T09:56:01.061Z"
   },
   {
    "duration": 0,
    "start_time": "2023-07-15T09:56:01.120Z"
   },
   {
    "duration": 0,
    "start_time": "2023-07-15T09:56:01.122Z"
   },
   {
    "duration": 0,
    "start_time": "2023-07-15T09:56:01.123Z"
   },
   {
    "duration": 0,
    "start_time": "2023-07-15T09:56:01.124Z"
   },
   {
    "duration": 0,
    "start_time": "2023-07-15T09:56:01.126Z"
   },
   {
    "duration": 0,
    "start_time": "2023-07-15T09:56:01.127Z"
   },
   {
    "duration": 0,
    "start_time": "2023-07-15T09:56:01.128Z"
   },
   {
    "duration": 0,
    "start_time": "2023-07-15T09:56:01.129Z"
   },
   {
    "duration": 0,
    "start_time": "2023-07-15T09:56:01.130Z"
   },
   {
    "duration": 0,
    "start_time": "2023-07-15T09:56:01.131Z"
   },
   {
    "duration": 0,
    "start_time": "2023-07-15T09:56:01.132Z"
   },
   {
    "duration": 0,
    "start_time": "2023-07-15T09:56:01.133Z"
   },
   {
    "duration": 0,
    "start_time": "2023-07-15T09:56:01.134Z"
   },
   {
    "duration": 0,
    "start_time": "2023-07-15T09:56:01.136Z"
   },
   {
    "duration": 0,
    "start_time": "2023-07-15T09:56:01.137Z"
   },
   {
    "duration": 0,
    "start_time": "2023-07-15T09:56:01.141Z"
   },
   {
    "duration": 0,
    "start_time": "2023-07-15T09:56:01.143Z"
   },
   {
    "duration": 0,
    "start_time": "2023-07-15T09:56:01.145Z"
   },
   {
    "duration": 0,
    "start_time": "2023-07-15T09:56:01.146Z"
   },
   {
    "duration": 0,
    "start_time": "2023-07-15T09:56:01.147Z"
   },
   {
    "duration": 0,
    "start_time": "2023-07-15T09:56:01.149Z"
   },
   {
    "duration": 0,
    "start_time": "2023-07-15T09:56:01.150Z"
   },
   {
    "duration": 0,
    "start_time": "2023-07-15T09:56:01.151Z"
   },
   {
    "duration": 0,
    "start_time": "2023-07-15T09:56:01.153Z"
   },
   {
    "duration": 0,
    "start_time": "2023-07-15T09:56:01.154Z"
   },
   {
    "duration": 0,
    "start_time": "2023-07-15T09:56:01.155Z"
   },
   {
    "duration": 0,
    "start_time": "2023-07-15T09:56:01.156Z"
   },
   {
    "duration": 0,
    "start_time": "2023-07-15T09:56:01.220Z"
   },
   {
    "duration": 0,
    "start_time": "2023-07-15T09:56:01.222Z"
   },
   {
    "duration": 0,
    "start_time": "2023-07-15T09:56:01.227Z"
   },
   {
    "duration": 0,
    "start_time": "2023-07-15T09:56:01.231Z"
   },
   {
    "duration": 0,
    "start_time": "2023-07-15T09:56:01.233Z"
   },
   {
    "duration": 0,
    "start_time": "2023-07-15T09:56:01.235Z"
   },
   {
    "duration": 0,
    "start_time": "2023-07-15T09:56:01.236Z"
   },
   {
    "duration": 0,
    "start_time": "2023-07-15T09:56:01.238Z"
   },
   {
    "duration": 0,
    "start_time": "2023-07-15T09:56:01.240Z"
   },
   {
    "duration": 0,
    "start_time": "2023-07-15T09:56:01.242Z"
   },
   {
    "duration": 0,
    "start_time": "2023-07-15T09:56:01.243Z"
   },
   {
    "duration": 0,
    "start_time": "2023-07-15T09:56:01.245Z"
   },
   {
    "duration": 0,
    "start_time": "2023-07-15T09:56:01.246Z"
   },
   {
    "duration": 0,
    "start_time": "2023-07-15T09:56:01.248Z"
   },
   {
    "duration": 0,
    "start_time": "2023-07-15T09:56:01.249Z"
   },
   {
    "duration": 0,
    "start_time": "2023-07-15T09:56:01.250Z"
   },
   {
    "duration": 0,
    "start_time": "2023-07-15T09:56:01.252Z"
   },
   {
    "duration": 0,
    "start_time": "2023-07-15T09:56:01.253Z"
   },
   {
    "duration": 0,
    "start_time": "2023-07-15T09:56:01.255Z"
   },
   {
    "duration": 0,
    "start_time": "2023-07-15T09:56:01.257Z"
   },
   {
    "duration": 0,
    "start_time": "2023-07-15T09:56:01.258Z"
   },
   {
    "duration": 0,
    "start_time": "2023-07-15T09:56:01.260Z"
   },
   {
    "duration": 0,
    "start_time": "2023-07-15T09:56:01.261Z"
   },
   {
    "duration": 0,
    "start_time": "2023-07-15T09:56:01.321Z"
   },
   {
    "duration": 0,
    "start_time": "2023-07-15T09:56:01.323Z"
   },
   {
    "duration": 0,
    "start_time": "2023-07-15T09:56:01.324Z"
   },
   {
    "duration": 0,
    "start_time": "2023-07-15T09:56:01.325Z"
   },
   {
    "duration": 0,
    "start_time": "2023-07-15T09:56:01.326Z"
   },
   {
    "duration": 0,
    "start_time": "2023-07-15T09:56:01.327Z"
   },
   {
    "duration": 0,
    "start_time": "2023-07-15T09:56:01.328Z"
   },
   {
    "duration": 0,
    "start_time": "2023-07-15T09:56:01.329Z"
   },
   {
    "duration": 2965,
    "start_time": "2023-07-15T09:56:32.577Z"
   },
   {
    "duration": 1978,
    "start_time": "2023-07-15T09:56:49.161Z"
   },
   {
    "duration": 1415,
    "start_time": "2023-07-15T09:57:01.150Z"
   },
   {
    "duration": 958,
    "start_time": "2023-07-15T09:57:02.567Z"
   },
   {
    "duration": 15,
    "start_time": "2023-07-15T09:57:03.526Z"
   },
   {
    "duration": 113,
    "start_time": "2023-07-15T09:57:03.543Z"
   },
   {
    "duration": 375,
    "start_time": "2023-07-15T09:57:03.659Z"
   },
   {
    "duration": 389,
    "start_time": "2023-07-15T09:57:04.035Z"
   },
   {
    "duration": 388,
    "start_time": "2023-07-15T09:57:04.425Z"
   },
   {
    "duration": 230,
    "start_time": "2023-07-15T09:57:04.815Z"
   },
   {
    "duration": 216,
    "start_time": "2023-07-15T09:57:05.046Z"
   },
   {
    "duration": 259,
    "start_time": "2023-07-15T09:57:05.264Z"
   },
   {
    "duration": 10,
    "start_time": "2023-07-15T09:57:05.524Z"
   },
   {
    "duration": 266,
    "start_time": "2023-07-15T09:57:05.535Z"
   },
   {
    "duration": 250,
    "start_time": "2023-07-15T09:57:05.802Z"
   },
   {
    "duration": 178,
    "start_time": "2023-07-15T09:57:06.054Z"
   },
   {
    "duration": 4604,
    "start_time": "2023-07-15T09:57:06.234Z"
   },
   {
    "duration": 148,
    "start_time": "2023-07-15T09:57:10.839Z"
   },
   {
    "duration": 73,
    "start_time": "2023-07-15T09:57:10.988Z"
   },
   {
    "duration": 101,
    "start_time": "2023-07-15T09:57:11.063Z"
   },
   {
    "duration": 362,
    "start_time": "2023-07-15T09:57:11.165Z"
   },
   {
    "duration": 118,
    "start_time": "2023-07-15T09:57:11.528Z"
   },
   {
    "duration": 16,
    "start_time": "2023-07-15T09:57:11.647Z"
   },
   {
    "duration": 5967,
    "start_time": "2023-07-15T09:57:11.664Z"
   },
   {
    "duration": 8,
    "start_time": "2023-07-15T09:57:17.633Z"
   },
   {
    "duration": 77,
    "start_time": "2023-07-15T09:57:17.643Z"
   },
   {
    "duration": 14,
    "start_time": "2023-07-15T09:57:17.721Z"
   },
   {
    "duration": 577,
    "start_time": "2023-07-15T09:57:17.737Z"
   },
   {
    "duration": 7,
    "start_time": "2023-07-15T09:57:18.320Z"
   },
   {
    "duration": 121,
    "start_time": "2023-07-15T09:57:18.329Z"
   },
   {
    "duration": 20,
    "start_time": "2023-07-15T09:57:18.451Z"
   },
   {
    "duration": 7,
    "start_time": "2023-07-15T09:57:18.472Z"
   },
   {
    "duration": 132,
    "start_time": "2023-07-15T09:57:18.480Z"
   },
   {
    "duration": 9,
    "start_time": "2023-07-15T09:57:18.614Z"
   },
   {
    "duration": 21,
    "start_time": "2023-07-15T09:57:18.624Z"
   },
   {
    "duration": 3005,
    "start_time": "2023-07-15T09:57:18.646Z"
   },
   {
    "duration": 23,
    "start_time": "2023-07-15T09:57:21.652Z"
   },
   {
    "duration": 30,
    "start_time": "2023-07-15T09:57:21.676Z"
   },
   {
    "duration": 37,
    "start_time": "2023-07-15T09:57:21.708Z"
   },
   {
    "duration": 180,
    "start_time": "2023-07-15T09:57:21.746Z"
   },
   {
    "duration": 17,
    "start_time": "2023-07-15T09:57:21.927Z"
   },
   {
    "duration": 55,
    "start_time": "2023-07-15T09:57:21.945Z"
   },
   {
    "duration": 546,
    "start_time": "2023-07-15T09:57:22.004Z"
   },
   {
    "duration": 0,
    "start_time": "2023-07-15T09:57:22.552Z"
   },
   {
    "duration": 0,
    "start_time": "2023-07-15T09:57:22.553Z"
   },
   {
    "duration": 0,
    "start_time": "2023-07-15T09:57:22.554Z"
   },
   {
    "duration": 0,
    "start_time": "2023-07-15T09:57:22.555Z"
   },
   {
    "duration": 0,
    "start_time": "2023-07-15T09:57:22.556Z"
   },
   {
    "duration": 0,
    "start_time": "2023-07-15T09:57:22.557Z"
   },
   {
    "duration": 0,
    "start_time": "2023-07-15T09:57:22.559Z"
   },
   {
    "duration": 0,
    "start_time": "2023-07-15T09:57:22.560Z"
   },
   {
    "duration": 0,
    "start_time": "2023-07-15T09:57:22.561Z"
   },
   {
    "duration": 0,
    "start_time": "2023-07-15T09:57:22.563Z"
   },
   {
    "duration": 0,
    "start_time": "2023-07-15T09:57:22.564Z"
   },
   {
    "duration": 0,
    "start_time": "2023-07-15T09:57:22.565Z"
   },
   {
    "duration": 0,
    "start_time": "2023-07-15T09:57:22.566Z"
   },
   {
    "duration": 0,
    "start_time": "2023-07-15T09:57:22.567Z"
   },
   {
    "duration": 0,
    "start_time": "2023-07-15T09:57:22.568Z"
   },
   {
    "duration": 0,
    "start_time": "2023-07-15T09:57:22.569Z"
   },
   {
    "duration": 0,
    "start_time": "2023-07-15T09:57:22.569Z"
   },
   {
    "duration": 0,
    "start_time": "2023-07-15T09:57:22.570Z"
   },
   {
    "duration": 0,
    "start_time": "2023-07-15T09:57:22.570Z"
   },
   {
    "duration": 0,
    "start_time": "2023-07-15T09:57:22.571Z"
   },
   {
    "duration": 0,
    "start_time": "2023-07-15T09:57:22.572Z"
   },
   {
    "duration": 0,
    "start_time": "2023-07-15T09:57:22.573Z"
   },
   {
    "duration": 0,
    "start_time": "2023-07-15T09:57:22.574Z"
   },
   {
    "duration": 0,
    "start_time": "2023-07-15T09:57:22.575Z"
   },
   {
    "duration": 0,
    "start_time": "2023-07-15T09:57:22.576Z"
   },
   {
    "duration": 0,
    "start_time": "2023-07-15T09:57:22.576Z"
   },
   {
    "duration": 0,
    "start_time": "2023-07-15T09:57:22.578Z"
   },
   {
    "duration": 0,
    "start_time": "2023-07-15T09:57:22.579Z"
   },
   {
    "duration": 0,
    "start_time": "2023-07-15T09:57:22.620Z"
   },
   {
    "duration": 0,
    "start_time": "2023-07-15T09:57:22.622Z"
   },
   {
    "duration": 0,
    "start_time": "2023-07-15T09:57:22.623Z"
   },
   {
    "duration": 0,
    "start_time": "2023-07-15T09:57:22.623Z"
   },
   {
    "duration": 0,
    "start_time": "2023-07-15T09:57:22.625Z"
   },
   {
    "duration": 0,
    "start_time": "2023-07-15T09:57:22.625Z"
   },
   {
    "duration": 0,
    "start_time": "2023-07-15T09:57:22.626Z"
   },
   {
    "duration": 0,
    "start_time": "2023-07-15T09:57:22.627Z"
   },
   {
    "duration": 0,
    "start_time": "2023-07-15T09:57:22.628Z"
   },
   {
    "duration": 0,
    "start_time": "2023-07-15T09:57:22.629Z"
   },
   {
    "duration": 0,
    "start_time": "2023-07-15T09:57:22.630Z"
   },
   {
    "duration": 0,
    "start_time": "2023-07-15T09:57:22.631Z"
   },
   {
    "duration": 0,
    "start_time": "2023-07-15T09:57:22.631Z"
   },
   {
    "duration": 0,
    "start_time": "2023-07-15T09:57:22.632Z"
   },
   {
    "duration": 0,
    "start_time": "2023-07-15T09:57:22.634Z"
   },
   {
    "duration": 0,
    "start_time": "2023-07-15T09:57:22.635Z"
   },
   {
    "duration": 0,
    "start_time": "2023-07-15T09:57:22.635Z"
   },
   {
    "duration": 0,
    "start_time": "2023-07-15T09:57:22.636Z"
   },
   {
    "duration": 0,
    "start_time": "2023-07-15T09:57:22.637Z"
   },
   {
    "duration": 0,
    "start_time": "2023-07-15T09:57:22.638Z"
   },
   {
    "duration": 0,
    "start_time": "2023-07-15T09:57:22.639Z"
   },
   {
    "duration": 0,
    "start_time": "2023-07-15T09:57:22.640Z"
   },
   {
    "duration": 0,
    "start_time": "2023-07-15T09:57:22.641Z"
   },
   {
    "duration": 0,
    "start_time": "2023-07-15T09:57:22.642Z"
   },
   {
    "duration": 0,
    "start_time": "2023-07-15T09:57:22.642Z"
   },
   {
    "duration": 0,
    "start_time": "2023-07-15T09:57:22.643Z"
   },
   {
    "duration": 504,
    "start_time": "2023-07-15T09:59:51.548Z"
   },
   {
    "duration": 81,
    "start_time": "2023-07-15T10:01:16.392Z"
   }
  ],
  "colab": {
   "provenance": []
  },
  "hide_input": false,
  "kernelspec": {
   "display_name": "Python 3 (ipykernel)",
   "language": "python",
   "name": "python3"
  },
  "language_info": {
   "codemirror_mode": {
    "name": "ipython",
    "version": 3
   },
   "file_extension": ".py",
   "mimetype": "text/x-python",
   "name": "python",
   "nbconvert_exporter": "python",
   "pygments_lexer": "ipython3",
   "version": "3.10.12"
  },
  "toc": {
   "base_numbering": 1,
   "nav_menu": {},
   "number_sections": true,
   "sideBar": true,
   "skip_h1_title": true,
   "title_cell": "Table of Contents",
   "title_sidebar": "Contents",
   "toc_cell": false,
   "toc_position": {
    "height": "calc(100% - 180px)",
    "left": "10px",
    "top": "150px",
    "width": "401.391px"
   },
   "toc_section_display": true,
   "toc_window_display": false
  },
  "varInspector": {
   "cols": {
    "lenName": 16,
    "lenType": 16,
    "lenVar": 40
   },
   "kernels_config": {
    "python": {
     "delete_cmd_postfix": "",
     "delete_cmd_prefix": "del ",
     "library": "var_list.py",
     "varRefreshCmd": "print(var_dic_list())"
    },
    "r": {
     "delete_cmd_postfix": ") ",
     "delete_cmd_prefix": "rm(",
     "library": "var_list.r",
     "varRefreshCmd": "cat(var_dic_list()) "
    }
   },
   "types_to_exclude": [
    "module",
    "function",
    "builtin_function_or_method",
    "instance",
    "_Feature"
   ],
   "window_display": false
  }
 },
 "nbformat": 4,
 "nbformat_minor": 1
}
