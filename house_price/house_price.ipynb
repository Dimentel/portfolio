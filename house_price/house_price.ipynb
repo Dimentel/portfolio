{
 "cells": [
  {
   "cell_type": "markdown",
   "id": "GEqQaHzsZ_bA",
   "metadata": {
    "id": "GEqQaHzsZ_bA"
   },
   "source": [
    "# Предсказание стоимости жилья\n",
    "\n",
    "В проекте нам необходимо обучить модель линейной регрессии на данных о жилье в Калифорнии в 1990 году. На основе данных требуется предсказать медианную стоимость дома в жилом массиве. Обучим модель и проверим её качество на тестовой выборке. Для оценки качества модели используем метрики RMSE, MAE и R2.\n",
    "\n",
    "Данные, которые мы будем анализировать, были собраны в рамках переписи населения в США. Каждая строка содержит агрегированную статистику о жилом массиве. Жилой массив — минимальная географическая единица с населением от 600 до 3000 человек в зависимости от штата. Одна строка в данных содержит статистику в среднем о 1425.5 обитателях жилого массива."
   ]
  },
  {
   "cell_type": "markdown",
   "id": "70338975",
   "metadata": {},
   "source": [
    "## Загрузка и ознакомление с данными"
   ]
  },
  {
   "cell_type": "code",
   "execution_count": 1,
   "id": "1db3b6d3",
   "metadata": {},
   "outputs": [],
   "source": [
    "# Нам предстоит решить задачу регрессии. Импортируем необходимые библиотеки.\n",
    "import pandas as pd \n",
    "import numpy as np\n",
    "\n",
    "import pyspark\n",
    "from pyspark.sql import SparkSession\n",
    "from pyspark.sql.window import Window\n",
    "from pyspark.sql.types import *\n",
    "import pyspark.sql.functions as F\n",
    "\n",
    "from pyspark.ml.feature import StringIndexer, VectorAssembler, StandardScaler\n",
    "from pyspark.ml.regression import LinearRegression\n",
    "from pyspark.ml.evaluation import RegressionEvaluator\n",
    "\n",
    "pyspark_version = pyspark.__version__\n",
    "if int(pyspark_version[:1]) == 3:\n",
    "    from pyspark.ml.feature import OneHotEncoder    \n",
    "elif int(pyspark_version[:1]) == 2:\n",
    "    from pyspark.ml.feature import OneHotEncodeEstimator\n",
    "        \n",
    "RANDOM_SEED = 12345"
   ]
  },
  {
   "cell_type": "code",
   "execution_count": 2,
   "id": "27f91c27",
   "metadata": {},
   "outputs": [],
   "source": [
    "# Инициализируем локальную Spark-сессию\n",
    "spark = SparkSession.builder \\\n",
    "                    .master(\"local\") \\\n",
    "                    .appName(\"House - price prediction\") \\\n",
    "                    .getOrCreate()"
   ]
  },
  {
   "cell_type": "code",
   "execution_count": 3,
   "id": "2d70f562",
   "metadata": {},
   "outputs": [
    {
     "name": "stderr",
     "output_type": "stream",
     "text": [
      "                                                                                \r"
     ]
    }
   ],
   "source": [
    "# Прочитаем содержимое файла с данными\n",
    "df = spark.read.load('/datasets/housing.csv', format=\"csv\", sep=\",\", inferSchema=True, header=\"true\")"
   ]
  },
  {
   "cell_type": "code",
   "execution_count": 4,
   "id": "97a42db6",
   "metadata": {},
   "outputs": [
    {
     "name": "stdout",
     "output_type": "stream",
     "text": [
      "root\n",
      " |-- longitude: double (nullable = true)\n",
      " |-- latitude: double (nullable = true)\n",
      " |-- housing_median_age: double (nullable = true)\n",
      " |-- total_rooms: double (nullable = true)\n",
      " |-- total_bedrooms: double (nullable = true)\n",
      " |-- population: double (nullable = true)\n",
      " |-- households: double (nullable = true)\n",
      " |-- median_income: double (nullable = true)\n",
      " |-- median_house_value: double (nullable = true)\n",
      " |-- ocean_proximity: string (nullable = true)\n",
      "\n",
      "+---------+--------+------------------+-----------+--------------+----------+----------+-------------+------------------+---------------+\n",
      "|longitude|latitude|housing_median_age|total_rooms|total_bedrooms|population|households|median_income|median_house_value|ocean_proximity|\n",
      "+---------+--------+------------------+-----------+--------------+----------+----------+-------------+------------------+---------------+\n",
      "|  -122.23|   37.88|              41.0|      880.0|         129.0|     322.0|     126.0|       8.3252|          452600.0|       NEAR BAY|\n",
      "|  -122.22|   37.86|              21.0|     7099.0|        1106.0|    2401.0|    1138.0|       8.3014|          358500.0|       NEAR BAY|\n",
      "|  -122.24|   37.85|              52.0|     1467.0|         190.0|     496.0|     177.0|       7.2574|          352100.0|       NEAR BAY|\n",
      "|  -122.25|   37.85|              52.0|     1274.0|         235.0|     558.0|     219.0|       5.6431|          341300.0|       NEAR BAY|\n",
      "|  -122.25|   37.85|              52.0|     1627.0|         280.0|     565.0|     259.0|       3.8462|          342200.0|       NEAR BAY|\n",
      "+---------+--------+------------------+-----------+--------------+----------+----------+-------------+------------------+---------------+\n",
      "only showing top 5 rows\n",
      "\n"
     ]
    }
   ],
   "source": [
    "# Выведим типы данных колонок датасета\n",
    "df.printSchema()\n",
    "df.show(5)"
   ]
  },
  {
   "cell_type": "markdown",
   "id": "b417acc3",
   "metadata": {},
   "source": [
    "В колонках датасета содержатся следующие данные:\n",
    "\n",
    "- `longitude` — широта;\n",
    "- `latitude` — долгота;\n",
    "- `housing_median_age` — медианный возраст жителей жилого массива;\n",
    "- `total_rooms` — общее количество комнат в домах жилого массива;\n",
    "- `total_bedrooms` — общее количество спален в домах жилого массива;\n",
    "- `population` — количество человек, которые проживают в жилом массиве;\n",
    "- `households` — количество домовладений в жилом массиве;\n",
    "- `median_income` — медианный доход жителей жилого массива;\n",
    "- `median_house_value` — медианная стоимость дома в жилом массиве;\n",
    "- `ocean_proximity` — близость к океану.\n",
    "\n",
    "Во всех колонках хранятся количественные данные, кроме одной — `ocean_proximity`. Она хранит категориальные значения."
   ]
  },
  {
   "cell_type": "markdown",
   "id": "53871372",
   "metadata": {
    "id": "53871372"
   },
   "source": [
    "## Подготовка данных"
   ]
  },
  {
   "cell_type": "markdown",
   "id": "815ccd14",
   "metadata": {},
   "source": [
    "### Обработка пропусков"
   ]
  },
  {
   "cell_type": "code",
   "execution_count": 5,
   "id": "ccb06c94",
   "metadata": {
    "scrolled": true
   },
   "outputs": [
    {
     "data": {
      "text/plain": [
       "{'longitude': 0,\n",
       " 'latitude': 0,\n",
       " 'housing_median_age': 0,\n",
       " 'total_rooms': 0,\n",
       " 'total_bedrooms': 207,\n",
       " 'population': 0,\n",
       " 'households': 0,\n",
       " 'median_income': 0,\n",
       " 'median_house_value': 0,\n",
       " 'ocean_proximity': 0}"
      ]
     },
     "execution_count": 5,
     "metadata": {},
     "output_type": "execute_result"
    }
   ],
   "source": [
    "# Исследуем данные на наличие пропусков\n",
    "dict_null = {col:df.filter(df[col].isNull()).count() for col in df.columns}\n",
    "dict_null"
   ]
  },
  {
   "cell_type": "code",
   "execution_count": 6,
   "id": "b5df2503",
   "metadata": {},
   "outputs": [
    {
     "data": {
      "text/plain": [
       "array([[<AxesSubplot:title={'center':'bedroom_index'}>]], dtype=object)"
      ]
     },
     "execution_count": 6,
     "metadata": {},
     "output_type": "execute_result"
    },
    {
     "data": {
      "image/png": "[encoded data removed]",
      "text/plain": [
       "<Figure size 432x288 with 1 Axes>"
      ]
     },
     "metadata": {
      "needs_background": "light"
     },
     "output_type": "display_data"
    }
   ],
   "source": [
    "# Для заполнения пропусков количества спален определим, как оно связано с общим количеством комнат\n",
    "df = df.withColumn('bedroom_index', F.col('total_bedrooms')/F.col('total_rooms'))\n",
    "df.select('bedroom_index').toPandas().hist()"
   ]
  },
  {
   "cell_type": "code",
   "execution_count": 7,
   "id": "dc8b506f",
   "metadata": {},
   "outputs": [
    {
     "data": {
      "text/plain": [
       "0.21303883048085132"
      ]
     },
     "execution_count": 7,
     "metadata": {},
     "output_type": "execute_result"
    }
   ],
   "source": [
    "mean_bedroom_index = df.select('bedroom_index').toPandas().mean()[0]\n",
    "mean_bedroom_index"
   ]
  },
  {
   "cell_type": "code",
   "execution_count": 8,
   "id": "1bfa85c2",
   "metadata": {},
   "outputs": [],
   "source": [
    "# Заполним пропуски средним значением признака для локаций с определённым количеством комнат\n",
    "# создаём объект оконной функции\n",
    "window = Window().partitionBy(['total_rooms'])\n",
    "# заполним пропуски\n",
    "df = df.withColumn('total_bedrooms_mean', F.round(F.mean('total_bedrooms').over(window)))\n",
    "df = df.withColumn('total_bedrooms', F.coalesce('total_bedrooms', 'total_bedrooms_mean'))"
   ]
  },
  {
   "cell_type": "code",
   "execution_count": 9,
   "id": "89fbb5d0",
   "metadata": {},
   "outputs": [
    {
     "name": "stderr",
     "output_type": "stream",
     "text": [
      "                                                                                \r"
     ]
    },
    {
     "data": {
      "text/plain": [
       "{'longitude': 0,\n",
       " 'latitude': 0,\n",
       " 'housing_median_age': 0,\n",
       " 'total_rooms': 0,\n",
       " 'total_bedrooms': 15,\n",
       " 'population': 0,\n",
       " 'households': 0,\n",
       " 'median_income': 0,\n",
       " 'median_house_value': 0,\n",
       " 'ocean_proximity': 0,\n",
       " 'bedroom_index': 207,\n",
       " 'total_bedrooms_mean': 15}"
      ]
     },
     "execution_count": 9,
     "metadata": {},
     "output_type": "execute_result"
    }
   ],
   "source": [
    "# Проверим результат\n",
    "dict_null = {col:df.filter(df[col].isNull()).count() for col in df.columns}\n",
    "dict_null"
   ]
  },
  {
   "cell_type": "code",
   "execution_count": 10,
   "id": "234a5669",
   "metadata": {
    "scrolled": true
   },
   "outputs": [],
   "source": [
    "# Оставшиеся пропуски заполним по среднему значению отношения числа спален к общему числу комнат\n",
    "# заполним пропуски\n",
    "df = df.withColumn('total_bedrooms_by_index', F.round(mean_bedroom_index*F.col('total_rooms')))\n",
    "df = df.withColumn('total_bedrooms', F.coalesce('total_bedrooms', 'total_bedrooms_by_index'))"
   ]
  },
  {
   "cell_type": "code",
   "execution_count": 11,
   "id": "ac8a726d",
   "metadata": {},
   "outputs": [],
   "source": [
    "df = df.select(['longitude', 'latitude', 'housing_median_age', 'total_rooms', 'total_bedrooms', 'population',\n",
    "                'households', 'median_income', 'median_house_value', 'ocean_proximity'])"
   ]
  },
  {
   "cell_type": "code",
   "execution_count": 12,
   "id": "643cb1ef",
   "metadata": {},
   "outputs": [
    {
     "name": "stderr",
     "output_type": "stream",
     "text": [
      "                                                                                \r"
     ]
    },
    {
     "data": {
      "text/plain": [
       "{'longitude': 0,\n",
       " 'latitude': 0,\n",
       " 'housing_median_age': 0,\n",
       " 'total_rooms': 0,\n",
       " 'total_bedrooms': 0,\n",
       " 'population': 0,\n",
       " 'households': 0,\n",
       " 'median_income': 0,\n",
       " 'median_house_value': 0,\n",
       " 'ocean_proximity': 0}"
      ]
     },
     "execution_count": 12,
     "metadata": {},
     "output_type": "execute_result"
    }
   ],
   "source": [
    "# Проверим результат\n",
    "dict_null = {col:df.filter(df[col].isNull()).count() for col in df.columns}\n",
    "dict_null"
   ]
  },
  {
   "cell_type": "markdown",
   "id": "0bbf70e4",
   "metadata": {},
   "source": [
    "Как видим, пропусков нет."
   ]
  },
  {
   "cell_type": "markdown",
   "id": "5d6e73b6",
   "metadata": {},
   "source": [
    "### Преобразование категориальных признаков"
   ]
  },
  {
   "cell_type": "code",
   "execution_count": 13,
   "id": "304923b1",
   "metadata": {},
   "outputs": [
    {
     "name": "stderr",
     "output_type": "stream",
     "text": [
      "[Stage 76:====================================================> (195 + 1) / 200]\r"
     ]
    },
    {
     "name": "stdout",
     "output_type": "stream",
     "text": [
      "16483 4157\n"
     ]
    },
    {
     "name": "stderr",
     "output_type": "stream",
     "text": [
      "                                                                                \r"
     ]
    }
   ],
   "source": [
    "# Разделим датасет на выборки\n",
    "train_data, test_data = df.randomSplit([.8,.2], seed=RANDOM_SEED)\n",
    "print(train_data.count(), test_data.count())"
   ]
  },
  {
   "cell_type": "code",
   "execution_count": 14,
   "id": "069fc87b",
   "metadata": {},
   "outputs": [],
   "source": [
    "# Создадим списки столбцов\n",
    "categorical_cols = ['ocean_proximity']\n",
    "numerical_cols  = ['longitude', 'latitude', 'housing_median_age', 'total_rooms', 'total_bedrooms', 'population',\n",
    "                   'households', 'median_income']\n",
    "target = 'median_house_value' "
   ]
  },
  {
   "cell_type": "code",
   "execution_count": 15,
   "id": "a82656a0",
   "metadata": {},
   "outputs": [
    {
     "name": "stderr",
     "output_type": "stream",
     "text": [
      "[Stage 81:>                                                         (0 + 1) / 1]\r"
     ]
    },
    {
     "name": "stdout",
     "output_type": "stream",
     "text": [
      "+---------------+-------------------+\n",
      "|ocean_proximity|ocean_proximity_idx|\n",
      "+---------------+-------------------+\n",
      "|     NEAR OCEAN|                2.0|\n",
      "|         INLAND|                1.0|\n",
      "|      <1H OCEAN|                0.0|\n",
      "+---------------+-------------------+\n",
      "only showing top 3 rows\n",
      "\n"
     ]
    },
    {
     "name": "stderr",
     "output_type": "stream",
     "text": [
      "                                                                                \r"
     ]
    }
   ],
   "source": [
    "# Выполним кодирование категориального признака\n",
    "# В первую очередь трансформируем категориальные признаки с помощью трансформера StringIndexer.\n",
    "# Он переводит текстовые категории в числовое представление, так как большинство ML-алгоритмов \n",
    "# работает с числовыми данными. Трансформер на вход принимает названия колонок, которые нужно трансформировать,\n",
    "# и список названий новых колонок.\n",
    "indexer = StringIndexer(inputCols=categorical_cols, \n",
    "                        outputCols=[c+'_idx' for c in categorical_cols],\n",
    "                        handleInvalid = 'keep')\n",
    "indexer_transformer = indexer.fit(train_data)\n",
    "train_data = indexer_transformer.transform(train_data)\n",
    "cols = [c for c in train_data.columns for i in categorical_cols if (c.startswith(i))]\n",
    "train_data.select(cols).show(3)"
   ]
  },
  {
   "cell_type": "code",
   "execution_count": 16,
   "id": "1b7b76f9",
   "metadata": {},
   "outputs": [
    {
     "name": "stdout",
     "output_type": "stream",
     "text": [
      "+---------------+-------------------+\n",
      "|ocean_proximity|ocean_proximity_idx|\n",
      "+---------------+-------------------+\n",
      "|       NEAR BAY|                3.0|\n",
      "|         INLAND|                1.0|\n",
      "|         INLAND|                1.0|\n",
      "+---------------+-------------------+\n",
      "only showing top 3 rows\n",
      "\n"
     ]
    }
   ],
   "source": [
    "# То же проделаем и с тестовыми данными\n",
    "test_data = indexer_transformer.transform(test_data)\n",
    "cols = [c for c in test_data.columns for i in categorical_cols if (c.startswith(i))]\n",
    "test_data.select(cols).show(3)"
   ]
  },
  {
   "cell_type": "code",
   "execution_count": 17,
   "id": "13910544",
   "metadata": {},
   "outputs": [
    {
     "name": "stdout",
     "output_type": "stream",
     "text": [
      "+---------------+-------------------+-------------------+\n",
      "|ocean_proximity|ocean_proximity_idx|ocean_proximity_ohe|\n",
      "+---------------+-------------------+-------------------+\n",
      "|     NEAR OCEAN|                2.0|      (5,[2],[1.0])|\n",
      "|         INLAND|                1.0|      (5,[1],[1.0])|\n",
      "|      <1H OCEAN|                0.0|      (5,[0],[1.0])|\n",
      "+---------------+-------------------+-------------------+\n",
      "only showing top 3 rows\n",
      "\n"
     ]
    }
   ],
   "source": [
    "# Теперь выполним OHE-кодирование категориальных признаков\n",
    "encoder = OneHotEncoder(inputCols=[c+'_idx' for c in categorical_cols],\n",
    "                        outputCols=[c+'_ohe' for c in categorical_cols])\n",
    "encoder_transformer = encoder.fit(train_data)\n",
    "train_data = encoder_transformer.transform(train_data)\n",
    "cols = [c for c in train_data.columns for i in categorical_cols if (c.startswith(i))]\n",
    "train_data.select(cols).show(3)"
   ]
  },
  {
   "cell_type": "code",
   "execution_count": 18,
   "id": "b80577d8",
   "metadata": {},
   "outputs": [
    {
     "name": "stdout",
     "output_type": "stream",
     "text": [
      "+---------------+-------------------+-------------------+\n",
      "|ocean_proximity|ocean_proximity_idx|ocean_proximity_ohe|\n",
      "+---------------+-------------------+-------------------+\n",
      "|       NEAR BAY|                3.0|      (5,[3],[1.0])|\n",
      "|         INLAND|                1.0|      (5,[1],[1.0])|\n",
      "|         INLAND|                1.0|      (5,[1],[1.0])|\n",
      "+---------------+-------------------+-------------------+\n",
      "only showing top 3 rows\n",
      "\n"
     ]
    }
   ],
   "source": [
    "# То же проделаем и с тестовыми данными\n",
    "test_data = encoder_transformer.transform(test_data)\n",
    "cols = [c for c in test_data.columns for i in categorical_cols if (c.startswith(i))]\n",
    "test_data.select(cols).show(3)"
   ]
  },
  {
   "cell_type": "markdown",
   "id": "b616cfc9",
   "metadata": {},
   "source": [
    "У нас всего один категориальный признак, поэтому применять VectorAssembler нет необходимости. Для универсальности кода на случай, если в данных появится более одного категориального признака, выполним следующий шаг."
   ]
  },
  {
   "cell_type": "code",
   "execution_count": 19,
   "id": "d1768a87",
   "metadata": {},
   "outputs": [],
   "source": [
    "# Объединеним признаки в один вектор, с которым ML-алгоритм умеет работать\n",
    "categorical_assembler = \\\n",
    "        VectorAssembler(inputCols=[c+'_ohe' for c in categorical_cols],\n",
    "                                        outputCol='categorical_features')\n",
    "train_data = categorical_assembler.transform(train_data)\n",
    "test_data = categorical_assembler.transform(test_data)"
   ]
  },
  {
   "cell_type": "code",
   "execution_count": 20,
   "id": "942989da",
   "metadata": {},
   "outputs": [
    {
     "name": "stderr",
     "output_type": "stream",
     "text": [
      "                                                                                \r"
     ]
    },
    {
     "name": "stdout",
     "output_type": "stream",
     "text": [
      "+---------+--------+------------------+-----------+--------------+----------+----------+-------------+------------------+---------------+-------------------+-------------------+--------------------+\n",
      "|longitude|latitude|housing_median_age|total_rooms|total_bedrooms|population|households|median_income|median_house_value|ocean_proximity|ocean_proximity_idx|ocean_proximity_ohe|categorical_features|\n",
      "+---------+--------+------------------+-----------+--------------+----------+----------+-------------+------------------+---------------+-------------------+-------------------+--------------------+\n",
      "|  -124.09|   40.87|              44.0|      692.0|         206.0|     398.0|     211.0|       1.1576|           87500.0|     NEAR OCEAN|                2.0|      (5,[2],[1.0])|       (5,[2],[1.0])|\n",
      "|  -123.41|   40.61|              17.0|      769.0|         205.0|     301.0|     126.0|       1.7875|           55000.0|         INLAND|                1.0|      (5,[1],[1.0])|       (5,[1],[1.0])|\n",
      "|  -122.58|   38.43|              10.0|     3597.0|         661.0|    1132.0|     639.0|       3.9375|          269200.0|      <1H OCEAN|                0.0|      (5,[0],[1.0])|       (5,[0],[1.0])|\n",
      "+---------+--------+------------------+-----------+--------------+----------+----------+-------------+------------------+---------------+-------------------+-------------------+--------------------+\n",
      "only showing top 3 rows\n",
      "\n",
      "+---------+--------+------------------+-----------+--------------+----------+----------+-------------+------------------+---------------+-------------------+-------------------+--------------------+\n",
      "|longitude|latitude|housing_median_age|total_rooms|total_bedrooms|population|households|median_income|median_house_value|ocean_proximity|ocean_proximity_idx|ocean_proximity_ohe|categorical_features|\n",
      "+---------+--------+------------------+-----------+--------------+----------+----------+-------------+------------------+---------------+-------------------+-------------------+--------------------+\n",
      "|  -122.23|   37.77|              52.0|      769.0|         206.0|     612.0|     183.0|         2.57|           72000.0|       NEAR BAY|                3.0|      (5,[3],[1.0])|       (5,[3],[1.0])|\n",
      "|  -118.98|   35.35|              21.0|      496.0|         131.0|     511.0|     124.0|       1.7614|           33200.0|         INLAND|                1.0|      (5,[1],[1.0])|       (5,[1],[1.0])|\n",
      "|  -118.94|   35.38|              26.0|     4800.0|         831.0|    2365.0|     743.0|       3.7533|           87000.0|         INLAND|                1.0|      (5,[1],[1.0])|       (5,[1],[1.0])|\n",
      "+---------+--------+------------------+-----------+--------------+----------+----------+-------------+------------------+---------------+-------------------+-------------------+--------------------+\n",
      "only showing top 3 rows\n",
      "\n"
     ]
    }
   ],
   "source": [
    "train_data.show(3)\n",
    "test_data.show(3)"
   ]
  },
  {
   "cell_type": "markdown",
   "id": "db58c632",
   "metadata": {},
   "source": [
    "### Преобразование числовых признаков"
   ]
  },
  {
   "cell_type": "code",
   "execution_count": 21,
   "id": "e557b5ca",
   "metadata": {},
   "outputs": [],
   "source": [
    "# Объединеним признаки в один вектор, с которым ML-алгоритм умеет работать\n",
    "numerical_assembler = VectorAssembler(inputCols=numerical_cols, outputCol='numerical_features')\n",
    "train_data = numerical_assembler.transform(train_data)\n",
    "test_data = numerical_assembler.transform(test_data)"
   ]
  },
  {
   "cell_type": "code",
   "execution_count": 22,
   "id": "ce7efab3",
   "metadata": {},
   "outputs": [
    {
     "name": "stderr",
     "output_type": "stream",
     "text": [
      "                                                                                \r"
     ]
    }
   ],
   "source": [
    "# Чтобы сильные выбросы не смещали предсказания модели, выполним масштабирование\n",
    "standardScaler = StandardScaler(inputCol='numerical_features', outputCol=\"numerical_features_scaled\")\n",
    "standardScaler_transformer = standardScaler.fit(train_data)"
   ]
  },
  {
   "cell_type": "code",
   "execution_count": 23,
   "id": "3c5a0c36",
   "metadata": {},
   "outputs": [],
   "source": [
    "train_data = standardScaler_transformer.transform(train_data)\n",
    "test_data = standardScaler_transformer.transform(test_data)"
   ]
  },
  {
   "cell_type": "code",
   "execution_count": 24,
   "id": "dc27d8cb",
   "metadata": {},
   "outputs": [
    {
     "name": "stdout",
     "output_type": "stream",
     "text": [
      "+---------+--------+------------------+-----------+--------------+----------+----------+-------------+------------------+---------------+-------------------+-------------------+--------------------+--------------------+-------------------------+\n",
      "|longitude|latitude|housing_median_age|total_rooms|total_bedrooms|population|households|median_income|median_house_value|ocean_proximity|ocean_proximity_idx|ocean_proximity_ohe|categorical_features|  numerical_features|numerical_features_scaled|\n",
      "+---------+--------+------------------+-----------+--------------+----------+----------+-------------+------------------+---------------+-------------------+-------------------+--------------------+--------------------+-------------------------+\n",
      "|  -124.09|   40.87|              44.0|      692.0|         206.0|     398.0|     211.0|       1.1576|           87500.0|     NEAR OCEAN|                2.0|      (5,[2],[1.0])|       (5,[2],[1.0])|[-124.09,40.87,44...|     [-61.967341289012...|\n",
      "|  -123.41|   40.61|              17.0|      769.0|         205.0|     301.0|     126.0|       1.7875|           55000.0|         INLAND|                1.0|      (5,[1],[1.0])|       (5,[1],[1.0])|[-123.41,40.61,17...|     [-61.627766850487...|\n",
      "|  -122.58|   38.43|              10.0|     3597.0|         661.0|    1132.0|     639.0|       3.9375|          269200.0|      <1H OCEAN|                0.0|      (5,[0],[1.0])|       (5,[0],[1.0])|[-122.58,38.43,10...|     [-61.213286285818...|\n",
      "+---------+--------+------------------+-----------+--------------+----------+----------+-------------+------------------+---------------+-------------------+-------------------+--------------------+--------------------+-------------------------+\n",
      "only showing top 3 rows\n",
      "\n",
      "+---------+--------+------------------+-----------+--------------+----------+----------+-------------+------------------+---------------+-------------------+-------------------+--------------------+--------------------+-------------------------+\n",
      "|longitude|latitude|housing_median_age|total_rooms|total_bedrooms|population|households|median_income|median_house_value|ocean_proximity|ocean_proximity_idx|ocean_proximity_ohe|categorical_features|  numerical_features|numerical_features_scaled|\n",
      "+---------+--------+------------------+-----------+--------------+----------+----------+-------------+------------------+---------------+-------------------+-------------------+--------------------+--------------------+-------------------------+\n",
      "|  -122.23|   37.77|              52.0|      769.0|         206.0|     612.0|     183.0|         2.57|           72000.0|       NEAR BAY|                3.0|      (5,[3],[1.0])|       (5,[3],[1.0])|[-122.23,37.77,52...|     [-61.038505324812...|\n",
      "|  -118.98|   35.35|              21.0|      496.0|         131.0|     511.0|     124.0|       1.7614|           33200.0|         INLAND|                1.0|      (5,[1],[1.0])|       (5,[1],[1.0])|[-118.98,35.35,21...|     [-59.415539258334...|\n",
      "|  -118.94|   35.38|              26.0|     4800.0|         831.0|    2365.0|     743.0|       3.7533|           87000.0|         INLAND|                1.0|      (5,[1],[1.0])|       (5,[1],[1.0])|[-118.94,35.38,26...|     [-59.395564291362...|\n",
      "+---------+--------+------------------+-----------+--------------+----------+----------+-------------+------------------+---------------+-------------------+-------------------+--------------------+--------------------+-------------------------+\n",
      "only showing top 3 rows\n",
      "\n"
     ]
    }
   ],
   "source": [
    "train_data.show(3)\n",
    "test_data.show(3)"
   ]
  },
  {
   "cell_type": "markdown",
   "id": "6ceeb473",
   "metadata": {},
   "source": [
    "### Сборка трансформированных категорийных и числовых признаков"
   ]
  },
  {
   "cell_type": "code",
   "execution_count": 25,
   "id": "6da13445",
   "metadata": {},
   "outputs": [],
   "source": [
    "all_features = ['categorical_features','numerical_features_scaled']\n",
    "\n",
    "final_assembler = VectorAssembler(inputCols=all_features, \n",
    "                                  outputCol='features') \n",
    "train_data = final_assembler.transform(train_data)\n",
    "test_data = final_assembler.transform(test_data)"
   ]
  },
  {
   "cell_type": "code",
   "execution_count": 26,
   "id": "a55fb6eb",
   "metadata": {},
   "outputs": [
    {
     "name": "stdout",
     "output_type": "stream",
     "text": [
      "+--------------------+-------------------------+--------------------+\n",
      "|categorical_features|numerical_features_scaled|            features|\n",
      "+--------------------+-------------------------+--------------------+\n",
      "|       (5,[2],[1.0])|     [-61.967341289012...|[0.0,0.0,1.0,0.0,...|\n",
      "|       (5,[1],[1.0])|     [-61.627766850487...|[0.0,1.0,0.0,0.0,...|\n",
      "|       (5,[0],[1.0])|     [-61.213286285818...|[1.0,0.0,0.0,0.0,...|\n",
      "+--------------------+-------------------------+--------------------+\n",
      "only showing top 3 rows\n",
      "\n",
      "+--------------------+-------------------------+--------------------+\n",
      "|categorical_features|numerical_features_scaled|            features|\n",
      "+--------------------+-------------------------+--------------------+\n",
      "|       (5,[3],[1.0])|     [-61.038505324812...|[0.0,0.0,0.0,1.0,...|\n",
      "|       (5,[1],[1.0])|     [-59.415539258334...|[0.0,1.0,0.0,0.0,...|\n",
      "|       (5,[1],[1.0])|     [-59.395564291362...|[0.0,1.0,0.0,0.0,...|\n",
      "+--------------------+-------------------------+--------------------+\n",
      "only showing top 3 rows\n",
      "\n"
     ]
    },
    {
     "name": "stderr",
     "output_type": "stream",
     "text": [
      "                                                                                \r"
     ]
    }
   ],
   "source": [
    "train_data.select(all_features+['features']).show(3) \n",
    "test_data.select(all_features+['features']).show(3)"
   ]
  },
  {
   "cell_type": "markdown",
   "id": "9f0a82f3",
   "metadata": {
    "id": "9f0a82f3"
   },
   "source": [
    "## Обучение моделей"
   ]
  },
  {
   "cell_type": "markdown",
   "id": "439ff701",
   "metadata": {
    "id": "bddb08c4"
   },
   "source": [
    "Построим две модели линейной регрессии на разных наборах данных:\n",
    "- используя все данные из файла,\n",
    "- используя только числовые переменные, исключив категориальные.\n",
    "\n",
    "Для построения модели используем оценщик LinearRegression из библиотеки MLlib."
   ]
  },
  {
   "cell_type": "code",
   "execution_count": 27,
   "id": "beeaf747",
   "metadata": {
    "scrolled": true
   },
   "outputs": [
    {
     "name": "stderr",
     "output_type": "stream",
     "text": [
      "23/06/12 10:42:17 WARN Instrumentation: [c4c5bbd3] regParam is zero, which might cause numerical instability and overfitting.\n",
      "23/06/12 10:42:18 WARN BLAS: Failed to load implementation from: com.github.fommil.netlib.NativeSystemBLAS\n",
      "23/06/12 10:42:18 WARN BLAS: Failed to load implementation from: com.github.fommil.netlib.NativeRefBLAS\n",
      "23/06/12 10:42:26 WARN LAPACK: Failed to load implementation from: com.github.fommil.netlib.NativeSystemLAPACK\n",
      "23/06/12 10:42:26 WARN LAPACK: Failed to load implementation from: com.github.fommil.netlib.NativeRefLAPACK\n",
      "23/06/12 10:42:26 WARN Instrumentation: [c4c5bbd3] Cholesky solver failed due to singular covariance matrix. Retrying with Quasi-Newton solver.\n",
      "                                                                                \r"
     ]
    }
   ],
   "source": [
    "# Обучим модель на всех данных\n",
    "lr = LinearRegression(labelCol=target, featuresCol='features')\n",
    "\n",
    "model = lr.fit(train_data) "
   ]
  },
  {
   "cell_type": "code",
   "execution_count": 28,
   "id": "6fca1be8",
   "metadata": {},
   "outputs": [
    {
     "name": "stdout",
     "output_type": "stream",
     "text": [
      "+------------------+------------------+\n",
      "|median_house_value|        prediction|\n",
      "+------------------+------------------+\n",
      "|           72000.0|199527.13218147447|\n",
      "|           33200.0| 69004.23548728321|\n",
      "|           87000.0|152199.96239089966|\n",
      "|          500001.0| 460879.2899010144|\n",
      "|          175900.0|159364.14040651126|\n",
      "+------------------+------------------+\n",
      "only showing top 5 rows\n",
      "\n"
     ]
    }
   ],
   "source": [
    "# Вычислим предсказания модели, обученной на всех данных\n",
    "predictions = model.transform(test_data)\n",
    "\n",
    "predictedLabes = predictions.select(target, 'prediction')\n",
    "predictedLabes.show(5) "
   ]
  },
  {
   "cell_type": "code",
   "execution_count": 29,
   "id": "20f021ba",
   "metadata": {},
   "outputs": [
    {
     "name": "stderr",
     "output_type": "stream",
     "text": [
      "23/06/12 10:42:43 WARN Instrumentation: [241c3b19] regParam is zero, which might cause numerical instability and overfitting.\n",
      "                                                                                \r"
     ]
    }
   ],
   "source": [
    "# Обучим модель на числовых данных\n",
    "lr_numeric = LinearRegression(labelCol=target, featuresCol='numerical_features_scaled')\n",
    "\n",
    "model_numeric = lr_numeric.fit(train_data) "
   ]
  },
  {
   "cell_type": "code",
   "execution_count": 30,
   "id": "e7b80731",
   "metadata": {},
   "outputs": [
    {
     "name": "stdout",
     "output_type": "stream",
     "text": [
      "+------------------+------------------+\n",
      "|median_house_value|        prediction|\n",
      "+------------------+------------------+\n",
      "|           72000.0| 197695.8336079321|\n",
      "|           33200.0| 89380.27191233868|\n",
      "|           87000.0|172136.00437851343|\n",
      "|          500001.0|456903.00609040074|\n",
      "|          175900.0|155340.94884492597|\n",
      "+------------------+------------------+\n",
      "only showing top 5 rows\n",
      "\n"
     ]
    }
   ],
   "source": [
    "# Вычислим предсказания модели, обученной только на числовых данных\n",
    "predictions_numeric = model_numeric.transform(test_data)\n",
    "\n",
    "predictedLabes_numeric = predictions_numeric.select(target, 'prediction')\n",
    "predictedLabes_numeric.show(5) "
   ]
  },
  {
   "cell_type": "markdown",
   "id": "04daba3b",
   "metadata": {},
   "source": [
    "Сравним результаты работы линейной регрессии на двух наборах данных по метрикам RMSE, MAE и R2."
   ]
  },
  {
   "cell_type": "code",
   "execution_count": 31,
   "id": "a0c00b1e",
   "metadata": {},
   "outputs": [
    {
     "data": {
      "text/plain": [
       "RegressionEvaluator_cacc80363858"
      ]
     },
     "execution_count": 31,
     "metadata": {},
     "output_type": "execute_result"
    }
   ],
   "source": [
    "# Создадим оценщик\n",
    "evaluator = RegressionEvaluator()\n",
    "evaluator.setPredictionCol('prediction')\n",
    "evaluator.setLabelCol('median_house_value')"
   ]
  },
  {
   "cell_type": "code",
   "execution_count": 32,
   "id": "c6b6491e",
   "metadata": {},
   "outputs": [
    {
     "name": "stderr",
     "output_type": "stream",
     "text": [
      "                                                                                \r"
     ]
    },
    {
     "name": "stdout",
     "output_type": "stream",
     "text": [
      "RMSE: 68844.79698861134\n"
     ]
    },
    {
     "name": "stderr",
     "output_type": "stream",
     "text": [
      "                                                                                \r"
     ]
    },
    {
     "name": "stdout",
     "output_type": "stream",
     "text": [
      "R2: 0.6453692775773534\n"
     ]
    },
    {
     "name": "stderr",
     "output_type": "stream",
     "text": [
      "[Stage 133:==================================================>  (189 + 1) / 200]\r"
     ]
    },
    {
     "name": "stdout",
     "output_type": "stream",
     "text": [
      "MAE: 49507.76763783298\n"
     ]
    },
    {
     "name": "stderr",
     "output_type": "stream",
     "text": [
      "                                                                                \r"
     ]
    }
   ],
   "source": [
    "# Оценим качество модели, обученой на всех данных\n",
    "print('RMSE:', evaluator.evaluate(predictedLabes, {evaluator.metricName: 'rmse'}))\n",
    "print('R2:', evaluator.evaluate(predictedLabes, {evaluator.metricName: 'r2'}))\n",
    "print('MAE:', evaluator.evaluate(predictedLabes, {evaluator.metricName: 'mae'}))"
   ]
  },
  {
   "cell_type": "code",
   "execution_count": 33,
   "id": "74fa04f6",
   "metadata": {},
   "outputs": [
    {
     "name": "stderr",
     "output_type": "stream",
     "text": [
      "                                                                                \r"
     ]
    },
    {
     "name": "stdout",
     "output_type": "stream",
     "text": [
      "RMSE: 69614.31955212049\n"
     ]
    },
    {
     "name": "stderr",
     "output_type": "stream",
     "text": [
      "                                                                                \r"
     ]
    },
    {
     "name": "stdout",
     "output_type": "stream",
     "text": [
      "R2: 0.6373970988922806\n"
     ]
    },
    {
     "name": "stderr",
     "output_type": "stream",
     "text": [
      "[Stage 142:=================================================>   (186 + 1) / 200]\r"
     ]
    },
    {
     "name": "stdout",
     "output_type": "stream",
     "text": [
      "MAE: 50418.61421523291\n"
     ]
    },
    {
     "name": "stderr",
     "output_type": "stream",
     "text": [
      "                                                                                \r"
     ]
    }
   ],
   "source": [
    "# Оценим качество модели, обученой только на числовых данных\n",
    "print('RMSE:', evaluator.evaluate(predictedLabes_numeric, {evaluator.metricName: 'rmse'}))\n",
    "print('R2:', evaluator.evaluate(predictedLabes_numeric, {evaluator.metricName: 'r2'}))\n",
    "print('MAE:', evaluator.evaluate(predictedLabes_numeric, {evaluator.metricName: 'mae'}))"
   ]
  },
  {
   "cell_type": "markdown",
   "id": "757fd103",
   "metadata": {
    "id": "757fd103"
   },
   "source": [
    "## Анализ результатов"
   ]
  },
  {
   "cell_type": "code",
   "execution_count": 34,
   "id": "68c4e0d5",
   "metadata": {
    "scrolled": false
   },
   "outputs": [
    {
     "data": {
      "text/html": [
       "<div>\n",
       "<style scoped>\n",
       "    .dataframe tbody tr th:only-of-type {\n",
       "        vertical-align: middle;\n",
       "    }\n",
       "\n",
       "    .dataframe tbody tr th {\n",
       "        vertical-align: top;\n",
       "    }\n",
       "\n",
       "    .dataframe thead th {\n",
       "        text-align: right;\n",
       "    }\n",
       "</style>\n",
       "<table border=\"1\" class=\"dataframe\">\n",
       "  <thead>\n",
       "    <tr style=\"text-align: right;\">\n",
       "      <th></th>\n",
       "      <th>summary</th>\n",
       "      <th>median_house_value</th>\n",
       "    </tr>\n",
       "  </thead>\n",
       "  <tbody>\n",
       "    <tr>\n",
       "      <th>0</th>\n",
       "      <td>count</td>\n",
       "      <td>20640</td>\n",
       "    </tr>\n",
       "    <tr>\n",
       "      <th>1</th>\n",
       "      <td>mean</td>\n",
       "      <td>206855.81690891474</td>\n",
       "    </tr>\n",
       "    <tr>\n",
       "      <th>2</th>\n",
       "      <td>stddev</td>\n",
       "      <td>115395.61587441359</td>\n",
       "    </tr>\n",
       "    <tr>\n",
       "      <th>3</th>\n",
       "      <td>min</td>\n",
       "      <td>14999.0</td>\n",
       "    </tr>\n",
       "    <tr>\n",
       "      <th>4</th>\n",
       "      <td>max</td>\n",
       "      <td>500001.0</td>\n",
       "    </tr>\n",
       "  </tbody>\n",
       "</table>\n",
       "</div>"
      ],
      "text/plain": [
       "  summary  median_house_value\n",
       "0   count               20640\n",
       "1    mean  206855.81690891474\n",
       "2  stddev  115395.61587441359\n",
       "3     min             14999.0\n",
       "4     max            500001.0"
      ]
     },
     "execution_count": 34,
     "metadata": {},
     "output_type": "execute_result"
    }
   ],
   "source": [
    "# Посмотрим, какие значения принимает целевой признак в выборке\n",
    "df.select('median_house_value').describe().toPandas()"
   ]
  },
  {
   "cell_type": "code",
   "execution_count": 35,
   "id": "e2187c7b",
   "metadata": {},
   "outputs": [],
   "source": [
    "# Завершим Spark-сессию, чтоб освободить ресурсы кластера\n",
    "spark.stop()"
   ]
  },
  {
   "cell_type": "markdown",
   "id": "aedb525c",
   "metadata": {},
   "source": [
    "Полученные модели показали приблизительно одинаковые результаты с приблизительно в 2 раза более точным предсказанием по отношению к простому среднему значению. Для улучшения качества предсказания в дальнейшем можно выполнить подбор гиперпараметров моделей, рассмотреть другие модели. "
   ]
  }
 ],
 "metadata": {
  "ExecuteTimeLog": [
   {
    "duration": 713,
    "start_time": "2023-06-08T19:18:32.627Z"
   },
   {
    "duration": 15172,
    "start_time": "2023-06-08T19:19:31.262Z"
   },
   {
    "duration": 120,
    "start_time": "2023-06-08T19:22:22.702Z"
   },
   {
    "duration": 7430,
    "start_time": "2023-06-08T19:23:19.795Z"
   },
   {
    "duration": 22,
    "start_time": "2023-06-08T19:24:25.654Z"
   },
   {
    "duration": 586,
    "start_time": "2023-06-08T19:28:47.740Z"
   },
   {
    "duration": 6423,
    "start_time": "2023-06-08T19:37:16.783Z"
   },
   {
    "duration": 2,
    "start_time": "2023-06-08T19:42:37.665Z"
   },
   {
    "duration": 118,
    "start_time": "2023-06-08T19:44:47.840Z"
   },
   {
    "duration": 7,
    "start_time": "2023-06-08T19:48:36.858Z"
   },
   {
    "duration": 7,
    "start_time": "2023-06-08T19:49:06.695Z"
   },
   {
    "duration": 659,
    "start_time": "2023-06-08T19:49:19.876Z"
   },
   {
    "duration": 14008,
    "start_time": "2023-06-08T19:49:20.536Z"
   },
   {
    "duration": 7761,
    "start_time": "2023-06-08T19:49:34.546Z"
   },
   {
    "duration": 637,
    "start_time": "2023-06-08T19:49:42.309Z"
   },
   {
    "duration": 5418,
    "start_time": "2023-06-08T19:49:43.007Z"
   },
   {
    "duration": 3,
    "start_time": "2023-06-08T19:49:48.427Z"
   },
   {
    "duration": 1888,
    "start_time": "2023-06-08T19:49:48.431Z"
   },
   {
    "duration": 601,
    "start_time": "2023-06-08T19:50:29.111Z"
   },
   {
    "duration": 517,
    "start_time": "2023-06-08T19:54:05.098Z"
   },
   {
    "duration": 174,
    "start_time": "2023-06-08T19:57:29.974Z"
   },
   {
    "duration": 736,
    "start_time": "2023-06-08T19:58:01.409Z"
   },
   {
    "duration": 15608,
    "start_time": "2023-06-08T19:58:02.147Z"
   },
   {
    "duration": 8930,
    "start_time": "2023-06-08T19:58:17.809Z"
   },
   {
    "duration": 898,
    "start_time": "2023-06-08T19:58:26.741Z"
   },
   {
    "duration": 7372,
    "start_time": "2023-06-08T19:58:27.642Z"
   },
   {
    "duration": 8,
    "start_time": "2023-06-08T19:58:35.017Z"
   },
   {
    "duration": 2085,
    "start_time": "2023-06-08T19:58:35.026Z"
   },
   {
    "duration": 701,
    "start_time": "2023-06-08T19:58:37.112Z"
   },
   {
    "duration": 95,
    "start_time": "2023-06-08T19:58:37.816Z"
   },
   {
    "duration": 29,
    "start_time": "2023-06-08T20:00:26.169Z"
   },
   {
    "duration": 1003,
    "start_time": "2023-06-08T20:01:29.916Z"
   },
   {
    "duration": 11110,
    "start_time": "2023-06-08T20:22:44.108Z"
   },
   {
    "duration": 662,
    "start_time": "2023-06-08T20:25:58.575Z"
   },
   {
    "duration": 14586,
    "start_time": "2023-06-08T20:25:59.239Z"
   },
   {
    "duration": 8087,
    "start_time": "2023-06-08T20:26:13.829Z"
   },
   {
    "duration": 613,
    "start_time": "2023-06-08T20:26:21.918Z"
   },
   {
    "duration": 5889,
    "start_time": "2023-06-08T20:26:22.534Z"
   },
   {
    "duration": 3,
    "start_time": "2023-06-08T20:26:28.425Z"
   },
   {
    "duration": 1901,
    "start_time": "2023-06-08T20:26:28.430Z"
   },
   {
    "duration": 678,
    "start_time": "2023-06-08T20:26:30.333Z"
   },
   {
    "duration": 100,
    "start_time": "2023-06-08T20:26:31.013Z"
   },
   {
    "duration": 97,
    "start_time": "2023-06-08T20:26:31.114Z"
   },
   {
    "duration": 156,
    "start_time": "2023-06-08T20:27:50.445Z"
   },
   {
    "duration": 8,
    "start_time": "2023-06-08T20:28:19.954Z"
   },
   {
    "duration": 357,
    "start_time": "2023-06-08T20:28:32.054Z"
   },
   {
    "duration": 257,
    "start_time": "2023-06-08T20:28:52.409Z"
   },
   {
    "duration": 210,
    "start_time": "2023-06-08T20:28:58.904Z"
   },
   {
    "duration": 631,
    "start_time": "2023-06-08T20:30:49.882Z"
   },
   {
    "duration": 16,
    "start_time": "2023-06-08T20:39:58.620Z"
   },
   {
    "duration": 23,
    "start_time": "2023-06-08T20:45:16.886Z"
   },
   {
    "duration": 3553,
    "start_time": "2023-06-08T20:45:57.718Z"
   },
   {
    "duration": 721,
    "start_time": "2023-06-08T20:46:29.395Z"
   },
   {
    "duration": 14304,
    "start_time": "2023-06-08T20:46:30.118Z"
   },
   {
    "duration": 8280,
    "start_time": "2023-06-08T20:46:44.427Z"
   },
   {
    "duration": 626,
    "start_time": "2023-06-08T20:46:52.709Z"
   },
   {
    "duration": 5383,
    "start_time": "2023-06-08T20:46:53.337Z"
   },
   {
    "duration": 4,
    "start_time": "2023-06-08T20:46:58.721Z"
   },
   {
    "duration": 1688,
    "start_time": "2023-06-08T20:46:58.726Z"
   },
   {
    "duration": 615,
    "start_time": "2023-06-08T20:47:00.415Z"
   },
   {
    "duration": 100,
    "start_time": "2023-06-08T20:47:01.031Z"
   },
   {
    "duration": 82,
    "start_time": "2023-06-08T20:47:01.132Z"
   },
   {
    "duration": 25,
    "start_time": "2023-06-08T20:47:01.216Z"
   },
   {
    "duration": 485,
    "start_time": "2023-06-08T20:47:01.242Z"
   },
   {
    "duration": 814,
    "start_time": "2023-06-08T20:50:52.159Z"
   },
   {
    "duration": 784,
    "start_time": "2023-06-09T10:51:04.426Z"
   },
   {
    "duration": 20497,
    "start_time": "2023-06-09T10:51:05.212Z"
   },
   {
    "duration": 10454,
    "start_time": "2023-06-09T10:51:25.711Z"
   },
   {
    "duration": 709,
    "start_time": "2023-06-09T10:51:36.168Z"
   },
   {
    "duration": 4999,
    "start_time": "2023-06-09T10:53:51.890Z"
   },
   {
    "duration": 5163,
    "start_time": "2023-06-09T10:55:03.314Z"
   },
   {
    "duration": 5,
    "start_time": "2023-06-09T11:24:22.786Z"
   },
   {
    "duration": 50,
    "start_time": "2023-06-09T11:29:46.446Z"
   },
   {
    "duration": 106,
    "start_time": "2023-06-09T11:32:40.511Z"
   },
   {
    "duration": 46,
    "start_time": "2023-06-09T11:33:31.888Z"
   },
   {
    "duration": 105,
    "start_time": "2023-06-09T11:34:14.024Z"
   },
   {
    "duration": 21,
    "start_time": "2023-06-09T11:43:17.178Z"
   },
   {
    "duration": 22,
    "start_time": "2023-06-09T11:43:27.716Z"
   },
   {
    "duration": 199,
    "start_time": "2023-06-09T11:43:36.683Z"
   },
   {
    "duration": 119,
    "start_time": "2023-06-09T11:46:01.214Z"
   },
   {
    "duration": 111,
    "start_time": "2023-06-09T11:46:16.074Z"
   },
   {
    "duration": 3020,
    "start_time": "2023-06-09T11:46:39.542Z"
   },
   {
    "duration": 426,
    "start_time": "2023-06-09T11:51:03.079Z"
   },
   {
    "duration": 2047,
    "start_time": "2023-06-09T11:51:43.611Z"
   },
   {
    "duration": 78,
    "start_time": "2023-06-09T11:52:29.986Z"
   },
   {
    "duration": 56,
    "start_time": "2023-06-09T11:52:44.536Z"
   },
   {
    "duration": 19,
    "start_time": "2023-06-09T11:53:00.002Z"
   },
   {
    "duration": 783,
    "start_time": "2023-06-09T11:54:02.093Z"
   },
   {
    "duration": 663,
    "start_time": "2023-06-09T11:56:20.019Z"
   },
   {
    "duration": 333,
    "start_time": "2023-06-09T11:56:59.686Z"
   },
   {
    "duration": 992,
    "start_time": "2023-06-09T12:00:53.693Z"
   },
   {
    "duration": 567,
    "start_time": "2023-06-09T12:03:06.303Z"
   },
   {
    "duration": 235,
    "start_time": "2023-06-09T12:04:05.423Z"
   },
   {
    "duration": 29,
    "start_time": "2023-06-09T12:05:36.672Z"
   },
   {
    "duration": 41,
    "start_time": "2023-06-09T12:05:53.240Z"
   },
   {
    "duration": 224,
    "start_time": "2023-06-09T12:06:02.847Z"
   },
   {
    "duration": 45,
    "start_time": "2023-06-09T12:08:21.217Z"
   },
   {
    "duration": 32,
    "start_time": "2023-06-09T12:08:41.233Z"
   },
   {
    "duration": 36,
    "start_time": "2023-06-09T12:10:13.866Z"
   },
   {
    "duration": 52,
    "start_time": "2023-06-09T12:11:46.108Z"
   },
   {
    "duration": 74,
    "start_time": "2023-06-09T12:15:11.186Z"
   },
   {
    "duration": 31,
    "start_time": "2023-06-09T12:18:07.584Z"
   },
   {
    "duration": 753,
    "start_time": "2023-06-09T12:18:56.327Z"
   },
   {
    "duration": 38,
    "start_time": "2023-06-09T12:19:39.992Z"
   },
   {
    "duration": 13878,
    "start_time": "2023-06-09T12:19:52.208Z"
   },
   {
    "duration": 10,
    "start_time": "2023-06-09T12:21:38.576Z"
   },
   {
    "duration": 5657,
    "start_time": "2023-06-09T12:22:06.441Z"
   },
   {
    "duration": 1207,
    "start_time": "2023-06-09T12:23:31.353Z"
   },
   {
    "duration": 20249,
    "start_time": "2023-06-09T12:23:32.562Z"
   },
   {
    "duration": 9162,
    "start_time": "2023-06-09T12:23:52.814Z"
   },
   {
    "duration": 800,
    "start_time": "2023-06-09T12:24:01.978Z"
   },
   {
    "duration": 5111,
    "start_time": "2023-06-09T12:24:02.780Z"
   },
   {
    "duration": 877,
    "start_time": "2023-06-09T12:24:13.722Z"
   },
   {
    "duration": 27,
    "start_time": "2023-06-09T12:24:21.505Z"
   },
   {
    "duration": 18,
    "start_time": "2023-06-09T12:26:13.891Z"
   },
   {
    "duration": 610,
    "start_time": "2023-06-09T12:27:30.340Z"
   },
   {
    "duration": 154,
    "start_time": "2023-06-09T12:27:55.525Z"
   },
   {
    "duration": 146,
    "start_time": "2023-06-09T12:30:22.532Z"
   },
   {
    "duration": 13740,
    "start_time": "2023-06-09T12:30:24.757Z"
   },
   {
    "duration": 127,
    "start_time": "2023-06-09T12:31:31.754Z"
   },
   {
    "duration": 16,
    "start_time": "2023-06-09T12:32:10.794Z"
   },
   {
    "duration": 21,
    "start_time": "2023-06-09T12:32:39.352Z"
   },
   {
    "duration": 7491,
    "start_time": "2023-06-09T12:32:57.511Z"
   },
   {
    "duration": 501,
    "start_time": "2023-06-09T12:43:32.680Z"
   },
   {
    "duration": 27586,
    "start_time": "2023-06-09T12:44:39.789Z"
   },
   {
    "duration": 335,
    "start_time": "2023-06-09T12:45:39.232Z"
   },
   {
    "duration": 624,
    "start_time": "2023-06-09T12:46:49.974Z"
   },
   {
    "duration": 394,
    "start_time": "2023-06-09T12:47:15.102Z"
   },
   {
    "duration": 580,
    "start_time": "2023-06-09T12:47:36.190Z"
   },
   {
    "duration": 397,
    "start_time": "2023-06-09T12:47:52.599Z"
   },
   {
    "duration": 39,
    "start_time": "2023-06-09T12:50:14.696Z"
   },
   {
    "duration": 10458,
    "start_time": "2023-06-09T12:50:18.712Z"
   },
   {
    "duration": 153,
    "start_time": "2023-06-09T12:53:29.994Z"
   },
   {
    "duration": 144,
    "start_time": "2023-06-09T12:54:34.610Z"
   },
   {
    "duration": 52,
    "start_time": "2023-06-09T12:58:53.229Z"
   },
   {
    "duration": 17,
    "start_time": "2023-06-09T12:59:02.302Z"
   },
   {
    "duration": 21,
    "start_time": "2023-06-09T12:59:08.836Z"
   },
   {
    "duration": 39,
    "start_time": "2023-06-09T12:59:17.045Z"
   },
   {
    "duration": 42,
    "start_time": "2023-06-09T13:04:58.824Z"
   },
   {
    "duration": 162,
    "start_time": "2023-06-09T13:05:56.186Z"
   },
   {
    "duration": 12,
    "start_time": "2023-06-09T13:07:10.689Z"
   },
   {
    "duration": 26,
    "start_time": "2023-06-09T13:10:23.909Z"
   },
   {
    "duration": 16,
    "start_time": "2023-06-09T13:10:50.403Z"
   },
   {
    "duration": 24,
    "start_time": "2023-06-09T13:11:05.027Z"
   },
   {
    "duration": 23,
    "start_time": "2023-06-09T13:11:20.339Z"
   },
   {
    "duration": 14,
    "start_time": "2023-06-09T13:12:49.124Z"
   },
   {
    "duration": 154,
    "start_time": "2023-06-09T13:15:17.647Z"
   },
   {
    "duration": 137,
    "start_time": "2023-06-09T13:16:17.646Z"
   },
   {
    "duration": 471,
    "start_time": "2023-06-09T13:24:56.810Z"
   },
   {
    "duration": 217,
    "start_time": "2023-06-09T13:25:15.459Z"
   },
   {
    "duration": 305,
    "start_time": "2023-06-09T13:25:30.484Z"
   },
   {
    "duration": 253,
    "start_time": "2023-06-09T13:25:53.116Z"
   },
   {
    "duration": 962,
    "start_time": "2023-06-09T13:27:08.836Z"
   },
   {
    "duration": 778,
    "start_time": "2023-06-09T13:27:43.300Z"
   },
   {
    "duration": 11405,
    "start_time": "2023-06-09T13:28:02.470Z"
   },
   {
    "duration": 5,
    "start_time": "2023-06-09T13:29:21.295Z"
   },
   {
    "duration": 42,
    "start_time": "2023-06-09T13:33:12.144Z"
   },
   {
    "duration": 5311,
    "start_time": "2023-06-09T13:33:28.993Z"
   },
   {
    "duration": 815,
    "start_time": "2023-06-09T13:33:52.954Z"
   },
   {
    "duration": 18195,
    "start_time": "2023-06-09T13:33:53.777Z"
   },
   {
    "duration": 11686,
    "start_time": "2023-06-09T13:34:11.975Z"
   },
   {
    "duration": 914,
    "start_time": "2023-06-09T13:34:23.662Z"
   },
   {
    "duration": 6908,
    "start_time": "2023-06-09T13:34:24.581Z"
   },
   {
    "duration": 1717,
    "start_time": "2023-06-09T13:34:31.491Z"
   },
   {
    "duration": 594,
    "start_time": "2023-06-09T13:34:33.209Z"
   },
   {
    "duration": 207,
    "start_time": "2023-06-09T13:34:33.805Z"
   },
   {
    "duration": 19822,
    "start_time": "2023-06-09T13:34:34.057Z"
   },
   {
    "duration": 181,
    "start_time": "2023-06-09T13:34:53.883Z"
   },
   {
    "duration": 129,
    "start_time": "2023-06-09T13:34:54.069Z"
   },
   {
    "duration": 6805,
    "start_time": "2023-06-09T13:34:54.200Z"
   },
   {
    "duration": 16263,
    "start_time": "2023-06-09T13:35:33.929Z"
   },
   {
    "duration": 4,
    "start_time": "2023-06-09T13:44:01.871Z"
   },
   {
    "duration": 11494,
    "start_time": "2023-06-09T13:44:14.973Z"
   },
   {
    "duration": 101,
    "start_time": "2023-06-09T13:45:41.535Z"
   },
   {
    "duration": 87,
    "start_time": "2023-06-09T13:46:06.175Z"
   },
   {
    "duration": 720,
    "start_time": "2023-06-09T13:47:54.787Z"
   },
   {
    "duration": 17364,
    "start_time": "2023-06-09T13:47:55.509Z"
   },
   {
    "duration": 11203,
    "start_time": "2023-06-09T13:48:12.875Z"
   },
   {
    "duration": 1014,
    "start_time": "2023-06-09T13:48:24.080Z"
   },
   {
    "duration": 7194,
    "start_time": "2023-06-09T13:48:25.096Z"
   },
   {
    "duration": 1700,
    "start_time": "2023-06-09T13:48:32.292Z"
   },
   {
    "duration": 599,
    "start_time": "2023-06-09T13:48:33.994Z"
   },
   {
    "duration": 192,
    "start_time": "2023-06-09T13:48:34.595Z"
   },
   {
    "duration": 21068,
    "start_time": "2023-06-09T13:48:34.789Z"
   },
   {
    "duration": 100,
    "start_time": "2023-06-09T13:48:55.860Z"
   },
   {
    "duration": 95,
    "start_time": "2023-06-09T13:48:55.965Z"
   },
   {
    "duration": 7063,
    "start_time": "2023-06-09T13:48:56.065Z"
   },
   {
    "duration": 18117,
    "start_time": "2023-06-09T13:49:03.157Z"
   },
   {
    "duration": 5,
    "start_time": "2023-06-09T13:49:21.277Z"
   },
   {
    "duration": 14807,
    "start_time": "2023-06-09T13:49:21.284Z"
   },
   {
    "duration": 696,
    "start_time": "2023-06-09T13:49:42.402Z"
   },
   {
    "duration": 1255,
    "start_time": "2023-06-09T13:51:34.941Z"
   },
   {
    "duration": 780,
    "start_time": "2023-06-09T13:52:27.779Z"
   },
   {
    "duration": 79,
    "start_time": "2023-06-09T13:53:31.016Z"
   },
   {
    "duration": 206,
    "start_time": "2023-06-09T13:53:35.091Z"
   },
   {
    "duration": 21,
    "start_time": "2023-06-09T13:53:46.292Z"
   },
   {
    "duration": 1125,
    "start_time": "2023-06-09T13:54:02.861Z"
   },
   {
    "duration": 368,
    "start_time": "2023-06-09T13:54:07.700Z"
   },
   {
    "duration": 673,
    "start_time": "2023-06-09T13:54:23.396Z"
   },
   {
    "duration": 1492,
    "start_time": "2023-06-09T13:54:35.885Z"
   },
   {
    "duration": 103,
    "start_time": "2023-06-09T13:55:51.461Z"
   },
   {
    "duration": 8527,
    "start_time": "2023-06-09T13:56:48.661Z"
   },
   {
    "duration": 55,
    "start_time": "2023-06-09T13:57:41.615Z"
   },
   {
    "duration": 1560,
    "start_time": "2023-06-09T13:57:58.734Z"
   },
   {
    "duration": 751,
    "start_time": "2023-06-10T14:04:01.615Z"
   },
   {
    "duration": 15049,
    "start_time": "2023-06-10T14:04:02.368Z"
   },
   {
    "duration": 8035,
    "start_time": "2023-06-10T14:04:17.419Z"
   },
   {
    "duration": 860,
    "start_time": "2023-06-10T14:04:25.456Z"
   },
   {
    "duration": 4704,
    "start_time": "2023-06-10T14:04:26.318Z"
   },
   {
    "duration": 1369,
    "start_time": "2023-06-10T14:04:31.023Z"
   },
   {
    "duration": 532,
    "start_time": "2023-06-10T14:04:32.394Z"
   },
   {
    "duration": 188,
    "start_time": "2023-06-10T14:04:32.928Z"
   },
   {
    "duration": 15599,
    "start_time": "2023-06-10T14:04:33.119Z"
   },
   {
    "duration": 105,
    "start_time": "2023-06-10T14:04:48.721Z"
   },
   {
    "duration": 89,
    "start_time": "2023-06-10T14:04:48.828Z"
   },
   {
    "duration": 6500,
    "start_time": "2023-06-10T14:04:48.918Z"
   },
   {
    "duration": 13500,
    "start_time": "2023-06-10T14:04:55.419Z"
   },
   {
    "duration": 3,
    "start_time": "2023-06-10T14:05:08.921Z"
   },
   {
    "duration": 10716,
    "start_time": "2023-06-10T14:05:08.926Z"
   },
   {
    "duration": 691,
    "start_time": "2023-06-10T14:05:19.644Z"
   },
   {
    "duration": 1002,
    "start_time": "2023-06-10T14:05:20.337Z"
   },
   {
    "duration": 915,
    "start_time": "2023-06-10T14:05:21.340Z"
   },
   {
    "duration": 173,
    "start_time": "2023-06-10T14:05:22.257Z"
   },
   {
    "duration": 1798,
    "start_time": "2023-06-10T14:05:22.431Z"
   },
   {
    "duration": 105,
    "start_time": "2023-06-10T14:05:24.230Z"
   },
   {
    "duration": 7316,
    "start_time": "2023-06-10T14:05:24.337Z"
   },
   {
    "duration": 107,
    "start_time": "2023-06-10T14:05:31.717Z"
   },
   {
    "duration": 1413,
    "start_time": "2023-06-10T14:05:31.826Z"
   },
   {
    "duration": 1303,
    "start_time": "2023-06-10T14:07:41.043Z"
   },
   {
    "duration": 1301,
    "start_time": "2023-06-10T14:13:14.341Z"
   },
   {
    "duration": 89,
    "start_time": "2023-06-10T14:14:56.198Z"
   },
   {
    "duration": 18667,
    "start_time": "2023-06-10T14:15:18.852Z"
   },
   {
    "duration": 11755,
    "start_time": "2023-06-10T14:18:27.096Z"
   },
   {
    "duration": 528,
    "start_time": "2023-06-10T14:20:40.697Z"
   },
   {
    "duration": 347,
    "start_time": "2023-06-10T14:21:34.882Z"
   },
   {
    "duration": 14,
    "start_time": "2023-06-10T14:44:26.217Z"
   },
   {
    "duration": 4,
    "start_time": "2023-06-10T14:45:00.938Z"
   },
   {
    "duration": 10,
    "start_time": "2023-06-10T14:45:49.113Z"
   },
   {
    "duration": 8,
    "start_time": "2023-06-10T14:49:06.210Z"
   },
   {
    "duration": 118,
    "start_time": "2023-06-10T14:49:10.326Z"
   },
   {
    "duration": 4,
    "start_time": "2023-06-10T14:50:51.093Z"
   },
   {
    "duration": 10152,
    "start_time": "2023-06-10T14:51:00.524Z"
   },
   {
    "duration": 8581,
    "start_time": "2023-06-10T14:54:58.116Z"
   },
   {
    "duration": 8201,
    "start_time": "2023-06-10T14:55:21.340Z"
   },
   {
    "duration": 8843,
    "start_time": "2023-06-10T14:55:36.236Z"
   },
   {
    "duration": 446,
    "start_time": "2023-06-10T14:58:20.101Z"
   },
   {
    "duration": 612,
    "start_time": "2023-06-10T15:03:41.344Z"
   },
   {
    "duration": 4874,
    "start_time": "2023-06-10T15:03:41.957Z"
   },
   {
    "duration": 0,
    "start_time": "2023-06-10T15:03:46.834Z"
   },
   {
    "duration": 0,
    "start_time": "2023-06-10T15:03:46.836Z"
   },
   {
    "duration": 0,
    "start_time": "2023-06-10T15:03:46.837Z"
   },
   {
    "duration": 0,
    "start_time": "2023-06-10T15:03:46.839Z"
   },
   {
    "duration": 0,
    "start_time": "2023-06-10T15:03:46.840Z"
   },
   {
    "duration": 0,
    "start_time": "2023-06-10T15:03:46.841Z"
   },
   {
    "duration": 0,
    "start_time": "2023-06-10T15:03:46.842Z"
   },
   {
    "duration": 0,
    "start_time": "2023-06-10T15:03:46.844Z"
   },
   {
    "duration": 0,
    "start_time": "2023-06-10T15:03:46.846Z"
   },
   {
    "duration": 0,
    "start_time": "2023-06-10T15:03:46.847Z"
   },
   {
    "duration": 0,
    "start_time": "2023-06-10T15:03:46.848Z"
   },
   {
    "duration": 0,
    "start_time": "2023-06-10T15:03:46.849Z"
   },
   {
    "duration": 0,
    "start_time": "2023-06-10T15:03:46.916Z"
   },
   {
    "duration": 0,
    "start_time": "2023-06-10T15:03:46.917Z"
   },
   {
    "duration": 0,
    "start_time": "2023-06-10T15:03:46.918Z"
   },
   {
    "duration": 0,
    "start_time": "2023-06-10T15:03:46.919Z"
   },
   {
    "duration": 0,
    "start_time": "2023-06-10T15:03:46.920Z"
   },
   {
    "duration": 0,
    "start_time": "2023-06-10T15:03:46.921Z"
   },
   {
    "duration": 0,
    "start_time": "2023-06-10T15:03:46.922Z"
   },
   {
    "duration": 0,
    "start_time": "2023-06-10T15:03:46.923Z"
   },
   {
    "duration": 0,
    "start_time": "2023-06-10T15:03:46.924Z"
   },
   {
    "duration": 0,
    "start_time": "2023-06-10T15:03:46.925Z"
   },
   {
    "duration": 0,
    "start_time": "2023-06-10T15:03:46.925Z"
   },
   {
    "duration": 0,
    "start_time": "2023-06-10T15:03:46.926Z"
   },
   {
    "duration": 0,
    "start_time": "2023-06-10T15:03:46.927Z"
   },
   {
    "duration": 0,
    "start_time": "2023-06-10T15:03:46.928Z"
   },
   {
    "duration": 0,
    "start_time": "2023-06-10T15:03:46.929Z"
   },
   {
    "duration": 0,
    "start_time": "2023-06-10T15:03:46.930Z"
   },
   {
    "duration": 0,
    "start_time": "2023-06-10T15:03:46.930Z"
   },
   {
    "duration": 0,
    "start_time": "2023-06-10T15:03:46.931Z"
   },
   {
    "duration": 0,
    "start_time": "2023-06-10T15:03:46.932Z"
   },
   {
    "duration": 0,
    "start_time": "2023-06-10T15:03:46.933Z"
   },
   {
    "duration": 663,
    "start_time": "2023-06-10T15:05:58.397Z"
   },
   {
    "duration": 14557,
    "start_time": "2023-06-10T15:05:59.061Z"
   },
   {
    "duration": 7950,
    "start_time": "2023-06-10T15:06:13.620Z"
   },
   {
    "duration": 700,
    "start_time": "2023-06-10T15:06:21.616Z"
   },
   {
    "duration": 4598,
    "start_time": "2023-06-10T15:06:22.319Z"
   },
   {
    "duration": 1185,
    "start_time": "2023-06-10T15:06:26.919Z"
   },
   {
    "duration": 436,
    "start_time": "2023-06-10T15:06:28.105Z"
   },
   {
    "duration": 117,
    "start_time": "2023-06-10T15:06:28.543Z"
   },
   {
    "duration": 14385,
    "start_time": "2023-06-10T15:06:28.661Z"
   },
   {
    "duration": 93,
    "start_time": "2023-06-10T15:06:43.047Z"
   },
   {
    "duration": 89,
    "start_time": "2023-06-10T15:06:43.142Z"
   },
   {
    "duration": 4924,
    "start_time": "2023-06-10T15:06:43.232Z"
   },
   {
    "duration": 11093,
    "start_time": "2023-06-10T15:06:48.157Z"
   },
   {
    "duration": 2,
    "start_time": "2023-06-10T15:06:59.318Z"
   },
   {
    "duration": 8300,
    "start_time": "2023-06-10T15:06:59.322Z"
   },
   {
    "duration": 603,
    "start_time": "2023-06-10T15:07:07.624Z"
   },
   {
    "duration": 1327,
    "start_time": "2023-06-10T15:07:08.228Z"
   },
   {
    "duration": 679,
    "start_time": "2023-06-10T15:07:09.557Z"
   },
   {
    "duration": 99,
    "start_time": "2023-06-10T15:07:10.238Z"
   },
   {
    "duration": 1610,
    "start_time": "2023-06-10T15:07:10.338Z"
   },
   {
    "duration": 92,
    "start_time": "2023-06-10T15:07:11.950Z"
   },
   {
    "duration": 5775,
    "start_time": "2023-06-10T15:07:12.044Z"
   },
   {
    "duration": 95,
    "start_time": "2023-06-10T15:07:17.821Z"
   },
   {
    "duration": 1332,
    "start_time": "2023-06-10T15:07:17.917Z"
   },
   {
    "duration": 90,
    "start_time": "2023-06-10T15:07:19.250Z"
   },
   {
    "duration": 1290,
    "start_time": "2023-06-10T15:07:19.342Z"
   },
   {
    "duration": 15894,
    "start_time": "2023-06-10T15:07:20.634Z"
   },
   {
    "duration": 803,
    "start_time": "2023-06-10T15:07:36.530Z"
   },
   {
    "duration": 10604,
    "start_time": "2023-06-10T15:07:37.335Z"
   },
   {
    "duration": 381,
    "start_time": "2023-06-10T15:07:47.941Z"
   },
   {
    "duration": 9,
    "start_time": "2023-06-10T15:07:48.324Z"
   },
   {
    "duration": 10106,
    "start_time": "2023-06-10T15:07:48.334Z"
   },
   {
    "duration": 8714,
    "start_time": "2023-06-10T15:07:58.442Z"
   },
   {
    "duration": 309,
    "start_time": "2023-06-10T15:08:07.157Z"
   },
   {
    "duration": 732,
    "start_time": "2023-06-12T10:37:18.553Z"
   },
   {
    "duration": 15287,
    "start_time": "2023-06-12T10:37:19.286Z"
   },
   {
    "duration": 9280,
    "start_time": "2023-06-12T10:37:34.579Z"
   },
   {
    "duration": 709,
    "start_time": "2023-06-12T10:37:43.864Z"
   },
   {
    "duration": 4703,
    "start_time": "2023-06-12T10:37:44.575Z"
   },
   {
    "duration": 1421,
    "start_time": "2023-06-12T10:37:49.279Z"
   },
   {
    "duration": 366,
    "start_time": "2023-06-12T10:37:50.702Z"
   },
   {
    "duration": 119,
    "start_time": "2023-06-12T10:37:51.070Z"
   },
   {
    "duration": 15572,
    "start_time": "2023-06-12T10:37:51.191Z"
   },
   {
    "duration": 94,
    "start_time": "2023-06-12T10:38:06.765Z"
   },
   {
    "duration": 35,
    "start_time": "2023-06-12T10:38:06.861Z"
   },
   {
    "duration": 5820,
    "start_time": "2023-06-12T10:38:06.897Z"
   },
   {
    "duration": 12172,
    "start_time": "2023-06-12T10:38:12.722Z"
   },
   {
    "duration": 3,
    "start_time": "2023-06-12T10:38:24.896Z"
   },
   {
    "duration": 9977,
    "start_time": "2023-06-12T10:38:24.900Z"
   },
   {
    "duration": 698,
    "start_time": "2023-06-12T10:38:34.879Z"
   },
   {
    "duration": 885,
    "start_time": "2023-06-12T10:38:35.578Z"
   },
   {
    "duration": 711,
    "start_time": "2023-06-12T10:38:36.465Z"
   },
   {
    "duration": 98,
    "start_time": "2023-06-12T10:38:37.178Z"
   },
   {
    "duration": 1522,
    "start_time": "2023-06-12T10:38:37.278Z"
   },
   {
    "duration": 156,
    "start_time": "2023-06-12T10:38:38.802Z"
   },
   {
    "duration": 6325,
    "start_time": "2023-06-12T10:38:38.960Z"
   },
   {
    "duration": 96,
    "start_time": "2023-06-12T10:38:45.287Z"
   },
   {
    "duration": 1489,
    "start_time": "2023-06-12T10:38:45.384Z"
   },
   {
    "duration": 97,
    "start_time": "2023-06-12T10:38:46.876Z"
   },
   {
    "duration": 1320,
    "start_time": "2023-06-12T10:38:46.975Z"
   },
   {
    "duration": 17366,
    "start_time": "2023-06-12T10:38:48.297Z"
   },
   {
    "duration": 896,
    "start_time": "2023-06-12T10:39:05.665Z"
   },
   {
    "duration": 12317,
    "start_time": "2023-06-12T10:39:06.563Z"
   },
   {
    "duration": 350,
    "start_time": "2023-06-12T10:39:18.881Z"
   },
   {
    "duration": 33,
    "start_time": "2023-06-12T10:39:19.232Z"
   },
   {
    "duration": 12416,
    "start_time": "2023-06-12T10:39:19.267Z"
   },
   {
    "duration": 9783,
    "start_time": "2023-06-12T10:39:31.685Z"
   },
   {
    "duration": 320,
    "start_time": "2023-06-12T10:39:41.469Z"
   },
   {
    "duration": 103,
    "start_time": "2023-06-12T10:39:41.791Z"
   },
   {
    "duration": 752,
    "start_time": "2023-06-12T10:40:40.652Z"
   },
   {
    "duration": 15079,
    "start_time": "2023-06-12T10:40:41.407Z"
   },
   {
    "duration": 8486,
    "start_time": "2023-06-12T10:40:56.489Z"
   },
   {
    "duration": 813,
    "start_time": "2023-06-12T10:41:04.978Z"
   },
   {
    "duration": 5018,
    "start_time": "2023-06-12T10:41:05.859Z"
   },
   {
    "duration": 1432,
    "start_time": "2023-06-12T10:41:10.879Z"
   },
   {
    "duration": 363,
    "start_time": "2023-06-12T10:41:12.313Z"
   },
   {
    "duration": 111,
    "start_time": "2023-06-12T10:41:12.678Z"
   },
   {
    "duration": 15272,
    "start_time": "2023-06-12T10:41:12.791Z"
   },
   {
    "duration": 108,
    "start_time": "2023-06-12T10:41:28.066Z"
   },
   {
    "duration": 105,
    "start_time": "2023-06-12T10:41:28.176Z"
   },
   {
    "duration": 7286,
    "start_time": "2023-06-12T10:41:28.282Z"
   },
   {
    "duration": 14313,
    "start_time": "2023-06-12T10:41:35.570Z"
   },
   {
    "duration": 3,
    "start_time": "2023-06-12T10:41:49.884Z"
   },
   {
    "duration": 10908,
    "start_time": "2023-06-12T10:41:49.889Z"
   },
   {
    "duration": 637,
    "start_time": "2023-06-12T10:42:00.857Z"
   },
   {
    "duration": 1177,
    "start_time": "2023-06-12T10:42:01.496Z"
   },
   {
    "duration": 606,
    "start_time": "2023-06-12T10:42:02.675Z"
   },
   {
    "duration": 106,
    "start_time": "2023-06-12T10:42:03.283Z"
   },
   {
    "duration": 1702,
    "start_time": "2023-06-12T10:42:03.392Z"
   },
   {
    "duration": 167,
    "start_time": "2023-06-12T10:42:05.096Z"
   },
   {
    "duration": 7914,
    "start_time": "2023-06-12T10:42:05.265Z"
   },
   {
    "duration": 92,
    "start_time": "2023-06-12T10:42:13.181Z"
   },
   {
    "duration": 1797,
    "start_time": "2023-06-12T10:42:13.275Z"
   },
   {
    "duration": 110,
    "start_time": "2023-06-12T10:42:15.075Z"
   },
   {
    "duration": 1692,
    "start_time": "2023-06-12T10:42:15.188Z"
   },
   {
    "duration": 25386,
    "start_time": "2023-06-12T10:42:16.882Z"
   },
   {
    "duration": 687,
    "start_time": "2023-06-12T10:42:42.271Z"
   },
   {
    "duration": 15834,
    "start_time": "2023-06-12T10:42:42.959Z"
   },
   {
    "duration": 565,
    "start_time": "2023-06-12T10:42:58.795Z"
   },
   {
    "duration": 10,
    "start_time": "2023-06-12T10:42:59.361Z"
   },
   {
    "duration": 12834,
    "start_time": "2023-06-12T10:42:59.373Z"
   },
   {
    "duration": 10450,
    "start_time": "2023-06-12T10:43:12.209Z"
   },
   {
    "duration": 419,
    "start_time": "2023-06-12T10:43:22.661Z"
   },
   {
    "duration": 515,
    "start_time": "2023-06-12T10:43:23.082Z"
   }
  ],
  "colab": {
   "name": "PySparkSprint.ipynb",
   "provenance": []
  },
  "hide_input": false,
  "kernelspec": {
   "display_name": "Python 3 (ipykernel)",
   "language": "python",
   "name": "python3"
  },
  "language_info": {
   "codemirror_mode": {
    "name": "ipython",
    "version": 3
   },
   "file_extension": ".py",
   "mimetype": "text/x-python",
   "name": "python",
   "nbconvert_exporter": "python",
   "pygments_lexer": "ipython3",
   "version": "3.10.12"
  },
  "toc": {
   "base_numbering": 1,
   "nav_menu": {},
   "number_sections": true,
   "sideBar": true,
   "skip_h1_title": true,
   "title_cell": "Table of Contents",
   "title_sidebar": "Contents",
   "toc_cell": false,
   "toc_position": {
    "height": "calc(100% - 180px)",
    "left": "10px",
    "top": "150px",
    "width": "371px"
   },
   "toc_section_display": true,
   "toc_window_display": true
  },
  "varInspector": {
   "cols": {
    "lenName": 16,
    "lenType": 16,
    "lenVar": 40
   },
   "kernels_config": {
    "python": {
     "delete_cmd_postfix": "",
     "delete_cmd_prefix": "del ",
     "library": "var_list.py",
     "varRefreshCmd": "print(var_dic_list())"
    },
    "r": {
     "delete_cmd_postfix": ") ",
     "delete_cmd_prefix": "rm(",
     "library": "var_list.r",
     "varRefreshCmd": "cat(var_dic_list()) "
    }
   },
   "types_to_exclude": [
    "module",
    "function",
    "builtin_function_or_method",
    "instance",
    "_Feature"
   ],
   "window_display": false
  }
 },
 "nbformat": 4,
 "nbformat_minor": 5
}
